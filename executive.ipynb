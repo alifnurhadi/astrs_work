{
 "cells": [
  {
   "cell_type": "code",
   "execution_count": 2,
   "metadata": {},
   "outputs": [],
   "source": [
    "import polars as pl\n",
    "import matplotlib.pyplot as plt\n",
    "import plotly.express as px\n",
    "import seaborn as sns"
   ]
  },
  {
   "cell_type": "code",
   "execution_count": 3,
   "metadata": {},
   "outputs": [
    {
     "data": {
      "text/plain": [
       "polars.config.Config"
      ]
     },
     "execution_count": 3,
     "metadata": {},
     "output_type": "execute_result"
    }
   ],
   "source": [
    "pl.Config.set_tbl_rows(20)"
   ]
  },
  {
   "cell_type": "code",
   "execution_count": 6,
   "metadata": {},
   "outputs": [],
   "source": [
    "# .with_columns(pl.col(['Pesanan Harus Dikirimkan Sebelum (Menghindari keterlambatan)','Waktu Pengiriman Diatur','Waktu Pesanan Dibuat',\n",
    "#         'Waktu Pembayaran Dilakukan','Waktu Pesanan Selesai']).str.to_datetime(format='%Y-%m-%d %H:%M' , strict=False))"
   ]
  },
  {
   "cell_type": "code",
   "execution_count": 21,
   "metadata": {},
   "outputs": [],
   "source": [
    "master = pl.concat(how='vertical',items=[pl.read_parquet('q3explore.parquet'),pl.read_parquet('on_prog_q4_explore.parquet')])\n",
    "groupdate = master.with_columns(pl.col('Waktu Pesanan Dibuat').dt.date().alias('Group_date').cast(pl.Utf8))\n",
    "groupdate = groupdate['No. Pesanan','Status Pesanan','Alasan Pembatalan','Status Pembatalan/ Pengembalian','No. Resi',\n",
    "       'Opsi Pengiriman','Antar ke counter/ pick-up','Pesanan Harus Dikirimkan Sebelum (Menghindari keterlambatan)','Waktu Pengiriman Diatur',\n",
    "       'Waktu Pesanan Dibuat','Waktu Pembayaran Dilakukan','Metode Pembayaran','SKU Induk','Nama Produk','Nomor Referensi SKU','Nama Variasi',\n",
    "       'Harga Awal','Harga Setelah Diskon','Jumlah','Returned quantity','Total Harga Produk','Total Diskon','Diskon Dari Penjual',\n",
    "       'Diskon Dari Shopee','Berat Produk','Jumlah Produk di Pesan','Total Berat','Voucher Ditanggung Penjual','ditanggung penjual no dup',\n",
    "       'Cashback Koin','Voucher Ditanggung Shopee','Paket Diskon','Paket Diskon (Diskon dari Shopee)','Paket Diskon (Diskon dari Penjual)',\n",
    "       'Potongan Koin Shopee','Diskon Kartu Kredit','Ongkos Kirim Dibayar oleh Pembeli','Estimasi Potongan Biaya Pengiriman','Ongkos Kirim Pengembalian Barang',\n",
    "       'Total Pembayaran','total no dup','Perkiraan Ongkos Kirim','Catatan dari Pembeli','Catatan','Username (Pembeli)','Nama Penerima',\n",
    "       'No. Telepon','Alamat Pengiriman','Kota/Kabupaten','Provinsi','Waktu Pesanan Selesai','source','Group_date'\n",
    " ]"
   ]
  },
  {
   "cell_type": "code",
   "execution_count": 8,
   "metadata": {},
   "outputs": [],
   "source": [
    "# explorepath = r'C:\\Users\\MARKETING SUPPORT\\Documents\\asteros\\astrs_work\\q3explore.parquet'\n",
    "# master = pl.read_parquet(explorepath)\n",
    "# master['No. Pesanan','Status Pesanan','Alasan Pembatalan','Status Pembatalan/ Pengembalian','No. Resi',\n",
    "#        'Opsi Pengiriman','Antar ke counter/ pick-up','Pesanan Harus Dikirimkan Sebelum (Menghindari keterlambatan)','Waktu Pengiriman Diatur',\n",
    "#        'Waktu Pesanan Dibuat','Waktu Pembayaran Dilakukan','Metode Pembayaran','SKU Induk','Nama Produk','Nomor Referensi SKU','Nama Variasi',\n",
    "#        'Harga Awal','Harga Setelah Diskon','Jumlah','Returned quantity','Total Harga Produk','Total Diskon','Diskon Dari Penjual',\n",
    "#        'Diskon Dari Shopee','Berat Produk','Jumlah Produk di Pesan','Total Berat','Voucher Ditanggung Penjual','ditanggung penjual no dup',\n",
    "#        'Cashback Koin','Voucher Ditanggung Shopee','Paket Diskon','Paket Diskon (Diskon dari Shopee)','Paket Diskon (Diskon dari Penjual)',\n",
    "#        'Potongan Koin Shopee','Diskon Kartu Kredit','Ongkos Kirim Dibayar oleh Pembeli','Estimasi Potongan Biaya Pengiriman','Ongkos Kirim Pengembalian Barang',\n",
    "#        'Total Pembayaran','total no dup','Perkiraan Ongkos Kirim','Catatan dari Pembeli','Catatan','Username (Pembeli)','Nama Penerima',\n",
    "#        'No. Telepon','Alamat Pengiriman','Kota/Kabupaten','Provinsi','Waktu Pesanan Selesai','source',\n",
    "#  ]"
   ]
  },
  {
   "cell_type": "code",
   "execution_count": 22,
   "metadata": {},
   "outputs": [
    {
     "data": {
      "text/html": [
       "<div><style>\n",
       ".dataframe > thead > tr,\n",
       ".dataframe > tbody > tr {\n",
       "  text-align: right;\n",
       "  white-space: pre-wrap;\n",
       "}\n",
       "</style>\n",
       "<small>shape: (156_947, 53)</small><table border=\"1\" class=\"dataframe\"><thead><tr><th>No. Pesanan</th><th>Status Pesanan</th><th>Alasan Pembatalan</th><th>Status Pembatalan/ Pengembalian</th><th>No. Resi</th><th>Opsi Pengiriman</th><th>Antar ke counter/ pick-up</th><th>Pesanan Harus Dikirimkan Sebelum (Menghindari keterlambatan)</th><th>Waktu Pengiriman Diatur</th><th>Waktu Pesanan Dibuat</th><th>Waktu Pembayaran Dilakukan</th><th>Metode Pembayaran</th><th>SKU Induk</th><th>Nama Produk</th><th>Nomor Referensi SKU</th><th>Nama Variasi</th><th>Harga Awal</th><th>Harga Setelah Diskon</th><th>Jumlah</th><th>Returned quantity</th><th>Total Harga Produk</th><th>Total Diskon</th><th>Diskon Dari Penjual</th><th>Diskon Dari Shopee</th><th>Berat Produk</th><th>Jumlah Produk di Pesan</th><th>Total Berat</th><th>Voucher Ditanggung Penjual</th><th>ditanggung penjual no dup</th><th>Cashback Koin</th><th>Voucher Ditanggung Shopee</th><th>Paket Diskon</th><th>Paket Diskon (Diskon dari Shopee)</th><th>Paket Diskon (Diskon dari Penjual)</th><th>Potongan Koin Shopee</th><th>Diskon Kartu Kredit</th><th>Ongkos Kirim Dibayar oleh Pembeli</th><th>Estimasi Potongan Biaya Pengiriman</th><th>Ongkos Kirim Pengembalian Barang</th><th>Total Pembayaran</th><th>total no dup</th><th>Perkiraan Ongkos Kirim</th><th>Catatan dari Pembeli</th><th>Catatan</th><th>Username (Pembeli)</th><th>Nama Penerima</th><th>No. Telepon</th><th>Alamat Pengiriman</th><th>Kota/Kabupaten</th><th>Provinsi</th><th>Waktu Pesanan Selesai</th><th>source</th><th>Group_date</th></tr><tr><td>str</td><td>str</td><td>str</td><td>null</td><td>str</td><td>str</td><td>str</td><td>datetime[ms]</td><td>datetime[ms]</td><td>datetime[ms]</td><td>datetime[ms]</td><td>str</td><td>null</td><td>str</td><td>str</td><td>str</td><td>i64</td><td>i64</td><td>i64</td><td>i64</td><td>i64</td><td>i64</td><td>i64</td><td>i64</td><td>str</td><td>i64</td><td>str</td><td>i64</td><td>i64</td><td>i64</td><td>i64</td><td>str</td><td>i64</td><td>i64</td><td>i64</td><td>i64</td><td>i64</td><td>i64</td><td>i64</td><td>i64</td><td>i64</td><td>i64</td><td>null</td><td>null</td><td>str</td><td>str</td><td>str</td><td>str</td><td>str</td><td>str</td><td>datetime[ms]</td><td>str</td><td>str</td></tr></thead><tbody><tr><td>&quot;240701DHYVFEDF&quot;</td><td>&quot;Selesai&quot;</td><td>null</td><td>null</td><td>&quot;SPXID045249393967&quot;</td><td>&quot;Hemat-SPX&nbsp;Hemat&quot;</td><td>&quot;Antar&nbsp;ke&nbsp;Counter&quot;</td><td>2024-07-01&nbsp;23:59:00</td><td>2024-07-01&nbsp;19:27:00</td><td>2024-07-01&nbsp;00:00:00</td><td>2024-07-01&nbsp;00:01:00</td><td>&quot;Online&nbsp;Payment&quot;</td><td>null</td><td>&quot;UGREEN&nbsp;Kabel&nbsp;Protector&nbsp;Pelindu…</td><td>&quot;40705&quot;</td><td>&quot;UGREEN&nbsp;40705&quot;</td><td>50000</td><td>29000</td><td>2</td><td>0</td><td>58000</td><td>42000</td><td>42000</td><td>0</td><td>&quot;200&nbsp;gr&quot;</td><td>2</td><td>&quot;200&nbsp;gr&quot;</td><td>0</td><td>0</td><td>0</td><td>0</td><td>&quot;N&quot;</td><td>0</td><td>0</td><td>0</td><td>0</td><td>15500</td><td>0</td><td>0</td><td>73758</td><td>73758</td><td>15500</td><td>null</td><td>null</td><td>&quot;galihk91&quot;</td><td>&quot;G***h&quot;</td><td>&quot;******40&quot;</td><td>&quot;Jl******&quot;</td><td>&quot;KOTA&nbsp;SEMARANG&quot;</td><td>&quot;JAWA&nbsp;TENGAH&quot;</td><td>2024-07-04&nbsp;10:43:00</td><td>&quot;7_2024-july&nbsp;(1).xlsx&quot;</td><td>&quot;2024-07-01&quot;</td></tr><tr><td>&quot;240701DJ2GC8VA&quot;</td><td>&quot;Selesai&quot;</td><td>null</td><td>null</td><td>&quot;SPXID049043724847&quot;</td><td>&quot;Hemat-SPX&nbsp;Hemat&quot;</td><td>&quot;Antar&nbsp;ke&nbsp;Counter&quot;</td><td>2024-07-01&nbsp;23:59:00</td><td>2024-07-01&nbsp;19:15:00</td><td>2024-07-01&nbsp;00:01:00</td><td>2024-07-01&nbsp;00:05:00</td><td>&quot;Online&nbsp;Payment&quot;</td><td>null</td><td>&quot;UGREEN&nbsp;Kabel&nbsp;Data&nbsp;MFi&nbsp;iPhone&nbsp;&nbsp;…</td><td>&quot;60759&quot;</td><td>&quot;60759&nbsp;1M&quot;</td><td>155000</td><td>155000</td><td>1</td><td>0</td><td>155000</td><td>0</td><td>0</td><td>0</td><td>&quot;200&nbsp;gr&quot;</td><td>1</td><td>&quot;200&nbsp;gr&quot;</td><td>0</td><td>0</td><td>0</td><td>3100</td><td>&quot;N&quot;</td><td>0</td><td>0</td><td>0</td><td>0</td><td>0</td><td>10000</td><td>0</td><td>153900</td><td>153900</td><td>10000</td><td>null</td><td>null</td><td>&quot;syamilgu19&quot;</td><td>&quot;s******s&quot;</td><td>&quot;******37&quot;</td><td>&quot;Ja******&quot;</td><td>&quot;KOTA&nbsp;BANDUNG&quot;</td><td>&quot;JAWA&nbsp;BARAT&quot;</td><td>2024-07-11&nbsp;05:09:00</td><td>&quot;7_2024-july&nbsp;(1).xlsx&quot;</td><td>&quot;2024-07-01&quot;</td></tr><tr><td>&quot;240701DJ8TGS71&quot;</td><td>&quot;Selesai&quot;</td><td>null</td><td>null</td><td>&quot;SPXID042286349557&quot;</td><td>&quot;Hemat-SPX&nbsp;Hemat&quot;</td><td>&quot;Antar&nbsp;ke&nbsp;Counter&quot;</td><td>2024-07-01&nbsp;23:59:00</td><td>2024-07-01&nbsp;19:29:00</td><td>2024-07-01&nbsp;00:05:00</td><td>2024-07-01&nbsp;00:05:00</td><td>&quot;COD&nbsp;(Bayar&nbsp;di&nbsp;Tempat)&quot;</td><td>null</td><td>&quot;UGREEN&nbsp;Kabel&nbsp;Data&nbsp;USB&nbsp;Type&nbsp;C&nbsp;F…</td><td>&quot;60126&quot;</td><td>&quot;60126&nbsp;1M&nbsp;NYLON&quot;</td><td>39000</td><td>39000</td><td>1</td><td>0</td><td>39000</td><td>0</td><td>0</td><td>0</td><td>&quot;200&nbsp;gr&quot;</td><td>1</td><td>&quot;200&nbsp;gr&quot;</td><td>0</td><td>0</td><td>0</td><td>0</td><td>&quot;N&quot;</td><td>0</td><td>0</td><td>0</td><td>0</td><td>1000</td><td>20000</td><td>0</td><td>42600</td><td>42600</td><td>21000</td><td>null</td><td>null</td><td>&quot;deayosaliaputri&quot;</td><td>&quot;d******i&quot;</td><td>&quot;******59&quot;</td><td>&quot;Ka******&quot;</td><td>&quot;KAB.&nbsp;BANYUWANGI&quot;</td><td>&quot;JAWA&nbsp;TIMUR&quot;</td><td>2024-07-05&nbsp;13:13:00</td><td>&quot;7_2024-july&nbsp;(1).xlsx&quot;</td><td>&quot;2024-07-01&quot;</td></tr><tr><td>&quot;240701DJDBH700&quot;</td><td>&quot;Selesai&quot;</td><td>null</td><td>null</td><td>&quot;SPXID047945068837&quot;</td><td>&quot;Reguler&nbsp;(Cashless)-SPX&nbsp;Standar…</td><td>&quot;Antar&nbsp;ke&nbsp;Counter&quot;</td><td>2024-07-01&nbsp;23:59:00</td><td>2024-07-01&nbsp;19:21:00</td><td>2024-07-01&nbsp;00:07:00</td><td>2024-07-01&nbsp;00:07:00</td><td>&quot;ShopeePay&quot;</td><td>null</td><td>&quot;UGREEN&nbsp;Charger&nbsp;MFI&nbsp;iPhone&nbsp;11&nbsp;1…</td><td>&quot;50799&quot;</td><td>&quot;1SET&nbsp;20W&nbsp;BLACK&quot;</td><td>229000</td><td>229000</td><td>1</td><td>0</td><td>229000</td><td>0</td><td>0</td><td>0</td><td>&quot;200&nbsp;gr&quot;</td><td>1</td><td>&quot;200&nbsp;gr&quot;</td><td>0</td><td>0</td><td>0</td><td>40000</td><td>&quot;N&quot;</td><td>0</td><td>0</td><td>0</td><td>0</td><td>0</td><td>18000</td><td>0</td><td>191000</td><td>191000</td><td>18000</td><td>null</td><td>null</td><td>&quot;galuhaayu0803&quot;</td><td>&quot;A*u&quot;</td><td>&quot;******20&quot;</td><td>&quot;Bt******&quot;</td><td>&quot;KOTA&nbsp;BANDAR&nbsp;LAMPUNG&quot;</td><td>&quot;LAMPUNG&quot;</td><td>2024-07-04&nbsp;11:02:00</td><td>&quot;7_2024-july&nbsp;(1).xlsx&quot;</td><td>&quot;2024-07-01&quot;</td></tr><tr><td>&quot;240701DJJXUSCD&quot;</td><td>&quot;Selesai&quot;</td><td>null</td><td>null</td><td>&quot;SPXID044702017567&quot;</td><td>&quot;Hemat-SPX&nbsp;Hemat&quot;</td><td>&quot;Antar&nbsp;ke&nbsp;Counter&quot;</td><td>2024-07-01&nbsp;23:59:00</td><td>2024-07-01&nbsp;19:02:00</td><td>2024-07-01&nbsp;00:10:00</td><td>2024-07-01&nbsp;00:10:00</td><td>&quot;COD&nbsp;(Bayar&nbsp;di&nbsp;Tempat)&quot;</td><td>null</td><td>&quot;UGREEN&nbsp;Adaptor&nbsp;Kepala&nbsp;Charger&nbsp;…</td><td>&quot;60450&quot;</td><td>&quot;ADP&nbsp;20W&nbsp;WHITE&quot;</td><td>92500</td><td>92500</td><td>1</td><td>0</td><td>92500</td><td>0</td><td>0</td><td>0</td><td>&quot;250&nbsp;gr&quot;</td><td>2</td><td>&quot;500&nbsp;gr&quot;</td><td>0</td><td>0</td><td>0</td><td>37125</td><td>&quot;N&quot;</td><td>0</td><td>0</td><td>0</td><td>0</td><td>0</td><td>17500</td><td>0</td><td>219790</td><td>219790</td><td>17500</td><td>null</td><td>null</td><td>&quot;faruq1303&quot;</td><td>&quot;U******i&quot;</td><td>&quot;******47&quot;</td><td>&quot;Ds******&quot;</td><td>&quot;KAB.&nbsp;BANGKALAN&quot;</td><td>&quot;JAWA&nbsp;TIMUR&quot;</td><td>2024-07-04&nbsp;16:25:00</td><td>&quot;7_2024-july&nbsp;(1).xlsx&quot;</td><td>&quot;2024-07-01&quot;</td></tr><tr><td>&quot;240701DJJXUSCD&quot;</td><td>&quot;Selesai&quot;</td><td>null</td><td>null</td><td>&quot;SPXID044702017567&quot;</td><td>&quot;Hemat-SPX&nbsp;Hemat&quot;</td><td>&quot;Antar&nbsp;ke&nbsp;Counter&quot;</td><td>2024-07-01&nbsp;23:59:00</td><td>2024-07-01&nbsp;19:02:00</td><td>2024-07-01&nbsp;00:10:00</td><td>2024-07-01&nbsp;00:10:00</td><td>&quot;COD&nbsp;(Bayar&nbsp;di&nbsp;Tempat)&quot;</td><td>null</td><td>&quot;UGREEN&nbsp;Kabel&nbsp;iPhone&nbsp;MFi&nbsp;USB&nbsp;Ty…</td><td>&quot;60759&quot;</td><td>&quot;60759&nbsp;1Meter&quot;</td><td>155000</td><td>155000</td><td>1</td><td>0</td><td>155000</td><td>0</td><td>0</td><td>0</td><td>&quot;250&nbsp;gr&quot;</td><td>2</td><td>&quot;500&nbsp;gr&quot;</td><td>0</td><td>0</td><td>0</td><td>37125</td><td>&quot;N&quot;</td><td>0</td><td>0</td><td>0</td><td>0</td><td>0</td><td>17500</td><td>0</td><td>219790</td><td>0</td><td>17500</td><td>null</td><td>null</td><td>&quot;faruq1303&quot;</td><td>&quot;U******i&quot;</td><td>&quot;******47&quot;</td><td>&quot;Ds******&quot;</td><td>&quot;KAB.&nbsp;BANGKALAN&quot;</td><td>&quot;JAWA&nbsp;TIMUR&quot;</td><td>2024-07-04&nbsp;16:25:00</td><td>&quot;7_2024-july&nbsp;(1).xlsx&quot;</td><td>&quot;2024-07-01&quot;</td></tr><tr><td>&quot;240701DJS0D6WH&quot;</td><td>&quot;Selesai&quot;</td><td>null</td><td>null</td><td>&quot;004323018569&quot;</td><td>&quot;Hemat-SiCepat&nbsp;Halu&quot;</td><td>&quot;Antar&nbsp;ke&nbsp;Counter&quot;</td><td>2024-07-01&nbsp;23:59:00</td><td>2024-07-01&nbsp;18:06:00</td><td>2024-07-01&nbsp;00:14:00</td><td>2024-07-01&nbsp;00:16:00</td><td>&quot;Online&nbsp;Payment&quot;</td><td>null</td><td>&quot;UGREEN&nbsp;Adaptor&nbsp;Kepala&nbsp;Charger&nbsp;…</td><td>&quot;60450&quot;</td><td>&quot;ADP&nbsp;20W&nbsp;WHITE&quot;</td><td>92500</td><td>92500</td><td>1</td><td>0</td><td>92500</td><td>0</td><td>0</td><td>0</td><td>&quot;250&nbsp;gr&quot;</td><td>1</td><td>&quot;250&nbsp;gr&quot;</td><td>0</td><td>0</td><td>0</td><td>0</td><td>&quot;N&quot;</td><td>0</td><td>0</td><td>0</td><td>0</td><td>0</td><td>8000</td><td>0</td><td>105500</td><td>105500</td><td>8000</td><td>null</td><td>null</td><td>&quot;rosmiatii_99&quot;</td><td>&quot;R******i&quot;</td><td>&quot;******69&quot;</td><td>&quot;Ko******&quot;</td><td>&quot;KOTA&nbsp;JAKARTA&nbsp;TIMUR&quot;</td><td>&quot;DKI&nbsp;JAKARTA&quot;</td><td>2024-07-02&nbsp;12:44:00</td><td>&quot;7_2024-july&nbsp;(1).xlsx&quot;</td><td>&quot;2024-07-01&quot;</td></tr><tr><td>&quot;240701DJSS83BS&quot;</td><td>&quot;Selesai&quot;</td><td>null</td><td>null</td><td>&quot;004323024242&quot;</td><td>&quot;Reguler&nbsp;(Cashless)-SiCepat&nbsp;REG&quot;</td><td>&quot;Antar&nbsp;ke&nbsp;Counter&quot;</td><td>2024-07-01&nbsp;23:59:00</td><td>2024-07-01&nbsp;18:04:00</td><td>2024-07-01&nbsp;00:14:00</td><td>2024-07-01&nbsp;00:14:00</td><td>&quot;COD&nbsp;(Bayar&nbsp;di&nbsp;Tempat)&quot;</td><td>null</td><td>&quot;UGREEN&nbsp;Kabel&nbsp;Data&nbsp;PD&nbsp;Type&nbsp;C&nbsp;To…</td><td>&quot;80371&quot;</td><td>&quot;80371&nbsp;1M&quot;</td><td>67000</td><td>53900</td><td>1</td><td>0</td><td>53900</td><td>13100</td><td>0</td><td>13100</td><td>&quot;200&nbsp;gr&quot;</td><td>1</td><td>&quot;200&nbsp;gr&quot;</td><td>0</td><td>0</td><td>0</td><td>5390</td><td>&quot;N&quot;</td><td>0</td><td>0</td><td>25</td><td>0</td><td>0</td><td>9000</td><td>0</td><td>51424</td><td>51424</td><td>9000</td><td>null</td><td>null</td><td>&quot;lalisa_bp&quot;</td><td>&quot;H******5&quot;</td><td>&quot;******61&quot;</td><td>&quot;Pe******&quot;</td><td>&quot;KOTA&nbsp;BEKASI&quot;</td><td>&quot;JAWA&nbsp;BARAT&quot;</td><td>2024-07-03&nbsp;04:07:00</td><td>&quot;7_2024-july&nbsp;(1).xlsx&quot;</td><td>&quot;2024-07-01&quot;</td></tr><tr><td>&quot;240701DJV3K5SE&quot;</td><td>&quot;Selesai&quot;</td><td>null</td><td>null</td><td>&quot;SPXID045592001777&quot;</td><td>&quot;Hemat-SPX&nbsp;Hemat&quot;</td><td>&quot;Antar&nbsp;ke&nbsp;Counter&quot;</td><td>2024-07-01&nbsp;23:59:00</td><td>2024-07-01&nbsp;19:17:00</td><td>2024-07-01&nbsp;00:15:00</td><td>2024-07-01&nbsp;00:15:00</td><td>&quot;ShopeePay&quot;</td><td>null</td><td>&quot;UGREEN&nbsp;Strap&nbsp;Pengikat&nbsp;Perekat&nbsp;…</td><td>&quot;20245-ISI10&quot;</td><td>&quot;20245&nbsp;isi&nbsp;10&quot;</td><td>19000</td><td>19000</td><td>1</td><td>0</td><td>19000</td><td>0</td><td>0</td><td>0</td><td>&quot;50&nbsp;gr&quot;</td><td>1</td><td>&quot;50&nbsp;gr&quot;</td><td>0</td><td>0</td><td>0</td><td>0</td><td>&quot;N&quot;</td><td>0</td><td>0</td><td>0</td><td>0</td><td>4000</td><td>10000</td><td>0</td><td>25000</td><td>25000</td><td>14000</td><td>null</td><td>null</td><td>&quot;addinwp&quot;</td><td>&quot;A******o&quot;</td><td>&quot;******25&quot;</td><td>&quot;Ka******&quot;</td><td>&quot;KAB.&nbsp;BANJARNEGARA&quot;</td><td>&quot;JAWA&nbsp;TENGAH&quot;</td><td>2024-07-03&nbsp;15:15:00</td><td>&quot;7_2024-july&nbsp;(1).xlsx&quot;</td><td>&quot;2024-07-01&quot;</td></tr><tr><td>&quot;240701DJV8C6QY&quot;</td><td>&quot;Selesai&quot;</td><td>null</td><td>null</td><td>&quot;SPXID040328484087&quot;</td><td>&quot;Hemat-SPX&nbsp;Hemat&quot;</td><td>&quot;Antar&nbsp;ke&nbsp;Counter&quot;</td><td>2024-07-01&nbsp;23:59:00</td><td>2024-07-01&nbsp;19:01:00</td><td>2024-07-01&nbsp;00:15:00</td><td>2024-07-01&nbsp;00:17:00</td><td>&quot;Online&nbsp;Payment&quot;</td><td>null</td><td>&quot;UGREEN&nbsp;Kabel&nbsp;Data&nbsp;MFi&nbsp;iPhone&nbsp;&nbsp;…</td><td>&quot;60761&quot;</td><td>&quot;60761&nbsp;2M&quot;</td><td>189000</td><td>189000</td><td>1</td><td>0</td><td>189000</td><td>0</td><td>0</td><td>0</td><td>&quot;200&nbsp;gr&quot;</td><td>2</td><td>&quot;300&nbsp;gr&quot;</td><td>0</td><td>0</td><td>0</td><td>32700</td><td>&quot;N&quot;</td><td>0</td><td>0</td><td>0</td><td>0</td><td>0</td><td>29000</td><td>0</td><td>190000</td><td>190000</td><td>29000</td><td>null</td><td>null</td><td>&quot;ad2fhg3djp&quot;</td><td>&quot;M******q&quot;</td><td>&quot;******17&quot;</td><td>&quot;Ja******&quot;</td><td>&quot;KOTA&nbsp;BANDA&nbsp;ACEH&quot;</td><td>&quot;NANGGROE&nbsp;ACEH&nbsp;DARUSSALAM&nbsp;(NAD)&quot;</td><td>2024-07-05&nbsp;15:05:00</td><td>&quot;7_2024-july&nbsp;(1).xlsx&quot;</td><td>&quot;2024-07-01&quot;</td></tr><tr><td>&hellip;</td><td>&hellip;</td><td>&hellip;</td><td>&hellip;</td><td>&hellip;</td><td>&hellip;</td><td>&hellip;</td><td>&hellip;</td><td>&hellip;</td><td>&hellip;</td><td>&hellip;</td><td>&hellip;</td><td>&hellip;</td><td>&hellip;</td><td>&hellip;</td><td>&hellip;</td><td>&hellip;</td><td>&hellip;</td><td>&hellip;</td><td>&hellip;</td><td>&hellip;</td><td>&hellip;</td><td>&hellip;</td><td>&hellip;</td><td>&hellip;</td><td>&hellip;</td><td>&hellip;</td><td>&hellip;</td><td>&hellip;</td><td>&hellip;</td><td>&hellip;</td><td>&hellip;</td><td>&hellip;</td><td>&hellip;</td><td>&hellip;</td><td>&hellip;</td><td>&hellip;</td><td>&hellip;</td><td>&hellip;</td><td>&hellip;</td><td>&hellip;</td><td>&hellip;</td><td>&hellip;</td><td>&hellip;</td><td>&hellip;</td><td>&hellip;</td><td>&hellip;</td><td>&hellip;</td><td>&hellip;</td><td>&hellip;</td><td>&hellip;</td><td>&hellip;</td><td>&hellip;</td></tr><tr><td>&quot;2411012PC6EYCQ&quot;</td><td>&quot;Selesai&quot;</td><td>null</td><td>null</td><td>&quot;SPXID04893312819B&quot;</td><td>&quot;SPX&nbsp;Hemat&quot;</td><td>&quot;Antar&nbsp;ke&nbsp;Counter&quot;</td><td>2024-11-01&nbsp;23:59:00</td><td>2024-11-01&nbsp;16:01:00</td><td>2024-10-31&nbsp;23:52:00</td><td>2024-10-31&nbsp;23:53:00</td><td>&quot;Kartu&nbsp;Kredit/Debit&quot;</td><td>null</td><td>&quot;UGREEN&nbsp;Power&nbsp;Strip&nbsp;6&nbsp;IN&nbsp;1&nbsp;Stop…</td><td>&quot;15143&quot;</td><td>&quot;Power&nbsp;Strip&nbsp;30W&quot;</td><td>560000</td><td>280000</td><td>1</td><td>0</td><td>280000</td><td>280000</td><td>280000</td><td>0</td><td>&quot;500&nbsp;gr&quot;</td><td>1</td><td>&quot;500&nbsp;gr&quot;</td><td>3000</td><td>3000</td><td>0</td><td>39820</td><td>&quot;N&quot;</td><td>0</td><td>0</td><td>0</td><td>0</td><td>5100</td><td>0</td><td>0</td><td>242396</td><td>242396</td><td>5100</td><td>null</td><td>null</td><td>&quot;donni.rudenko&quot;</td><td>&quot;D******o&quot;</td><td>&quot;******89&quot;</td><td>&quot;Apartemen&nbsp;Madison&nbsp;Park,&nbsp;Lobby&nbsp;…</td><td>&quot;KOTA&nbsp;JAKARTA&nbsp;BARAT&quot;</td><td>&quot;DKI&nbsp;JAKARTA&quot;</td><td>2024-11-12&nbsp;06:25:00</td><td>&quot;10_2024-oct&nbsp;(10).xlsx&quot;</td><td>&quot;2024-10-31&quot;</td></tr><tr><td>&quot;2411012PD06XQ1&quot;</td><td>&quot;Selesai&quot;</td><td>null</td><td>null</td><td>&quot;GK-11-788537031&quot;</td><td>&quot;Instant-GoSend&nbsp;Instant&quot;</td><td>&quot;Pickup&quot;</td><td>2024-11-01&nbsp;23:59:00</td><td>2024-11-01&nbsp;13:31:00</td><td>2024-10-31&nbsp;23:52:00</td><td>2024-11-01&nbsp;00:53:00</td><td>&quot;Online&nbsp;Payment&quot;</td><td>null</td><td>&quot;UGREEN&nbsp;Adaptor&nbsp;Kepala&nbsp;Charger&nbsp;…</td><td>&quot;15324&quot;</td><td>&quot;ADP&nbsp;20W&nbsp;GaN&nbsp;WHITE&quot;</td><td>129000</td><td>129000</td><td>1</td><td>0</td><td>129000</td><td>0</td><td>0</td><td>0</td><td>&quot;250&nbsp;gr&quot;</td><td>1</td><td>&quot;250&nbsp;gr&quot;</td><td>0</td><td>0</td><td>0</td><td>2580</td><td>&quot;N&quot;</td><td>0</td><td>0</td><td>0</td><td>0</td><td>11000</td><td>20000</td><td>0</td><td>139420</td><td>139420</td><td>31000</td><td>null</td><td>null</td><td>&quot;ferelfahrezi&quot;</td><td>&quot;F******i&quot;</td><td>&quot;******83&quot;</td><td>&quot;Jalan&nbsp;H&nbsp;Selong&nbsp;Gang&nbsp;F&nbsp;No.&nbsp;36,&nbsp;…</td><td>&quot;KOTA&nbsp;JAKARTA&nbsp;BARAT&quot;</td><td>&quot;DKI&nbsp;JAKARTA&quot;</td><td>2024-11-09&nbsp;09:10:00</td><td>&quot;10_2024-oct&nbsp;(10).xlsx&quot;</td><td>&quot;2024-10-31&quot;</td></tr><tr><td>&quot;2411012PDN76AK&quot;</td><td>&quot;Selesai&quot;</td><td>null</td><td>null</td><td>&quot;11000839727020&quot;</td><td>&quot;Same&nbsp;Day-Anteraja&nbsp;Sameday&quot;</td><td>&quot;Pickup&quot;</td><td>2024-11-01&nbsp;23:59:00</td><td>2024-11-01&nbsp;12:12:00</td><td>2024-10-31&nbsp;23:53:00</td><td>2024-10-31&nbsp;23:54:00</td><td>&quot;Online&nbsp;Payment&quot;</td><td>null</td><td>&quot;UGREEN&nbsp;Case&nbsp;Magsafe&nbsp;For&nbsp;iPhone…</td><td>&quot;25398&quot;</td><td>&quot;CASE&nbsp;MAGSAFE,IPHONE&nbsp;15&nbsp;PRO&quot;</td><td>135000</td><td>135000</td><td>1</td><td>0</td><td>135000</td><td>0</td><td>0</td><td>0</td><td>&quot;250&nbsp;gr&quot;</td><td>1</td><td>&quot;250&nbsp;gr&quot;</td><td>2500</td><td>2500</td><td>0</td><td>10600</td><td>&quot;N&quot;</td><td>0</td><td>0</td><td>0</td><td>0</td><td>8500</td><td>20000</td><td>0</td><td>132400</td><td>132400</td><td>28500</td><td>null</td><td>null</td><td>&quot;ibnudarus88&quot;</td><td>&quot;I******M&quot;</td><td>&quot;******80&quot;</td><td>&quot;Benda&nbsp;Baru&nbsp;(Blok&nbsp;b22&nbsp;no&nbsp;2&nbsp;nusa…</td><td>&quot;KOTA&nbsp;TANGERANG&nbsp;SELATAN&quot;</td><td>&quot;BANTEN&quot;</td><td>2024-11-02&nbsp;13:24:00</td><td>&quot;10_2024-oct&nbsp;(10).xlsx&quot;</td><td>&quot;2024-10-31&quot;</td></tr><tr><td>&quot;2411012PDT035E&quot;</td><td>&quot;Selesai&quot;</td><td>null</td><td>null</td><td>&quot;004368608965&quot;</td><td>&quot;Hemat-SiCepat&nbsp;Halu&quot;</td><td>&quot;Antar&nbsp;ke&nbsp;Counter&quot;</td><td>2024-11-04&nbsp;23:59:00</td><td>2024-11-02&nbsp;17:11:00</td><td>2024-10-31&nbsp;23:53:00</td><td>2024-11-01&nbsp;17:26:00</td><td>&quot;Online&nbsp;Payment&quot;</td><td>null</td><td>&quot;UGREEN&nbsp;Exclusive&nbsp;&nbsp;HiTune&nbsp;P3&nbsp;Ea…</td><td>&quot;45110&quot;</td><td>&quot;HiTune&nbsp;P3&quot;</td><td>249000</td><td>204000</td><td>1</td><td>0</td><td>204000</td><td>45000</td><td>45000</td><td>0</td><td>&quot;350&nbsp;gr&quot;</td><td>1</td><td>&quot;350&nbsp;gr&quot;</td><td>2500</td><td>2500</td><td>0</td><td>30225</td><td>&quot;N&quot;</td><td>0</td><td>0</td><td>0</td><td>0</td><td>0</td><td>18500</td><td>0</td><td>172787</td><td>172787</td><td>18500</td><td>null</td><td>null</td><td>&quot;hendrikurniawan_&quot;</td><td>&quot;H******N&quot;</td><td>&quot;******95&quot;</td><td>&quot;GG&nbsp;GIAT&nbsp;RT&nbsp;01&nbsp;RW&nbsp;02&nbsp;PEKAUMAN&nbsp;K…</td><td>&quot;KAB.&nbsp;KENDAL&quot;</td><td>&quot;JAWA&nbsp;TENGAH&quot;</td><td>2024-11-04&nbsp;12:35:00</td><td>&quot;10_2024-oct&nbsp;(10).xlsx&quot;</td><td>&quot;2024-10-31&quot;</td></tr><tr><td>&quot;2411012PFH91PX&quot;</td><td>&quot;Selesai&quot;</td><td>null</td><td>null</td><td>&quot;SPXID04698142525B&quot;</td><td>&quot;Hemat-SPX&nbsp;Hemat&quot;</td><td>&quot;Antar&nbsp;ke&nbsp;Counter&quot;</td><td>2024-11-01&nbsp;23:59:00</td><td>2024-11-01&nbsp;18:32:00</td><td>2024-10-31&nbsp;23:54:00</td><td>2024-10-31&nbsp;23:54:00</td><td>&quot;COD&nbsp;(Bayar&nbsp;di&nbsp;Tempat)&quot;</td><td>null</td><td>&quot;UGREEN&nbsp;Kepala&nbsp;Charger&nbsp;Power&nbsp;De…</td><td>&quot;60450&quot;</td><td>&quot;60450&nbsp;20W&nbsp;WHITE&quot;</td><td>90000</td><td>85000</td><td>1</td><td>0</td><td>85000</td><td>5000</td><td>5000</td><td>0</td><td>&quot;200&nbsp;gr&quot;</td><td>1</td><td>&quot;200&nbsp;gr&quot;</td><td>0</td><td>0</td><td>0</td><td>6800</td><td>&quot;N&quot;</td><td>0</td><td>0</td><td>0</td><td>0</td><td>0</td><td>23000</td><td>0</td><td>81935</td><td>81935</td><td>23000</td><td>null</td><td>null</td><td>&quot;dewii1008&quot;</td><td>&quot;D******a&quot;</td><td>&quot;******65&quot;</td><td>&quot;Kost&nbsp;Safas,&nbsp;Jalan&nbsp;Eka&nbsp;Dewi&nbsp;Gan…</td><td>&quot;KOTA&nbsp;MEDAN&quot;</td><td>&quot;SUMATERA&nbsp;UTARA&quot;</td><td>2024-11-07&nbsp;02:56:00</td><td>&quot;10_2024-oct&nbsp;(10).xlsx&quot;</td><td>&quot;2024-10-31&quot;</td></tr><tr><td>&quot;2411012PGJMR23&quot;</td><td>&quot;Selesai&quot;</td><td>null</td><td>null</td><td>&quot;SPXID04085518696B&quot;</td><td>&quot;Reguler&nbsp;(Cashless)-SPX&nbsp;Standar…</td><td>&quot;Antar&nbsp;ke&nbsp;Counter&quot;</td><td>2024-11-01&nbsp;23:59:00</td><td>2024-11-01&nbsp;18:32:00</td><td>2024-10-31&nbsp;23:54:00</td><td>2024-10-31&nbsp;23:55:00</td><td>&quot;Online&nbsp;Payment&quot;</td><td>null</td><td>&quot;UGREEN&nbsp;Charger&nbsp;Mfi&nbsp;iPhone&nbsp;5&nbsp;6&nbsp;…</td><td>&quot;70273-60158&quot;</td><td>&quot;1SET&nbsp;18W&nbsp;BLACK&quot;</td><td>260000</td><td>260000</td><td>1</td><td>0</td><td>260000</td><td>0</td><td>0</td><td>0</td><td>&quot;350&nbsp;gr&quot;</td><td>1</td><td>&quot;350&nbsp;gr&quot;</td><td>3000</td><td>3000</td><td>0</td><td>25700</td><td>&quot;N&quot;</td><td>0</td><td>0</td><td>0</td><td>0</td><td>0</td><td>38000</td><td>0</td><td>233300</td><td>233300</td><td>38000</td><td>null</td><td>null</td><td>&quot;6pgh73nekm&quot;</td><td>&quot;A**m&quot;</td><td>&quot;******00&quot;</td><td>&quot;Jalan&nbsp;Lengkenat&nbsp;&nbsp;Sepauk&nbsp;no.&nbsp;10…</td><td>&quot;KAB.&nbsp;SINTANG&quot;</td><td>&quot;KALIMANTAN&nbsp;BARAT&quot;</td><td>2024-11-13&nbsp;03:49:00</td><td>&quot;10_2024-oct&nbsp;(10).xlsx&quot;</td><td>&quot;2024-10-31&quot;</td></tr><tr><td>&quot;2411012PJRATAU&quot;</td><td>&quot;Selesai&quot;</td><td>null</td><td>null</td><td>&quot;004368621397&quot;</td><td>&quot;Hemat-SiCepat&nbsp;Halu&quot;</td><td>&quot;Antar&nbsp;ke&nbsp;Counter&quot;</td><td>2024-11-04&nbsp;23:59:00</td><td>2024-11-02&nbsp;17:14:00</td><td>2024-10-31&nbsp;23:56:00</td><td>2024-11-01&nbsp;17:32:00</td><td>&quot;Online&nbsp;Payment&quot;</td><td>null</td><td>&quot;UGREEN&nbsp;Kepala&nbsp;Charger&nbsp;Power&nbsp;De…</td><td>&quot;60450&quot;</td><td>&quot;60450&nbsp;20W&nbsp;WHITE&quot;</td><td>90000</td><td>85000</td><td>10</td><td>0</td><td>850000</td><td>50000</td><td>50000</td><td>0</td><td>&quot;2000&nbsp;gr&quot;</td><td>10</td><td>&quot;2000&nbsp;gr&quot;</td><td>0</td><td>0</td><td>0</td><td>85000</td><td>&quot;N&quot;</td><td>0</td><td>0</td><td>0</td><td>0</td><td>12200</td><td>60000</td><td>0</td><td>779200</td><td>779200</td><td>72200</td><td>null</td><td>null</td><td>&quot;cantikadewilee&quot;</td><td>&quot;C******e&quot;</td><td>&quot;******26&quot;</td><td>&quot;Jalan&nbsp;Mesjid&nbsp;Agung&nbsp;Rantauprapa…</td><td>&quot;KAB.&nbsp;LABUHAN&nbsp;BATU&quot;</td><td>&quot;SUMATERA&nbsp;UTARA&quot;</td><td>2024-11-09&nbsp;11:41:00</td><td>&quot;10_2024-oct&nbsp;(10).xlsx&quot;</td><td>&quot;2024-10-31&quot;</td></tr><tr><td>&quot;2411012PNJUP17&quot;</td><td>&quot;Selesai&quot;</td><td>null</td><td>null</td><td>&quot;SPXID04488082665B&quot;</td><td>&quot;Reguler&nbsp;(Cashless)-SPX&nbsp;Standar…</td><td>&quot;Antar&nbsp;ke&nbsp;Counter&quot;</td><td>2024-11-01&nbsp;23:59:00</td><td>2024-11-01&nbsp;18:32:00</td><td>2024-10-31&nbsp;23:57:00</td><td>2024-11-01&nbsp;07:18:00</td><td>&quot;Online&nbsp;Payment&quot;</td><td>null</td><td>&quot;UGREEN&nbsp;Adaptor&nbsp;Kepala&nbsp;Charger&nbsp;…</td><td>&quot;15324&quot;</td><td>&quot;ADP&nbsp;20W&nbsp;GaN&nbsp;WHITE&quot;</td><td>129000</td><td>129000</td><td>1</td><td>0</td><td>129000</td><td>0</td><td>0</td><td>0</td><td>&quot;250&nbsp;gr&quot;</td><td>1</td><td>&quot;250&nbsp;gr&quot;</td><td>0</td><td>0</td><td>0</td><td>10320</td><td>&quot;N&quot;</td><td>0</td><td>0</td><td>0</td><td>0</td><td>0</td><td>17000</td><td>0</td><td>120680</td><td>120680</td><td>17000</td><td>null</td><td>null</td><td>&quot;.jihanfadhilah&quot;</td><td>&quot;J***n&quot;</td><td>&quot;******73&quot;</td><td>&quot;Peruhaman&nbsp;Jaya&nbsp;Regency&nbsp;Blok&nbsp;H&nbsp;…</td><td>&quot;KAB.&nbsp;SIDOARJO&quot;</td><td>&quot;JAWA&nbsp;TIMUR&quot;</td><td>2024-11-05&nbsp;10:37:00</td><td>&quot;10_2024-oct&nbsp;(10).xlsx&quot;</td><td>&quot;2024-10-31&quot;</td></tr><tr><td>&quot;2411012PP5XYNW&quot;</td><td>&quot;Selesai&quot;</td><td>null</td><td>null</td><td>&quot;SPXID04110282397B&quot;</td><td>&quot;Hemat-SPX&nbsp;Hemat&quot;</td><td>&quot;Antar&nbsp;ke&nbsp;Counter&quot;</td><td>2024-11-01&nbsp;23:59:00</td><td>2024-11-01&nbsp;18:31:00</td><td>2024-10-31&nbsp;23:58:00</td><td>2024-11-01&nbsp;00:13:00</td><td>&quot;Online&nbsp;Payment&quot;</td><td>null</td><td>&quot;UGREEN&nbsp;Charger&nbsp;iPhone&nbsp;15&nbsp;15&nbsp;Pl…</td><td>&quot;10191&quot;</td><td>&quot;ADP&nbsp;20W&nbsp;BLACK&quot;</td><td>90000</td><td>85000</td><td>1</td><td>0</td><td>85000</td><td>5000</td><td>5000</td><td>0</td><td>&quot;200&nbsp;gr&quot;</td><td>1</td><td>&quot;200&nbsp;gr&quot;</td><td>0</td><td>0</td><td>0</td><td>0</td><td>&quot;N&quot;</td><td>0</td><td>0</td><td>0</td><td>0</td><td>500</td><td>20000</td><td>0</td><td>88125</td><td>88125</td><td>20500</td><td>null</td><td>null</td><td>&quot;okhafis&quot;</td><td>&quot;H***s&quot;</td><td>&quot;******11&quot;</td><td>&quot;Rumah&nbsp;Emak&nbsp;Mislikah/mas&nbsp;david,…</td><td>&quot;KAB.&nbsp;MALANG&quot;</td><td>&quot;JAWA&nbsp;TIMUR&quot;</td><td>2024-11-04&nbsp;20:23:00</td><td>&quot;10_2024-oct&nbsp;(10).xlsx&quot;</td><td>&quot;2024-10-31&quot;</td></tr><tr><td>&quot;2411012PR9P8DS&quot;</td><td>&quot;Selesai&quot;</td><td>null</td><td>null</td><td>&quot;SPXID04449916146B&quot;</td><td>&quot;Reguler&nbsp;(Cashless)-SPX&nbsp;Standar…</td><td>&quot;Antar&nbsp;ke&nbsp;Counter&quot;</td><td>2024-11-01&nbsp;23:59:00</td><td>2024-11-01&nbsp;18:32:00</td><td>2024-10-31&nbsp;23:59:00</td><td>2024-10-31&nbsp;23:59:00</td><td>&quot;Online&nbsp;Payment&quot;</td><td>null</td><td>&quot;UGREEN&nbsp;Charger&nbsp;MFI&nbsp;iPhone&nbsp;11&nbsp;1…</td><td>&quot;90664&quot;</td><td>&quot;ADP&nbsp;GAN&nbsp;20W&nbsp;GREY&quot;</td><td>129000</td><td>129000</td><td>1</td><td>0</td><td>129000</td><td>0</td><td>0</td><td>0</td><td>&quot;200&nbsp;gr&quot;</td><td>1</td><td>&quot;200&nbsp;gr&quot;</td><td>0</td><td>0</td><td>0</td><td>2580</td><td>&quot;N&quot;</td><td>0</td><td>0</td><td>0</td><td>0</td><td>0</td><td>36000</td><td>0</td><td>130120</td><td>130120</td><td>36000</td><td>null</td><td>null</td><td>&quot;veryansyah25&quot;</td><td>&quot;N******k&quot;</td><td>&quot;******55&quot;</td><td>&quot;JL.KUMALA&nbsp;2&nbsp;UTARA&nbsp;LR.3,&nbsp;KOTA&nbsp;M…</td><td>&quot;KOTA&nbsp;MAKASSAR&quot;</td><td>&quot;SULAWESI&nbsp;SELATAN&quot;</td><td>2024-11-04&nbsp;12:50:00</td><td>&quot;10_2024-oct&nbsp;(10).xlsx&quot;</td><td>&quot;2024-10-31&quot;</td></tr></tbody></table></div>"
      ],
      "text/plain": [
       "shape: (156_947, 53)\n",
       "┌───────────┬───────────┬───────────┬───────────┬───┬───────────┬───────────┬───────────┬──────────┐\n",
       "│ No.       ┆ Status    ┆ Alasan    ┆ Status    ┆ … ┆ Provinsi  ┆ Waktu     ┆ source    ┆ Group_da │\n",
       "│ Pesanan   ┆ Pesanan   ┆ Pembatala ┆ Pembatala ┆   ┆ ---       ┆ Pesanan   ┆ ---       ┆ te       │\n",
       "│ ---       ┆ ---       ┆ n         ┆ n/ Pengem ┆   ┆ str       ┆ Selesai   ┆ str       ┆ ---      │\n",
       "│ str       ┆ str       ┆ ---       ┆ balia…    ┆   ┆           ┆ ---       ┆           ┆ str      │\n",
       "│           ┆           ┆ str       ┆ ---       ┆   ┆           ┆ datetime[ ┆           ┆          │\n",
       "│           ┆           ┆           ┆ null      ┆   ┆           ┆ ms]       ┆           ┆          │\n",
       "╞═══════════╪═══════════╪═══════════╪═══════════╪═══╪═══════════╪═══════════╪═══════════╪══════════╡\n",
       "│ 240701DHY ┆ Selesai   ┆ null      ┆ null      ┆ … ┆ JAWA      ┆ 2024-07-0 ┆ 7_2024-ju ┆ 2024-07- │\n",
       "│ VFEDF     ┆           ┆           ┆           ┆   ┆ TENGAH    ┆ 4         ┆ ly        ┆ 01       │\n",
       "│           ┆           ┆           ┆           ┆   ┆           ┆ 10:43:00  ┆ (1).xlsx  ┆          │\n",
       "│ 240701DJ2 ┆ Selesai   ┆ null      ┆ null      ┆ … ┆ JAWA      ┆ 2024-07-1 ┆ 7_2024-ju ┆ 2024-07- │\n",
       "│ GC8VA     ┆           ┆           ┆           ┆   ┆ BARAT     ┆ 1         ┆ ly        ┆ 01       │\n",
       "│           ┆           ┆           ┆           ┆   ┆           ┆ 05:09:00  ┆ (1).xlsx  ┆          │\n",
       "│ 240701DJ8 ┆ Selesai   ┆ null      ┆ null      ┆ … ┆ JAWA      ┆ 2024-07-0 ┆ 7_2024-ju ┆ 2024-07- │\n",
       "│ TGS71     ┆           ┆           ┆           ┆   ┆ TIMUR     ┆ 5         ┆ ly        ┆ 01       │\n",
       "│           ┆           ┆           ┆           ┆   ┆           ┆ 13:13:00  ┆ (1).xlsx  ┆          │\n",
       "│ 240701DJD ┆ Selesai   ┆ null      ┆ null      ┆ … ┆ LAMPUNG   ┆ 2024-07-0 ┆ 7_2024-ju ┆ 2024-07- │\n",
       "│ BH700     ┆           ┆           ┆           ┆   ┆           ┆ 4         ┆ ly        ┆ 01       │\n",
       "│           ┆           ┆           ┆           ┆   ┆           ┆ 11:02:00  ┆ (1).xlsx  ┆          │\n",
       "│ 240701DJJ ┆ Selesai   ┆ null      ┆ null      ┆ … ┆ JAWA      ┆ 2024-07-0 ┆ 7_2024-ju ┆ 2024-07- │\n",
       "│ XUSCD     ┆           ┆           ┆           ┆   ┆ TIMUR     ┆ 4         ┆ ly        ┆ 01       │\n",
       "│           ┆           ┆           ┆           ┆   ┆           ┆ 16:25:00  ┆ (1).xlsx  ┆          │\n",
       "│ 240701DJJ ┆ Selesai   ┆ null      ┆ null      ┆ … ┆ JAWA      ┆ 2024-07-0 ┆ 7_2024-ju ┆ 2024-07- │\n",
       "│ XUSCD     ┆           ┆           ┆           ┆   ┆ TIMUR     ┆ 4         ┆ ly        ┆ 01       │\n",
       "│           ┆           ┆           ┆           ┆   ┆           ┆ 16:25:00  ┆ (1).xlsx  ┆          │\n",
       "│ 240701DJS ┆ Selesai   ┆ null      ┆ null      ┆ … ┆ DKI       ┆ 2024-07-0 ┆ 7_2024-ju ┆ 2024-07- │\n",
       "│ 0D6WH     ┆           ┆           ┆           ┆   ┆ JAKARTA   ┆ 2         ┆ ly        ┆ 01       │\n",
       "│           ┆           ┆           ┆           ┆   ┆           ┆ 12:44:00  ┆ (1).xlsx  ┆          │\n",
       "│ 240701DJS ┆ Selesai   ┆ null      ┆ null      ┆ … ┆ JAWA      ┆ 2024-07-0 ┆ 7_2024-ju ┆ 2024-07- │\n",
       "│ S83BS     ┆           ┆           ┆           ┆   ┆ BARAT     ┆ 3         ┆ ly        ┆ 01       │\n",
       "│           ┆           ┆           ┆           ┆   ┆           ┆ 04:07:00  ┆ (1).xlsx  ┆          │\n",
       "│ 240701DJV ┆ Selesai   ┆ null      ┆ null      ┆ … ┆ JAWA      ┆ 2024-07-0 ┆ 7_2024-ju ┆ 2024-07- │\n",
       "│ 3K5SE     ┆           ┆           ┆           ┆   ┆ TENGAH    ┆ 3         ┆ ly        ┆ 01       │\n",
       "│           ┆           ┆           ┆           ┆   ┆           ┆ 15:15:00  ┆ (1).xlsx  ┆          │\n",
       "│ 240701DJV ┆ Selesai   ┆ null      ┆ null      ┆ … ┆ NANGGROE  ┆ 2024-07-0 ┆ 7_2024-ju ┆ 2024-07- │\n",
       "│ 8C6QY     ┆           ┆           ┆           ┆   ┆ ACEH DARU ┆ 5         ┆ ly        ┆ 01       │\n",
       "│           ┆           ┆           ┆           ┆   ┆ SSALAM    ┆ 15:05:00  ┆ (1).xlsx  ┆          │\n",
       "│           ┆           ┆           ┆           ┆   ┆ (NAD)     ┆           ┆           ┆          │\n",
       "│ …         ┆ …         ┆ …         ┆ …         ┆ … ┆ …         ┆ …         ┆ …         ┆ …        │\n",
       "│ 2411012PC ┆ Selesai   ┆ null      ┆ null      ┆ … ┆ DKI       ┆ 2024-11-1 ┆ 10_2024-o ┆ 2024-10- │\n",
       "│ 6EYCQ     ┆           ┆           ┆           ┆   ┆ JAKARTA   ┆ 2         ┆ ct        ┆ 31       │\n",
       "│           ┆           ┆           ┆           ┆   ┆           ┆ 06:25:00  ┆ (10).xlsx ┆          │\n",
       "│ 2411012PD ┆ Selesai   ┆ null      ┆ null      ┆ … ┆ DKI       ┆ 2024-11-0 ┆ 10_2024-o ┆ 2024-10- │\n",
       "│ 06XQ1     ┆           ┆           ┆           ┆   ┆ JAKARTA   ┆ 9         ┆ ct        ┆ 31       │\n",
       "│           ┆           ┆           ┆           ┆   ┆           ┆ 09:10:00  ┆ (10).xlsx ┆          │\n",
       "│ 2411012PD ┆ Selesai   ┆ null      ┆ null      ┆ … ┆ BANTEN    ┆ 2024-11-0 ┆ 10_2024-o ┆ 2024-10- │\n",
       "│ N76AK     ┆           ┆           ┆           ┆   ┆           ┆ 2         ┆ ct        ┆ 31       │\n",
       "│           ┆           ┆           ┆           ┆   ┆           ┆ 13:24:00  ┆ (10).xlsx ┆          │\n",
       "│ 2411012PD ┆ Selesai   ┆ null      ┆ null      ┆ … ┆ JAWA      ┆ 2024-11-0 ┆ 10_2024-o ┆ 2024-10- │\n",
       "│ T035E     ┆           ┆           ┆           ┆   ┆ TENGAH    ┆ 4         ┆ ct        ┆ 31       │\n",
       "│           ┆           ┆           ┆           ┆   ┆           ┆ 12:35:00  ┆ (10).xlsx ┆          │\n",
       "│ 2411012PF ┆ Selesai   ┆ null      ┆ null      ┆ … ┆ SUMATERA  ┆ 2024-11-0 ┆ 10_2024-o ┆ 2024-10- │\n",
       "│ H91PX     ┆           ┆           ┆           ┆   ┆ UTARA     ┆ 7         ┆ ct        ┆ 31       │\n",
       "│           ┆           ┆           ┆           ┆   ┆           ┆ 02:56:00  ┆ (10).xlsx ┆          │\n",
       "│ 2411012PG ┆ Selesai   ┆ null      ┆ null      ┆ … ┆ KALIMANTA ┆ 2024-11-1 ┆ 10_2024-o ┆ 2024-10- │\n",
       "│ JMR23     ┆           ┆           ┆           ┆   ┆ N BARAT   ┆ 3         ┆ ct        ┆ 31       │\n",
       "│           ┆           ┆           ┆           ┆   ┆           ┆ 03:49:00  ┆ (10).xlsx ┆          │\n",
       "│ 2411012PJ ┆ Selesai   ┆ null      ┆ null      ┆ … ┆ SUMATERA  ┆ 2024-11-0 ┆ 10_2024-o ┆ 2024-10- │\n",
       "│ RATAU     ┆           ┆           ┆           ┆   ┆ UTARA     ┆ 9         ┆ ct        ┆ 31       │\n",
       "│           ┆           ┆           ┆           ┆   ┆           ┆ 11:41:00  ┆ (10).xlsx ┆          │\n",
       "│ 2411012PN ┆ Selesai   ┆ null      ┆ null      ┆ … ┆ JAWA      ┆ 2024-11-0 ┆ 10_2024-o ┆ 2024-10- │\n",
       "│ JUP17     ┆           ┆           ┆           ┆   ┆ TIMUR     ┆ 5         ┆ ct        ┆ 31       │\n",
       "│           ┆           ┆           ┆           ┆   ┆           ┆ 10:37:00  ┆ (10).xlsx ┆          │\n",
       "│ 2411012PP ┆ Selesai   ┆ null      ┆ null      ┆ … ┆ JAWA      ┆ 2024-11-0 ┆ 10_2024-o ┆ 2024-10- │\n",
       "│ 5XYNW     ┆           ┆           ┆           ┆   ┆ TIMUR     ┆ 4         ┆ ct        ┆ 31       │\n",
       "│           ┆           ┆           ┆           ┆   ┆           ┆ 20:23:00  ┆ (10).xlsx ┆          │\n",
       "│ 2411012PR ┆ Selesai   ┆ null      ┆ null      ┆ … ┆ SULAWESI  ┆ 2024-11-0 ┆ 10_2024-o ┆ 2024-10- │\n",
       "│ 9P8DS     ┆           ┆           ┆           ┆   ┆ SELATAN   ┆ 4         ┆ ct        ┆ 31       │\n",
       "│           ┆           ┆           ┆           ┆   ┆           ┆ 12:50:00  ┆ (10).xlsx ┆          │\n",
       "└───────────┴───────────┴───────────┴───────────┴───┴───────────┴───────────┴───────────┴──────────┘"
      ]
     },
     "execution_count": 22,
     "metadata": {},
     "output_type": "execute_result"
    }
   ],
   "source": [
    "groupdate"
   ]
  },
  {
   "cell_type": "code",
   "execution_count": 11,
   "metadata": {},
   "outputs": [],
   "source": [
    "waktu = groupdate['Waktu Pengiriman Diatur','Waktu Pesanan Dibuat','Waktu Pembayaran Dilakukan','Waktu Pesanan Selesai']"
   ]
  },
  {
   "cell_type": "markdown",
   "metadata": {},
   "source": [
    "# mensummarize revenue per bulan \n",
    "\n",
    "## dengan detail of droping status pesanan yang batal dan waktu pengaturan diatur yang tidak kosong"
   ]
  },
  {
   "cell_type": "code",
   "execution_count": 27,
   "metadata": {},
   "outputs": [],
   "source": [
    "revenue = groupdate['Status Pesanan','Nomor Referensi SKU','Waktu Pesanan Dibuat','Total Pembayaran','total no dup','Kota/Kabupaten','Provinsi','Harga Awal','Jumlah','Group_date'].\\\n",
    "    filter([pl.col('Status Pesanan')!=\"Batal\" ,pl.col('Waktu Pesanan Dibuat').is_not_null()]).sort(by='Waktu Pesanan Dibuat')\n"
   ]
  },
  {
   "cell_type": "code",
   "execution_count": 28,
   "metadata": {},
   "outputs": [
    {
     "data": {
      "text/html": [
       "<div><style>\n",
       ".dataframe > thead > tr,\n",
       ".dataframe > tbody > tr {\n",
       "  text-align: right;\n",
       "  white-space: pre-wrap;\n",
       "}\n",
       "</style>\n",
       "<small>shape: (156_947, 10)</small><table border=\"1\" class=\"dataframe\"><thead><tr><th>Status Pesanan</th><th>Nomor Referensi SKU</th><th>Waktu Pesanan Dibuat</th><th>Total Pembayaran</th><th>total no dup</th><th>Kota/Kabupaten</th><th>Provinsi</th><th>Harga Awal</th><th>Jumlah</th><th>Group_date</th></tr><tr><td>str</td><td>str</td><td>datetime[ms]</td><td>i64</td><td>i64</td><td>str</td><td>str</td><td>i64</td><td>i64</td><td>str</td></tr></thead><tbody><tr><td>&quot;Selesai&quot;</td><td>&quot;40705&quot;</td><td>2024-07-01&nbsp;00:00:00</td><td>73758</td><td>73758</td><td>&quot;KOTA&nbsp;SEMARANG&quot;</td><td>&quot;JAWA&nbsp;TENGAH&quot;</td><td>50000</td><td>2</td><td>&quot;2024-07-01&quot;</td></tr><tr><td>&quot;Selesai&quot;</td><td>&quot;60759&quot;</td><td>2024-07-01&nbsp;00:01:00</td><td>153900</td><td>153900</td><td>&quot;KOTA&nbsp;BANDUNG&quot;</td><td>&quot;JAWA&nbsp;BARAT&quot;</td><td>155000</td><td>1</td><td>&quot;2024-07-01&quot;</td></tr><tr><td>&quot;Selesai&quot;</td><td>&quot;60126&quot;</td><td>2024-07-01&nbsp;00:05:00</td><td>42600</td><td>42600</td><td>&quot;KAB.&nbsp;BANYUWANGI&quot;</td><td>&quot;JAWA&nbsp;TIMUR&quot;</td><td>39000</td><td>1</td><td>&quot;2024-07-01&quot;</td></tr><tr><td>&quot;Selesai&quot;</td><td>&quot;50799&quot;</td><td>2024-07-01&nbsp;00:07:00</td><td>191000</td><td>191000</td><td>&quot;KOTA&nbsp;BANDAR&nbsp;LAMPUNG&quot;</td><td>&quot;LAMPUNG&quot;</td><td>229000</td><td>1</td><td>&quot;2024-07-01&quot;</td></tr><tr><td>&quot;Selesai&quot;</td><td>&quot;60450&quot;</td><td>2024-07-01&nbsp;00:10:00</td><td>219790</td><td>219790</td><td>&quot;KAB.&nbsp;BANGKALAN&quot;</td><td>&quot;JAWA&nbsp;TIMUR&quot;</td><td>92500</td><td>1</td><td>&quot;2024-07-01&quot;</td></tr><tr><td>&quot;Selesai&quot;</td><td>&quot;60759&quot;</td><td>2024-07-01&nbsp;00:10:00</td><td>219790</td><td>0</td><td>&quot;KAB.&nbsp;BANGKALAN&quot;</td><td>&quot;JAWA&nbsp;TIMUR&quot;</td><td>155000</td><td>1</td><td>&quot;2024-07-01&quot;</td></tr><tr><td>&quot;Selesai&quot;</td><td>&quot;60450&quot;</td><td>2024-07-01&nbsp;00:14:00</td><td>105500</td><td>105500</td><td>&quot;KOTA&nbsp;JAKARTA&nbsp;TIMUR&quot;</td><td>&quot;DKI&nbsp;JAKARTA&quot;</td><td>92500</td><td>1</td><td>&quot;2024-07-01&quot;</td></tr><tr><td>&quot;Selesai&quot;</td><td>&quot;80371&quot;</td><td>2024-07-01&nbsp;00:14:00</td><td>51424</td><td>51424</td><td>&quot;KOTA&nbsp;BEKASI&quot;</td><td>&quot;JAWA&nbsp;BARAT&quot;</td><td>67000</td><td>1</td><td>&quot;2024-07-01&quot;</td></tr><tr><td>&quot;Selesai&quot;</td><td>&quot;20245-ISI10&quot;</td><td>2024-07-01&nbsp;00:15:00</td><td>25000</td><td>25000</td><td>&quot;KAB.&nbsp;BANJARNEGARA&quot;</td><td>&quot;JAWA&nbsp;TENGAH&quot;</td><td>19000</td><td>1</td><td>&quot;2024-07-01&quot;</td></tr><tr><td>&quot;Selesai&quot;</td><td>&quot;60761&quot;</td><td>2024-07-01&nbsp;00:15:00</td><td>190000</td><td>190000</td><td>&quot;KOTA&nbsp;BANDA&nbsp;ACEH&quot;</td><td>&quot;NANGGROE&nbsp;ACEH&nbsp;DARUSSALAM&nbsp;(NAD)&quot;</td><td>189000</td><td>1</td><td>&quot;2024-07-01&quot;</td></tr><tr><td>&hellip;</td><td>&hellip;</td><td>&hellip;</td><td>&hellip;</td><td>&hellip;</td><td>&hellip;</td><td>&hellip;</td><td>&hellip;</td><td>&hellip;</td><td>&hellip;</td></tr><tr><td>&quot;Selesai&quot;</td><td>&quot;15143&quot;</td><td>2024-10-31&nbsp;23:52:00</td><td>242396</td><td>242396</td><td>&quot;KOTA&nbsp;JAKARTA&nbsp;BARAT&quot;</td><td>&quot;DKI&nbsp;JAKARTA&quot;</td><td>560000</td><td>1</td><td>&quot;2024-10-31&quot;</td></tr><tr><td>&quot;Selesai&quot;</td><td>&quot;15324&quot;</td><td>2024-10-31&nbsp;23:52:00</td><td>139420</td><td>139420</td><td>&quot;KOTA&nbsp;JAKARTA&nbsp;BARAT&quot;</td><td>&quot;DKI&nbsp;JAKARTA&quot;</td><td>129000</td><td>1</td><td>&quot;2024-10-31&quot;</td></tr><tr><td>&quot;Selesai&quot;</td><td>&quot;25398&quot;</td><td>2024-10-31&nbsp;23:53:00</td><td>132400</td><td>132400</td><td>&quot;KOTA&nbsp;TANGERANG&nbsp;SELATAN&quot;</td><td>&quot;BANTEN&quot;</td><td>135000</td><td>1</td><td>&quot;2024-10-31&quot;</td></tr><tr><td>&quot;Selesai&quot;</td><td>&quot;45110&quot;</td><td>2024-10-31&nbsp;23:53:00</td><td>172787</td><td>172787</td><td>&quot;KAB.&nbsp;KENDAL&quot;</td><td>&quot;JAWA&nbsp;TENGAH&quot;</td><td>249000</td><td>1</td><td>&quot;2024-10-31&quot;</td></tr><tr><td>&quot;Selesai&quot;</td><td>&quot;60450&quot;</td><td>2024-10-31&nbsp;23:54:00</td><td>81935</td><td>81935</td><td>&quot;KOTA&nbsp;MEDAN&quot;</td><td>&quot;SUMATERA&nbsp;UTARA&quot;</td><td>90000</td><td>1</td><td>&quot;2024-10-31&quot;</td></tr><tr><td>&quot;Selesai&quot;</td><td>&quot;70273-60158&quot;</td><td>2024-10-31&nbsp;23:54:00</td><td>233300</td><td>233300</td><td>&quot;KAB.&nbsp;SINTANG&quot;</td><td>&quot;KALIMANTAN&nbsp;BARAT&quot;</td><td>260000</td><td>1</td><td>&quot;2024-10-31&quot;</td></tr><tr><td>&quot;Selesai&quot;</td><td>&quot;60450&quot;</td><td>2024-10-31&nbsp;23:56:00</td><td>779200</td><td>779200</td><td>&quot;KAB.&nbsp;LABUHAN&nbsp;BATU&quot;</td><td>&quot;SUMATERA&nbsp;UTARA&quot;</td><td>90000</td><td>10</td><td>&quot;2024-10-31&quot;</td></tr><tr><td>&quot;Selesai&quot;</td><td>&quot;15324&quot;</td><td>2024-10-31&nbsp;23:57:00</td><td>120680</td><td>120680</td><td>&quot;KAB.&nbsp;SIDOARJO&quot;</td><td>&quot;JAWA&nbsp;TIMUR&quot;</td><td>129000</td><td>1</td><td>&quot;2024-10-31&quot;</td></tr><tr><td>&quot;Selesai&quot;</td><td>&quot;10191&quot;</td><td>2024-10-31&nbsp;23:58:00</td><td>88125</td><td>88125</td><td>&quot;KAB.&nbsp;MALANG&quot;</td><td>&quot;JAWA&nbsp;TIMUR&quot;</td><td>90000</td><td>1</td><td>&quot;2024-10-31&quot;</td></tr><tr><td>&quot;Selesai&quot;</td><td>&quot;90664&quot;</td><td>2024-10-31&nbsp;23:59:00</td><td>130120</td><td>130120</td><td>&quot;KOTA&nbsp;MAKASSAR&quot;</td><td>&quot;SULAWESI&nbsp;SELATAN&quot;</td><td>129000</td><td>1</td><td>&quot;2024-10-31&quot;</td></tr></tbody></table></div>"
      ],
      "text/plain": [
       "shape: (156_947, 10)\n",
       "┌────────────┬────────────┬────────────┬────────────┬───┬────────────┬────────┬────────┬───────────┐\n",
       "│ Status     ┆ Nomor      ┆ Waktu      ┆ Total      ┆ … ┆ Provinsi   ┆ Harga  ┆ Jumlah ┆ Group_dat │\n",
       "│ Pesanan    ┆ Referensi  ┆ Pesanan    ┆ Pembayaran ┆   ┆ ---        ┆ Awal   ┆ ---    ┆ e         │\n",
       "│ ---        ┆ SKU        ┆ Dibuat     ┆ ---        ┆   ┆ str        ┆ ---    ┆ i64    ┆ ---       │\n",
       "│ str        ┆ ---        ┆ ---        ┆ i64        ┆   ┆            ┆ i64    ┆        ┆ str       │\n",
       "│            ┆ str        ┆ datetime[m ┆            ┆   ┆            ┆        ┆        ┆           │\n",
       "│            ┆            ┆ s]         ┆            ┆   ┆            ┆        ┆        ┆           │\n",
       "╞════════════╪════════════╪════════════╪════════════╪═══╪════════════╪════════╪════════╪═══════════╡\n",
       "│ Selesai    ┆ 40705      ┆ 2024-07-01 ┆ 73758      ┆ … ┆ JAWA       ┆ 50000  ┆ 2      ┆ 2024-07-0 │\n",
       "│            ┆            ┆ 00:00:00   ┆            ┆   ┆ TENGAH     ┆        ┆        ┆ 1         │\n",
       "│ Selesai    ┆ 60759      ┆ 2024-07-01 ┆ 153900     ┆ … ┆ JAWA BARAT ┆ 155000 ┆ 1      ┆ 2024-07-0 │\n",
       "│            ┆            ┆ 00:01:00   ┆            ┆   ┆            ┆        ┆        ┆ 1         │\n",
       "│ Selesai    ┆ 60126      ┆ 2024-07-01 ┆ 42600      ┆ … ┆ JAWA TIMUR ┆ 39000  ┆ 1      ┆ 2024-07-0 │\n",
       "│            ┆            ┆ 00:05:00   ┆            ┆   ┆            ┆        ┆        ┆ 1         │\n",
       "│ Selesai    ┆ 50799      ┆ 2024-07-01 ┆ 191000     ┆ … ┆ LAMPUNG    ┆ 229000 ┆ 1      ┆ 2024-07-0 │\n",
       "│            ┆            ┆ 00:07:00   ┆            ┆   ┆            ┆        ┆        ┆ 1         │\n",
       "│ Selesai    ┆ 60450      ┆ 2024-07-01 ┆ 219790     ┆ … ┆ JAWA TIMUR ┆ 92500  ┆ 1      ┆ 2024-07-0 │\n",
       "│            ┆            ┆ 00:10:00   ┆            ┆   ┆            ┆        ┆        ┆ 1         │\n",
       "│ Selesai    ┆ 60759      ┆ 2024-07-01 ┆ 219790     ┆ … ┆ JAWA TIMUR ┆ 155000 ┆ 1      ┆ 2024-07-0 │\n",
       "│            ┆            ┆ 00:10:00   ┆            ┆   ┆            ┆        ┆        ┆ 1         │\n",
       "│ Selesai    ┆ 60450      ┆ 2024-07-01 ┆ 105500     ┆ … ┆ DKI        ┆ 92500  ┆ 1      ┆ 2024-07-0 │\n",
       "│            ┆            ┆ 00:14:00   ┆            ┆   ┆ JAKARTA    ┆        ┆        ┆ 1         │\n",
       "│ Selesai    ┆ 80371      ┆ 2024-07-01 ┆ 51424      ┆ … ┆ JAWA BARAT ┆ 67000  ┆ 1      ┆ 2024-07-0 │\n",
       "│            ┆            ┆ 00:14:00   ┆            ┆   ┆            ┆        ┆        ┆ 1         │\n",
       "│ Selesai    ┆ 20245-ISI1 ┆ 2024-07-01 ┆ 25000      ┆ … ┆ JAWA       ┆ 19000  ┆ 1      ┆ 2024-07-0 │\n",
       "│            ┆ 0          ┆ 00:15:00   ┆            ┆   ┆ TENGAH     ┆        ┆        ┆ 1         │\n",
       "│ Selesai    ┆ 60761      ┆ 2024-07-01 ┆ 190000     ┆ … ┆ NANGGROE   ┆ 189000 ┆ 1      ┆ 2024-07-0 │\n",
       "│            ┆            ┆ 00:15:00   ┆            ┆   ┆ ACEH       ┆        ┆        ┆ 1         │\n",
       "│            ┆            ┆            ┆            ┆   ┆ DARUSSALAM ┆        ┆        ┆           │\n",
       "│            ┆            ┆            ┆            ┆   ┆ (NAD)      ┆        ┆        ┆           │\n",
       "│ …          ┆ …          ┆ …          ┆ …          ┆ … ┆ …          ┆ …      ┆ …      ┆ …         │\n",
       "│ Selesai    ┆ 15143      ┆ 2024-10-31 ┆ 242396     ┆ … ┆ DKI        ┆ 560000 ┆ 1      ┆ 2024-10-3 │\n",
       "│            ┆            ┆ 23:52:00   ┆            ┆   ┆ JAKARTA    ┆        ┆        ┆ 1         │\n",
       "│ Selesai    ┆ 15324      ┆ 2024-10-31 ┆ 139420     ┆ … ┆ DKI        ┆ 129000 ┆ 1      ┆ 2024-10-3 │\n",
       "│            ┆            ┆ 23:52:00   ┆            ┆   ┆ JAKARTA    ┆        ┆        ┆ 1         │\n",
       "│ Selesai    ┆ 25398      ┆ 2024-10-31 ┆ 132400     ┆ … ┆ BANTEN     ┆ 135000 ┆ 1      ┆ 2024-10-3 │\n",
       "│            ┆            ┆ 23:53:00   ┆            ┆   ┆            ┆        ┆        ┆ 1         │\n",
       "│ Selesai    ┆ 45110      ┆ 2024-10-31 ┆ 172787     ┆ … ┆ JAWA       ┆ 249000 ┆ 1      ┆ 2024-10-3 │\n",
       "│            ┆            ┆ 23:53:00   ┆            ┆   ┆ TENGAH     ┆        ┆        ┆ 1         │\n",
       "│ Selesai    ┆ 60450      ┆ 2024-10-31 ┆ 81935      ┆ … ┆ SUMATERA   ┆ 90000  ┆ 1      ┆ 2024-10-3 │\n",
       "│            ┆            ┆ 23:54:00   ┆            ┆   ┆ UTARA      ┆        ┆        ┆ 1         │\n",
       "│ Selesai    ┆ 70273-6015 ┆ 2024-10-31 ┆ 233300     ┆ … ┆ KALIMANTAN ┆ 260000 ┆ 1      ┆ 2024-10-3 │\n",
       "│            ┆ 8          ┆ 23:54:00   ┆            ┆   ┆ BARAT      ┆        ┆        ┆ 1         │\n",
       "│ Selesai    ┆ 60450      ┆ 2024-10-31 ┆ 779200     ┆ … ┆ SUMATERA   ┆ 90000  ┆ 10     ┆ 2024-10-3 │\n",
       "│            ┆            ┆ 23:56:00   ┆            ┆   ┆ UTARA      ┆        ┆        ┆ 1         │\n",
       "│ Selesai    ┆ 15324      ┆ 2024-10-31 ┆ 120680     ┆ … ┆ JAWA TIMUR ┆ 129000 ┆ 1      ┆ 2024-10-3 │\n",
       "│            ┆            ┆ 23:57:00   ┆            ┆   ┆            ┆        ┆        ┆ 1         │\n",
       "│ Selesai    ┆ 10191      ┆ 2024-10-31 ┆ 88125      ┆ … ┆ JAWA TIMUR ┆ 90000  ┆ 1      ┆ 2024-10-3 │\n",
       "│            ┆            ┆ 23:58:00   ┆            ┆   ┆            ┆        ┆        ┆ 1         │\n",
       "│ Selesai    ┆ 90664      ┆ 2024-10-31 ┆ 130120     ┆ … ┆ SULAWESI   ┆ 129000 ┆ 1      ┆ 2024-10-3 │\n",
       "│            ┆            ┆ 23:59:00   ┆            ┆   ┆ SELATAN    ┆        ┆        ┆ 1         │\n",
       "└────────────┴────────────┴────────────┴────────────┴───┴────────────┴────────┴────────┴───────────┘"
      ]
     },
     "execution_count": 28,
     "metadata": {},
     "output_type": "execute_result"
    }
   ],
   "source": [
    "revenue"
   ]
  },
  {
   "cell_type": "code",
   "execution_count": 29,
   "metadata": {},
   "outputs": [],
   "source": [
    "sls_jul = revenue.filter(pl.col('Group_date').str.contains('2024-07')).group_by('Group_date').agg(pl.col('total no dup').sum(),pl.col('Harga Awal').sum()).sort(by='Group_date')\n",
    "sls_aug = revenue.filter(pl.col('Group_date').str.contains('2024-08')).group_by('Group_date').agg(pl.col('total no dup').sum(),pl.col('Harga Awal').sum()).sort(by='Group_date')\n",
    "sls_sep = revenue.filter(pl.col('Group_date').str.contains('2024-09')).group_by('Group_date').agg(pl.col('total no dup').sum(),pl.col('Harga Awal').sum()).sort(by='Group_date')\n",
    "sls_oct = revenue.filter(pl.col('Group_date').str.contains('2024-10')).group_by('Group_date').agg(pl.col('total no dup').sum(),pl.col('Harga Awal').sum()).sort(by='Group_date')\n",
    "sls_nov = revenue.filter(pl.col('Group_date').str.contains('2024-11')).group_by('Group_date').agg(pl.col('total no dup').sum(),pl.col('Harga Awal').sum()).sort(by='Group_date')"
   ]
  },
  {
   "cell_type": "code",
   "execution_count": 11,
   "metadata": {},
   "outputs": [],
   "source": [
    "# # Basic number formatting\n",
    "# print(\"{:,}\".format(number))        # 1,234,567.89\n",
    "# print(\"{:.2f}\".format(number))      # 1234567.89\n",
    "# print(\"{:,.2f}\".format(number))     # 1,234,567.89"
   ]
  },
  {
   "cell_type": "markdown",
   "metadata": {},
   "source": [
    "# summary revenue per-month"
   ]
  },
  {
   "cell_type": "code",
   "execution_count": 32,
   "metadata": {},
   "outputs": [
    {
     "name": "stdout",
     "output_type": "stream",
     "text": [
      " Bulan Ke-7 profitnya -538,269,701.00 dari revenue 5,151,436,799.00\n",
      " Bulan Ke-8 profitnya -539,404,385.00 dari revenue 5,902,991,615.00\n",
      " Bulan Ke-9 profitnya -695,721,033.00 dari revenue 6,143,570,467.00\n",
      " Bulan Ke-10 profitnya -1,223,824,611.00 dari revenue 6,430,474,389.00\n"
     ]
    },
    {
     "data": {
      "text/html": [
       "<div><style>\n",
       ".dataframe > thead > tr,\n",
       ".dataframe > tbody > tr {\n",
       "  text-align: right;\n",
       "  white-space: pre-wrap;\n",
       "}\n",
       "</style>\n",
       "<small>shape: (4, 6)</small><table border=\"1\" class=\"dataframe\"><thead><tr><th>Bulan</th><th>Total_Revenue</th><th>Cost</th><th>Profit</th><th>Profit_Increase</th><th>Profit_Increase_Pct</th></tr><tr><td>i64</td><td>i64</td><td>i64</td><td>i64</td><td>i64</td><td>f64</td></tr></thead><tbody><tr><td>7</td><td>5151436799</td><td>5689706500</td><td>-538269701</td><td>0</td><td>0.0</td></tr><tr><td>8</td><td>5902991615</td><td>6442396000</td><td>-539404385</td><td>-1134684</td><td>0.21</td></tr><tr><td>9</td><td>6143570467</td><td>6839291500</td><td>-695721033</td><td>-156316648</td><td>28.98</td></tr><tr><td>10</td><td>6430474389</td><td>7654299000</td><td>-1223824611</td><td>-528103578</td><td>75.91</td></tr></tbody></table></div>"
      ],
      "text/plain": [
       "shape: (4, 6)\n",
       "┌───────┬───────────────┬────────────┬─────────────┬─────────────────┬─────────────────────┐\n",
       "│ Bulan ┆ Total_Revenue ┆ Cost       ┆ Profit      ┆ Profit_Increase ┆ Profit_Increase_Pct │\n",
       "│ ---   ┆ ---           ┆ ---        ┆ ---         ┆ ---             ┆ ---                 │\n",
       "│ i64   ┆ i64           ┆ i64        ┆ i64         ┆ i64             ┆ f64                 │\n",
       "╞═══════╪═══════════════╪════════════╪═════════════╪═════════════════╪═════════════════════╡\n",
       "│ 7     ┆ 5151436799    ┆ 5689706500 ┆ -538269701  ┆ 0               ┆ 0.0                 │\n",
       "│ 8     ┆ 5902991615    ┆ 6442396000 ┆ -539404385  ┆ -1134684        ┆ 0.21                │\n",
       "│ 9     ┆ 6143570467    ┆ 6839291500 ┆ -695721033  ┆ -156316648      ┆ 28.98               │\n",
       "│ 10    ┆ 6430474389    ┆ 7654299000 ┆ -1223824611 ┆ -528103578      ┆ 75.91               │\n",
       "└───────┴───────────────┴────────────┴─────────────┴─────────────────┴─────────────────────┘"
      ]
     },
     "execution_count": 32,
     "metadata": {},
     "output_type": "execute_result"
    }
   ],
   "source": [
    "summ = []\n",
    "rev_month = [sls_jul,sls_aug,sls_sep,sls_oct]\n",
    "df_summary = pl.DataFrame({\n",
    "    'Bulan': range(7, 11),\n",
    "    'Total_Revenue': [rev['total no dup'].sum() for rev in rev_month],\n",
    "    'Cost':[rev['Harga Awal'].sum() for rev in rev_month]\n",
    "}).with_columns(\n",
    "    (pl.col('Total_Revenue') - pl.col('Cost')).alias('Profit'),\n",
    "    (pl.col('Total_Revenue') - pl.col('Cost'))\n",
    "        .diff()  # Calculate difference from previous row\n",
    "        .alias('Profit_Increase'),\n",
    "    # Add percentage increase\n",
    "    (pl.col('Total_Revenue') - pl.col('Cost'))\n",
    "        .pct_change()  # Calculate percentage change\n",
    "        .mul(100)\n",
    "        .round(2)\n",
    "        .alias('Profit_Increase_Pct')\n",
    ").fill_null(value=0)\n",
    "\n",
    "for readable in df_summary.iter_rows():\n",
    "    print(f' Bulan Ke-{readable[0]} profitnya {readable[1]-readable[2]:,.2f} dari revenue {readable[1]:,.2f}')\n",
    "df_summary"
   ]
  },
  {
   "cell_type": "markdown",
   "metadata": {},
   "source": [
    "# dig deeper on revenue"
   ]
  },
  {
   "cell_type": "code",
   "execution_count": 13,
   "metadata": {},
   "outputs": [
    {
     "data": {
      "text/plain": [
       "polars.config.Config"
      ]
     },
     "execution_count": 13,
     "metadata": {},
     "output_type": "execute_result"
    }
   ],
   "source": [
    "pl.Config.set_tbl_rows(10)"
   ]
  },
  {
   "cell_type": "code",
   "execution_count": 14,
   "metadata": {},
   "outputs": [],
   "source": [
    "det_rev =groupdate.filter(pl.col('Group_date')<'2024-11-01').with_columns(pl.col('Group_date').str.slice(0,7).alias('Month'))"
   ]
  },
  {
   "cell_type": "code",
   "execution_count": 15,
   "metadata": {},
   "outputs": [
    {
     "data": {
      "text/plain": [
       "polars.config.Config"
      ]
     },
     "execution_count": 15,
     "metadata": {},
     "output_type": "execute_result"
    }
   ],
   "source": [
    "pl.Config.set_tbl_rows(10)"
   ]
  },
  {
   "cell_type": "markdown",
   "metadata": {},
   "source": [
    "# explore 1 : combining each top 5 kota/kabupaten each month"
   ]
  },
  {
   "cell_type": "code",
   "execution_count": 16,
   "metadata": {},
   "outputs": [
    {
     "name": "stdout",
     "output_type": "stream",
     "text": [
      "3823690005\n"
     ]
    },
    {
     "data": {
      "text/html": [
       "<div><style>\n",
       ".dataframe > thead > tr,\n",
       ".dataframe > tbody > tr {\n",
       "  text-align: right;\n",
       "  white-space: pre-wrap;\n",
       "}\n",
       "</style>\n",
       "<small>shape: (20, 4)</small><table border=\"1\" class=\"dataframe\"><thead><tr><th>Month</th><th>Provinsi</th><th>Kota/Kabupaten</th><th>Total_Prov</th></tr><tr><td>str</td><td>str</td><td>str</td><td>i64</td></tr></thead><tbody><tr><td>&quot;2024-07&quot;</td><td>&quot;DKI&nbsp;JAKARTA&quot;</td><td>&quot;KOTA&nbsp;JAKARTA&nbsp;SELATAN&quot;</td><td>324851734</td></tr><tr><td>&quot;2024-07&quot;</td><td>&quot;DKI&nbsp;JAKARTA&quot;</td><td>&quot;KOTA&nbsp;JAKARTA&nbsp;BARAT&quot;</td><td>226669282</td></tr><tr><td>&quot;2024-07&quot;</td><td>&quot;DKI&nbsp;JAKARTA&quot;</td><td>&quot;KOTA&nbsp;JAKARTA&nbsp;TIMUR&quot;</td><td>207092619</td></tr><tr><td>&quot;2024-07&quot;</td><td>&quot;DKI&nbsp;JAKARTA&quot;</td><td>&quot;KOTA&nbsp;JAKARTA&nbsp;PUSAT&quot;</td><td>179043501</td></tr><tr><td>&quot;2024-07&quot;</td><td>&quot;DKI&nbsp;JAKARTA&quot;</td><td>&quot;KOTA&nbsp;JAKARTA&nbsp;UTARA&quot;</td><td>161470514</td></tr><tr><td>&hellip;</td><td>&hellip;</td><td>&hellip;</td><td>&hellip;</td></tr><tr><td>&quot;2024-10&quot;</td><td>&quot;DKI&nbsp;JAKARTA&quot;</td><td>&quot;KOTA&nbsp;JAKARTA&nbsp;UTARA&quot;</td><td>9356898</td></tr><tr><td>&quot;2024-10&quot;</td><td>&quot;DKI&nbsp;JAKARTA&quot;</td><td>&quot;KOTA&nbsp;JAKARTA&nbsp;SELATAN&quot;</td><td>7394027</td></tr><tr><td>&quot;2024-10&quot;</td><td>&quot;JAWA&nbsp;BARAT&quot;</td><td>&quot;KAB.&nbsp;BEKASI&quot;</td><td>7176334</td></tr><tr><td>&quot;2024-10&quot;</td><td>&quot;DKI&nbsp;JAKARTA&quot;</td><td>&quot;KOTA&nbsp;JAKARTA&nbsp;TIMUR&quot;</td><td>5532896</td></tr><tr><td>&quot;2024-10&quot;</td><td>&quot;JAWA&nbsp;BARAT&quot;</td><td>&quot;KOTA&nbsp;BEKASI&quot;</td><td>5327830</td></tr></tbody></table></div>"
      ],
      "text/plain": [
       "shape: (20, 4)\n",
       "┌─────────┬─────────────┬──────────────────────┬────────────┐\n",
       "│ Month   ┆ Provinsi    ┆ Kota/Kabupaten       ┆ Total_Prov │\n",
       "│ ---     ┆ ---         ┆ ---                  ┆ ---        │\n",
       "│ str     ┆ str         ┆ str                  ┆ i64        │\n",
       "╞═════════╪═════════════╪══════════════════════╪════════════╡\n",
       "│ 2024-07 ┆ DKI JAKARTA ┆ KOTA JAKARTA SELATAN ┆ 324851734  │\n",
       "│ 2024-07 ┆ DKI JAKARTA ┆ KOTA JAKARTA BARAT   ┆ 226669282  │\n",
       "│ 2024-07 ┆ DKI JAKARTA ┆ KOTA JAKARTA TIMUR   ┆ 207092619  │\n",
       "│ 2024-07 ┆ DKI JAKARTA ┆ KOTA JAKARTA PUSAT   ┆ 179043501  │\n",
       "│ 2024-07 ┆ DKI JAKARTA ┆ KOTA JAKARTA UTARA   ┆ 161470514  │\n",
       "│ …       ┆ …           ┆ …                    ┆ …          │\n",
       "│ 2024-10 ┆ DKI JAKARTA ┆ KOTA JAKARTA UTARA   ┆ 9356898    │\n",
       "│ 2024-10 ┆ DKI JAKARTA ┆ KOTA JAKARTA SELATAN ┆ 7394027    │\n",
       "│ 2024-10 ┆ JAWA BARAT  ┆ KAB. BEKASI          ┆ 7176334    │\n",
       "│ 2024-10 ┆ DKI JAKARTA ┆ KOTA JAKARTA TIMUR   ┆ 5532896    │\n",
       "│ 2024-10 ┆ JAWA BARAT  ┆ KOTA BEKASI          ┆ 5327830    │\n",
       "└─────────┴─────────────┴──────────────────────┴────────────┘"
      ]
     },
     "execution_count": 16,
     "metadata": {},
     "output_type": "execute_result"
    }
   ],
   "source": [
    "det1 = det_rev.group_by(['Month','Provinsi','Kota/Kabupaten']).agg(pl.col('Total Pembayaran').sum().alias('Total_Prov')).sort(by=['Month','Total_Prov'],descending=True).group_by('Month').head(5).\\\n",
    "sort(by='Month')\n",
    "# .with_columns(pl.col('Total_Prov').rank(method='ordinal').over(['Month']).alias('Rank').cast(pl.Int64))    <<<<< option\n",
    "print(det1['Total_Prov'].sum())\n",
    "det1"
   ]
  },
  {
   "cell_type": "markdown",
   "metadata": {},
   "source": [
    "# explore 2 : data that having info of total rev each sku in kota/kabupaten"
   ]
  },
  {
   "cell_type": "code",
   "execution_count": 17,
   "metadata": {},
   "outputs": [
    {
     "name": "stdout",
     "output_type": "stream",
     "text": [
      "20872939304\n",
      "17741998408.399998\n"
     ]
    },
    {
     "data": {
      "text/html": [
       "<div><style>\n",
       ".dataframe > thead > tr,\n",
       ".dataframe > tbody > tr {\n",
       "  text-align: right;\n",
       "  white-space: pre-wrap;\n",
       "}\n",
       "</style>\n",
       "<small>shape: (3_770, 4)</small><table border=\"1\" class=\"dataframe\"><thead><tr><th>Kota/Kabupaten</th><th>Nomor Referensi SKU</th><th>Total_SKU</th><th>Cumu_pct</th></tr><tr><td>str</td><td>str</td><td>i64</td><td>f64</td></tr></thead><tbody><tr><td>&quot;KOTA&nbsp;JAKARTA&nbsp;SELATAN&quot;</td><td>&quot;50698&quot;</td><td>55355482</td><td>0.265202</td></tr><tr><td>&quot;KAB.&nbsp;BEKASI&quot;</td><td>&quot;50698&quot;</td><td>54688186</td><td>0.527207</td></tr><tr><td>&quot;KAB.&nbsp;BOGOR&quot;</td><td>&quot;50698&quot;</td><td>53720553</td><td>0.784577</td></tr><tr><td>&quot;KOTA&nbsp;JAKARTA&nbsp;SELATAN&quot;</td><td>&quot;50799&quot;</td><td>48240828</td><td>1.015693</td></tr><tr><td>&quot;KOTA&nbsp;JAKARTA&nbsp;BARAT&quot;</td><td>&quot;50698&quot;</td><td>46731700</td><td>1.23958</td></tr><tr><td>&hellip;</td><td>&hellip;</td><td>&hellip;</td><td>&hellip;</td></tr><tr><td>&quot;KAB.&nbsp;KATINGAN&quot;</td><td>&quot;50799&quot;</td><td>1091153</td><td>59.975394</td></tr><tr><td>&quot;KOTA&nbsp;TANGERANG&nbsp;SELATAN&quot;</td><td>&quot;40914&quot;</td><td>1090810</td><td>59.98062</td></tr><tr><td>&quot;KOTA&nbsp;DEPOK&quot;</td><td>&quot;80649&quot;</td><td>1090690</td><td>59.985846</td></tr><tr><td>&quot;KAB.&nbsp;SITUBONDO&quot;</td><td>&quot;50799&quot;</td><td>1090538</td><td>59.99107</td></tr><tr><td>&quot;KOTA&nbsp;BEKASI&quot;</td><td>&quot;90610-15275&quot;</td><td>1090532</td><td>59.996295</td></tr></tbody></table></div>"
      ],
      "text/plain": [
       "shape: (3_770, 4)\n",
       "┌────────────────────────┬─────────────────────┬───────────┬───────────┐\n",
       "│ Kota/Kabupaten         ┆ Nomor Referensi SKU ┆ Total_SKU ┆ Cumu_pct  │\n",
       "│ ---                    ┆ ---                 ┆ ---       ┆ ---       │\n",
       "│ str                    ┆ str                 ┆ i64       ┆ f64       │\n",
       "╞════════════════════════╪═════════════════════╪═══════════╪═══════════╡\n",
       "│ KOTA JAKARTA SELATAN   ┆ 50698               ┆ 55355482  ┆ 0.265202  │\n",
       "│ KAB. BEKASI            ┆ 50698               ┆ 54688186  ┆ 0.527207  │\n",
       "│ KAB. BOGOR             ┆ 50698               ┆ 53720553  ┆ 0.784577  │\n",
       "│ KOTA JAKARTA SELATAN   ┆ 50799               ┆ 48240828  ┆ 1.015693  │\n",
       "│ KOTA JAKARTA BARAT     ┆ 50698               ┆ 46731700  ┆ 1.23958   │\n",
       "│ …                      ┆ …                   ┆ …         ┆ …         │\n",
       "│ KAB. KATINGAN          ┆ 50799               ┆ 1091153   ┆ 59.975394 │\n",
       "│ KOTA TANGERANG SELATAN ┆ 40914               ┆ 1090810   ┆ 59.98062  │\n",
       "│ KOTA DEPOK             ┆ 80649               ┆ 1090690   ┆ 59.985846 │\n",
       "│ KAB. SITUBONDO         ┆ 50799               ┆ 1090538   ┆ 59.99107  │\n",
       "│ KOTA BEKASI            ┆ 90610-15275         ┆ 1090532   ┆ 59.996295 │\n",
       "└────────────────────────┴─────────────────────┴───────────┴───────────┘"
      ]
     },
     "execution_count": 17,
     "metadata": {},
     "output_type": "execute_result"
    }
   ],
   "source": [
    "det2 = det_rev.group_by(['Kota/Kabupaten','Nomor Referensi SKU']).agg(pl.col('Total Pembayaran').sum().alias('Total_SKU')).sort(by='Total_SKU',descending=True).filter(pl.col('Total_SKU')>0)\n",
    "totl = det2['Total_SKU'].sum()\n",
    "print(totl)\n",
    "print(totl*0.85)\n",
    "det2 = det2.with_columns(\n",
    "    (pl.col('Total_SKU').cum_sum()/totl * 100).alias('Cumu_pct')\n",
    ").filter(pl.col('Cumu_pct') <= 60)\n",
    "det2"
   ]
  },
  {
   "cell_type": "markdown",
   "metadata": {},
   "source": [
    "# result of Explore 1 with Explore 2 above"
   ]
  },
  {
   "cell_type": "code",
   "execution_count": 18,
   "metadata": {},
   "outputs": [
    {
     "data": {
      "text/plain": [
       "polars.config.Config"
      ]
     },
     "execution_count": 18,
     "metadata": {},
     "output_type": "execute_result"
    }
   ],
   "source": [
    "pl.Config.set_tbl_rows(30)"
   ]
  },
  {
   "cell_type": "code",
   "execution_count": 19,
   "metadata": {},
   "outputs": [
    {
     "data": {
      "text/html": [
       "<div><style>\n",
       ".dataframe > thead > tr,\n",
       ".dataframe > tbody > tr {\n",
       "  text-align: right;\n",
       "  white-space: pre-wrap;\n",
       "}\n",
       "</style>\n",
       "<small>shape: (3_036, 7)</small><table border=\"1\" class=\"dataframe\"><thead><tr><th>Month</th><th>Provinsi</th><th>Kota/Kabupaten</th><th>Total_Prov</th><th>Nomor Referensi SKU</th><th>Total_SKU</th><th>Cumu_pct</th></tr><tr><td>str</td><td>str</td><td>str</td><td>i64</td><td>str</td><td>i64</td><td>f64</td></tr></thead><tbody><tr><td>&quot;2024-07&quot;</td><td>&quot;DKI&nbsp;JAKARTA&quot;</td><td>&quot;KOTA&nbsp;JAKARTA&nbsp;SELATAN&quot;</td><td>324851734</td><td>&quot;50698&quot;</td><td>55355482</td><td>0.265202</td></tr><tr><td>&quot;2024-07&quot;</td><td>&quot;DKI&nbsp;JAKARTA&quot;</td><td>&quot;KOTA&nbsp;JAKARTA&nbsp;SELATAN&quot;</td><td>324851734</td><td>&quot;50799&quot;</td><td>48240828</td><td>1.015693</td></tr><tr><td>&quot;2024-07&quot;</td><td>&quot;DKI&nbsp;JAKARTA&quot;</td><td>&quot;KOTA&nbsp;JAKARTA&nbsp;SELATAN&quot;</td><td>324851734</td><td>&quot;60450&quot;</td><td>36286128</td><td>3.521772</td></tr><tr><td>&quot;2024-07&quot;</td><td>&quot;DKI&nbsp;JAKARTA&quot;</td><td>&quot;KOTA&nbsp;JAKARTA&nbsp;SELATAN&quot;</td><td>324851734</td><td>&quot;15086&quot;</td><td>32021021</td><td>3.829992</td></tr><tr><td>&quot;2024-07&quot;</td><td>&quot;DKI&nbsp;JAKARTA&quot;</td><td>&quot;KOTA&nbsp;JAKARTA&nbsp;SELATAN&quot;</td><td>324851734</td><td>&quot;15326&quot;</td><td>22987743</td><td>7.073963</td></tr><tr><td>&quot;2024-07&quot;</td><td>&quot;DKI&nbsp;JAKARTA&quot;</td><td>&quot;KOTA&nbsp;JAKARTA&nbsp;SELATAN&quot;</td><td>324851734</td><td>&quot;25208&quot;</td><td>20115126</td><td>8.088713</td></tr><tr><td>&quot;2024-07&quot;</td><td>&quot;DKI&nbsp;JAKARTA&quot;</td><td>&quot;KOTA&nbsp;JAKARTA&nbsp;SELATAN&quot;</td><td>324851734</td><td>&quot;10335&quot;</td><td>18892731</td><td>8.548696</td></tr><tr><td>&quot;2024-07&quot;</td><td>&quot;DKI&nbsp;JAKARTA&quot;</td><td>&quot;KOTA&nbsp;JAKARTA&nbsp;SELATAN&quot;</td><td>324851734</td><td>&quot;10493&quot;</td><td>18040813</td><td>9.25183</td></tr><tr><td>&quot;2024-07&quot;</td><td>&quot;DKI&nbsp;JAKARTA&quot;</td><td>&quot;KOTA&nbsp;JAKARTA&nbsp;SELATAN&quot;</td><td>324851734</td><td>&quot;20728&quot;</td><td>16750094</td><td>9.743116</td></tr><tr><td>&quot;2024-07&quot;</td><td>&quot;DKI&nbsp;JAKARTA&quot;</td><td>&quot;KOTA&nbsp;JAKARTA&nbsp;SELATAN&quot;</td><td>324851734</td><td>&quot;25742&quot;</td><td>15623342</td><td>10.446016</td></tr><tr><td>&quot;2024-07&quot;</td><td>&quot;DKI&nbsp;JAKARTA&quot;</td><td>&quot;KOTA&nbsp;JAKARTA&nbsp;SELATAN&quot;</td><td>324851734</td><td>&quot;15601&quot;</td><td>14777000</td><td>10.810283</td></tr><tr><td>&quot;2024-07&quot;</td><td>&quot;DKI&nbsp;JAKARTA&quot;</td><td>&quot;KOTA&nbsp;JAKARTA&nbsp;SELATAN&quot;</td><td>324851734</td><td>&quot;25185&quot;</td><td>14408719</td><td>11.230066</td></tr><tr><td>&quot;2024-07&quot;</td><td>&quot;DKI&nbsp;JAKARTA&quot;</td><td>&quot;KOTA&nbsp;JAKARTA&nbsp;SELATAN&quot;</td><td>324851734</td><td>&quot;15324&quot;</td><td>14253746</td><td>11.367151</td></tr><tr><td>&quot;2024-07&quot;</td><td>&quot;DKI&nbsp;JAKARTA&quot;</td><td>&quot;KOTA&nbsp;JAKARTA&nbsp;SELATAN&quot;</td><td>324851734</td><td>&quot;90575&quot;</td><td>13666403</td><td>12.033176</td></tr><tr><td>&quot;2024-07&quot;</td><td>&quot;DKI&nbsp;JAKARTA&quot;</td><td>&quot;KOTA&nbsp;JAKARTA&nbsp;SELATAN&quot;</td><td>324851734</td><td>&quot;10387&quot;</td><td>12418000</td><td>12.712135</td></tr><tr><td>&hellip;</td><td>&hellip;</td><td>&hellip;</td><td>&hellip;</td><td>&hellip;</td><td>&hellip;</td><td>&hellip;</td></tr><tr><td>&quot;2024-10&quot;</td><td>&quot;JAWA&nbsp;BARAT&quot;</td><td>&quot;KOTA&nbsp;BEKASI&quot;</td><td>5327830</td><td>&quot;60114&quot;</td><td>1236213</td><td>57.224938</td></tr><tr><td>&quot;2024-10&quot;</td><td>&quot;JAWA&nbsp;BARAT&quot;</td><td>&quot;KOTA&nbsp;BEKASI&quot;</td><td>5327830</td><td>&quot;90664-50150.&quot;</td><td>1234427</td><td>57.242694</td></tr><tr><td>&quot;2024-10&quot;</td><td>&quot;JAWA&nbsp;BARAT&quot;</td><td>&quot;KOTA&nbsp;BEKASI&quot;</td><td>5327830</td><td>&quot;60164&quot;</td><td>1227270</td><td>57.384125</td></tr><tr><td>&quot;2024-10&quot;</td><td>&quot;JAWA&nbsp;BARAT&quot;</td><td>&quot;KOTA&nbsp;BEKASI&quot;</td><td>5327830</td><td>&quot;90664-60761&quot;</td><td>1189921</td><td>58.061299</td></tr><tr><td>&quot;2024-10&quot;</td><td>&quot;JAWA&nbsp;BARAT&quot;</td><td>&quot;KOTA&nbsp;BEKASI&quot;</td><td>5327830</td><td>&quot;90448&quot;</td><td>1179327</td><td>58.237233</td></tr><tr><td>&quot;2024-10&quot;</td><td>&quot;JAWA&nbsp;BARAT&quot;</td><td>&quot;KOTA&nbsp;BEKASI&quot;</td><td>5327830</td><td>&quot;90435&quot;</td><td>1123736</td><td>59.253693</td></tr><tr><td>&quot;2024-10&quot;</td><td>&quot;JAWA&nbsp;BARAT&quot;</td><td>&quot;KOTA&nbsp;BEKASI&quot;</td><td>5327830</td><td>&quot;70273-60156&quot;</td><td>1117525</td><td>59.382469</td></tr><tr><td>&quot;2024-10&quot;</td><td>&quot;JAWA&nbsp;BARAT&quot;</td><td>&quot;KOTA&nbsp;BEKASI&quot;</td><td>5327830</td><td>&quot;80459&quot;</td><td>1117417</td><td>59.387822</td></tr><tr><td>&quot;2024-10&quot;</td><td>&quot;JAWA&nbsp;BARAT&quot;</td><td>&quot;KOTA&nbsp;BEKASI&quot;</td><td>5327830</td><td>&quot;40707&quot;</td><td>1117417</td><td>59.393176</td></tr><tr><td>&quot;2024-10&quot;</td><td>&quot;JAWA&nbsp;BARAT&quot;</td><td>&quot;KOTA&nbsp;BEKASI&quot;</td><td>5327830</td><td>&quot;10335-15311&quot;</td><td>1114784</td><td>59.473378</td></tr><tr><td>&quot;2024-10&quot;</td><td>&quot;JAWA&nbsp;BARAT&quot;</td><td>&quot;KOTA&nbsp;BEKASI&quot;</td><td>5327830</td><td>&quot;25837&quot;</td><td>1113575</td><td>59.500068</td></tr><tr><td>&quot;2024-10&quot;</td><td>&quot;JAWA&nbsp;BARAT&quot;</td><td>&quot;KOTA&nbsp;BEKASI&quot;</td><td>5327830</td><td>&quot;90666-70427&quot;</td><td>1106013</td><td>59.680825</td></tr><tr><td>&quot;2024-10&quot;</td><td>&quot;JAWA&nbsp;BARAT&quot;</td><td>&quot;KOTA&nbsp;BEKASI&quot;</td><td>5327830</td><td>&quot;80136&quot;</td><td>1104981</td><td>59.70201</td></tr><tr><td>&quot;2024-10&quot;</td><td>&quot;JAWA&nbsp;BARAT&quot;</td><td>&quot;KOTA&nbsp;BEKASI&quot;</td><td>5327830</td><td>&quot;60408&quot;</td><td>1095731</td><td>59.865404</td></tr><tr><td>&quot;2024-10&quot;</td><td>&quot;JAWA&nbsp;BARAT&quot;</td><td>&quot;KOTA&nbsp;BEKASI&quot;</td><td>5327830</td><td>&quot;90610-15275&quot;</td><td>1090532</td><td>59.996295</td></tr></tbody></table></div>"
      ],
      "text/plain": [
       "shape: (3_036, 7)\n",
       "┌─────────┬─────────────┬──────────────────┬────────────┬──────────────────┬───────────┬───────────┐\n",
       "│ Month   ┆ Provinsi    ┆ Kota/Kabupaten   ┆ Total_Prov ┆ Nomor Referensi  ┆ Total_SKU ┆ Cumu_pct  │\n",
       "│ ---     ┆ ---         ┆ ---              ┆ ---        ┆ SKU              ┆ ---       ┆ ---       │\n",
       "│ str     ┆ str         ┆ str              ┆ i64        ┆ ---              ┆ i64       ┆ f64       │\n",
       "│         ┆             ┆                  ┆            ┆ str              ┆           ┆           │\n",
       "╞═════════╪═════════════╪══════════════════╪════════════╪══════════════════╪═══════════╪═══════════╡\n",
       "│ 2024-07 ┆ DKI JAKARTA ┆ KOTA JAKARTA     ┆ 324851734  ┆ 50698            ┆ 55355482  ┆ 0.265202  │\n",
       "│         ┆             ┆ SELATAN          ┆            ┆                  ┆           ┆           │\n",
       "│ 2024-07 ┆ DKI JAKARTA ┆ KOTA JAKARTA     ┆ 324851734  ┆ 50799            ┆ 48240828  ┆ 1.015693  │\n",
       "│         ┆             ┆ SELATAN          ┆            ┆                  ┆           ┆           │\n",
       "│ 2024-07 ┆ DKI JAKARTA ┆ KOTA JAKARTA     ┆ 324851734  ┆ 60450            ┆ 36286128  ┆ 3.521772  │\n",
       "│         ┆             ┆ SELATAN          ┆            ┆                  ┆           ┆           │\n",
       "│ 2024-07 ┆ DKI JAKARTA ┆ KOTA JAKARTA     ┆ 324851734  ┆ 15086            ┆ 32021021  ┆ 3.829992  │\n",
       "│         ┆             ┆ SELATAN          ┆            ┆                  ┆           ┆           │\n",
       "│ 2024-07 ┆ DKI JAKARTA ┆ KOTA JAKARTA     ┆ 324851734  ┆ 15326            ┆ 22987743  ┆ 7.073963  │\n",
       "│         ┆             ┆ SELATAN          ┆            ┆                  ┆           ┆           │\n",
       "│ 2024-07 ┆ DKI JAKARTA ┆ KOTA JAKARTA     ┆ 324851734  ┆ 25208            ┆ 20115126  ┆ 8.088713  │\n",
       "│         ┆             ┆ SELATAN          ┆            ┆                  ┆           ┆           │\n",
       "│ 2024-07 ┆ DKI JAKARTA ┆ KOTA JAKARTA     ┆ 324851734  ┆ 10335            ┆ 18892731  ┆ 8.548696  │\n",
       "│         ┆             ┆ SELATAN          ┆            ┆                  ┆           ┆           │\n",
       "│ 2024-07 ┆ DKI JAKARTA ┆ KOTA JAKARTA     ┆ 324851734  ┆ 10493            ┆ 18040813  ┆ 9.25183   │\n",
       "│         ┆             ┆ SELATAN          ┆            ┆                  ┆           ┆           │\n",
       "│ 2024-07 ┆ DKI JAKARTA ┆ KOTA JAKARTA     ┆ 324851734  ┆ 20728            ┆ 16750094  ┆ 9.743116  │\n",
       "│         ┆             ┆ SELATAN          ┆            ┆                  ┆           ┆           │\n",
       "│ 2024-07 ┆ DKI JAKARTA ┆ KOTA JAKARTA     ┆ 324851734  ┆ 25742            ┆ 15623342  ┆ 10.446016 │\n",
       "│         ┆             ┆ SELATAN          ┆            ┆                  ┆           ┆           │\n",
       "│ 2024-07 ┆ DKI JAKARTA ┆ KOTA JAKARTA     ┆ 324851734  ┆ 15601            ┆ 14777000  ┆ 10.810283 │\n",
       "│         ┆             ┆ SELATAN          ┆            ┆                  ┆           ┆           │\n",
       "│ 2024-07 ┆ DKI JAKARTA ┆ KOTA JAKARTA     ┆ 324851734  ┆ 25185            ┆ 14408719  ┆ 11.230066 │\n",
       "│         ┆             ┆ SELATAN          ┆            ┆                  ┆           ┆           │\n",
       "│ 2024-07 ┆ DKI JAKARTA ┆ KOTA JAKARTA     ┆ 324851734  ┆ 15324            ┆ 14253746  ┆ 11.367151 │\n",
       "│         ┆             ┆ SELATAN          ┆            ┆                  ┆           ┆           │\n",
       "│ 2024-07 ┆ DKI JAKARTA ┆ KOTA JAKARTA     ┆ 324851734  ┆ 90575            ┆ 13666403  ┆ 12.033176 │\n",
       "│         ┆             ┆ SELATAN          ┆            ┆                  ┆           ┆           │\n",
       "│ 2024-07 ┆ DKI JAKARTA ┆ KOTA JAKARTA     ┆ 324851734  ┆ 10387            ┆ 12418000  ┆ 12.712135 │\n",
       "│         ┆             ┆ SELATAN          ┆            ┆                  ┆           ┆           │\n",
       "│ …       ┆ …           ┆ …                ┆ …          ┆ …                ┆ …         ┆ …         │\n",
       "│ 2024-10 ┆ JAWA BARAT  ┆ KOTA BEKASI      ┆ 5327830    ┆ 60114            ┆ 1236213   ┆ 57.224938 │\n",
       "│ 2024-10 ┆ JAWA BARAT  ┆ KOTA BEKASI      ┆ 5327830    ┆ 90664-50150.     ┆ 1234427   ┆ 57.242694 │\n",
       "│ 2024-10 ┆ JAWA BARAT  ┆ KOTA BEKASI      ┆ 5327830    ┆ 60164            ┆ 1227270   ┆ 57.384125 │\n",
       "│ 2024-10 ┆ JAWA BARAT  ┆ KOTA BEKASI      ┆ 5327830    ┆ 90664-60761      ┆ 1189921   ┆ 58.061299 │\n",
       "│ 2024-10 ┆ JAWA BARAT  ┆ KOTA BEKASI      ┆ 5327830    ┆ 90448            ┆ 1179327   ┆ 58.237233 │\n",
       "│ 2024-10 ┆ JAWA BARAT  ┆ KOTA BEKASI      ┆ 5327830    ┆ 90435            ┆ 1123736   ┆ 59.253693 │\n",
       "│ 2024-10 ┆ JAWA BARAT  ┆ KOTA BEKASI      ┆ 5327830    ┆ 70273-60156      ┆ 1117525   ┆ 59.382469 │\n",
       "│ 2024-10 ┆ JAWA BARAT  ┆ KOTA BEKASI      ┆ 5327830    ┆ 80459            ┆ 1117417   ┆ 59.387822 │\n",
       "│ 2024-10 ┆ JAWA BARAT  ┆ KOTA BEKASI      ┆ 5327830    ┆ 40707            ┆ 1117417   ┆ 59.393176 │\n",
       "│ 2024-10 ┆ JAWA BARAT  ┆ KOTA BEKASI      ┆ 5327830    ┆ 10335-15311      ┆ 1114784   ┆ 59.473378 │\n",
       "│ 2024-10 ┆ JAWA BARAT  ┆ KOTA BEKASI      ┆ 5327830    ┆ 25837            ┆ 1113575   ┆ 59.500068 │\n",
       "│ 2024-10 ┆ JAWA BARAT  ┆ KOTA BEKASI      ┆ 5327830    ┆ 90666-70427      ┆ 1106013   ┆ 59.680825 │\n",
       "│ 2024-10 ┆ JAWA BARAT  ┆ KOTA BEKASI      ┆ 5327830    ┆ 80136            ┆ 1104981   ┆ 59.70201  │\n",
       "│ 2024-10 ┆ JAWA BARAT  ┆ KOTA BEKASI      ┆ 5327830    ┆ 60408            ┆ 1095731   ┆ 59.865404 │\n",
       "│ 2024-10 ┆ JAWA BARAT  ┆ KOTA BEKASI      ┆ 5327830    ┆ 90610-15275      ┆ 1090532   ┆ 59.996295 │\n",
       "└─────────┴─────────────┴──────────────────┴────────────┴──────────────────┴───────────┴───────────┘"
      ]
     },
     "execution_count": 19,
     "metadata": {},
     "output_type": "execute_result"
    }
   ],
   "source": [
    "result = det1.join(det2,how='left',on='Kota/Kabupaten').sort('Month')\n",
    "result"
   ]
  },
  {
   "cell_type": "code",
   "execution_count": 20,
   "metadata": {},
   "outputs": [
    {
     "data": {
      "text/html": [
       "<div><style>\n",
       ".dataframe > thead > tr,\n",
       ".dataframe > tbody > tr {\n",
       "  text-align: right;\n",
       "  white-space: pre-wrap;\n",
       "}\n",
       "</style>\n",
       "<small>shape: (20, 7)</small><table border=\"1\" class=\"dataframe\"><thead><tr><th>Month</th><th>Provinsi</th><th>Kota/Kabupaten</th><th>Total_Prov</th><th>Nomor Referensi SKU</th><th>Total_SKU</th><th>Cumu_pct</th></tr><tr><td>str</td><td>str</td><td>str</td><td>i64</td><td>str</td><td>i64</td><td>f64</td></tr></thead><tbody><tr><td>&quot;2024-07&quot;</td><td>&quot;DKI&nbsp;JAKARTA&quot;</td><td>&quot;KOTA&nbsp;JAKARTA&nbsp;SELATAN&quot;</td><td>324851734</td><td>&quot;50698&quot;</td><td>55355482</td><td>0.265202</td></tr><tr><td>&quot;2024-07&quot;</td><td>&quot;DKI&nbsp;JAKARTA&quot;</td><td>&quot;KOTA&nbsp;JAKARTA&nbsp;SELATAN&quot;</td><td>324851734</td><td>&quot;50799&quot;</td><td>48240828</td><td>1.015693</td></tr><tr><td>&quot;2024-07&quot;</td><td>&quot;DKI&nbsp;JAKARTA&quot;</td><td>&quot;KOTA&nbsp;JAKARTA&nbsp;BARAT&quot;</td><td>226669282</td><td>&quot;50698&quot;</td><td>46731700</td><td>1.23958</td></tr><tr><td>&quot;2024-07&quot;</td><td>&quot;DKI&nbsp;JAKARTA&quot;</td><td>&quot;KOTA&nbsp;JAKARTA&nbsp;TIMUR&quot;</td><td>207092619</td><td>&quot;50698&quot;</td><td>45029609</td><td>1.455312</td></tr><tr><td>&quot;2024-07&quot;</td><td>&quot;DKI&nbsp;JAKARTA&quot;</td><td>&quot;KOTA&nbsp;JAKARTA&nbsp;BARAT&quot;</td><td>226669282</td><td>&quot;50799&quot;</td><td>39188253</td><td>2.444056</td></tr><tr><td>&quot;2024-08&quot;</td><td>&quot;DKI&nbsp;JAKARTA&quot;</td><td>&quot;KOTA&nbsp;JAKARTA&nbsp;SELATAN&quot;</td><td>364290502</td><td>&quot;50698&quot;</td><td>55355482</td><td>0.265202</td></tr><tr><td>&quot;2024-08&quot;</td><td>&quot;DKI&nbsp;JAKARTA&quot;</td><td>&quot;KOTA&nbsp;JAKARTA&nbsp;SELATAN&quot;</td><td>364290502</td><td>&quot;50799&quot;</td><td>48240828</td><td>1.015693</td></tr><tr><td>&quot;2024-08&quot;</td><td>&quot;DKI&nbsp;JAKARTA&quot;</td><td>&quot;KOTA&nbsp;JAKARTA&nbsp;BARAT&quot;</td><td>261750790</td><td>&quot;50698&quot;</td><td>46731700</td><td>1.23958</td></tr><tr><td>&quot;2024-08&quot;</td><td>&quot;DKI&nbsp;JAKARTA&quot;</td><td>&quot;KOTA&nbsp;JAKARTA&nbsp;TIMUR&quot;</td><td>263502672</td><td>&quot;50698&quot;</td><td>45029609</td><td>1.455312</td></tr><tr><td>&quot;2024-08&quot;</td><td>&quot;DKI&nbsp;JAKARTA&quot;</td><td>&quot;KOTA&nbsp;JAKARTA&nbsp;BARAT&quot;</td><td>261750790</td><td>&quot;50799&quot;</td><td>39188253</td><td>2.444056</td></tr><tr><td>&quot;2024-09&quot;</td><td>&quot;DKI&nbsp;JAKARTA&quot;</td><td>&quot;KOTA&nbsp;JAKARTA&nbsp;SELATAN&quot;</td><td>425253686</td><td>&quot;50698&quot;</td><td>55355482</td><td>0.265202</td></tr><tr><td>&quot;2024-09&quot;</td><td>&quot;DKI&nbsp;JAKARTA&quot;</td><td>&quot;KOTA&nbsp;JAKARTA&nbsp;SELATAN&quot;</td><td>425253686</td><td>&quot;50799&quot;</td><td>48240828</td><td>1.015693</td></tr><tr><td>&quot;2024-09&quot;</td><td>&quot;DKI&nbsp;JAKARTA&quot;</td><td>&quot;KOTA&nbsp;JAKARTA&nbsp;BARAT&quot;</td><td>265680395</td><td>&quot;50698&quot;</td><td>46731700</td><td>1.23958</td></tr><tr><td>&quot;2024-09&quot;</td><td>&quot;DKI&nbsp;JAKARTA&quot;</td><td>&quot;KOTA&nbsp;JAKARTA&nbsp;TIMUR&quot;</td><td>266876191</td><td>&quot;50698&quot;</td><td>45029609</td><td>1.455312</td></tr><tr><td>&quot;2024-09&quot;</td><td>&quot;DKI&nbsp;JAKARTA&quot;</td><td>&quot;KOTA&nbsp;JAKARTA&nbsp;BARAT&quot;</td><td>265680395</td><td>&quot;50799&quot;</td><td>39188253</td><td>2.444056</td></tr><tr><td>&quot;2024-10&quot;</td><td>&quot;DKI&nbsp;JAKARTA&quot;</td><td>&quot;KOTA&nbsp;JAKARTA&nbsp;SELATAN&quot;</td><td>7394027</td><td>&quot;50698&quot;</td><td>55355482</td><td>0.265202</td></tr><tr><td>&quot;2024-10&quot;</td><td>&quot;JAWA&nbsp;BARAT&quot;</td><td>&quot;KAB.&nbsp;BEKASI&quot;</td><td>7176334</td><td>&quot;50698&quot;</td><td>54688186</td><td>0.527207</td></tr><tr><td>&quot;2024-10&quot;</td><td>&quot;DKI&nbsp;JAKARTA&quot;</td><td>&quot;KOTA&nbsp;JAKARTA&nbsp;SELATAN&quot;</td><td>7394027</td><td>&quot;50799&quot;</td><td>48240828</td><td>1.015693</td></tr><tr><td>&quot;2024-10&quot;</td><td>&quot;DKI&nbsp;JAKARTA&quot;</td><td>&quot;KOTA&nbsp;JAKARTA&nbsp;TIMUR&quot;</td><td>5532896</td><td>&quot;50698&quot;</td><td>45029609</td><td>1.455312</td></tr><tr><td>&quot;2024-10&quot;</td><td>&quot;JAWA&nbsp;BARAT&quot;</td><td>&quot;KAB.&nbsp;BEKASI&quot;</td><td>7176334</td><td>&quot;50799&quot;</td><td>40186835</td><td>2.256309</td></tr></tbody></table></div>"
      ],
      "text/plain": [
       "shape: (20, 7)\n",
       "┌─────────┬─────────────┬───────────────────┬────────────┬──────────────────┬───────────┬──────────┐\n",
       "│ Month   ┆ Provinsi    ┆ Kota/Kabupaten    ┆ Total_Prov ┆ Nomor Referensi  ┆ Total_SKU ┆ Cumu_pct │\n",
       "│ ---     ┆ ---         ┆ ---               ┆ ---        ┆ SKU              ┆ ---       ┆ ---      │\n",
       "│ str     ┆ str         ┆ str               ┆ i64        ┆ ---              ┆ i64       ┆ f64      │\n",
       "│         ┆             ┆                   ┆            ┆ str              ┆           ┆          │\n",
       "╞═════════╪═════════════╪═══════════════════╪════════════╪══════════════════╪═══════════╪══════════╡\n",
       "│ 2024-07 ┆ DKI JAKARTA ┆ KOTA JAKARTA      ┆ 324851734  ┆ 50698            ┆ 55355482  ┆ 0.265202 │\n",
       "│         ┆             ┆ SELATAN           ┆            ┆                  ┆           ┆          │\n",
       "│ 2024-07 ┆ DKI JAKARTA ┆ KOTA JAKARTA      ┆ 324851734  ┆ 50799            ┆ 48240828  ┆ 1.015693 │\n",
       "│         ┆             ┆ SELATAN           ┆            ┆                  ┆           ┆          │\n",
       "│ 2024-07 ┆ DKI JAKARTA ┆ KOTA JAKARTA      ┆ 226669282  ┆ 50698            ┆ 46731700  ┆ 1.23958  │\n",
       "│         ┆             ┆ BARAT             ┆            ┆                  ┆           ┆          │\n",
       "│ 2024-07 ┆ DKI JAKARTA ┆ KOTA JAKARTA      ┆ 207092619  ┆ 50698            ┆ 45029609  ┆ 1.455312 │\n",
       "│         ┆             ┆ TIMUR             ┆            ┆                  ┆           ┆          │\n",
       "│ 2024-07 ┆ DKI JAKARTA ┆ KOTA JAKARTA      ┆ 226669282  ┆ 50799            ┆ 39188253  ┆ 2.444056 │\n",
       "│         ┆             ┆ BARAT             ┆            ┆                  ┆           ┆          │\n",
       "│ 2024-08 ┆ DKI JAKARTA ┆ KOTA JAKARTA      ┆ 364290502  ┆ 50698            ┆ 55355482  ┆ 0.265202 │\n",
       "│         ┆             ┆ SELATAN           ┆            ┆                  ┆           ┆          │\n",
       "│ 2024-08 ┆ DKI JAKARTA ┆ KOTA JAKARTA      ┆ 364290502  ┆ 50799            ┆ 48240828  ┆ 1.015693 │\n",
       "│         ┆             ┆ SELATAN           ┆            ┆                  ┆           ┆          │\n",
       "│ 2024-08 ┆ DKI JAKARTA ┆ KOTA JAKARTA      ┆ 261750790  ┆ 50698            ┆ 46731700  ┆ 1.23958  │\n",
       "│         ┆             ┆ BARAT             ┆            ┆                  ┆           ┆          │\n",
       "│ 2024-08 ┆ DKI JAKARTA ┆ KOTA JAKARTA      ┆ 263502672  ┆ 50698            ┆ 45029609  ┆ 1.455312 │\n",
       "│         ┆             ┆ TIMUR             ┆            ┆                  ┆           ┆          │\n",
       "│ 2024-08 ┆ DKI JAKARTA ┆ KOTA JAKARTA      ┆ 261750790  ┆ 50799            ┆ 39188253  ┆ 2.444056 │\n",
       "│         ┆             ┆ BARAT             ┆            ┆                  ┆           ┆          │\n",
       "│ 2024-09 ┆ DKI JAKARTA ┆ KOTA JAKARTA      ┆ 425253686  ┆ 50698            ┆ 55355482  ┆ 0.265202 │\n",
       "│         ┆             ┆ SELATAN           ┆            ┆                  ┆           ┆          │\n",
       "│ 2024-09 ┆ DKI JAKARTA ┆ KOTA JAKARTA      ┆ 425253686  ┆ 50799            ┆ 48240828  ┆ 1.015693 │\n",
       "│         ┆             ┆ SELATAN           ┆            ┆                  ┆           ┆          │\n",
       "│ 2024-09 ┆ DKI JAKARTA ┆ KOTA JAKARTA      ┆ 265680395  ┆ 50698            ┆ 46731700  ┆ 1.23958  │\n",
       "│         ┆             ┆ BARAT             ┆            ┆                  ┆           ┆          │\n",
       "│ 2024-09 ┆ DKI JAKARTA ┆ KOTA JAKARTA      ┆ 266876191  ┆ 50698            ┆ 45029609  ┆ 1.455312 │\n",
       "│         ┆             ┆ TIMUR             ┆            ┆                  ┆           ┆          │\n",
       "│ 2024-09 ┆ DKI JAKARTA ┆ KOTA JAKARTA      ┆ 265680395  ┆ 50799            ┆ 39188253  ┆ 2.444056 │\n",
       "│         ┆             ┆ BARAT             ┆            ┆                  ┆           ┆          │\n",
       "│ 2024-10 ┆ DKI JAKARTA ┆ KOTA JAKARTA      ┆ 7394027    ┆ 50698            ┆ 55355482  ┆ 0.265202 │\n",
       "│         ┆             ┆ SELATAN           ┆            ┆                  ┆           ┆          │\n",
       "│ 2024-10 ┆ JAWA BARAT  ┆ KAB. BEKASI       ┆ 7176334    ┆ 50698            ┆ 54688186  ┆ 0.527207 │\n",
       "│ 2024-10 ┆ DKI JAKARTA ┆ KOTA JAKARTA      ┆ 7394027    ┆ 50799            ┆ 48240828  ┆ 1.015693 │\n",
       "│         ┆             ┆ SELATAN           ┆            ┆                  ┆           ┆          │\n",
       "│ 2024-10 ┆ DKI JAKARTA ┆ KOTA JAKARTA      ┆ 5532896    ┆ 50698            ┆ 45029609  ┆ 1.455312 │\n",
       "│         ┆             ┆ TIMUR             ┆            ┆                  ┆           ┆          │\n",
       "│ 2024-10 ┆ JAWA BARAT  ┆ KAB. BEKASI       ┆ 7176334    ┆ 50799            ┆ 40186835  ┆ 2.256309 │\n",
       "└─────────┴─────────────┴───────────────────┴────────────┴──────────────────┴───────────┴──────────┘"
      ]
     },
     "execution_count": 20,
     "metadata": {},
     "output_type": "execute_result"
    }
   ],
   "source": [
    "result.sort(by='Total_SKU',descending=True).group_by('Month').head(5).sort(by='Month')"
   ]
  },
  {
   "cell_type": "markdown",
   "metadata": {},
   "source": [
    "## insight.\n",
    "\n",
    "above result can be explore to show tail and head each month"
   ]
  },
  {
   "cell_type": "code",
   "execution_count": 21,
   "metadata": {},
   "outputs": [
    {
     "data": {
      "text/html": [
       "<div><style>\n",
       ".dataframe > thead > tr,\n",
       ".dataframe > tbody > tr {\n",
       "  text-align: right;\n",
       "  white-space: pre-wrap;\n",
       "}\n",
       "</style>\n",
       "<small>shape: (118_406, 6)</small><table border=\"1\" class=\"dataframe\"><thead><tr><th>Month</th><th>Provinsi</th><th>Kota/Kabupaten</th><th>Total_Prov</th><th>Nomor Referensi SKU</th><th>Total_SKU</th></tr><tr><td>str</td><td>str</td><td>str</td><td>i64</td><td>str</td><td>i64</td></tr></thead><tbody><tr><td>&quot;2024-10&quot;</td><td>&quot;DKI&nbsp;JAKARTA&quot;</td><td>&quot;KOTA&nbsp;JAKARTA&nbsp;UTARA&quot;</td><td>9356898</td><td>&quot;50191&quot;</td><td>44000</td></tr><tr><td>&quot;2024-10&quot;</td><td>&quot;DKI&nbsp;JAKARTA&quot;</td><td>&quot;KOTA&nbsp;JAKARTA&nbsp;UTARA&quot;</td><td>9356898</td><td>&quot;60711&quot;</td><td>209580</td></tr><tr><td>&quot;2024-10&quot;</td><td>&quot;DKI&nbsp;JAKARTA&quot;</td><td>&quot;KOTA&nbsp;JAKARTA&nbsp;UTARA&quot;</td><td>9356898</td><td>&quot;10191-60761&quot;</td><td>520051</td></tr><tr><td>&quot;2024-10&quot;</td><td>&quot;DKI&nbsp;JAKARTA&quot;</td><td>&quot;KOTA&nbsp;JAKARTA&nbsp;UTARA&quot;</td><td>9356898</td><td>&quot;15326-70523&quot;</td><td>2697680</td></tr><tr><td>&quot;2024-10&quot;</td><td>&quot;DKI&nbsp;JAKARTA&quot;</td><td>&quot;KOTA&nbsp;JAKARTA&nbsp;UTARA&quot;</td><td>9356898</td><td>&quot;15326-10493&quot;</td><td>908363</td></tr><tr><td>&quot;2024-10&quot;</td><td>&quot;DKI&nbsp;JAKARTA&quot;</td><td>&quot;KOTA&nbsp;JAKARTA&nbsp;UTARA&quot;</td><td>9356898</td><td>&quot;20159&quot;</td><td>63485</td></tr><tr><td>&quot;2024-10&quot;</td><td>&quot;DKI&nbsp;JAKARTA&quot;</td><td>&quot;KOTA&nbsp;JAKARTA&nbsp;UTARA&quot;</td><td>9356898</td><td>&quot;40264&quot;</td><td>235017</td></tr><tr><td>&quot;2024-10&quot;</td><td>&quot;DKI&nbsp;JAKARTA&quot;</td><td>&quot;KOTA&nbsp;JAKARTA&nbsp;UTARA&quot;</td><td>9356898</td><td>&quot;50340&quot;</td><td>488560</td></tr><tr><td>&quot;2024-10&quot;</td><td>&quot;DKI&nbsp;JAKARTA&quot;</td><td>&quot;KOTA&nbsp;JAKARTA&nbsp;UTARA&quot;</td><td>9356898</td><td>&quot;50149&quot;</td><td>455985</td></tr><tr><td>&quot;2024-10&quot;</td><td>&quot;DKI&nbsp;JAKARTA&quot;</td><td>&quot;KOTA&nbsp;JAKARTA&nbsp;UTARA&quot;</td><td>9356898</td><td>&quot;30818&quot;</td><td>452000</td></tr><tr><td>&quot;2024-10&quot;</td><td>&quot;DKI&nbsp;JAKARTA&quot;</td><td>&quot;KOTA&nbsp;JAKARTA&nbsp;UTARA&quot;</td><td>9356898</td><td>&quot;10220&quot;</td><td>2787526</td></tr><tr><td>&quot;2024-10&quot;</td><td>&quot;DKI&nbsp;JAKARTA&quot;</td><td>&quot;KOTA&nbsp;JAKARTA&nbsp;UTARA&quot;</td><td>9356898</td><td>&quot;60450-15195&quot;</td><td>1820555</td></tr><tr><td>&quot;2024-10&quot;</td><td>&quot;DKI&nbsp;JAKARTA&quot;</td><td>&quot;KOTA&nbsp;JAKARTA&nbsp;UTARA&quot;</td><td>9356898</td><td>&quot;40393&quot;</td><td>552780</td></tr><tr><td>&quot;2024-10&quot;</td><td>&quot;DKI&nbsp;JAKARTA&quot;</td><td>&quot;KOTA&nbsp;JAKARTA&nbsp;UTARA&quot;</td><td>9356898</td><td>&quot;20502&quot;</td><td>34500</td></tr><tr><td>&quot;2024-10&quot;</td><td>&quot;DKI&nbsp;JAKARTA&quot;</td><td>&quot;KOTA&nbsp;JAKARTA&nbsp;UTARA&quot;</td><td>9356898</td><td>&quot;90339&quot;</td><td>602300</td></tr><tr><td>&hellip;</td><td>&hellip;</td><td>&hellip;</td><td>&hellip;</td><td>&hellip;</td><td>&hellip;</td></tr><tr><td>&quot;2024-07&quot;</td><td>&quot;KALIMANTAN&nbsp;BARAT&quot;</td><td>&quot;KAB.&nbsp;SEKADAU&quot;</td><td>95640</td><td>&quot;20728&quot;</td><td>260619</td></tr><tr><td>&quot;2024-07&quot;</td><td>&quot;KALIMANTAN&nbsp;BARAT&quot;</td><td>&quot;KAB.&nbsp;SEKADAU&quot;</td><td>95640</td><td>&quot;60163&quot;</td><td>163384</td></tr><tr><td>&quot;2024-07&quot;</td><td>&quot;KALIMANTAN&nbsp;BARAT&quot;</td><td>&quot;KAB.&nbsp;SEKADAU&quot;</td><td>95640</td><td>&quot;80906&quot;</td><td>91100</td></tr><tr><td>&quot;2024-07&quot;</td><td>&quot;KALIMANTAN&nbsp;BARAT&quot;</td><td>&quot;KAB.&nbsp;SEKADAU&quot;</td><td>95640</td><td>&quot;50698&quot;</td><td>208927</td></tr><tr><td>&quot;2024-07&quot;</td><td>&quot;KALIMANTAN&nbsp;BARAT&quot;</td><td>&quot;KAB.&nbsp;SEKADAU&quot;</td><td>95640</td><td>&quot;90664&quot;</td><td>425118</td></tr><tr><td>&quot;2024-07&quot;</td><td>&quot;KALIMANTAN&nbsp;BARAT&quot;</td><td>&quot;KAB.&nbsp;SEKADAU&quot;</td><td>95640</td><td>&quot;60128&quot;</td><td>67040</td></tr><tr><td>&quot;2024-07&quot;</td><td>&quot;KALIMANTAN&nbsp;BARAT&quot;</td><td>&quot;KAB.&nbsp;SEKADAU&quot;</td><td>95640</td><td>&quot;60450&quot;</td><td>218988</td></tr><tr><td>&quot;2024-07&quot;</td><td>&quot;KALIMANTAN&nbsp;BARAT&quot;</td><td>&quot;KAB.&nbsp;SEKADAU&quot;</td><td>95640</td><td>&quot;15311&quot;</td><td>95640</td></tr><tr><td>&quot;2024-07&quot;</td><td>&quot;KALIMANTAN&nbsp;BARAT&quot;</td><td>&quot;KAB.&nbsp;SEKADAU&quot;</td><td>95640</td><td>&quot;25587-25400&quot;</td><td>197560</td></tr><tr><td>&quot;2024-07&quot;</td><td>&quot;KALIMANTAN&nbsp;BARAT&quot;</td><td>&quot;KAB.&nbsp;SEKADAU&quot;</td><td>95640</td><td>&quot;90493&quot;</td><td>360488</td></tr><tr><td>&quot;2024-07&quot;</td><td>&quot;DKI&nbsp;JAKARTA&quot;</td><td>&quot;KAB.&nbsp;KEPULAUAN&nbsp;SERIBU&quot;</td><td>29649</td><td>&quot;60125&quot;</td><td>29649</td></tr><tr><td>&quot;2024-07&quot;</td><td>&quot;DKI&nbsp;JAKARTA&quot;</td><td>&quot;KAB.&nbsp;KEPULAUAN&nbsp;SERIBU&quot;</td><td>29649</td><td>&quot;15324&quot;</td><td>117127</td></tr><tr><td>&quot;2024-07&quot;</td><td>&quot;SULAWESI&nbsp;TENGAH&quot;</td><td>&quot;KAB.&nbsp;SIGI&quot;</td><td>0</td><td>&quot;25837&quot;</td><td>0</td></tr><tr><td>&quot;2024-07&quot;</td><td>&quot;SULAWESI&nbsp;TENGAH&quot;</td><td>&quot;KAB.&nbsp;SIGI&quot;</td><td>0</td><td>&quot;10220&quot;</td><td>97656</td></tr><tr><td>&quot;2024-07&quot;</td><td>&quot;SULAWESI&nbsp;TENGAH&quot;</td><td>&quot;KAB.&nbsp;SIGI&quot;</td><td>0</td><td>&quot;80520&quot;</td><td>110422</td></tr></tbody></table></div>"
      ],
      "text/plain": [
       "shape: (118_406, 6)\n",
       "┌─────────┬──────────────────┬──────────────────────┬────────────┬─────────────────────┬───────────┐\n",
       "│ Month   ┆ Provinsi         ┆ Kota/Kabupaten       ┆ Total_Prov ┆ Nomor Referensi SKU ┆ Total_SKU │\n",
       "│ ---     ┆ ---              ┆ ---                  ┆ ---        ┆ ---                 ┆ ---       │\n",
       "│ str     ┆ str              ┆ str                  ┆ i64        ┆ str                 ┆ i64       │\n",
       "╞═════════╪══════════════════╪══════════════════════╪════════════╪═════════════════════╪═══════════╡\n",
       "│ 2024-10 ┆ DKI JAKARTA      ┆ KOTA JAKARTA UTARA   ┆ 9356898    ┆ 50191               ┆ 44000     │\n",
       "│ 2024-10 ┆ DKI JAKARTA      ┆ KOTA JAKARTA UTARA   ┆ 9356898    ┆ 60711               ┆ 209580    │\n",
       "│ 2024-10 ┆ DKI JAKARTA      ┆ KOTA JAKARTA UTARA   ┆ 9356898    ┆ 10191-60761         ┆ 520051    │\n",
       "│ 2024-10 ┆ DKI JAKARTA      ┆ KOTA JAKARTA UTARA   ┆ 9356898    ┆ 15326-70523         ┆ 2697680   │\n",
       "│ 2024-10 ┆ DKI JAKARTA      ┆ KOTA JAKARTA UTARA   ┆ 9356898    ┆ 15326-10493         ┆ 908363    │\n",
       "│ 2024-10 ┆ DKI JAKARTA      ┆ KOTA JAKARTA UTARA   ┆ 9356898    ┆ 20159               ┆ 63485     │\n",
       "│ 2024-10 ┆ DKI JAKARTA      ┆ KOTA JAKARTA UTARA   ┆ 9356898    ┆ 40264               ┆ 235017    │\n",
       "│ 2024-10 ┆ DKI JAKARTA      ┆ KOTA JAKARTA UTARA   ┆ 9356898    ┆ 50340               ┆ 488560    │\n",
       "│ 2024-10 ┆ DKI JAKARTA      ┆ KOTA JAKARTA UTARA   ┆ 9356898    ┆ 50149               ┆ 455985    │\n",
       "│ 2024-10 ┆ DKI JAKARTA      ┆ KOTA JAKARTA UTARA   ┆ 9356898    ┆ 30818               ┆ 452000    │\n",
       "│ 2024-10 ┆ DKI JAKARTA      ┆ KOTA JAKARTA UTARA   ┆ 9356898    ┆ 10220               ┆ 2787526   │\n",
       "│ 2024-10 ┆ DKI JAKARTA      ┆ KOTA JAKARTA UTARA   ┆ 9356898    ┆ 60450-15195         ┆ 1820555   │\n",
       "│ 2024-10 ┆ DKI JAKARTA      ┆ KOTA JAKARTA UTARA   ┆ 9356898    ┆ 40393               ┆ 552780    │\n",
       "│ 2024-10 ┆ DKI JAKARTA      ┆ KOTA JAKARTA UTARA   ┆ 9356898    ┆ 20502               ┆ 34500     │\n",
       "│ 2024-10 ┆ DKI JAKARTA      ┆ KOTA JAKARTA UTARA   ┆ 9356898    ┆ 90339               ┆ 602300    │\n",
       "│ …       ┆ …                ┆ …                    ┆ …          ┆ …                   ┆ …         │\n",
       "│ 2024-07 ┆ KALIMANTAN BARAT ┆ KAB. SEKADAU         ┆ 95640      ┆ 20728               ┆ 260619    │\n",
       "│ 2024-07 ┆ KALIMANTAN BARAT ┆ KAB. SEKADAU         ┆ 95640      ┆ 60163               ┆ 163384    │\n",
       "│ 2024-07 ┆ KALIMANTAN BARAT ┆ KAB. SEKADAU         ┆ 95640      ┆ 80906               ┆ 91100     │\n",
       "│ 2024-07 ┆ KALIMANTAN BARAT ┆ KAB. SEKADAU         ┆ 95640      ┆ 50698               ┆ 208927    │\n",
       "│ 2024-07 ┆ KALIMANTAN BARAT ┆ KAB. SEKADAU         ┆ 95640      ┆ 90664               ┆ 425118    │\n",
       "│ 2024-07 ┆ KALIMANTAN BARAT ┆ KAB. SEKADAU         ┆ 95640      ┆ 60128               ┆ 67040     │\n",
       "│ 2024-07 ┆ KALIMANTAN BARAT ┆ KAB. SEKADAU         ┆ 95640      ┆ 60450               ┆ 218988    │\n",
       "│ 2024-07 ┆ KALIMANTAN BARAT ┆ KAB. SEKADAU         ┆ 95640      ┆ 15311               ┆ 95640     │\n",
       "│ 2024-07 ┆ KALIMANTAN BARAT ┆ KAB. SEKADAU         ┆ 95640      ┆ 25587-25400         ┆ 197560    │\n",
       "│ 2024-07 ┆ KALIMANTAN BARAT ┆ KAB. SEKADAU         ┆ 95640      ┆ 90493               ┆ 360488    │\n",
       "│ 2024-07 ┆ DKI JAKARTA      ┆ KAB. KEPULAUAN       ┆ 29649      ┆ 60125               ┆ 29649     │\n",
       "│         ┆                  ┆ SERIBU               ┆            ┆                     ┆           │\n",
       "│ 2024-07 ┆ DKI JAKARTA      ┆ KAB. KEPULAUAN       ┆ 29649      ┆ 15324               ┆ 117127    │\n",
       "│         ┆                  ┆ SERIBU               ┆            ┆                     ┆           │\n",
       "│ 2024-07 ┆ SULAWESI TENGAH  ┆ KAB. SIGI            ┆ 0          ┆ 25837               ┆ 0         │\n",
       "│ 2024-07 ┆ SULAWESI TENGAH  ┆ KAB. SIGI            ┆ 0          ┆ 10220               ┆ 97656     │\n",
       "│ 2024-07 ┆ SULAWESI TENGAH  ┆ KAB. SIGI            ┆ 0          ┆ 80520               ┆ 110422    │\n",
       "└─────────┴──────────────────┴──────────────────────┴────────────┴─────────────────────┴───────────┘"
      ]
     },
     "execution_count": 21,
     "metadata": {},
     "output_type": "execute_result"
    }
   ],
   "source": [
    "det1 = det_rev.group_by(['Month','Provinsi','Kota/Kabupaten']).agg(pl.col('Total Pembayaran').sum().alias('Total_Prov')).sort(by=['Month','Total_Prov'],descending=True)\n",
    "det2 = det_rev.group_by(['Kota/Kabupaten','Nomor Referensi SKU']).agg(pl.col('Total Pembayaran').sum().alias('Total_SKU'))\n",
    "\n",
    "# revenue by each SKU at each Kota and its Province\n",
    "result = det1.join(det2,how='left',on='Kota/Kabupaten')\n",
    "result"
   ]
  },
  {
   "cell_type": "code",
   "execution_count": 22,
   "metadata": {},
   "outputs": [
    {
     "data": {
      "text/html": [
       "<div><style>\n",
       ".dataframe > thead > tr,\n",
       ".dataframe > tbody > tr {\n",
       "  text-align: right;\n",
       "  white-space: pre-wrap;\n",
       "}\n",
       "</style>\n",
       "<small>shape: (171_094, 7)</small><table border=\"1\" class=\"dataframe\"><thead><tr><th>Provinsi</th><th>Kota/Kabupaten</th><th>Month</th><th>Total_Prov</th><th>Nomor Referensi SKU</th><th>Month_right</th><th>Total_SKU</th></tr><tr><td>str</td><td>str</td><td>str</td><td>i64</td><td>str</td><td>str</td><td>i64</td></tr></thead><tbody><tr><td>&quot;DKI&nbsp;JAKARTA&quot;</td><td>&quot;KOTA&nbsp;JAKARTA&nbsp;SELATAN&quot;</td><td>&quot;2024-09&quot;</td><td>425253686</td><td>&quot;50799&quot;</td><td>&quot;2024-09&quot;</td><td>29016698</td></tr><tr><td>&quot;DKI&nbsp;JAKARTA&quot;</td><td>&quot;KOTA&nbsp;JAKARTA&nbsp;SELATAN&quot;</td><td>&quot;2024-09&quot;</td><td>425253686</td><td>&quot;50698&quot;</td><td>&quot;2024-07&quot;</td><td>25927829</td></tr><tr><td>&quot;DKI&nbsp;JAKARTA&quot;</td><td>&quot;KOTA&nbsp;JAKARTA&nbsp;SELATAN&quot;</td><td>&quot;2024-09&quot;</td><td>425253686</td><td>&quot;50698&quot;</td><td>&quot;2024-08&quot;</td><td>22924505</td></tr><tr><td>&quot;DKI&nbsp;JAKARTA&quot;</td><td>&quot;KOTA&nbsp;JAKARTA&nbsp;SELATAN&quot;</td><td>&quot;2024-09&quot;</td><td>425253686</td><td>&quot;60450&quot;</td><td>&quot;2024-08&quot;</td><td>16383212</td></tr><tr><td>&quot;DKI&nbsp;JAKARTA&quot;</td><td>&quot;KOTA&nbsp;JAKARTA&nbsp;SELATAN&quot;</td><td>&quot;2024-09&quot;</td><td>425253686</td><td>&quot;15086&quot;</td><td>&quot;2024-09&quot;</td><td>15048123</td></tr><tr><td>&quot;DKI&nbsp;JAKARTA&quot;</td><td>&quot;KOTA&nbsp;JAKARTA&nbsp;SELATAN&quot;</td><td>&quot;2024-09&quot;</td><td>425253686</td><td>&quot;60450&quot;</td><td>&quot;2024-09&quot;</td><td>13327671</td></tr><tr><td>&quot;DKI&nbsp;JAKARTA&quot;</td><td>&quot;KOTA&nbsp;JAKARTA&nbsp;SELATAN&quot;</td><td>&quot;2024-09&quot;</td><td>425253686</td><td>&quot;10387&quot;</td><td>&quot;2024-09&quot;</td><td>12418000</td></tr><tr><td>&quot;DKI&nbsp;JAKARTA&quot;</td><td>&quot;KOTA&nbsp;JAKARTA&nbsp;SELATAN&quot;</td><td>&quot;2024-09&quot;</td><td>425253686</td><td>&quot;70523&quot;</td><td>&quot;2024-07&quot;</td><td>11828659</td></tr><tr><td>&quot;DKI&nbsp;JAKARTA&quot;</td><td>&quot;KOTA&nbsp;JAKARTA&nbsp;SELATAN&quot;</td><td>&quot;2024-09&quot;</td><td>425253686</td><td>&quot;50799&quot;</td><td>&quot;2024-07&quot;</td><td>11381532</td></tr><tr><td>&quot;DKI&nbsp;JAKARTA&quot;</td><td>&quot;KOTA&nbsp;JAKARTA&nbsp;SELATAN&quot;</td><td>&quot;2024-09&quot;</td><td>425253686</td><td>&quot;15326&quot;</td><td>&quot;2024-07&quot;</td><td>11240153</td></tr><tr><td>&quot;DKI&nbsp;JAKARTA&quot;</td><td>&quot;KOTA&nbsp;JAKARTA&nbsp;SELATAN&quot;</td><td>&quot;2024-09&quot;</td><td>425253686</td><td>&quot;15086&quot;</td><td>&quot;2024-08&quot;</td><td>10629197</td></tr><tr><td>&quot;DKI&nbsp;JAKARTA&quot;</td><td>&quot;KOTA&nbsp;JAKARTA&nbsp;SELATAN&quot;</td><td>&quot;2024-09&quot;</td><td>425253686</td><td>&quot;10493&quot;</td><td>&quot;2024-08&quot;</td><td>9145497</td></tr><tr><td>&quot;DKI&nbsp;JAKARTA&quot;</td><td>&quot;KOTA&nbsp;JAKARTA&nbsp;SELATAN&quot;</td><td>&quot;2024-09&quot;</td><td>425253686</td><td>&quot;25742&quot;</td><td>&quot;2024-08&quot;</td><td>8876557</td></tr><tr><td>&quot;DKI&nbsp;JAKARTA&quot;</td><td>&quot;KOTA&nbsp;JAKARTA&nbsp;SELATAN&quot;</td><td>&quot;2024-09&quot;</td><td>425253686</td><td>&quot;25185&quot;</td><td>&quot;2024-09&quot;</td><td>8615355</td></tr><tr><td>&quot;DKI&nbsp;JAKARTA&quot;</td><td>&quot;KOTA&nbsp;JAKARTA&nbsp;SELATAN&quot;</td><td>&quot;2024-09&quot;</td><td>425253686</td><td>&quot;10493&quot;</td><td>&quot;2024-09&quot;</td><td>8606216</td></tr><tr><td>&hellip;</td><td>&hellip;</td><td>&hellip;</td><td>&hellip;</td><td>&hellip;</td><td>&hellip;</td><td>&hellip;</td></tr><tr><td>&quot;JAWA&nbsp;BARAT&quot;</td><td>&quot;KOTA&nbsp;CIREBON&quot;</td><td>&quot;2024-10&quot;</td><td>0</td><td>&quot;60408&quot;</td><td>&quot;2024-09&quot;</td><td>71520</td></tr><tr><td>&quot;JAWA&nbsp;BARAT&quot;</td><td>&quot;KOTA&nbsp;CIREBON&quot;</td><td>&quot;2024-10&quot;</td><td>0</td><td>&quot;70427&quot;</td><td>&quot;2024-08&quot;</td><td>68585</td></tr><tr><td>&quot;JAWA&nbsp;BARAT&quot;</td><td>&quot;KOTA&nbsp;CIREBON&quot;</td><td>&quot;2024-10&quot;</td><td>0</td><td>&quot;20710&quot;</td><td>&quot;2024-08&quot;</td><td>66650</td></tr><tr><td>&quot;JAWA&nbsp;BARAT&quot;</td><td>&quot;KOTA&nbsp;CIREBON&quot;</td><td>&quot;2024-10&quot;</td><td>0</td><td>&quot;10625&quot;</td><td>&quot;2024-09&quot;</td><td>60425</td></tr><tr><td>&quot;JAWA&nbsp;BARAT&quot;</td><td>&quot;KOTA&nbsp;CIREBON&quot;</td><td>&quot;2024-10&quot;</td><td>0</td><td>&quot;60128&quot;</td><td>&quot;2024-07&quot;</td><td>58200</td></tr><tr><td>&quot;JAWA&nbsp;BARAT&quot;</td><td>&quot;KOTA&nbsp;CIREBON&quot;</td><td>&quot;2024-10&quot;</td><td>0</td><td>&quot;60128&quot;</td><td>&quot;2024-08&quot;</td><td>56192</td></tr><tr><td>&quot;JAWA&nbsp;BARAT&quot;</td><td>&quot;KOTA&nbsp;CIREBON&quot;</td><td>&quot;2024-10&quot;</td><td>0</td><td>&quot;20117&quot;</td><td>&quot;2024-07&quot;</td><td>51960</td></tr><tr><td>&quot;JAWA&nbsp;BARAT&quot;</td><td>&quot;KOTA&nbsp;CIREBON&quot;</td><td>&quot;2024-10&quot;</td><td>0</td><td>&quot;50533&quot;</td><td>&quot;2024-07&quot;</td><td>51500</td></tr><tr><td>&quot;JAWA&nbsp;BARAT&quot;</td><td>&quot;KOTA&nbsp;CIREBON&quot;</td><td>&quot;2024-10&quot;</td><td>0</td><td>&quot;10106&quot;</td><td>&quot;2024-09&quot;</td><td>47500</td></tr><tr><td>&quot;JAWA&nbsp;BARAT&quot;</td><td>&quot;KOTA&nbsp;CIREBON&quot;</td><td>&quot;2024-10&quot;</td><td>0</td><td>&quot;60126&quot;</td><td>&quot;2024-07&quot;</td><td>41560</td></tr><tr><td>&quot;JAWA&nbsp;BARAT&quot;</td><td>&quot;KOTA&nbsp;CIREBON&quot;</td><td>&quot;2024-10&quot;</td><td>0</td><td>&quot;60126&quot;</td><td>&quot;2024-09&quot;</td><td>41000</td></tr><tr><td>&quot;JAWA&nbsp;BARAT&quot;</td><td>&quot;KOTA&nbsp;CIREBON&quot;</td><td>&quot;2024-10&quot;</td><td>0</td><td>&quot;60125&quot;</td><td>&quot;2024-08&quot;</td><td>39000</td></tr><tr><td>&quot;JAWA&nbsp;BARAT&quot;</td><td>&quot;KOTA&nbsp;CIREBON&quot;</td><td>&quot;2024-10&quot;</td><td>0</td><td>&quot;60125&quot;</td><td>&quot;2024-07&quot;</td><td>34800</td></tr><tr><td>&quot;JAWA&nbsp;BARAT&quot;</td><td>&quot;KOTA&nbsp;CIREBON&quot;</td><td>&quot;2024-10&quot;</td><td>0</td><td>&quot;60116&quot;</td><td>&quot;2024-08&quot;</td><td>30990</td></tr><tr><td>&quot;JAWA&nbsp;BARAT&quot;</td><td>&quot;KOTA&nbsp;CIREBON&quot;</td><td>&quot;2024-10&quot;</td><td>0</td><td>&quot;15195&quot;</td><td>&quot;2024-10&quot;</td><td>0</td></tr></tbody></table></div>"
      ],
      "text/plain": [
       "shape: (171_094, 7)\n",
       "┌─────────────┬─────────────────┬─────────┬────────────┬─────────────────┬─────────────┬───────────┐\n",
       "│ Provinsi    ┆ Kota/Kabupaten  ┆ Month   ┆ Total_Prov ┆ Nomor Referensi ┆ Month_right ┆ Total_SKU │\n",
       "│ ---         ┆ ---             ┆ ---     ┆ ---        ┆ SKU             ┆ ---         ┆ ---       │\n",
       "│ str         ┆ str             ┆ str     ┆ i64        ┆ ---             ┆ str         ┆ i64       │\n",
       "│             ┆                 ┆         ┆            ┆ str             ┆             ┆           │\n",
       "╞═════════════╪═════════════════╪═════════╪════════════╪═════════════════╪═════════════╪═══════════╡\n",
       "│ DKI JAKARTA ┆ KOTA JAKARTA    ┆ 2024-09 ┆ 425253686  ┆ 50799           ┆ 2024-09     ┆ 29016698  │\n",
       "│             ┆ SELATAN         ┆         ┆            ┆                 ┆             ┆           │\n",
       "│ DKI JAKARTA ┆ KOTA JAKARTA    ┆ 2024-09 ┆ 425253686  ┆ 50698           ┆ 2024-07     ┆ 25927829  │\n",
       "│             ┆ SELATAN         ┆         ┆            ┆                 ┆             ┆           │\n",
       "│ DKI JAKARTA ┆ KOTA JAKARTA    ┆ 2024-09 ┆ 425253686  ┆ 50698           ┆ 2024-08     ┆ 22924505  │\n",
       "│             ┆ SELATAN         ┆         ┆            ┆                 ┆             ┆           │\n",
       "│ DKI JAKARTA ┆ KOTA JAKARTA    ┆ 2024-09 ┆ 425253686  ┆ 60450           ┆ 2024-08     ┆ 16383212  │\n",
       "│             ┆ SELATAN         ┆         ┆            ┆                 ┆             ┆           │\n",
       "│ DKI JAKARTA ┆ KOTA JAKARTA    ┆ 2024-09 ┆ 425253686  ┆ 15086           ┆ 2024-09     ┆ 15048123  │\n",
       "│             ┆ SELATAN         ┆         ┆            ┆                 ┆             ┆           │\n",
       "│ DKI JAKARTA ┆ KOTA JAKARTA    ┆ 2024-09 ┆ 425253686  ┆ 60450           ┆ 2024-09     ┆ 13327671  │\n",
       "│             ┆ SELATAN         ┆         ┆            ┆                 ┆             ┆           │\n",
       "│ DKI JAKARTA ┆ KOTA JAKARTA    ┆ 2024-09 ┆ 425253686  ┆ 10387           ┆ 2024-09     ┆ 12418000  │\n",
       "│             ┆ SELATAN         ┆         ┆            ┆                 ┆             ┆           │\n",
       "│ DKI JAKARTA ┆ KOTA JAKARTA    ┆ 2024-09 ┆ 425253686  ┆ 70523           ┆ 2024-07     ┆ 11828659  │\n",
       "│             ┆ SELATAN         ┆         ┆            ┆                 ┆             ┆           │\n",
       "│ DKI JAKARTA ┆ KOTA JAKARTA    ┆ 2024-09 ┆ 425253686  ┆ 50799           ┆ 2024-07     ┆ 11381532  │\n",
       "│             ┆ SELATAN         ┆         ┆            ┆                 ┆             ┆           │\n",
       "│ DKI JAKARTA ┆ KOTA JAKARTA    ┆ 2024-09 ┆ 425253686  ┆ 15326           ┆ 2024-07     ┆ 11240153  │\n",
       "│             ┆ SELATAN         ┆         ┆            ┆                 ┆             ┆           │\n",
       "│ DKI JAKARTA ┆ KOTA JAKARTA    ┆ 2024-09 ┆ 425253686  ┆ 15086           ┆ 2024-08     ┆ 10629197  │\n",
       "│             ┆ SELATAN         ┆         ┆            ┆                 ┆             ┆           │\n",
       "│ DKI JAKARTA ┆ KOTA JAKARTA    ┆ 2024-09 ┆ 425253686  ┆ 10493           ┆ 2024-08     ┆ 9145497   │\n",
       "│             ┆ SELATAN         ┆         ┆            ┆                 ┆             ┆           │\n",
       "│ DKI JAKARTA ┆ KOTA JAKARTA    ┆ 2024-09 ┆ 425253686  ┆ 25742           ┆ 2024-08     ┆ 8876557   │\n",
       "│             ┆ SELATAN         ┆         ┆            ┆                 ┆             ┆           │\n",
       "│ DKI JAKARTA ┆ KOTA JAKARTA    ┆ 2024-09 ┆ 425253686  ┆ 25185           ┆ 2024-09     ┆ 8615355   │\n",
       "│             ┆ SELATAN         ┆         ┆            ┆                 ┆             ┆           │\n",
       "│ DKI JAKARTA ┆ KOTA JAKARTA    ┆ 2024-09 ┆ 425253686  ┆ 10493           ┆ 2024-09     ┆ 8606216   │\n",
       "│             ┆ SELATAN         ┆         ┆            ┆                 ┆             ┆           │\n",
       "│ …           ┆ …               ┆ …       ┆ …          ┆ …               ┆ …           ┆ …         │\n",
       "│ JAWA BARAT  ┆ KOTA CIREBON    ┆ 2024-10 ┆ 0          ┆ 60408           ┆ 2024-09     ┆ 71520     │\n",
       "│ JAWA BARAT  ┆ KOTA CIREBON    ┆ 2024-10 ┆ 0          ┆ 70427           ┆ 2024-08     ┆ 68585     │\n",
       "│ JAWA BARAT  ┆ KOTA CIREBON    ┆ 2024-10 ┆ 0          ┆ 20710           ┆ 2024-08     ┆ 66650     │\n",
       "│ JAWA BARAT  ┆ KOTA CIREBON    ┆ 2024-10 ┆ 0          ┆ 10625           ┆ 2024-09     ┆ 60425     │\n",
       "│ JAWA BARAT  ┆ KOTA CIREBON    ┆ 2024-10 ┆ 0          ┆ 60128           ┆ 2024-07     ┆ 58200     │\n",
       "│ JAWA BARAT  ┆ KOTA CIREBON    ┆ 2024-10 ┆ 0          ┆ 60128           ┆ 2024-08     ┆ 56192     │\n",
       "│ JAWA BARAT  ┆ KOTA CIREBON    ┆ 2024-10 ┆ 0          ┆ 20117           ┆ 2024-07     ┆ 51960     │\n",
       "│ JAWA BARAT  ┆ KOTA CIREBON    ┆ 2024-10 ┆ 0          ┆ 50533           ┆ 2024-07     ┆ 51500     │\n",
       "│ JAWA BARAT  ┆ KOTA CIREBON    ┆ 2024-10 ┆ 0          ┆ 10106           ┆ 2024-09     ┆ 47500     │\n",
       "│ JAWA BARAT  ┆ KOTA CIREBON    ┆ 2024-10 ┆ 0          ┆ 60126           ┆ 2024-07     ┆ 41560     │\n",
       "│ JAWA BARAT  ┆ KOTA CIREBON    ┆ 2024-10 ┆ 0          ┆ 60126           ┆ 2024-09     ┆ 41000     │\n",
       "│ JAWA BARAT  ┆ KOTA CIREBON    ┆ 2024-10 ┆ 0          ┆ 60125           ┆ 2024-08     ┆ 39000     │\n",
       "│ JAWA BARAT  ┆ KOTA CIREBON    ┆ 2024-10 ┆ 0          ┆ 60125           ┆ 2024-07     ┆ 34800     │\n",
       "│ JAWA BARAT  ┆ KOTA CIREBON    ┆ 2024-10 ┆ 0          ┆ 60116           ┆ 2024-08     ┆ 30990     │\n",
       "│ JAWA BARAT  ┆ KOTA CIREBON    ┆ 2024-10 ┆ 0          ┆ 15195           ┆ 2024-10     ┆ 0         │\n",
       "└─────────────┴─────────────────┴─────────┴────────────┴─────────────────┴─────────────┴───────────┘"
      ]
     },
     "execution_count": 22,
     "metadata": {},
     "output_type": "execute_result"
    }
   ],
   "source": [
    "det1 = det_rev.group_by(['Provinsi','Kota/Kabupaten','Month']).agg(pl.col('Total Pembayaran').sum().alias('Total_Prov')).sort(by='Total_Prov',descending=True)\n",
    "det2 = det_rev.group_by('Kota/Kabupaten','Nomor Referensi SKU','Month').agg(pl.col('Total Pembayaran').sum().alias('Total_SKU')).sort(by='Total_SKU',descending=True)\n",
    "\n",
    "# revenue by each SKU at each Kota and its Province\n",
    "result = det1.join(det2,how='left',on='Kota/Kabupaten')\n",
    "result"
   ]
  },
  {
   "cell_type": "code",
   "execution_count": 23,
   "metadata": {},
   "outputs": [
    {
     "data": {
      "text/html": [
       "<div><style>\n",
       ".dataframe > thead > tr,\n",
       ".dataframe > tbody > tr {\n",
       "  text-align: right;\n",
       "  white-space: pre-wrap;\n",
       "}\n",
       "</style>\n",
       "<small>shape: (44_483, 14)</small><table border=\"1\" class=\"dataframe\"><thead><tr><th>Provinsi</th><th>Kota/Kabupaten</th><th>Month</th><th>Monthly_Revenue</th><th>Num_SKUs_Sold</th><th>Nomor Referensi SKU</th><th>SKU_Revenue</th><th>SKU_Count</th><th>Monthly_Revenue_right</th><th>MoM_Growth</th><th>Total_Province_Revenue</th><th>Total_Province_SKUs</th><th>Pct_of_Province_Revenue</th><th>SKU_Revenue_Share</th></tr><tr><td>str</td><td>str</td><td>str</td><td>i64</td><td>u32</td><td>str</td><td>i64</td><td>u32</td><td>list[i64]</td><td>list[f64]</td><td>i64</td><td>u32</td><td>f64</td><td>f64</td></tr></thead><tbody><tr><td>&quot;SUMATERA&nbsp;UTARA&quot;</td><td>&quot;KOTA&nbsp;MEDAN&quot;</td><td>&quot;2024-07&quot;</td><td>83581270</td><td>431</td><td>&quot;70609&quot;</td><td>100000</td><td>1</td><td>[83581270,&nbsp;100307215,&nbsp;…&nbsp;2206382]</td><td>[null,&nbsp;0.200116,&nbsp;…&nbsp;-0.978692]</td><td>605102564</td><td>3137</td><td>13.812744</td><td>0.119644</td></tr><tr><td>&quot;SUMATERA&nbsp;UTARA&quot;</td><td>&quot;KOTA&nbsp;MEDAN&quot;</td><td>&quot;2024-07&quot;</td><td>83581270</td><td>431</td><td>&quot;20467&quot;</td><td>318495</td><td>1</td><td>[83581270,&nbsp;100307215,&nbsp;…&nbsp;2206382]</td><td>[null,&nbsp;0.200116,&nbsp;…&nbsp;-0.978692]</td><td>605102564</td><td>3137</td><td>13.812744</td><td>0.38106</td></tr><tr><td>&quot;SUMATERA&nbsp;UTARA&quot;</td><td>&quot;KOTA&nbsp;MEDAN&quot;</td><td>&quot;2024-07&quot;</td><td>83581270</td><td>431</td><td>&quot;60959&quot;</td><td>43120</td><td>1</td><td>[83581270,&nbsp;100307215,&nbsp;…&nbsp;2206382]</td><td>[null,&nbsp;0.200116,&nbsp;…&nbsp;-0.978692]</td><td>605102564</td><td>3137</td><td>13.812744</td><td>0.051591</td></tr><tr><td>&quot;SUMATERA&nbsp;UTARA&quot;</td><td>&quot;KOTA&nbsp;MEDAN&quot;</td><td>&quot;2024-07&quot;</td><td>83581270</td><td>431</td><td>&quot;40673&quot;</td><td>44680</td><td>1</td><td>[83581270,&nbsp;100307215,&nbsp;…&nbsp;2206382]</td><td>[null,&nbsp;0.200116,&nbsp;…&nbsp;-0.978692]</td><td>605102564</td><td>3137</td><td>13.812744</td><td>0.053457</td></tr><tr><td>&quot;SUMATERA&nbsp;UTARA&quot;</td><td>&quot;KOTA&nbsp;MEDAN&quot;</td><td>&quot;2024-07&quot;</td><td>83581270</td><td>431</td><td>&quot;60711&quot;</td><td>45000</td><td>1</td><td>[83581270,&nbsp;100307215,&nbsp;…&nbsp;2206382]</td><td>[null,&nbsp;0.200116,&nbsp;…&nbsp;-0.978692]</td><td>605102564</td><td>3137</td><td>13.812744</td><td>0.05384</td></tr><tr><td>&quot;SUMATERA&nbsp;UTARA&quot;</td><td>&quot;KOTA&nbsp;MEDAN&quot;</td><td>&quot;2024-07&quot;</td><td>83581270</td><td>431</td><td>&quot;50149&quot;</td><td>46109</td><td>1</td><td>[83581270,&nbsp;100307215,&nbsp;…&nbsp;2206382]</td><td>[null,&nbsp;0.200116,&nbsp;…&nbsp;-0.978692]</td><td>605102564</td><td>3137</td><td>13.812744</td><td>0.055167</td></tr><tr><td>&quot;SUMATERA&nbsp;UTARA&quot;</td><td>&quot;KOTA&nbsp;MEDAN&quot;</td><td>&quot;2024-07&quot;</td><td>83581270</td><td>431</td><td>&quot;50607&quot;</td><td>49500</td><td>1</td><td>[83581270,&nbsp;100307215,&nbsp;…&nbsp;2206382]</td><td>[null,&nbsp;0.200116,&nbsp;…&nbsp;-0.978692]</td><td>605102564</td><td>3137</td><td>13.812744</td><td>0.059224</td></tr><tr><td>&quot;SUMATERA&nbsp;UTARA&quot;</td><td>&quot;KOTA&nbsp;MEDAN&quot;</td><td>&quot;2024-07&quot;</td><td>83581270</td><td>431</td><td>&quot;20763&quot;</td><td>60000</td><td>1</td><td>[83581270,&nbsp;100307215,&nbsp;…&nbsp;2206382]</td><td>[null,&nbsp;0.200116,&nbsp;…&nbsp;-0.978692]</td><td>605102564</td><td>3137</td><td>13.812744</td><td>0.071786</td></tr><tr><td>&quot;SUMATERA&nbsp;UTARA&quot;</td><td>&quot;KOTA&nbsp;MEDAN&quot;</td><td>&quot;2024-07&quot;</td><td>83581270</td><td>431</td><td>&quot;25629&quot;</td><td>75262</td><td>1</td><td>[83581270,&nbsp;100307215,&nbsp;…&nbsp;2206382]</td><td>[null,&nbsp;0.200116,&nbsp;…&nbsp;-0.978692]</td><td>605102564</td><td>3137</td><td>13.812744</td><td>0.090046</td></tr><tr><td>&quot;SUMATERA&nbsp;UTARA&quot;</td><td>&quot;KOTA&nbsp;MEDAN&quot;</td><td>&quot;2024-07&quot;</td><td>83581270</td><td>431</td><td>&quot;70427&quot;</td><td>76000</td><td>1</td><td>[83581270,&nbsp;100307215,&nbsp;…&nbsp;2206382]</td><td>[null,&nbsp;0.200116,&nbsp;…&nbsp;-0.978692]</td><td>605102564</td><td>3137</td><td>13.812744</td><td>0.090929</td></tr><tr><td>&quot;SUMATERA&nbsp;UTARA&quot;</td><td>&quot;KOTA&nbsp;MEDAN&quot;</td><td>&quot;2024-07&quot;</td><td>83581270</td><td>431</td><td>&quot;30337&quot;</td><td>83390</td><td>2</td><td>[83581270,&nbsp;100307215,&nbsp;…&nbsp;2206382]</td><td>[null,&nbsp;0.200116,&nbsp;…&nbsp;-0.978692]</td><td>605102564</td><td>3137</td><td>13.812744</td><td>0.099771</td></tr><tr><td>&quot;SUMATERA&nbsp;UTARA&quot;</td><td>&quot;KOTA&nbsp;MEDAN&quot;</td><td>&quot;2024-07&quot;</td><td>83581270</td><td>431</td><td>&quot;30732&quot;</td><td>88120</td><td>1</td><td>[83581270,&nbsp;100307215,&nbsp;…&nbsp;2206382]</td><td>[null,&nbsp;0.200116,&nbsp;…&nbsp;-0.978692]</td><td>605102564</td><td>3137</td><td>13.812744</td><td>0.10543</td></tr><tr><td>&quot;SUMATERA&nbsp;UTARA&quot;</td><td>&quot;KOTA&nbsp;MEDAN&quot;</td><td>&quot;2024-07&quot;</td><td>83581270</td><td>431</td><td>&quot;90225&quot;</td><td>88880</td><td>1</td><td>[83581270,&nbsp;100307215,&nbsp;…&nbsp;2206382]</td><td>[null,&nbsp;0.200116,&nbsp;…&nbsp;-0.978692]</td><td>605102564</td><td>3137</td><td>13.812744</td><td>0.10634</td></tr><tr><td>&quot;SUMATERA&nbsp;UTARA&quot;</td><td>&quot;KOTA&nbsp;MEDAN&quot;</td><td>&quot;2024-07&quot;</td><td>83581270</td><td>431</td><td>&quot;40363&quot;</td><td>98718</td><td>1</td><td>[83581270,&nbsp;100307215,&nbsp;…&nbsp;2206382]</td><td>[null,&nbsp;0.200116,&nbsp;…&nbsp;-0.978692]</td><td>605102564</td><td>3137</td><td>13.812744</td><td>0.11811</td></tr><tr><td>&quot;SUMATERA&nbsp;UTARA&quot;</td><td>&quot;KOTA&nbsp;MEDAN&quot;</td><td>&quot;2024-07&quot;</td><td>83581270</td><td>431</td><td>&quot;40705&quot;</td><td>98720</td><td>2</td><td>[83581270,&nbsp;100307215,&nbsp;…&nbsp;2206382]</td><td>[null,&nbsp;0.200116,&nbsp;…&nbsp;-0.978692]</td><td>605102564</td><td>3137</td><td>13.812744</td><td>0.118113</td></tr><tr><td>&hellip;</td><td>&hellip;</td><td>&hellip;</td><td>&hellip;</td><td>&hellip;</td><td>&hellip;</td><td>&hellip;</td><td>&hellip;</td><td>&hellip;</td><td>&hellip;</td><td>&hellip;</td><td>&hellip;</td><td>&hellip;</td><td>&hellip;</td></tr><tr><td>&quot;BALI&quot;</td><td>&quot;KAB.&nbsp;BADUNG&quot;</td><td>&quot;2024-10&quot;</td><td>1597111</td><td>12</td><td>&quot;25742&quot;</td><td>400371</td><td>2</td><td>[42548612,&nbsp;42201247,&nbsp;…&nbsp;1597111]</td><td>[null,&nbsp;-0.008164,&nbsp;…&nbsp;-0.958475]</td><td>453825782</td><td>2074</td><td>0.351922</td><td>25.068452</td></tr><tr><td>&quot;BALI&quot;</td><td>&quot;KAB.&nbsp;BADUNG&quot;</td><td>&quot;2024-10&quot;</td><td>1597111</td><td>12</td><td>&quot;70429&quot;</td><td>96032</td><td>1</td><td>[42548612,&nbsp;42201247,&nbsp;…&nbsp;1597111]</td><td>[null,&nbsp;-0.008164,&nbsp;…&nbsp;-0.958475]</td><td>453825782</td><td>2074</td><td>0.351922</td><td>6.012857</td></tr><tr><td>&quot;BALI&quot;</td><td>&quot;KAB.&nbsp;BADUNG&quot;</td><td>&quot;2024-10&quot;</td><td>1597111</td><td>12</td><td>&quot;25591&quot;</td><td>79500</td><td>1</td><td>[42548612,&nbsp;42201247,&nbsp;…&nbsp;1597111]</td><td>[null,&nbsp;-0.008164,&nbsp;…&nbsp;-0.958475]</td><td>453825782</td><td>2074</td><td>0.351922</td><td>4.977738</td></tr><tr><td>&quot;BALI&quot;</td><td>&quot;KAB.&nbsp;BADUNG&quot;</td><td>&quot;2024-10&quot;</td><td>1597111</td><td>12</td><td>&quot;15108&quot;</td><td>38300</td><td>1</td><td>[42548612,&nbsp;42201247,&nbsp;…&nbsp;1597111]</td><td>[null,&nbsp;-0.008164,&nbsp;…&nbsp;-0.958475]</td><td>453825782</td><td>2074</td><td>0.351922</td><td>2.39808</td></tr><tr><td>&quot;BALI&quot;</td><td>&quot;KAB.&nbsp;TABANAN&quot;</td><td>&quot;2024-10&quot;</td><td>506900</td><td>1</td><td>&quot;35526B&quot;</td><td>506900</td><td>1</td><td>[10442913,&nbsp;5702968,&nbsp;…&nbsp;506900]</td><td>[null,&nbsp;-0.453891,&nbsp;…&nbsp;-0.886075]</td><td>453825782</td><td>2074</td><td>0.111695</td><td>100.0</td></tr><tr><td>&quot;BALI&quot;</td><td>&quot;KAB.&nbsp;BULELENG&quot;</td><td>&quot;2024-10&quot;</td><td>501008</td><td>4</td><td>&quot;50459-60156&quot;</td><td>184238</td><td>1</td><td>[27358649,&nbsp;5832814,&nbsp;…&nbsp;501008]</td><td>[null,&nbsp;-0.786802,&nbsp;…&nbsp;-0.938933]</td><td>453825782</td><td>2074</td><td>0.110397</td><td>36.773465</td></tr><tr><td>&quot;BALI&quot;</td><td>&quot;KAB.&nbsp;BULELENG&quot;</td><td>&quot;2024-10&quot;</td><td>501008</td><td>4</td><td>&quot;50460-20728&quot;</td><td>183250</td><td>1</td><td>[27358649,&nbsp;5832814,&nbsp;…&nbsp;501008]</td><td>[null,&nbsp;-0.786802,&nbsp;…&nbsp;-0.938933]</td><td>453825782</td><td>2074</td><td>0.110397</td><td>36.576262</td></tr><tr><td>&quot;BALI&quot;</td><td>&quot;KAB.&nbsp;BULELENG&quot;</td><td>&quot;2024-10&quot;</td><td>501008</td><td>4</td><td>&quot;15324&quot;</td><td>133520</td><td>1</td><td>[27358649,&nbsp;5832814,&nbsp;…&nbsp;501008]</td><td>[null,&nbsp;-0.786802,&nbsp;…&nbsp;-0.938933]</td><td>453825782</td><td>2074</td><td>0.110397</td><td>26.650273</td></tr><tr><td>&quot;BALI&quot;</td><td>&quot;KAB.&nbsp;BULELENG&quot;</td><td>&quot;2024-10&quot;</td><td>501008</td><td>4</td><td>&quot;35316&quot;</td><td>0</td><td>1</td><td>[27358649,&nbsp;5832814,&nbsp;…&nbsp;501008]</td><td>[null,&nbsp;-0.786802,&nbsp;…&nbsp;-0.938933]</td><td>453825782</td><td>2074</td><td>0.110397</td><td>0.0</td></tr><tr><td>&quot;BALI&quot;</td><td>&quot;KAB.&nbsp;GIANYAR&quot;</td><td>&quot;2024-10&quot;</td><td>484578</td><td>2</td><td>&quot;10335&quot;</td><td>311878</td><td>1</td><td>[11521579,&nbsp;13244411,&nbsp;…&nbsp;484578]</td><td>[null,&nbsp;0.149531,&nbsp;…&nbsp;-0.967022]</td><td>453825782</td><td>2074</td><td>0.106776</td><td>64.360743</td></tr><tr><td>&quot;BALI&quot;</td><td>&quot;KAB.&nbsp;GIANYAR&quot;</td><td>&quot;2024-10&quot;</td><td>484578</td><td>2</td><td>&quot;25160&quot;</td><td>172700</td><td>1</td><td>[11521579,&nbsp;13244411,&nbsp;…&nbsp;484578]</td><td>[null,&nbsp;0.149531,&nbsp;…&nbsp;-0.967022]</td><td>453825782</td><td>2074</td><td>0.106776</td><td>35.639257</td></tr><tr><td>&quot;BALI&quot;</td><td>&quot;KAB.&nbsp;BANGLI&quot;</td><td>&quot;2024-10&quot;</td><td>174264</td><td>1</td><td>&quot;15049-15271&quot;</td><td>174264</td><td>1</td><td>[2145572,&nbsp;1654978,&nbsp;…&nbsp;174264]</td><td>[null,&nbsp;-0.228654,&nbsp;…&nbsp;-0.958579]</td><td>453825782</td><td>2074</td><td>0.038399</td><td>100.0</td></tr><tr><td>&quot;BALI&quot;</td><td>&quot;KAB.&nbsp;JEMBRANA&quot;</td><td>&quot;2024-10&quot;</td><td>140800</td><td>2</td><td>&quot;60408&quot;</td><td>85300</td><td>1</td><td>[3584595,&nbsp;4401443,&nbsp;…&nbsp;140800]</td><td>[null,&nbsp;0.227877,&nbsp;…&nbsp;-0.967045]</td><td>453825782</td><td>2074</td><td>0.031025</td><td>60.582386</td></tr><tr><td>&quot;BALI&quot;</td><td>&quot;KAB.&nbsp;JEMBRANA&quot;</td><td>&quot;2024-10&quot;</td><td>140800</td><td>2</td><td>&quot;60126&quot;</td><td>55500</td><td>1</td><td>[3584595,&nbsp;4401443,&nbsp;…&nbsp;140800]</td><td>[null,&nbsp;0.227877,&nbsp;…&nbsp;-0.967045]</td><td>453825782</td><td>2074</td><td>0.031025</td><td>39.417614</td></tr><tr><td>&quot;BALI&quot;</td><td>&quot;KAB.&nbsp;KARANGASEM&quot;</td><td>&quot;2024-10&quot;</td><td>60085</td><td>1</td><td>&quot;50149&quot;</td><td>60085</td><td>1</td><td>[1712784,&nbsp;5631980,&nbsp;…&nbsp;60085]</td><td>[null,&nbsp;2.288202,&nbsp;…&nbsp;-0.991468]</td><td>453825782</td><td>2074</td><td>0.01324</td><td>100.0</td></tr></tbody></table></div>"
      ],
      "text/plain": [
       "shape: (44_483, 14)\n",
       "┌────────────┬───────────┬─────────┬───────────┬───┬───────────┬───────────┬───────────┬───────────┐\n",
       "│ Provinsi   ┆ Kota/Kabu ┆ Month   ┆ Monthly_R ┆ … ┆ Total_Pro ┆ Total_Pro ┆ Pct_of_Pr ┆ SKU_Reven │\n",
       "│ ---        ┆ paten     ┆ ---     ┆ evenue    ┆   ┆ vince_Rev ┆ vince_SKU ┆ ovince_Re ┆ ue_Share  │\n",
       "│ str        ┆ ---       ┆ str     ┆ ---       ┆   ┆ enue      ┆ s         ┆ venue     ┆ ---       │\n",
       "│            ┆ str       ┆         ┆ i64       ┆   ┆ ---       ┆ ---       ┆ ---       ┆ f64       │\n",
       "│            ┆           ┆         ┆           ┆   ┆ i64       ┆ u32       ┆ f64       ┆           │\n",
       "╞════════════╪═══════════╪═════════╪═══════════╪═══╪═══════════╪═══════════╪═══════════╪═══════════╡\n",
       "│ SUMATERA   ┆ KOTA      ┆ 2024-07 ┆ 83581270  ┆ … ┆ 605102564 ┆ 3137      ┆ 13.812744 ┆ 0.119644  │\n",
       "│ UTARA      ┆ MEDAN     ┆         ┆           ┆   ┆           ┆           ┆           ┆           │\n",
       "│ SUMATERA   ┆ KOTA      ┆ 2024-07 ┆ 83581270  ┆ … ┆ 605102564 ┆ 3137      ┆ 13.812744 ┆ 0.38106   │\n",
       "│ UTARA      ┆ MEDAN     ┆         ┆           ┆   ┆           ┆           ┆           ┆           │\n",
       "│ SUMATERA   ┆ KOTA      ┆ 2024-07 ┆ 83581270  ┆ … ┆ 605102564 ┆ 3137      ┆ 13.812744 ┆ 0.051591  │\n",
       "│ UTARA      ┆ MEDAN     ┆         ┆           ┆   ┆           ┆           ┆           ┆           │\n",
       "│ SUMATERA   ┆ KOTA      ┆ 2024-07 ┆ 83581270  ┆ … ┆ 605102564 ┆ 3137      ┆ 13.812744 ┆ 0.053457  │\n",
       "│ UTARA      ┆ MEDAN     ┆         ┆           ┆   ┆           ┆           ┆           ┆           │\n",
       "│ SUMATERA   ┆ KOTA      ┆ 2024-07 ┆ 83581270  ┆ … ┆ 605102564 ┆ 3137      ┆ 13.812744 ┆ 0.05384   │\n",
       "│ UTARA      ┆ MEDAN     ┆         ┆           ┆   ┆           ┆           ┆           ┆           │\n",
       "│ SUMATERA   ┆ KOTA      ┆ 2024-07 ┆ 83581270  ┆ … ┆ 605102564 ┆ 3137      ┆ 13.812744 ┆ 0.055167  │\n",
       "│ UTARA      ┆ MEDAN     ┆         ┆           ┆   ┆           ┆           ┆           ┆           │\n",
       "│ SUMATERA   ┆ KOTA      ┆ 2024-07 ┆ 83581270  ┆ … ┆ 605102564 ┆ 3137      ┆ 13.812744 ┆ 0.059224  │\n",
       "│ UTARA      ┆ MEDAN     ┆         ┆           ┆   ┆           ┆           ┆           ┆           │\n",
       "│ SUMATERA   ┆ KOTA      ┆ 2024-07 ┆ 83581270  ┆ … ┆ 605102564 ┆ 3137      ┆ 13.812744 ┆ 0.071786  │\n",
       "│ UTARA      ┆ MEDAN     ┆         ┆           ┆   ┆           ┆           ┆           ┆           │\n",
       "│ SUMATERA   ┆ KOTA      ┆ 2024-07 ┆ 83581270  ┆ … ┆ 605102564 ┆ 3137      ┆ 13.812744 ┆ 0.090046  │\n",
       "│ UTARA      ┆ MEDAN     ┆         ┆           ┆   ┆           ┆           ┆           ┆           │\n",
       "│ SUMATERA   ┆ KOTA      ┆ 2024-07 ┆ 83581270  ┆ … ┆ 605102564 ┆ 3137      ┆ 13.812744 ┆ 0.090929  │\n",
       "│ UTARA      ┆ MEDAN     ┆         ┆           ┆   ┆           ┆           ┆           ┆           │\n",
       "│ SUMATERA   ┆ KOTA      ┆ 2024-07 ┆ 83581270  ┆ … ┆ 605102564 ┆ 3137      ┆ 13.812744 ┆ 0.099771  │\n",
       "│ UTARA      ┆ MEDAN     ┆         ┆           ┆   ┆           ┆           ┆           ┆           │\n",
       "│ SUMATERA   ┆ KOTA      ┆ 2024-07 ┆ 83581270  ┆ … ┆ 605102564 ┆ 3137      ┆ 13.812744 ┆ 0.10543   │\n",
       "│ UTARA      ┆ MEDAN     ┆         ┆           ┆   ┆           ┆           ┆           ┆           │\n",
       "│ SUMATERA   ┆ KOTA      ┆ 2024-07 ┆ 83581270  ┆ … ┆ 605102564 ┆ 3137      ┆ 13.812744 ┆ 0.10634   │\n",
       "│ UTARA      ┆ MEDAN     ┆         ┆           ┆   ┆           ┆           ┆           ┆           │\n",
       "│ SUMATERA   ┆ KOTA      ┆ 2024-07 ┆ 83581270  ┆ … ┆ 605102564 ┆ 3137      ┆ 13.812744 ┆ 0.11811   │\n",
       "│ UTARA      ┆ MEDAN     ┆         ┆           ┆   ┆           ┆           ┆           ┆           │\n",
       "│ SUMATERA   ┆ KOTA      ┆ 2024-07 ┆ 83581270  ┆ … ┆ 605102564 ┆ 3137      ┆ 13.812744 ┆ 0.118113  │\n",
       "│ UTARA      ┆ MEDAN     ┆         ┆           ┆   ┆           ┆           ┆           ┆           │\n",
       "│ …          ┆ …         ┆ …       ┆ …         ┆ … ┆ …         ┆ …         ┆ …         ┆ …         │\n",
       "│ BALI       ┆ KAB.      ┆ 2024-10 ┆ 1597111   ┆ … ┆ 453825782 ┆ 2074      ┆ 0.351922  ┆ 25.068452 │\n",
       "│            ┆ BADUNG    ┆         ┆           ┆   ┆           ┆           ┆           ┆           │\n",
       "│ BALI       ┆ KAB.      ┆ 2024-10 ┆ 1597111   ┆ … ┆ 453825782 ┆ 2074      ┆ 0.351922  ┆ 6.012857  │\n",
       "│            ┆ BADUNG    ┆         ┆           ┆   ┆           ┆           ┆           ┆           │\n",
       "│ BALI       ┆ KAB.      ┆ 2024-10 ┆ 1597111   ┆ … ┆ 453825782 ┆ 2074      ┆ 0.351922  ┆ 4.977738  │\n",
       "│            ┆ BADUNG    ┆         ┆           ┆   ┆           ┆           ┆           ┆           │\n",
       "│ BALI       ┆ KAB.      ┆ 2024-10 ┆ 1597111   ┆ … ┆ 453825782 ┆ 2074      ┆ 0.351922  ┆ 2.39808   │\n",
       "│            ┆ BADUNG    ┆         ┆           ┆   ┆           ┆           ┆           ┆           │\n",
       "│ BALI       ┆ KAB.      ┆ 2024-10 ┆ 506900    ┆ … ┆ 453825782 ┆ 2074      ┆ 0.111695  ┆ 100.0     │\n",
       "│            ┆ TABANAN   ┆         ┆           ┆   ┆           ┆           ┆           ┆           │\n",
       "│ BALI       ┆ KAB.      ┆ 2024-10 ┆ 501008    ┆ … ┆ 453825782 ┆ 2074      ┆ 0.110397  ┆ 36.773465 │\n",
       "│            ┆ BULELENG  ┆         ┆           ┆   ┆           ┆           ┆           ┆           │\n",
       "│ BALI       ┆ KAB.      ┆ 2024-10 ┆ 501008    ┆ … ┆ 453825782 ┆ 2074      ┆ 0.110397  ┆ 36.576262 │\n",
       "│            ┆ BULELENG  ┆         ┆           ┆   ┆           ┆           ┆           ┆           │\n",
       "│ BALI       ┆ KAB.      ┆ 2024-10 ┆ 501008    ┆ … ┆ 453825782 ┆ 2074      ┆ 0.110397  ┆ 26.650273 │\n",
       "│            ┆ BULELENG  ┆         ┆           ┆   ┆           ┆           ┆           ┆           │\n",
       "│ BALI       ┆ KAB.      ┆ 2024-10 ┆ 501008    ┆ … ┆ 453825782 ┆ 2074      ┆ 0.110397  ┆ 0.0       │\n",
       "│            ┆ BULELENG  ┆         ┆           ┆   ┆           ┆           ┆           ┆           │\n",
       "│ BALI       ┆ KAB.      ┆ 2024-10 ┆ 484578    ┆ … ┆ 453825782 ┆ 2074      ┆ 0.106776  ┆ 64.360743 │\n",
       "│            ┆ GIANYAR   ┆         ┆           ┆   ┆           ┆           ┆           ┆           │\n",
       "│ BALI       ┆ KAB.      ┆ 2024-10 ┆ 484578    ┆ … ┆ 453825782 ┆ 2074      ┆ 0.106776  ┆ 35.639257 │\n",
       "│            ┆ GIANYAR   ┆         ┆           ┆   ┆           ┆           ┆           ┆           │\n",
       "│ BALI       ┆ KAB.      ┆ 2024-10 ┆ 174264    ┆ … ┆ 453825782 ┆ 2074      ┆ 0.038399  ┆ 100.0     │\n",
       "│            ┆ BANGLI    ┆         ┆           ┆   ┆           ┆           ┆           ┆           │\n",
       "│ BALI       ┆ KAB.      ┆ 2024-10 ┆ 140800    ┆ … ┆ 453825782 ┆ 2074      ┆ 0.031025  ┆ 60.582386 │\n",
       "│            ┆ JEMBRANA  ┆         ┆           ┆   ┆           ┆           ┆           ┆           │\n",
       "│ BALI       ┆ KAB.      ┆ 2024-10 ┆ 140800    ┆ … ┆ 453825782 ┆ 2074      ┆ 0.031025  ┆ 39.417614 │\n",
       "│            ┆ JEMBRANA  ┆         ┆           ┆   ┆           ┆           ┆           ┆           │\n",
       "│ BALI       ┆ KAB. KARA ┆ 2024-10 ┆ 60085     ┆ … ┆ 453825782 ┆ 2074      ┆ 0.01324   ┆ 100.0     │\n",
       "│            ┆ NGASEM    ┆         ┆           ┆   ┆           ┆           ┆           ┆           │\n",
       "└────────────┴───────────┴─────────┴───────────┴───┴───────────┴───────────┴───────────┴───────────┘"
      ]
     },
     "execution_count": 23,
     "metadata": {},
     "output_type": "execute_result"
    }
   ],
   "source": [
    "det_rev = groupdate.filter(pl.col('Group_date') < '2024-11-01')\n",
    "\n",
    "# Extract month from string date (assuming format like '2024-01-01' or similar)\n",
    "# We'll take first 7 characters if date is in 'YYYY-MM-DD' format\n",
    "monthly_region = (det_rev.group_by([\n",
    "    'Provinsi',\n",
    "    'Kota/Kabupaten',\n",
    "    pl.col('Group_date').str.slice(0, 7).alias('Month')  # Gets YYYY-MM\n",
    "]).agg([\n",
    "    pl.col('Total Pembayaran').sum().alias('Monthly_Revenue'),\n",
    "    pl.count('Nomor Referensi SKU').alias('Num_SKUs_Sold')\n",
    "]).sort(['Month', 'Monthly_Revenue'], descending=True))\n",
    "\n",
    "# Calculate overall province totals for reference\n",
    "province_totals = (det_rev.group_by('Provinsi').agg([\n",
    "    pl.col('Total Pembayaran').sum().alias('Total_Province_Revenue'),\n",
    "    pl.count('Nomor Referensi SKU').alias('Total_Province_SKUs')\n",
    "]).sort('Total_Province_Revenue', descending=True))\n",
    "\n",
    "# SKU Level Analysis by Region and Month\n",
    "sku_performance = (det_rev.group_by([\n",
    "    'Kota/Kabupaten',\n",
    "    'Nomor Referensi SKU',\n",
    "    pl.col('Group_date').str.slice(0, 7).alias('Month')  # Gets YYYY-MM\n",
    "]).agg([\n",
    "    pl.col('Total Pembayaran').sum().alias('SKU_Revenue'),\n",
    "    pl.count('Nomor Referensi SKU').alias('SKU_Count')\n",
    "]).sort(['Month', 'SKU_Revenue'], descending=True))\n",
    "\n",
    "# Month-over-Month Growth Analysis\n",
    "mom_growth = (monthly_region.sort(['Provinsi', 'Kota/Kabupaten', 'Month'])\n",
    "    .group_by(['Provinsi', 'Kota/Kabupaten'])\n",
    "    .agg([\n",
    "        pl.col('Monthly_Revenue'),\n",
    "        pl.col('Monthly_Revenue').pct_change().alias('MoM_Growth')\n",
    "    ]))\n",
    "\n",
    "# Combine insights into final result\n",
    "result = (monthly_region\n",
    "    .join(sku_performance, how='left', on=['Kota/Kabupaten', 'Month'])\n",
    "    .join(mom_growth, how='left', on=['Provinsi', 'Kota/Kabupaten'])\n",
    "    .join(province_totals, how='left', on='Provinsi'))\n",
    "\n",
    "# Add useful metrics\n",
    "result = result.with_columns([\n",
    "    (pl.col('Monthly_Revenue') / pl.col('Total_Province_Revenue') * 100).alias('Pct_of_Province_Revenue'),\n",
    "    (pl.col('SKU_Revenue') / pl.col('Monthly_Revenue') * 100).alias('SKU_Revenue_Share')\n",
    "])\n",
    "\n",
    "# Sort for better readability\n",
    "result = result.sort(['Month', 'Provinsi', 'Monthly_Revenue'], descending=True)\n",
    "result.sort(by='Month')\n"
   ]
  },
  {
   "cell_type": "markdown",
   "metadata": {},
   "source": [
    "# find by margin"
   ]
  },
  {
   "cell_type": "code",
   "execution_count": 24,
   "metadata": {},
   "outputs": [
    {
     "data": {
      "text/html": [
       "<div><style>\n",
       ".dataframe > thead > tr,\n",
       ".dataframe > tbody > tr {\n",
       "  text-align: right;\n",
       "  white-space: pre-wrap;\n",
       "}\n",
       "</style>\n",
       "<small>shape: (110_674, 9)</small><table border=\"1\" class=\"dataframe\"><thead><tr><th>Status Pesanan</th><th>Nomor Referensi SKU</th><th>Waktu Pengiriman Diatur</th><th>Total Pembayaran</th><th>Kota/Kabupaten</th><th>Provinsi</th><th>Harga Awal</th><th>Jumlah</th><th>Group_date</th></tr><tr><td>str</td><td>str</td><td>datetime[ms]</td><td>i64</td><td>str</td><td>str</td><td>i64</td><td>i64</td><td>str</td></tr></thead><tbody><tr><td>&quot;Selesai&quot;</td><td>&quot;90855&quot;</td><td>2024-07-01&nbsp;11:01:00</td><td>155350</td><td>&quot;KOTA&nbsp;JAKARTA&nbsp;BARAT&quot;</td><td>&quot;DKI&nbsp;JAKARTA&quot;</td><td>299000</td><td>1</td><td>&quot;2024-07-01&quot;</td></tr><tr><td>&quot;Selesai&quot;</td><td>&quot;70523&quot;</td><td>2024-07-01&nbsp;12:21:00</td><td>153900</td><td>&quot;KOTA&nbsp;JAKARTA&nbsp;PUSAT&quot;</td><td>&quot;DKI&nbsp;JAKARTA&quot;</td><td>155000</td><td>1</td><td>&quot;2024-07-01&quot;</td></tr><tr><td>&quot;Selesai&quot;</td><td>&quot;60450&quot;</td><td>2024-07-01&nbsp;12:44:00</td><td>119500</td><td>&quot;KOTA&nbsp;JAKARTA&nbsp;TIMUR&quot;</td><td>&quot;DKI&nbsp;JAKARTA&quot;</td><td>92500</td><td>1</td><td>&quot;2024-07-01&quot;</td></tr><tr><td>&quot;Selesai&quot;</td><td>&quot;20956A&quot;</td><td>2024-07-01&nbsp;12:48:00</td><td>296425</td><td>&quot;KOTA&nbsp;JAKARTA&nbsp;SELATAN&quot;</td><td>&quot;DKI&nbsp;JAKARTA&quot;</td><td>295000</td><td>1</td><td>&quot;2024-07-01&quot;</td></tr><tr><td>&quot;Selesai&quot;</td><td>&quot;15108&quot;</td><td>2024-07-01&nbsp;12:50:00</td><td>210373</td><td>&quot;KOTA&nbsp;JAKARTA&nbsp;SELATAN&quot;</td><td>&quot;DKI&nbsp;JAKARTA&quot;</td><td>55000</td><td>1</td><td>&quot;2024-07-01&quot;</td></tr><tr><td>&quot;Selesai&quot;</td><td>&quot;40755&quot;</td><td>2024-07-01&nbsp;12:50:00</td><td>210373</td><td>&quot;KOTA&nbsp;JAKARTA&nbsp;SELATAN&quot;</td><td>&quot;DKI&nbsp;JAKARTA&quot;</td><td>185000</td><td>1</td><td>&quot;2024-07-01&quot;</td></tr><tr><td>&quot;Selesai&quot;</td><td>&quot;25629&quot;</td><td>2024-07-01&nbsp;12:56:00</td><td>71500</td><td>&quot;KOTA&nbsp;JAKARTA&nbsp;BARAT&quot;</td><td>&quot;DKI&nbsp;JAKARTA&quot;</td><td>75000</td><td>1</td><td>&quot;2024-07-01&quot;</td></tr><tr><td>&quot;Selesai&quot;</td><td>&quot;60450&quot;</td><td>2024-07-01&nbsp;12:57:00</td><td>124500</td><td>&quot;KOTA&nbsp;TANGERANG&nbsp;SELATAN&quot;</td><td>&quot;BANTEN&quot;</td><td>92500</td><td>1</td><td>&quot;2024-07-01&quot;</td></tr><tr><td>&quot;Selesai&quot;</td><td>&quot;60969&quot;</td><td>2024-07-01&nbsp;13:02:00</td><td>381025</td><td>&quot;KOTA&nbsp;BEKASI&quot;</td><td>&quot;JAWA&nbsp;BARAT&quot;</td><td>699000</td><td>1</td><td>&quot;2024-07-01&quot;</td></tr><tr><td>&quot;Selesai&quot;</td><td>&quot;60450-70523.&quot;</td><td>2024-07-01&nbsp;13:05:00</td><td>229795</td><td>&quot;KOTA&nbsp;JAKARTA&nbsp;SELATAN&quot;</td><td>&quot;DKI&nbsp;JAKARTA&quot;</td><td>247500</td><td>1</td><td>&quot;2024-07-01&quot;</td></tr><tr><td>&quot;Selesai&quot;</td><td>&quot;70525&quot;</td><td>2024-07-01&nbsp;13:05:00</td><td>521000</td><td>&quot;KOTA&nbsp;JAKARTA&nbsp;PUSAT&quot;</td><td>&quot;DKI&nbsp;JAKARTA&quot;</td><td>189000</td><td>1</td><td>&quot;2024-07-01&quot;</td></tr><tr><td>&quot;Selesai&quot;</td><td>&quot;90666-60759&quot;</td><td>2024-07-01&nbsp;13:05:00</td><td>521000</td><td>&quot;KOTA&nbsp;JAKARTA&nbsp;PUSAT&quot;</td><td>&quot;DKI&nbsp;JAKARTA&quot;</td><td>330000</td><td>1</td><td>&quot;2024-07-01&quot;</td></tr><tr><td>&quot;Selesai&quot;</td><td>&quot;60450&quot;</td><td>2024-07-01&nbsp;13:06:00</td><td>94425</td><td>&quot;KOTA&nbsp;JAKARTA&nbsp;UTARA&quot;</td><td>&quot;DKI&nbsp;JAKARTA&quot;</td><td>92500</td><td>1</td><td>&quot;2024-07-01&quot;</td></tr><tr><td>&quot;Selesai&quot;</td><td>&quot;40289&quot;</td><td>2024-07-01&nbsp;13:07:00</td><td>643865</td><td>&quot;KOTA&nbsp;JAKARTA&nbsp;PUSAT&quot;</td><td>&quot;DKI&nbsp;JAKARTA&quot;</td><td>199000</td><td>1</td><td>&quot;2024-07-01&quot;</td></tr><tr><td>&quot;Selesai&quot;</td><td>&quot;15601&quot;</td><td>2024-07-01&nbsp;13:07:00</td><td>643865</td><td>&quot;KOTA&nbsp;JAKARTA&nbsp;PUSAT&quot;</td><td>&quot;DKI&nbsp;JAKARTA&quot;</td><td>490000</td><td>1</td><td>&quot;2024-07-01&quot;</td></tr><tr><td>&hellip;</td><td>&hellip;</td><td>&hellip;</td><td>&hellip;</td><td>&hellip;</td><td>&hellip;</td><td>&hellip;</td><td>&hellip;</td><td>&hellip;</td></tr><tr><td>&quot;Selesai&quot;</td><td>&quot;60763&quot;</td><td>2024-10-02&nbsp;15:30:00</td><td>167620</td><td>&quot;KAB.&nbsp;BEKASI&quot;</td><td>&quot;JAWA&nbsp;BARAT&quot;</td><td>169000</td><td>1</td><td>&quot;2024-10-02&quot;</td></tr><tr><td>&quot;Selesai&quot;</td><td>&quot;20103&quot;</td><td>2024-10-02&nbsp;15:30:00</td><td>59500</td><td>&quot;KOTA&nbsp;SAMARINDA&quot;</td><td>&quot;KALIMANTAN&nbsp;TIMUR&quot;</td><td>50000</td><td>1</td><td>&quot;2024-10-02&quot;</td></tr><tr><td>&quot;Selesai&quot;</td><td>&quot;60118&quot;</td><td>2024-10-02&nbsp;15:30:00</td><td>39516</td><td>&quot;KAB.&nbsp;PURBALINGGA&quot;</td><td>&quot;JAWA&nbsp;TENGAH&quot;</td><td>39000</td><td>1</td><td>&quot;2024-10-02&quot;</td></tr><tr><td>&quot;Selesai&quot;</td><td>&quot;60134&quot;</td><td>2024-10-02&nbsp;15:31:00</td><td>21800</td><td>&quot;KAB.&nbsp;SIDOARJO&quot;</td><td>&quot;JAWA&nbsp;TIMUR&quot;</td><td>19000</td><td>1</td><td>&quot;2024-10-02&quot;</td></tr><tr><td>&quot;Selesai&quot;</td><td>&quot;15951&quot;</td><td>2024-10-02&nbsp;15:46:00</td><td>469500</td><td>&quot;KOTA&nbsp;PEMATANG&nbsp;SIANTAR&quot;</td><td>&quot;SUMATERA&nbsp;UTARA&quot;</td><td>750000</td><td>1</td><td>&quot;2024-10-02&quot;</td></tr><tr><td>&quot;Selesai&quot;</td><td>&quot;60116&quot;</td><td>2024-10-02&nbsp;17:13:00</td><td>28007</td><td>&quot;KAB.&nbsp;SUKABUMI&quot;</td><td>&quot;JAWA&nbsp;BARAT&quot;</td><td>30000</td><td>1</td><td>&quot;2024-10-02&quot;</td></tr><tr><td>&quot;Selesai&quot;</td><td>&quot;60116&quot;</td><td>2024-10-02&nbsp;17:13:00</td><td>54328</td><td>&quot;KOTA&nbsp;JAMBI&quot;</td><td>&quot;JAMBI&quot;</td><td>30000</td><td>2</td><td>&quot;2024-10-02&quot;</td></tr><tr><td>&quot;Selesai&quot;</td><td>&quot;60116&quot;</td><td>2024-10-02&nbsp;17:13:00</td><td>25996</td><td>&quot;KOTA&nbsp;BANDAR&nbsp;LAMPUNG&quot;</td><td>&quot;LAMPUNG&quot;</td><td>30000</td><td>1</td><td>&quot;2024-10-02&quot;</td></tr><tr><td>&quot;Selesai&quot;</td><td>&quot;25185&quot;</td><td>2024-10-02&nbsp;20:13:00</td><td>415100</td><td>&quot;KOTA&nbsp;MANADO&quot;</td><td>&quot;SULAWESI&nbsp;UTARA&quot;</td><td>369000</td><td>1</td><td>&quot;2024-10-02&quot;</td></tr><tr><td>&quot;Selesai&quot;</td><td>&quot;70429&quot;</td><td>2024-10-02&nbsp;20:13:00</td><td>415100</td><td>&quot;KOTA&nbsp;MANADO&quot;</td><td>&quot;SULAWESI&nbsp;UTARA&quot;</td><td>95000</td><td>1</td><td>&quot;2024-10-02&quot;</td></tr><tr><td>&quot;Selesai&quot;</td><td>&quot;50581&quot;</td><td>2024-10-03&nbsp;14:48:00</td><td>173863</td><td>&quot;KAB.&nbsp;SIDOARJO&quot;</td><td>&quot;JAWA&nbsp;TIMUR&quot;</td><td>185000</td><td>1</td><td>&quot;2024-10-03&quot;</td></tr><tr><td>&quot;Selesai&quot;</td><td>&quot;50581&quot;</td><td>2024-10-03&nbsp;14:48:00</td><td>170579</td><td>&quot;KOTA&nbsp;JAKARTA&nbsp;TIMUR&quot;</td><td>&quot;DKI&nbsp;JAKARTA&quot;</td><td>185000</td><td>1</td><td>&quot;2024-10-03&quot;</td></tr><tr><td>&quot;Selesai&quot;</td><td>&quot;50581&quot;</td><td>2024-10-03&nbsp;14:48:00</td><td>174160</td><td>&quot;KOTA&nbsp;DEPOK&quot;</td><td>&quot;JAWA&nbsp;BARAT&quot;</td><td>185000</td><td>1</td><td>&quot;2024-10-03&quot;</td></tr><tr><td>&quot;Selesai&quot;</td><td>&quot;50581&quot;</td><td>2024-10-03&nbsp;14:48:00</td><td>170312</td><td>&quot;KAB.&nbsp;BATANG&quot;</td><td>&quot;JAWA&nbsp;TENGAH&quot;</td><td>185000</td><td>1</td><td>&quot;2024-10-03&quot;</td></tr><tr><td>&quot;Selesai&quot;</td><td>&quot;50581&quot;</td><td>2024-10-03&nbsp;15:00:00</td><td>201300</td><td>&quot;KAB.&nbsp;BEKASI&quot;</td><td>&quot;JAWA&nbsp;BARAT&quot;</td><td>185000</td><td>1</td><td>&quot;2024-10-03&quot;</td></tr></tbody></table></div>"
      ],
      "text/plain": [
       "shape: (110_674, 9)\n",
       "┌────────────┬────────────┬────────────┬────────────┬───┬────────────┬────────┬────────┬───────────┐\n",
       "│ Status     ┆ Nomor      ┆ Waktu      ┆ Total      ┆ … ┆ Provinsi   ┆ Harga  ┆ Jumlah ┆ Group_dat │\n",
       "│ Pesanan    ┆ Referensi  ┆ Pengiriman ┆ Pembayaran ┆   ┆ ---        ┆ Awal   ┆ ---    ┆ e         │\n",
       "│ ---        ┆ SKU        ┆ Diatur     ┆ ---        ┆   ┆ str        ┆ ---    ┆ i64    ┆ ---       │\n",
       "│ str        ┆ ---        ┆ ---        ┆ i64        ┆   ┆            ┆ i64    ┆        ┆ str       │\n",
       "│            ┆ str        ┆ datetime[m ┆            ┆   ┆            ┆        ┆        ┆           │\n",
       "│            ┆            ┆ s]         ┆            ┆   ┆            ┆        ┆        ┆           │\n",
       "╞════════════╪════════════╪════════════╪════════════╪═══╪════════════╪════════╪════════╪═══════════╡\n",
       "│ Selesai    ┆ 90855      ┆ 2024-07-01 ┆ 155350     ┆ … ┆ DKI        ┆ 299000 ┆ 1      ┆ 2024-07-0 │\n",
       "│            ┆            ┆ 11:01:00   ┆            ┆   ┆ JAKARTA    ┆        ┆        ┆ 1         │\n",
       "│ Selesai    ┆ 70523      ┆ 2024-07-01 ┆ 153900     ┆ … ┆ DKI        ┆ 155000 ┆ 1      ┆ 2024-07-0 │\n",
       "│            ┆            ┆ 12:21:00   ┆            ┆   ┆ JAKARTA    ┆        ┆        ┆ 1         │\n",
       "│ Selesai    ┆ 60450      ┆ 2024-07-01 ┆ 119500     ┆ … ┆ DKI        ┆ 92500  ┆ 1      ┆ 2024-07-0 │\n",
       "│            ┆            ┆ 12:44:00   ┆            ┆   ┆ JAKARTA    ┆        ┆        ┆ 1         │\n",
       "│ Selesai    ┆ 20956A     ┆ 2024-07-01 ┆ 296425     ┆ … ┆ DKI        ┆ 295000 ┆ 1      ┆ 2024-07-0 │\n",
       "│            ┆            ┆ 12:48:00   ┆            ┆   ┆ JAKARTA    ┆        ┆        ┆ 1         │\n",
       "│ Selesai    ┆ 15108      ┆ 2024-07-01 ┆ 210373     ┆ … ┆ DKI        ┆ 55000  ┆ 1      ┆ 2024-07-0 │\n",
       "│            ┆            ┆ 12:50:00   ┆            ┆   ┆ JAKARTA    ┆        ┆        ┆ 1         │\n",
       "│ Selesai    ┆ 40755      ┆ 2024-07-01 ┆ 210373     ┆ … ┆ DKI        ┆ 185000 ┆ 1      ┆ 2024-07-0 │\n",
       "│            ┆            ┆ 12:50:00   ┆            ┆   ┆ JAKARTA    ┆        ┆        ┆ 1         │\n",
       "│ Selesai    ┆ 25629      ┆ 2024-07-01 ┆ 71500      ┆ … ┆ DKI        ┆ 75000  ┆ 1      ┆ 2024-07-0 │\n",
       "│            ┆            ┆ 12:56:00   ┆            ┆   ┆ JAKARTA    ┆        ┆        ┆ 1         │\n",
       "│ Selesai    ┆ 60450      ┆ 2024-07-01 ┆ 124500     ┆ … ┆ BANTEN     ┆ 92500  ┆ 1      ┆ 2024-07-0 │\n",
       "│            ┆            ┆ 12:57:00   ┆            ┆   ┆            ┆        ┆        ┆ 1         │\n",
       "│ Selesai    ┆ 60969      ┆ 2024-07-01 ┆ 381025     ┆ … ┆ JAWA BARAT ┆ 699000 ┆ 1      ┆ 2024-07-0 │\n",
       "│            ┆            ┆ 13:02:00   ┆            ┆   ┆            ┆        ┆        ┆ 1         │\n",
       "│ Selesai    ┆ 60450-7052 ┆ 2024-07-01 ┆ 229795     ┆ … ┆ DKI        ┆ 247500 ┆ 1      ┆ 2024-07-0 │\n",
       "│            ┆ 3.         ┆ 13:05:00   ┆            ┆   ┆ JAKARTA    ┆        ┆        ┆ 1         │\n",
       "│ Selesai    ┆ 70525      ┆ 2024-07-01 ┆ 521000     ┆ … ┆ DKI        ┆ 189000 ┆ 1      ┆ 2024-07-0 │\n",
       "│            ┆            ┆ 13:05:00   ┆            ┆   ┆ JAKARTA    ┆        ┆        ┆ 1         │\n",
       "│ Selesai    ┆ 90666-6075 ┆ 2024-07-01 ┆ 521000     ┆ … ┆ DKI        ┆ 330000 ┆ 1      ┆ 2024-07-0 │\n",
       "│            ┆ 9          ┆ 13:05:00   ┆            ┆   ┆ JAKARTA    ┆        ┆        ┆ 1         │\n",
       "│ Selesai    ┆ 60450      ┆ 2024-07-01 ┆ 94425      ┆ … ┆ DKI        ┆ 92500  ┆ 1      ┆ 2024-07-0 │\n",
       "│            ┆            ┆ 13:06:00   ┆            ┆   ┆ JAKARTA    ┆        ┆        ┆ 1         │\n",
       "│ Selesai    ┆ 40289      ┆ 2024-07-01 ┆ 643865     ┆ … ┆ DKI        ┆ 199000 ┆ 1      ┆ 2024-07-0 │\n",
       "│            ┆            ┆ 13:07:00   ┆            ┆   ┆ JAKARTA    ┆        ┆        ┆ 1         │\n",
       "│ Selesai    ┆ 15601      ┆ 2024-07-01 ┆ 643865     ┆ … ┆ DKI        ┆ 490000 ┆ 1      ┆ 2024-07-0 │\n",
       "│            ┆            ┆ 13:07:00   ┆            ┆   ┆ JAKARTA    ┆        ┆        ┆ 1         │\n",
       "│ …          ┆ …          ┆ …          ┆ …          ┆ … ┆ …          ┆ …      ┆ …      ┆ …         │\n",
       "│ Selesai    ┆ 60763      ┆ 2024-10-02 ┆ 167620     ┆ … ┆ JAWA BARAT ┆ 169000 ┆ 1      ┆ 2024-10-0 │\n",
       "│            ┆            ┆ 15:30:00   ┆            ┆   ┆            ┆        ┆        ┆ 2         │\n",
       "│ Selesai    ┆ 20103      ┆ 2024-10-02 ┆ 59500      ┆ … ┆ KALIMANTAN ┆ 50000  ┆ 1      ┆ 2024-10-0 │\n",
       "│            ┆            ┆ 15:30:00   ┆            ┆   ┆ TIMUR      ┆        ┆        ┆ 2         │\n",
       "│ Selesai    ┆ 60118      ┆ 2024-10-02 ┆ 39516      ┆ … ┆ JAWA       ┆ 39000  ┆ 1      ┆ 2024-10-0 │\n",
       "│            ┆            ┆ 15:30:00   ┆            ┆   ┆ TENGAH     ┆        ┆        ┆ 2         │\n",
       "│ Selesai    ┆ 60134      ┆ 2024-10-02 ┆ 21800      ┆ … ┆ JAWA TIMUR ┆ 19000  ┆ 1      ┆ 2024-10-0 │\n",
       "│            ┆            ┆ 15:31:00   ┆            ┆   ┆            ┆        ┆        ┆ 2         │\n",
       "│ Selesai    ┆ 15951      ┆ 2024-10-02 ┆ 469500     ┆ … ┆ SUMATERA   ┆ 750000 ┆ 1      ┆ 2024-10-0 │\n",
       "│            ┆            ┆ 15:46:00   ┆            ┆   ┆ UTARA      ┆        ┆        ┆ 2         │\n",
       "│ Selesai    ┆ 60116      ┆ 2024-10-02 ┆ 28007      ┆ … ┆ JAWA BARAT ┆ 30000  ┆ 1      ┆ 2024-10-0 │\n",
       "│            ┆            ┆ 17:13:00   ┆            ┆   ┆            ┆        ┆        ┆ 2         │\n",
       "│ Selesai    ┆ 60116      ┆ 2024-10-02 ┆ 54328      ┆ … ┆ JAMBI      ┆ 30000  ┆ 2      ┆ 2024-10-0 │\n",
       "│            ┆            ┆ 17:13:00   ┆            ┆   ┆            ┆        ┆        ┆ 2         │\n",
       "│ Selesai    ┆ 60116      ┆ 2024-10-02 ┆ 25996      ┆ … ┆ LAMPUNG    ┆ 30000  ┆ 1      ┆ 2024-10-0 │\n",
       "│            ┆            ┆ 17:13:00   ┆            ┆   ┆            ┆        ┆        ┆ 2         │\n",
       "│ Selesai    ┆ 25185      ┆ 2024-10-02 ┆ 415100     ┆ … ┆ SULAWESI   ┆ 369000 ┆ 1      ┆ 2024-10-0 │\n",
       "│            ┆            ┆ 20:13:00   ┆            ┆   ┆ UTARA      ┆        ┆        ┆ 2         │\n",
       "│ Selesai    ┆ 70429      ┆ 2024-10-02 ┆ 415100     ┆ … ┆ SULAWESI   ┆ 95000  ┆ 1      ┆ 2024-10-0 │\n",
       "│            ┆            ┆ 20:13:00   ┆            ┆   ┆ UTARA      ┆        ┆        ┆ 2         │\n",
       "│ Selesai    ┆ 50581      ┆ 2024-10-03 ┆ 173863     ┆ … ┆ JAWA TIMUR ┆ 185000 ┆ 1      ┆ 2024-10-0 │\n",
       "│            ┆            ┆ 14:48:00   ┆            ┆   ┆            ┆        ┆        ┆ 3         │\n",
       "│ Selesai    ┆ 50581      ┆ 2024-10-03 ┆ 170579     ┆ … ┆ DKI        ┆ 185000 ┆ 1      ┆ 2024-10-0 │\n",
       "│            ┆            ┆ 14:48:00   ┆            ┆   ┆ JAKARTA    ┆        ┆        ┆ 3         │\n",
       "│ Selesai    ┆ 50581      ┆ 2024-10-03 ┆ 174160     ┆ … ┆ JAWA BARAT ┆ 185000 ┆ 1      ┆ 2024-10-0 │\n",
       "│            ┆            ┆ 14:48:00   ┆            ┆   ┆            ┆        ┆        ┆ 3         │\n",
       "│ Selesai    ┆ 50581      ┆ 2024-10-03 ┆ 170312     ┆ … ┆ JAWA       ┆ 185000 ┆ 1      ┆ 2024-10-0 │\n",
       "│            ┆            ┆ 14:48:00   ┆            ┆   ┆ TENGAH     ┆        ┆        ┆ 3         │\n",
       "│ Selesai    ┆ 50581      ┆ 2024-10-03 ┆ 201300     ┆ … ┆ JAWA BARAT ┆ 185000 ┆ 1      ┆ 2024-10-0 │\n",
       "│            ┆            ┆ 15:00:00   ┆            ┆   ┆            ┆        ┆        ┆ 3         │\n",
       "└────────────┴────────────┴────────────┴────────────┴───┴────────────┴────────┴────────┴───────────┘"
      ]
     },
     "execution_count": 24,
     "metadata": {},
     "output_type": "execute_result"
    }
   ],
   "source": [
    "groupdate"
   ]
  }
 ],
 "metadata": {
  "kernelspec": {
   "display_name": "base",
   "language": "python",
   "name": "python3"
  },
  "language_info": {
   "codemirror_mode": {
    "name": "ipython",
    "version": 3
   },
   "file_extension": ".py",
   "mimetype": "text/x-python",
   "name": "python",
   "nbconvert_exporter": "python",
   "pygments_lexer": "ipython3",
   "version": "3.12.3"
  }
 },
 "nbformat": 4,
 "nbformat_minor": 2
}
