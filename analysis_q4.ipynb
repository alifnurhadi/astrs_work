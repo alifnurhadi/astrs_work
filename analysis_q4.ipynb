{
 "cells": [
  {
   "cell_type": "code",
   "execution_count": 18,
   "metadata": {},
   "outputs": [],
   "source": [
    "import polars as pl\n",
    "from scipy import stats"
   ]
  },
  {
   "cell_type": "code",
   "execution_count": 19,
   "metadata": {},
   "outputs": [],
   "source": [
    "thepath = r'C:\\Users\\MARKETING SUPPORT\\Documents\\asteros\\astrs_work\\on_prog_q4_explore.parquet'\n",
    "masters = pl.read_parquet(thepath)"
   ]
  },
  {
   "cell_type": "code",
   "execution_count": 20,
   "metadata": {},
   "outputs": [],
   "source": [
    "revenue = masters.filter([pl.col('Status Pesanan')!=\"Batal\",pl.col('Waktu Pengiriman Diatur').is_not_null()]).sort(by='Waktu Pengiriman Diatur')['No. Pesanan','Status Pesanan','Alasan Pembatalan','Status Pembatalan/ Pengembalian','No. Resi',\n",
    "       'Opsi Pengiriman','Antar ke counter/ pick-up','Pesanan Harus Dikirimkan Sebelum (Menghindari keterlambatan)','Waktu Pengiriman Diatur',\n",
    "       'Waktu Pesanan Dibuat','Waktu Pembayaran Dilakukan','Metode Pembayaran','SKU Induk','Nama Produk','Nomor Referensi SKU','Nama Variasi',\n",
    "       'Harga Awal','Harga Setelah Diskon','Jumlah','Returned quantity','Total Harga Produk','Total Diskon','Diskon Dari Penjual',\n",
    "       'Diskon Dari Shopee','Berat Produk','Jumlah Produk di Pesan','Total Berat','Voucher Ditanggung Penjual','ditanggung penjual no dup',\n",
    "       'Cashback Koin','Voucher Ditanggung Shopee','Paket Diskon','Paket Diskon (Diskon dari Shopee)','Paket Diskon (Diskon dari Penjual)',\n",
    "       'Potongan Koin Shopee','Diskon Kartu Kredit','Ongkos Kirim Dibayar oleh Pembeli','Estimasi Potongan Biaya Pengiriman','Ongkos Kirim Pengembalian Barang',\n",
    "       'Total Pembayaran','total no dup','Perkiraan Ongkos Kirim','Catatan dari Pembeli','Catatan','Username (Pembeli)','Nama Penerima',\n",
    "       'No. Telepon','Alamat Pengiriman','Kota/Kabupaten','Provinsi','Waktu Pesanan Selesai','source',\n",
    " ]\n",
    "groupdate = revenue.with_columns(pl.col('Waktu Pesanan Dibuat').dt.date().alias('Group_date').cast(pl.Utf8)).filter(pl.col('Group_date')<'2024-11-01')"
   ]
  },
  {
   "cell_type": "markdown",
   "metadata": {},
   "source": [
    "# executive"
   ]
  },
  {
   "cell_type": "code",
   "execution_count": 21,
   "metadata": {},
   "outputs": [
    {
     "data": {
      "text/html": [
       "\n",
       "<style>\n",
       "  #altair-viz-4928116e426e470f939baf498defb378.vega-embed {\n",
       "    width: 100%;\n",
       "    display: flex;\n",
       "  }\n",
       "\n",
       "  #altair-viz-4928116e426e470f939baf498defb378.vega-embed details,\n",
       "  #altair-viz-4928116e426e470f939baf498defb378.vega-embed details summary {\n",
       "    position: relative;\n",
       "  }\n",
       "</style>\n",
       "<div id=\"altair-viz-4928116e426e470f939baf498defb378\"></div>\n",
       "<script type=\"text/javascript\">\n",
       "  var VEGA_DEBUG = (typeof VEGA_DEBUG == \"undefined\") ? {} : VEGA_DEBUG;\n",
       "  (function(spec, embedOpt){\n",
       "    let outputDiv = document.currentScript.previousElementSibling;\n",
       "    if (outputDiv.id !== \"altair-viz-4928116e426e470f939baf498defb378\") {\n",
       "      outputDiv = document.getElementById(\"altair-viz-4928116e426e470f939baf498defb378\");\n",
       "    }\n",
       "\n",
       "    const paths = {\n",
       "      \"vega\": \"https://cdn.jsdelivr.net/npm/vega@5?noext\",\n",
       "      \"vega-lib\": \"https://cdn.jsdelivr.net/npm/vega-lib?noext\",\n",
       "      \"vega-lite\": \"https://cdn.jsdelivr.net/npm/vega-lite@5.20.1?noext\",\n",
       "      \"vega-embed\": \"https://cdn.jsdelivr.net/npm/vega-embed@6?noext\",\n",
       "    };\n",
       "\n",
       "    function maybeLoadScript(lib, version) {\n",
       "      var key = `${lib.replace(\"-\", \"\")}_version`;\n",
       "      return (VEGA_DEBUG[key] == version) ?\n",
       "        Promise.resolve(paths[lib]) :\n",
       "        new Promise(function(resolve, reject) {\n",
       "          var s = document.createElement('script');\n",
       "          document.getElementsByTagName(\"head\")[0].appendChild(s);\n",
       "          s.async = true;\n",
       "          s.onload = () => {\n",
       "            VEGA_DEBUG[key] = version;\n",
       "            return resolve(paths[lib]);\n",
       "          };\n",
       "          s.onerror = () => reject(`Error loading script: ${paths[lib]}`);\n",
       "          s.src = paths[lib];\n",
       "        });\n",
       "    }\n",
       "\n",
       "    function showError(err) {\n",
       "      outputDiv.innerHTML = `<div class=\"error\" style=\"color:red;\">${err}</div>`;\n",
       "      throw err;\n",
       "    }\n",
       "\n",
       "    function displayChart(vegaEmbed) {\n",
       "      vegaEmbed(outputDiv, spec, embedOpt)\n",
       "        .catch(err => showError(`Javascript Error: ${err.message}<br>This usually means there's a typo in your chart specification. See the javascript console for the full traceback.`));\n",
       "    }\n",
       "\n",
       "    if(typeof define === \"function\" && define.amd) {\n",
       "      requirejs.config({paths});\n",
       "      let deps = [\"vega-embed\"];\n",
       "      require(deps, displayChart, err => showError(`Error loading script: ${err.message}`));\n",
       "    } else {\n",
       "      maybeLoadScript(\"vega\", \"5\")\n",
       "        .then(() => maybeLoadScript(\"vega-lite\", \"5.20.1\"))\n",
       "        .then(() => maybeLoadScript(\"vega-embed\", \"6\"))\n",
       "        .catch(showError)\n",
       "        .then(() => displayChart(vegaEmbed));\n",
       "    }\n",
       "  })({\"config\": {\"view\": {\"continuousWidth\": 300, \"continuousHeight\": 300}}, \"data\": {\"name\": \"data-25b7671eba9c46aa05f583b260c20138\"}, \"mark\": {\"type\": \"line\", \"tooltip\": true}, \"encoding\": {\"x\": {\"field\": \"Group_date\", \"type\": \"nominal\"}, \"y\": {\"field\": \"total no dup\", \"type\": \"quantitative\"}}, \"params\": [{\"name\": \"param_8\", \"select\": {\"type\": \"interval\", \"encodings\": [\"x\", \"y\"]}, \"bind\": \"scales\"}], \"$schema\": \"https://vega.github.io/schema/vega-lite/v5.20.1.json\", \"datasets\": {\"data-25b7671eba9c46aa05f583b260c20138\": [{\"Group_date\": \"2024-10-01\", \"total no dup\": 236458871}, {\"Group_date\": \"2024-10-02\", \"total no dup\": 226335507}, {\"Group_date\": \"2024-10-03\", \"total no dup\": 201772608}, {\"Group_date\": \"2024-10-04\", \"total no dup\": 149156442}, {\"Group_date\": \"2024-10-05\", \"total no dup\": 171430327}, {\"Group_date\": \"2024-10-06\", \"total no dup\": 171977055}, {\"Group_date\": \"2024-10-07\", \"total no dup\": 233876461}, {\"Group_date\": \"2024-10-08\", \"total no dup\": 253364207}, {\"Group_date\": \"2024-10-09\", \"total no dup\": 239422789}, {\"Group_date\": \"2024-10-10\", \"total no dup\": 541070055}, {\"Group_date\": \"2024-10-11\", \"total no dup\": 192515437}, {\"Group_date\": \"2024-10-12\", \"total no dup\": 230904482}, {\"Group_date\": \"2024-10-13\", \"total no dup\": 205378800}, {\"Group_date\": \"2024-10-14\", \"total no dup\": 267810141}, {\"Group_date\": \"2024-10-15\", \"total no dup\": 238243062}, {\"Group_date\": \"2024-10-16\", \"total no dup\": 197760707}, {\"Group_date\": \"2024-10-17\", \"total no dup\": 176990829}, {\"Group_date\": \"2024-10-18\", \"total no dup\": 165952608}, {\"Group_date\": \"2024-10-19\", \"total no dup\": 188633683}, {\"Group_date\": \"2024-10-20\", \"total no dup\": 163940282}, {\"Group_date\": \"2024-10-21\", \"total no dup\": 211039305}, {\"Group_date\": \"2024-10-22\", \"total no dup\": 183270592}, {\"Group_date\": \"2024-10-23\", \"total no dup\": 174567543}, {\"Group_date\": \"2024-10-24\", \"total no dup\": 151647513}, {\"Group_date\": \"2024-10-25\", \"total no dup\": 166053741}, {\"Group_date\": \"2024-10-26\", \"total no dup\": 149530186}, {\"Group_date\": \"2024-10-27\", \"total no dup\": 155192016}, {\"Group_date\": \"2024-10-28\", \"total no dup\": 207170589}, {\"Group_date\": \"2024-10-29\", \"total no dup\": 195644109}, {\"Group_date\": \"2024-10-30\", \"total no dup\": 181180798}, {\"Group_date\": \"2024-10-31\", \"total no dup\": 202020644}]}}, {\"mode\": \"vega-lite\"});\n",
       "</script>"
      ],
      "text/plain": [
       "alt.Chart(...)"
      ]
     },
     "execution_count": 21,
     "metadata": {},
     "output_type": "execute_result"
    }
   ],
   "source": [
    "groupdate.group_by('Group_date').agg(pl.col('total no dup').sum()).sort('Group_date').plot.line(x='Group_date',y='total no dup')"
   ]
  },
  {
   "cell_type": "markdown",
   "metadata": {},
   "source": [
    "### insight \n",
    "\n",
    "if we penalize x factor like event 10. 10 shopee the first 2 week i goes rally start from 4th day of month before they falling off"
   ]
  },
  {
   "cell_type": "code",
   "execution_count": 22,
   "metadata": {},
   "outputs": [
    {
     "data": {
      "text/plain": [
       "DataTransformerRegistry.enable('default')"
      ]
     },
     "execution_count": 22,
     "metadata": {},
     "output_type": "execute_result"
    }
   ],
   "source": [
    "import altair as alt\n",
    "\n",
    "alt.data_transformers.disable_max_rows()"
   ]
  },
  {
   "cell_type": "code",
   "execution_count": 23,
   "metadata": {},
   "outputs": [
    {
     "data": {
      "text/html": [
       "\n",
       "<style>\n",
       "  #altair-viz-94cb9b3f3eb047eabd6bba2c28808c78.vega-embed {\n",
       "    width: 100%;\n",
       "    display: flex;\n",
       "  }\n",
       "\n",
       "  #altair-viz-94cb9b3f3eb047eabd6bba2c28808c78.vega-embed details,\n",
       "  #altair-viz-94cb9b3f3eb047eabd6bba2c28808c78.vega-embed details summary {\n",
       "    position: relative;\n",
       "  }\n",
       "</style>\n",
       "<div id=\"altair-viz-94cb9b3f3eb047eabd6bba2c28808c78\"></div>\n",
       "<script type=\"text/javascript\">\n",
       "  var VEGA_DEBUG = (typeof VEGA_DEBUG == \"undefined\") ? {} : VEGA_DEBUG;\n",
       "  (function(spec, embedOpt){\n",
       "    let outputDiv = document.currentScript.previousElementSibling;\n",
       "    if (outputDiv.id !== \"altair-viz-94cb9b3f3eb047eabd6bba2c28808c78\") {\n",
       "      outputDiv = document.getElementById(\"altair-viz-94cb9b3f3eb047eabd6bba2c28808c78\");\n",
       "    }\n",
       "\n",
       "    const paths = {\n",
       "      \"vega\": \"https://cdn.jsdelivr.net/npm/vega@5?noext\",\n",
       "      \"vega-lib\": \"https://cdn.jsdelivr.net/npm/vega-lib?noext\",\n",
       "      \"vega-lite\": \"https://cdn.jsdelivr.net/npm/vega-lite@5.20.1?noext\",\n",
       "      \"vega-embed\": \"https://cdn.jsdelivr.net/npm/vega-embed@6?noext\",\n",
       "    };\n",
       "\n",
       "    function maybeLoadScript(lib, version) {\n",
       "      var key = `${lib.replace(\"-\", \"\")}_version`;\n",
       "      return (VEGA_DEBUG[key] == version) ?\n",
       "        Promise.resolve(paths[lib]) :\n",
       "        new Promise(function(resolve, reject) {\n",
       "          var s = document.createElement('script');\n",
       "          document.getElementsByTagName(\"head\")[0].appendChild(s);\n",
       "          s.async = true;\n",
       "          s.onload = () => {\n",
       "            VEGA_DEBUG[key] = version;\n",
       "            return resolve(paths[lib]);\n",
       "          };\n",
       "          s.onerror = () => reject(`Error loading script: ${paths[lib]}`);\n",
       "          s.src = paths[lib];\n",
       "        });\n",
       "    }\n",
       "\n",
       "    function showError(err) {\n",
       "      outputDiv.innerHTML = `<div class=\"error\" style=\"color:red;\">${err}</div>`;\n",
       "      throw err;\n",
       "    }\n",
       "\n",
       "    function displayChart(vegaEmbed) {\n",
       "      vegaEmbed(outputDiv, spec, embedOpt)\n",
       "        .catch(err => showError(`Javascript Error: ${err.message}<br>This usually means there's a typo in your chart specification. See the javascript console for the full traceback.`));\n",
       "    }\n",
       "\n",
       "    if(typeof define === \"function\" && define.amd) {\n",
       "      requirejs.config({paths});\n",
       "      let deps = [\"vega-embed\"];\n",
       "      require(deps, displayChart, err => showError(`Error loading script: ${err.message}`));\n",
       "    } else {\n",
       "      maybeLoadScript(\"vega\", \"5\")\n",
       "        .then(() => maybeLoadScript(\"vega-lite\", \"5.20.1\"))\n",
       "        .then(() => maybeLoadScript(\"vega-embed\", \"6\"))\n",
       "        .catch(showError)\n",
       "        .then(() => displayChart(vegaEmbed));\n",
       "    }\n",
       "  })({\"config\": {\"view\": {\"continuousWidth\": 300, \"continuousHeight\": 300}}, \"data\": {\"name\": \"data-e63931be8f37fde23e5421f4e2ea51e0\"}, \"mark\": {\"type\": \"point\", \"tooltip\": true}, \"encoding\": {\"x\": {\"field\": \"total discount\", \"type\": \"quantitative\"}, \"y\": {\"field\": \"total rev\", \"type\": \"quantitative\"}}, \"params\": [{\"name\": \"param_9\", \"select\": {\"type\": \"interval\", \"encodings\": [\"x\", \"y\"]}, \"bind\": \"scales\"}], \"$schema\": \"https://vega.github.io/schema/vega-lite/v5.20.1.json\", \"datasets\": {\"data-e63931be8f37fde23e5421f4e2ea51e0\": [{\"Group_date\": \"2024-10-01\", \"total rev\": 236458871, \"total discount\": 475000}, {\"Group_date\": \"2024-10-02\", \"total rev\": 226335507, \"total discount\": 507500}, {\"Group_date\": \"2024-10-03\", \"total rev\": 201772608, \"total discount\": 451635}, {\"Group_date\": \"2024-10-04\", \"total rev\": 149156442, \"total discount\": 375000}, {\"Group_date\": \"2024-10-05\", \"total rev\": 171430327, \"total discount\": 395000}, {\"Group_date\": \"2024-10-06\", \"total rev\": 171977055, \"total discount\": 322500}, {\"Group_date\": \"2024-10-07\", \"total rev\": 233876461, \"total discount\": 565000}, {\"Group_date\": \"2024-10-08\", \"total rev\": 253364207, \"total discount\": 682500}, {\"Group_date\": \"2024-10-09\", \"total rev\": 239422789, \"total discount\": 515000}, {\"Group_date\": \"2024-10-10\", \"total rev\": 541070055, \"total discount\": 2879500}, {\"Group_date\": \"2024-10-11\", \"total rev\": 192515437, \"total discount\": 1454500}, {\"Group_date\": \"2024-10-12\", \"total rev\": 230904482, \"total discount\": 1656000}, {\"Group_date\": \"2024-10-13\", \"total rev\": 205378800, \"total discount\": 1410000}, {\"Group_date\": \"2024-10-14\", \"total rev\": 267810141, \"total discount\": 1932000}, {\"Group_date\": \"2024-10-15\", \"total rev\": 238243062, \"total discount\": 1751500}, {\"Group_date\": \"2024-10-16\", \"total rev\": 197760707, \"total discount\": 1344000}, {\"Group_date\": \"2024-10-17\", \"total rev\": 176990829, \"total discount\": 1208000}, {\"Group_date\": \"2024-10-18\", \"total rev\": 165952608, \"total discount\": 1052000}, {\"Group_date\": \"2024-10-19\", \"total rev\": 188633683, \"total discount\": 1080500}, {\"Group_date\": \"2024-10-20\", \"total rev\": 163940282, \"total discount\": 878000}, {\"Group_date\": \"2024-10-21\", \"total rev\": 211039305, \"total discount\": 1348500}, {\"Group_date\": \"2024-10-22\", \"total rev\": 183270592, \"total discount\": 1120389}, {\"Group_date\": \"2024-10-23\", \"total rev\": 174567543, \"total discount\": 1071227}, {\"Group_date\": \"2024-10-24\", \"total rev\": 151647513, \"total discount\": 885000}, {\"Group_date\": \"2024-10-25\", \"total rev\": 166053741, \"total discount\": 1217581}, {\"Group_date\": \"2024-10-26\", \"total rev\": 149530186, \"total discount\": 963299}, {\"Group_date\": \"2024-10-27\", \"total rev\": 155192016, \"total discount\": 909773}, {\"Group_date\": \"2024-10-28\", \"total rev\": 207170589, \"total discount\": 1306980}, {\"Group_date\": \"2024-10-29\", \"total rev\": 195644109, \"total discount\": 1110500}, {\"Group_date\": \"2024-10-30\", \"total rev\": 181180798, \"total discount\": 1139500}, {\"Group_date\": \"2024-10-31\", \"total rev\": 202020644, \"total discount\": 1278500}]}}, {\"mode\": \"vega-lite\"});\n",
       "</script>"
      ],
      "text/plain": [
       "alt.Chart(...)"
      ]
     },
     "execution_count": 23,
     "metadata": {},
     "output_type": "execute_result"
    }
   ],
   "source": [
    "corr = groupdate.group_by('Group_date').agg([pl.col('total no dup').sum().alias('total rev'),pl.col('ditanggung penjual no dup').sum().alias('total discount')]).sort(by='Group_date')\n",
    "\n",
    "corr.plot.scatter(y='total rev',x='total discount')"
   ]
  },
  {
   "cell_type": "code",
   "execution_count": 24,
   "metadata": {},
   "outputs": [
    {
     "name": "stdout",
     "output_type": "stream",
     "text": [
      "correlation value\"s are 0.6117287488996367 and pvalue is 0.00000\n"
     ]
    }
   ],
   "source": [
    "var1 = groupdate['total no dup'].to_numpy()\n",
    "var2 = groupdate['ditanggung penjual no dup'].to_numpy()\n",
    "\n",
    "corr , pval = stats.spearmanr(var1,var2)\n",
    "\n",
    "print(f'correlation value\"s are {corr} and pvalue is {pval:.5f}')"
   ]
  },
  {
   "cell_type": "code",
   "execution_count": 26,
   "metadata": {},
   "outputs": [
    {
     "data": {
      "text/plain": [
       "np.float64(37.421206223031476)"
      ]
     },
     "execution_count": 26,
     "metadata": {},
     "output_type": "execute_result"
    }
   ],
   "source": [
    "corr*corr*100"
   ]
  },
  {
   "cell_type": "markdown",
   "metadata": {},
   "source": [
    "### insight\n",
    "\n",
    "whenever our store gave discount on the product the revenue tends to follow that eg. when our revenue is 1000000 around 37% (its squared of correlation value) of it can be achive because of discount strategies move by our company"
   ]
  },
  {
   "cell_type": "code",
   "execution_count": 27,
   "metadata": {},
   "outputs": [
    {
     "data": {
      "text/html": [
       "<div><style>\n",
       ".dataframe > thead > tr,\n",
       ".dataframe > tbody > tr {\n",
       "  text-align: right;\n",
       "  white-space: pre-wrap;\n",
       "}\n",
       "</style>\n",
       "<small>shape: (46_270, 53)</small><table border=\"1\" class=\"dataframe\"><thead><tr><th>No. Pesanan</th><th>Status Pesanan</th><th>Alasan Pembatalan</th><th>Status Pembatalan/ Pengembalian</th><th>No. Resi</th><th>Opsi Pengiriman</th><th>Antar ke counter/ pick-up</th><th>Pesanan Harus Dikirimkan Sebelum (Menghindari keterlambatan)</th><th>Waktu Pengiriman Diatur</th><th>Waktu Pesanan Dibuat</th><th>Waktu Pembayaran Dilakukan</th><th>Metode Pembayaran</th><th>SKU Induk</th><th>Nama Produk</th><th>Nomor Referensi SKU</th><th>Nama Variasi</th><th>Harga Awal</th><th>Harga Setelah Diskon</th><th>Jumlah</th><th>Returned quantity</th><th>Total Harga Produk</th><th>Total Diskon</th><th>Diskon Dari Penjual</th><th>Diskon Dari Shopee</th><th>Berat Produk</th><th>Jumlah Produk di Pesan</th><th>Total Berat</th><th>Voucher Ditanggung Penjual</th><th>ditanggung penjual no dup</th><th>Cashback Koin</th><th>Voucher Ditanggung Shopee</th><th>Paket Diskon</th><th>Paket Diskon (Diskon dari Shopee)</th><th>Paket Diskon (Diskon dari Penjual)</th><th>Potongan Koin Shopee</th><th>Diskon Kartu Kredit</th><th>Ongkos Kirim Dibayar oleh Pembeli</th><th>Estimasi Potongan Biaya Pengiriman</th><th>Ongkos Kirim Pengembalian Barang</th><th>Total Pembayaran</th><th>total no dup</th><th>Perkiraan Ongkos Kirim</th><th>Catatan dari Pembeli</th><th>Catatan</th><th>Username (Pembeli)</th><th>Nama Penerima</th><th>No. Telepon</th><th>Alamat Pengiriman</th><th>Kota/Kabupaten</th><th>Provinsi</th><th>Waktu Pesanan Selesai</th><th>source</th><th>Group_date</th></tr><tr><td>str</td><td>str</td><td>str</td><td>null</td><td>str</td><td>str</td><td>str</td><td>datetime[ms]</td><td>datetime[ms]</td><td>datetime[ms]</td><td>datetime[ms]</td><td>str</td><td>null</td><td>str</td><td>str</td><td>str</td><td>i64</td><td>i64</td><td>i64</td><td>i64</td><td>i64</td><td>i64</td><td>i64</td><td>i64</td><td>str</td><td>i64</td><td>str</td><td>i64</td><td>i64</td><td>i64</td><td>i64</td><td>str</td><td>i64</td><td>i64</td><td>i64</td><td>i64</td><td>i64</td><td>i64</td><td>i64</td><td>i64</td><td>i64</td><td>i64</td><td>null</td><td>null</td><td>str</td><td>str</td><td>str</td><td>str</td><td>str</td><td>str</td><td>datetime[ms]</td><td>str</td><td>str</td></tr></thead><tbody><tr><td>&quot;241001CUKMTPHP&quot;</td><td>&quot;Selesai&quot;</td><td>null</td><td>null</td><td>&quot;GK-11-784428416&quot;</td><td>&quot;Instant-GoSend&nbsp;Instant&quot;</td><td>&quot;Pickup&quot;</td><td>2024-10-01&nbsp;23:59:00</td><td>2024-10-01&nbsp;10:58:00</td><td>2024-10-01&nbsp;07:32:00</td><td>2024-10-01&nbsp;07:32:00</td><td>&quot;ShopeePay&quot;</td><td>null</td><td>&quot;UGREEN&nbsp;Adaptor&nbsp;Kepala&nbsp;Charger&nbsp;…</td><td>&quot;10220&quot;</td><td>&quot;ADP&nbsp;20W&nbsp;MINI&nbsp;WHITE&quot;</td><td>119000</td><td>119000</td><td>1</td><td>0</td><td>119000</td><td>0</td><td>0</td><td>0</td><td>&quot;250&nbsp;gr&quot;</td><td>1</td><td>&quot;250&nbsp;gr&quot;</td><td>0</td><td>0</td><td>0</td><td>2380</td><td>&quot;N&quot;</td><td>0</td><td>0</td><td>0</td><td>0</td><td>0</td><td>18000</td><td>0</td><td>118620</td><td>118620</td><td>18000</td><td>null</td><td>null</td><td>&quot;nfiata&quot;</td><td>&quot;N***a&quot;</td><td>&quot;******53&quot;</td><td>&quot;Jl.&nbsp;Batang&nbsp;Hari&nbsp;No.6,&nbsp;RT.5/RW.…</td><td>&quot;KOTA&nbsp;JAKARTA&nbsp;PUSAT&quot;</td><td>&quot;DKI&nbsp;JAKARTA&quot;</td><td>2024-10-09&nbsp;04:29:00</td><td>&quot;10_2024-oct&nbsp;(1).xlsx&quot;</td><td>&quot;2024-10-01&quot;</td></tr><tr><td>&quot;241001CTY0TPCF&quot;</td><td>&quot;Selesai&quot;</td><td>null</td><td>null</td><td>&quot;2251004833009152369&quot;</td><td>&quot;Instant-SPX&nbsp;Instant&quot;</td><td>&quot;Pickup&quot;</td><td>2024-10-01&nbsp;23:59:00</td><td>2024-10-01&nbsp;11:28:00</td><td>2024-10-01&nbsp;07:21:00</td><td>2024-10-01&nbsp;07:21:00</td><td>&quot;ShopeePay&quot;</td><td>null</td><td>&quot;UGREEN&nbsp;Charger&nbsp;iPhone&nbsp;MFi&nbsp;USB&nbsp;…</td><td>&quot;50460-60161&quot;</td><td>&quot;1SET&nbsp;10W&nbsp;WHITE&nbsp;NYLON&quot;</td><td>212500</td><td>212500</td><td>1</td><td>0</td><td>212500</td><td>0</td><td>0</td><td>0</td><td>&quot;200&nbsp;gr&quot;</td><td>1</td><td>&quot;200&nbsp;gr&quot;</td><td>0</td><td>0</td><td>0</td><td>21250</td><td>&quot;N&quot;</td><td>0</td><td>0</td><td>0</td><td>0</td><td>0</td><td>20000</td><td>0</td><td>211250</td><td>211250</td><td>20000</td><td>null</td><td>null</td><td>&quot;zahrah.mutiara&quot;</td><td>&quot;Z******a&quot;</td><td>&quot;******33&quot;</td><td>&quot;Jalan&nbsp;Kp&nbsp;Rawa&nbsp;Sawah&nbsp;No.7,&nbsp;RT.2…</td><td>&quot;KOTA&nbsp;JAKARTA&nbsp;PUSAT&quot;</td><td>&quot;DKI&nbsp;JAKARTA&quot;</td><td>2024-10-01&nbsp;17:14:00</td><td>&quot;10_2024-oct&nbsp;(1).xlsx&quot;</td><td>&quot;2024-10-01&quot;</td></tr><tr><td>&quot;241001D0D47A0N&quot;</td><td>&quot;Selesai&quot;</td><td>null</td><td>null</td><td>&quot;2251004910424064369&quot;</td><td>&quot;Instant-SPX&nbsp;Instant&quot;</td><td>&quot;Pickup&quot;</td><td>2024-10-01&nbsp;23:59:00</td><td>2024-10-01&nbsp;11:39:00</td><td>2024-10-01&nbsp;08:58:00</td><td>2024-10-01&nbsp;08:59:00</td><td>&quot;Online&nbsp;Payment&quot;</td><td>null</td><td>&quot;UGREEN&nbsp;USB&nbsp;Hub&nbsp;10&nbsp;in&nbsp;1&nbsp;Type&nbsp;C&nbsp;…</td><td>&quot;15601&quot;</td><td>&quot;15601&nbsp;10&nbsp;IN&nbsp;1&quot;</td><td>490000</td><td>490000</td><td>3</td><td>0</td><td>1470000</td><td>0</td><td>0</td><td>0</td><td>&quot;900&nbsp;gr&quot;</td><td>3</td><td>&quot;900&nbsp;gr&quot;</td><td>0</td><td>0</td><td>0</td><td>0</td><td>&quot;N&quot;</td><td>0</td><td>0</td><td>0</td><td>0</td><td>0</td><td>28000</td><td>0</td><td>1486400</td><td>1486400</td><td>28000</td><td>null</td><td>null</td><td>&quot;hestisusanti20&quot;</td><td>&quot;H******i&quot;</td><td>&quot;******14&quot;</td><td>&quot;Ruko&nbsp;Bona&nbsp;Gabe,&nbsp;Jalan&nbsp;Jatinega…</td><td>&quot;KOTA&nbsp;JAKARTA&nbsp;TIMUR&quot;</td><td>&quot;DKI&nbsp;JAKARTA&quot;</td><td>2024-10-07&nbsp;15:07:00</td><td>&quot;10_2024-oct&nbsp;(1).xlsx&quot;</td><td>&quot;2024-10-01&quot;</td></tr><tr><td>&quot;241001D04YUDH1&quot;</td><td>&quot;Selesai&quot;</td><td>null</td><td>null</td><td>&quot;2251005068414464369&quot;</td><td>&quot;Instant-SPX&nbsp;Instant&quot;</td><td>&quot;Pickup&quot;</td><td>2024-10-01&nbsp;23:59:00</td><td>2024-10-01&nbsp;11:40:00</td><td>2024-10-01&nbsp;08:54:00</td><td>2024-10-01&nbsp;08:54:00</td><td>&quot;ShopeePay&quot;</td><td>null</td><td>&quot;UGREEN&nbsp;Kabel&nbsp;Data&nbsp;MFI&nbsp;iPhone&nbsp;5…</td><td>&quot;60158&quot;</td><td>&quot;60158&nbsp;2M&quot;</td><td>175000</td><td>175000</td><td>1</td><td>0</td><td>175000</td><td>0</td><td>0</td><td>0</td><td>&quot;200&nbsp;gr&quot;</td><td>1</td><td>&quot;200&nbsp;gr&quot;</td><td>2500</td><td>2500</td><td>0</td><td>13800</td><td>&quot;N&quot;</td><td>0</td><td>0</td><td>0</td><td>0</td><td>0</td><td>18000</td><td>0</td><td>162400</td><td>162400</td><td>18000</td><td>null</td><td>null</td><td>&quot;indahhhs.61&quot;</td><td>&quot;w******l&quot;</td><td>&quot;******63&quot;</td><td>&quot;Warung&nbsp;Pak&nbsp;Haji&nbsp;Alek/&nbsp;Bang&nbsp;Zul…</td><td>&quot;KOTA&nbsp;JAKARTA&nbsp;BARAT&quot;</td><td>&quot;DKI&nbsp;JAKARTA&quot;</td><td>2024-10-01&nbsp;23:49:00</td><td>&quot;10_2024-oct&nbsp;(1).xlsx&quot;</td><td>&quot;2024-10-01&quot;</td></tr><tr><td>&quot;241001CUY3WU7E&quot;</td><td>&quot;Selesai&quot;</td><td>null</td><td>null</td><td>&quot;2251005018542080369&quot;</td><td>&quot;Instant-SPX&nbsp;Instant&quot;</td><td>&quot;Pickup&quot;</td><td>2024-10-01&nbsp;23:59:00</td><td>2024-10-01&nbsp;11:46:00</td><td>2024-10-01&nbsp;07:39:00</td><td>2024-10-01&nbsp;07:39:00</td><td>&quot;ShopeePay&quot;</td><td>null</td><td>&quot;UGREEN&nbsp;Microphone&nbsp;Desktop&nbsp;USB&nbsp;…</td><td>&quot;10934&quot;</td><td>&quot;UGREEN&nbsp;10934&quot;</td><td>679000</td><td>265000</td><td>1</td><td>0</td><td>265000</td><td>414000</td><td>414000</td><td>0</td><td>&quot;300&nbsp;gr&quot;</td><td>2</td><td>&quot;650&nbsp;gr&quot;</td><td>0</td><td>0</td><td>0</td><td>16600</td><td>&quot;N&quot;</td><td>0</td><td>0</td><td>0</td><td>0</td><td>0</td><td>31000</td><td>0</td><td>400400</td><td>400400</td><td>31000</td><td>null</td><td>null</td><td>&quot;sayyidrafi04&quot;</td><td>&quot;S******i&quot;</td><td>&quot;******30&quot;</td><td>&quot;Jln&nbsp;H&nbsp;raisan&nbsp;No.24&nbsp;&nbsp;RT.03/RW.0…</td><td>&quot;KOTA&nbsp;JAKARTA&nbsp;BARAT&quot;</td><td>&quot;DKI&nbsp;JAKARTA&quot;</td><td>2024-10-02&nbsp;11:57:00</td><td>&quot;10_2024-oct&nbsp;(1).xlsx&quot;</td><td>&quot;2024-10-01&quot;</td></tr><tr><td>&hellip;</td><td>&hellip;</td><td>&hellip;</td><td>&hellip;</td><td>&hellip;</td><td>&hellip;</td><td>&hellip;</td><td>&hellip;</td><td>&hellip;</td><td>&hellip;</td><td>&hellip;</td><td>&hellip;</td><td>&hellip;</td><td>&hellip;</td><td>&hellip;</td><td>&hellip;</td><td>&hellip;</td><td>&hellip;</td><td>&hellip;</td><td>&hellip;</td><td>&hellip;</td><td>&hellip;</td><td>&hellip;</td><td>&hellip;</td><td>&hellip;</td><td>&hellip;</td><td>&hellip;</td><td>&hellip;</td><td>&hellip;</td><td>&hellip;</td><td>&hellip;</td><td>&hellip;</td><td>&hellip;</td><td>&hellip;</td><td>&hellip;</td><td>&hellip;</td><td>&hellip;</td><td>&hellip;</td><td>&hellip;</td><td>&hellip;</td><td>&hellip;</td><td>&hellip;</td><td>&hellip;</td><td>&hellip;</td><td>&hellip;</td><td>&hellip;</td><td>&hellip;</td><td>&hellip;</td><td>&hellip;</td><td>&hellip;</td><td>&hellip;</td><td>&hellip;</td><td>&hellip;</td></tr><tr><td>&quot;2411012MM7GBF1&quot;</td><td>&quot;Selesai&quot;</td><td>null</td><td>null</td><td>&quot;004368188908&quot;</td><td>&quot;Reguler&nbsp;(Cashless)-SiCepat&nbsp;REG&quot;</td><td>&quot;Antar&nbsp;ke&nbsp;Counter&quot;</td><td>2024-11-01&nbsp;23:59:00</td><td>2024-11-01&nbsp;21:24:00</td><td>2024-10-31&nbsp;23:21:00</td><td>2024-10-31&nbsp;23:21:00</td><td>&quot;SeaBank&nbsp;Bayar&nbsp;Instan&quot;</td><td>null</td><td>&quot;UGREEN&nbsp;Kabel&nbsp;Data&nbsp;MFI&nbsp;iPhone&nbsp;5…</td><td>&quot;60163&quot;</td><td>&quot;60163&nbsp;2M&quot;</td><td>175000</td><td>175000</td><td>1</td><td>0</td><td>175000</td><td>0</td><td>0</td><td>0</td><td>&quot;200&nbsp;gr&quot;</td><td>1</td><td>&quot;200&nbsp;gr&quot;</td><td>0</td><td>0</td><td>0</td><td>14000</td><td>&quot;N&quot;</td><td>0</td><td>0</td><td>0</td><td>0</td><td>0</td><td>36000</td><td>0</td><td>162000</td><td>162000</td><td>36000</td><td>null</td><td>null</td><td>&quot;on_haft1ln&quot;</td><td>&quot;S******i&quot;</td><td>&quot;******25&quot;</td><td>&quot;Jalan&nbsp;Kos&nbsp;Areta&nbsp;Lorong&nbsp;Kost&nbsp;Ar…</td><td>&quot;KAB.&nbsp;MOROWALI&quot;</td><td>&quot;SULAWESI&nbsp;TENGAH&quot;</td><td>2024-11-14&nbsp;03:41:00</td><td>&quot;10_2024-oct&nbsp;(10).xlsx&quot;</td><td>&quot;2024-10-31&quot;</td></tr><tr><td>&quot;2410312A5B2VFR&quot;</td><td>&quot;Selesai&quot;</td><td>null</td><td>null</td><td>&quot;004368199635&quot;</td><td>&quot;SiCepat&nbsp;Halu&quot;</td><td>&quot;Antar&nbsp;ke&nbsp;Counter&quot;</td><td>2024-11-01&nbsp;23:59:00</td><td>2024-11-01&nbsp;21:43:00</td><td>2024-10-31&nbsp;20:13:00</td><td>2024-10-31&nbsp;20:14:00</td><td>&quot;ShopeePay&quot;</td><td>null</td><td>&quot;UGREEN&nbsp;Kabel&nbsp;Data&nbsp;USB&nbsp;Type&nbsp;C&nbsp;F…</td><td>&quot;60125&quot;</td><td>&quot;60125&nbsp;50CM&nbsp;NYLON&quot;</td><td>37000</td><td>37000</td><td>1</td><td>0</td><td>37000</td><td>0</td><td>0</td><td>0</td><td>&quot;100&nbsp;gr&quot;</td><td>1</td><td>&quot;100&nbsp;gr&quot;</td><td>0</td><td>0</td><td>0</td><td>3000</td><td>&quot;N&quot;</td><td>0</td><td>0</td><td>0</td><td>0</td><td>0</td><td>24400</td><td>0</td><td>36000</td><td>36000</td><td>24400</td><td>null</td><td>null</td><td>&quot;naviiah&quot;</td><td>&quot;A******h&quot;</td><td>&quot;******05&quot;</td><td>&quot;Jln.letnan&nbsp;cusugandi,&nbsp;kebun&nbsp;je…</td><td>&quot;KAB.&nbsp;OGAN&nbsp;KOMERING&nbsp;ULU&quot;</td><td>&quot;SUMATERA&nbsp;SELATAN&quot;</td><td>2024-11-04&nbsp;18:04:00</td><td>&quot;10_2024-oct&nbsp;(10).xlsx&quot;</td><td>&quot;2024-10-31&quot;</td></tr><tr><td>&quot;2411012MG1Y71K&quot;</td><td>&quot;Selesai&quot;</td><td>null</td><td>null</td><td>&quot;SPXID04128448465B&quot;</td><td>&quot;SPX&nbsp;Standard&quot;</td><td>&quot;Antar&nbsp;ke&nbsp;Counter&quot;</td><td>2024-11-04&nbsp;23:59:00</td><td>2024-11-02&nbsp;15:48:00</td><td>2024-10-31&nbsp;23:18:00</td><td>2024-11-01&nbsp;20:58:00</td><td>&quot;Online&nbsp;Payment&quot;</td><td>null</td><td>&quot;UGREEN&nbsp;Adaptor&nbsp;Kepala&nbsp;Charger&nbsp;…</td><td>&quot;15324&quot;</td><td>&quot;ADP&nbsp;20W&nbsp;GaN&nbsp;WHITE&quot;</td><td>129000</td><td>129000</td><td>1</td><td>0</td><td>129000</td><td>0</td><td>0</td><td>0</td><td>&quot;250&nbsp;gr&quot;</td><td>1</td><td>&quot;250&nbsp;gr&quot;</td><td>0</td><td>0</td><td>0</td><td>2580</td><td>&quot;N&quot;</td><td>0</td><td>0</td><td>0</td><td>0</td><td>0</td><td>10400</td><td>0</td><td>130120</td><td>130120</td><td>10400</td><td>null</td><td>null</td><td>&quot;mfarhan_saputra&quot;</td><td>&quot;M******n&quot;</td><td>&quot;******50&quot;</td><td>&quot;Dsn&nbsp;Jabalan,&nbsp;RT.5/RW.2,&nbsp;Ds&nbsp;Jab…</td><td>&quot;KAB.&nbsp;TULUNGAGUNG&quot;</td><td>&quot;JAWA&nbsp;TIMUR&quot;</td><td>2024-11-04&nbsp;15:29:00</td><td>&quot;10_2024-oct&nbsp;(10).xlsx&quot;</td><td>&quot;2024-10-31&quot;</td></tr><tr><td>&quot;2411012PDT035E&quot;</td><td>&quot;Selesai&quot;</td><td>null</td><td>null</td><td>&quot;004368608965&quot;</td><td>&quot;Hemat-SiCepat&nbsp;Halu&quot;</td><td>&quot;Antar&nbsp;ke&nbsp;Counter&quot;</td><td>2024-11-04&nbsp;23:59:00</td><td>2024-11-02&nbsp;17:11:00</td><td>2024-10-31&nbsp;23:53:00</td><td>2024-11-01&nbsp;17:26:00</td><td>&quot;Online&nbsp;Payment&quot;</td><td>null</td><td>&quot;UGREEN&nbsp;Exclusive&nbsp;&nbsp;HiTune&nbsp;P3&nbsp;Ea…</td><td>&quot;45110&quot;</td><td>&quot;HiTune&nbsp;P3&quot;</td><td>249000</td><td>204000</td><td>1</td><td>0</td><td>204000</td><td>45000</td><td>45000</td><td>0</td><td>&quot;350&nbsp;gr&quot;</td><td>1</td><td>&quot;350&nbsp;gr&quot;</td><td>2500</td><td>2500</td><td>0</td><td>30225</td><td>&quot;N&quot;</td><td>0</td><td>0</td><td>0</td><td>0</td><td>0</td><td>18500</td><td>0</td><td>172787</td><td>172787</td><td>18500</td><td>null</td><td>null</td><td>&quot;hendrikurniawan_&quot;</td><td>&quot;H******N&quot;</td><td>&quot;******95&quot;</td><td>&quot;GG&nbsp;GIAT&nbsp;RT&nbsp;01&nbsp;RW&nbsp;02&nbsp;PEKAUMAN&nbsp;K…</td><td>&quot;KAB.&nbsp;KENDAL&quot;</td><td>&quot;JAWA&nbsp;TENGAH&quot;</td><td>2024-11-04&nbsp;12:35:00</td><td>&quot;10_2024-oct&nbsp;(10).xlsx&quot;</td><td>&quot;2024-10-31&quot;</td></tr><tr><td>&quot;2411012PJRATAU&quot;</td><td>&quot;Selesai&quot;</td><td>null</td><td>null</td><td>&quot;004368621397&quot;</td><td>&quot;Hemat-SiCepat&nbsp;Halu&quot;</td><td>&quot;Antar&nbsp;ke&nbsp;Counter&quot;</td><td>2024-11-04&nbsp;23:59:00</td><td>2024-11-02&nbsp;17:14:00</td><td>2024-10-31&nbsp;23:56:00</td><td>2024-11-01&nbsp;17:32:00</td><td>&quot;Online&nbsp;Payment&quot;</td><td>null</td><td>&quot;UGREEN&nbsp;Kepala&nbsp;Charger&nbsp;Power&nbsp;De…</td><td>&quot;60450&quot;</td><td>&quot;60450&nbsp;20W&nbsp;WHITE&quot;</td><td>90000</td><td>85000</td><td>10</td><td>0</td><td>850000</td><td>50000</td><td>50000</td><td>0</td><td>&quot;2000&nbsp;gr&quot;</td><td>10</td><td>&quot;2000&nbsp;gr&quot;</td><td>0</td><td>0</td><td>0</td><td>85000</td><td>&quot;N&quot;</td><td>0</td><td>0</td><td>0</td><td>0</td><td>12200</td><td>60000</td><td>0</td><td>779200</td><td>779200</td><td>72200</td><td>null</td><td>null</td><td>&quot;cantikadewilee&quot;</td><td>&quot;C******e&quot;</td><td>&quot;******26&quot;</td><td>&quot;Jalan&nbsp;Mesjid&nbsp;Agung&nbsp;Rantauprapa…</td><td>&quot;KAB.&nbsp;LABUHAN&nbsp;BATU&quot;</td><td>&quot;SUMATERA&nbsp;UTARA&quot;</td><td>2024-11-09&nbsp;11:41:00</td><td>&quot;10_2024-oct&nbsp;(10).xlsx&quot;</td><td>&quot;2024-10-31&quot;</td></tr></tbody></table></div>"
      ],
      "text/plain": [
       "shape: (46_270, 53)\n",
       "┌───────────┬───────────┬───────────┬───────────┬───┬───────────┬───────────┬───────────┬──────────┐\n",
       "│ No.       ┆ Status    ┆ Alasan    ┆ Status    ┆ … ┆ Provinsi  ┆ Waktu     ┆ source    ┆ Group_da │\n",
       "│ Pesanan   ┆ Pesanan   ┆ Pembatala ┆ Pembatala ┆   ┆ ---       ┆ Pesanan   ┆ ---       ┆ te       │\n",
       "│ ---       ┆ ---       ┆ n         ┆ n/ Pengem ┆   ┆ str       ┆ Selesai   ┆ str       ┆ ---      │\n",
       "│ str       ┆ str       ┆ ---       ┆ balia…    ┆   ┆           ┆ ---       ┆           ┆ str      │\n",
       "│           ┆           ┆ str       ┆ ---       ┆   ┆           ┆ datetime[ ┆           ┆          │\n",
       "│           ┆           ┆           ┆ null      ┆   ┆           ┆ ms]       ┆           ┆          │\n",
       "╞═══════════╪═══════════╪═══════════╪═══════════╪═══╪═══════════╪═══════════╪═══════════╪══════════╡\n",
       "│ 241001CUK ┆ Selesai   ┆ null      ┆ null      ┆ … ┆ DKI       ┆ 2024-10-0 ┆ 10_2024-o ┆ 2024-10- │\n",
       "│ MTPHP     ┆           ┆           ┆           ┆   ┆ JAKARTA   ┆ 9         ┆ ct        ┆ 01       │\n",
       "│           ┆           ┆           ┆           ┆   ┆           ┆ 04:29:00  ┆ (1).xlsx  ┆          │\n",
       "│ 241001CTY ┆ Selesai   ┆ null      ┆ null      ┆ … ┆ DKI       ┆ 2024-10-0 ┆ 10_2024-o ┆ 2024-10- │\n",
       "│ 0TPCF     ┆           ┆           ┆           ┆   ┆ JAKARTA   ┆ 1         ┆ ct        ┆ 01       │\n",
       "│           ┆           ┆           ┆           ┆   ┆           ┆ 17:14:00  ┆ (1).xlsx  ┆          │\n",
       "│ 241001D0D ┆ Selesai   ┆ null      ┆ null      ┆ … ┆ DKI       ┆ 2024-10-0 ┆ 10_2024-o ┆ 2024-10- │\n",
       "│ 47A0N     ┆           ┆           ┆           ┆   ┆ JAKARTA   ┆ 7         ┆ ct        ┆ 01       │\n",
       "│           ┆           ┆           ┆           ┆   ┆           ┆ 15:07:00  ┆ (1).xlsx  ┆          │\n",
       "│ 241001D04 ┆ Selesai   ┆ null      ┆ null      ┆ … ┆ DKI       ┆ 2024-10-0 ┆ 10_2024-o ┆ 2024-10- │\n",
       "│ YUDH1     ┆           ┆           ┆           ┆   ┆ JAKARTA   ┆ 1         ┆ ct        ┆ 01       │\n",
       "│           ┆           ┆           ┆           ┆   ┆           ┆ 23:49:00  ┆ (1).xlsx  ┆          │\n",
       "│ 241001CUY ┆ Selesai   ┆ null      ┆ null      ┆ … ┆ DKI       ┆ 2024-10-0 ┆ 10_2024-o ┆ 2024-10- │\n",
       "│ 3WU7E     ┆           ┆           ┆           ┆   ┆ JAKARTA   ┆ 2         ┆ ct        ┆ 01       │\n",
       "│           ┆           ┆           ┆           ┆   ┆           ┆ 11:57:00  ┆ (1).xlsx  ┆          │\n",
       "│ …         ┆ …         ┆ …         ┆ …         ┆ … ┆ …         ┆ …         ┆ …         ┆ …        │\n",
       "│ 2411012MM ┆ Selesai   ┆ null      ┆ null      ┆ … ┆ SULAWESI  ┆ 2024-11-1 ┆ 10_2024-o ┆ 2024-10- │\n",
       "│ 7GBF1     ┆           ┆           ┆           ┆   ┆ TENGAH    ┆ 4         ┆ ct        ┆ 31       │\n",
       "│           ┆           ┆           ┆           ┆   ┆           ┆ 03:41:00  ┆ (10).xlsx ┆          │\n",
       "│ 2410312A5 ┆ Selesai   ┆ null      ┆ null      ┆ … ┆ SUMATERA  ┆ 2024-11-0 ┆ 10_2024-o ┆ 2024-10- │\n",
       "│ B2VFR     ┆           ┆           ┆           ┆   ┆ SELATAN   ┆ 4         ┆ ct        ┆ 31       │\n",
       "│           ┆           ┆           ┆           ┆   ┆           ┆ 18:04:00  ┆ (10).xlsx ┆          │\n",
       "│ 2411012MG ┆ Selesai   ┆ null      ┆ null      ┆ … ┆ JAWA      ┆ 2024-11-0 ┆ 10_2024-o ┆ 2024-10- │\n",
       "│ 1Y71K     ┆           ┆           ┆           ┆   ┆ TIMUR     ┆ 4         ┆ ct        ┆ 31       │\n",
       "│           ┆           ┆           ┆           ┆   ┆           ┆ 15:29:00  ┆ (10).xlsx ┆          │\n",
       "│ 2411012PD ┆ Selesai   ┆ null      ┆ null      ┆ … ┆ JAWA      ┆ 2024-11-0 ┆ 10_2024-o ┆ 2024-10- │\n",
       "│ T035E     ┆           ┆           ┆           ┆   ┆ TENGAH    ┆ 4         ┆ ct        ┆ 31       │\n",
       "│           ┆           ┆           ┆           ┆   ┆           ┆ 12:35:00  ┆ (10).xlsx ┆          │\n",
       "│ 2411012PJ ┆ Selesai   ┆ null      ┆ null      ┆ … ┆ SUMATERA  ┆ 2024-11-0 ┆ 10_2024-o ┆ 2024-10- │\n",
       "│ RATAU     ┆           ┆           ┆           ┆   ┆ UTARA     ┆ 9         ┆ ct        ┆ 31       │\n",
       "│           ┆           ┆           ┆           ┆   ┆           ┆ 11:41:00  ┆ (10).xlsx ┆          │\n",
       "└───────────┴───────────┴───────────┴───────────┴───┴───────────┴───────────┴───────────┴──────────┘"
      ]
     },
     "execution_count": 27,
     "metadata": {},
     "output_type": "execute_result"
    }
   ],
   "source": [
    "groupdate"
   ]
  }
 ],
 "metadata": {
  "kernelspec": {
   "display_name": "base",
   "language": "python",
   "name": "python3"
  },
  "language_info": {
   "codemirror_mode": {
    "name": "ipython",
    "version": 3
   },
   "file_extension": ".py",
   "mimetype": "text/x-python",
   "name": "python",
   "nbconvert_exporter": "python",
   "pygments_lexer": "ipython3",
   "version": "3.12.3"
  }
 },
 "nbformat": 4,
 "nbformat_minor": 2
}
