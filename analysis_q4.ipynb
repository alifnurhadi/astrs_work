{
 "cells": [
  {
   "cell_type": "code",
   "execution_count": 240,
   "metadata": {},
   "outputs": [],
   "source": [
    "import polars as pl\n",
    "from scipy import stats\n",
    "import matplotlib.pyplot as plt\n",
    "import seaborn as sns\n",
    "import plotly.express as px\n",
    "import plotly.graph_objects as go"
   ]
  },
  {
   "cell_type": "code",
   "execution_count": 241,
   "metadata": {},
   "outputs": [],
   "source": [
    "thepath = r'C:\\Users\\MARKETING SUPPORT\\Documents\\asteros\\astrs_work\\on_prog_q4_explore.parquet'\n",
    "masters = pl.read_parquet(thepath)"
   ]
  },
  {
   "cell_type": "code",
   "execution_count": 242,
   "metadata": {},
   "outputs": [],
   "source": [
    "revenue = masters.filter([pl.col('Status Pesanan')!=\"Batal\",pl.col('Waktu Pengiriman Diatur').is_not_null()]).sort(by='Waktu Pengiriman Diatur')['No. Pesanan','Status Pesanan','Alasan Pembatalan','Status Pembatalan/ Pengembalian','No. Resi',\n",
    "       'Opsi Pengiriman','Antar ke counter/ pick-up','Pesanan Harus Dikirimkan Sebelum (Menghindari keterlambatan)','Waktu Pengiriman Diatur',\n",
    "       'Waktu Pesanan Dibuat','Waktu Pembayaran Dilakukan','Metode Pembayaran','SKU Induk','Nama Produk','Nomor Referensi SKU','Nama Variasi',\n",
    "       'Harga Awal','Harga Setelah Diskon','Jumlah','Returned quantity','Total Harga Produk','Total Diskon','Diskon Dari Penjual',\n",
    "       'Diskon Dari Shopee','Berat Produk','Jumlah Produk di Pesan','Total Berat','Voucher Ditanggung Penjual','ditanggung penjual no dup',\n",
    "       'Cashback Koin','Voucher Ditanggung Shopee','Paket Diskon','Paket Diskon (Diskon dari Shopee)','Paket Diskon (Diskon dari Penjual)',\n",
    "       'Potongan Koin Shopee','Diskon Kartu Kredit','Ongkos Kirim Dibayar oleh Pembeli','Estimasi Potongan Biaya Pengiriman','Ongkos Kirim Pengembalian Barang',\n",
    "       'Total Pembayaran','total no dup','Perkiraan Ongkos Kirim','Catatan dari Pembeli','Catatan','Username (Pembeli)','Nama Penerima',\n",
    "       'No. Telepon','Alamat Pengiriman','Kota/Kabupaten','Provinsi','Waktu Pesanan Selesai','source',\n",
    " ]\n",
    "groupdate = revenue.with_columns([pl.col('Waktu Pembayaran Dilakukan').dt.date().alias('Group_date').cast(pl.Utf8),\n",
    "                                  pl.col('Waktu Pembayaran Dilakukan').dt.strftime(format='%m-%d').alias('month_days').cast(pl.Utf8),\n",
    "                                  pl.col('Waktu Pembayaran Dilakukan').dt.week().alias('week_of_q4')]).filter(pl.col('Group_date').str.contains(pattern='2024-10'))"
   ]
  },
  {
   "cell_type": "code",
   "execution_count": 269,
   "metadata": {},
   "outputs": [],
   "source": [
    "groupdate.write_parquet('for_dashboard.parquet',compression='zstd')"
   ]
  },
  {
   "cell_type": "markdown",
   "metadata": {},
   "source": [
    "# executive"
   ]
  },
  {
   "cell_type": "code",
   "execution_count": 243,
   "metadata": {},
   "outputs": [
    {
     "data": {
      "text/html": [
       "\n",
       "<style>\n",
       "  #altair-viz-7f4beeb1cb854c4c9761b72a226e3fb9.vega-embed {\n",
       "    width: 100%;\n",
       "    display: flex;\n",
       "  }\n",
       "\n",
       "  #altair-viz-7f4beeb1cb854c4c9761b72a226e3fb9.vega-embed details,\n",
       "  #altair-viz-7f4beeb1cb854c4c9761b72a226e3fb9.vega-embed details summary {\n",
       "    position: relative;\n",
       "  }\n",
       "</style>\n",
       "<div id=\"altair-viz-7f4beeb1cb854c4c9761b72a226e3fb9\"></div>\n",
       "<script type=\"text/javascript\">\n",
       "  var VEGA_DEBUG = (typeof VEGA_DEBUG == \"undefined\") ? {} : VEGA_DEBUG;\n",
       "  (function(spec, embedOpt){\n",
       "    let outputDiv = document.currentScript.previousElementSibling;\n",
       "    if (outputDiv.id !== \"altair-viz-7f4beeb1cb854c4c9761b72a226e3fb9\") {\n",
       "      outputDiv = document.getElementById(\"altair-viz-7f4beeb1cb854c4c9761b72a226e3fb9\");\n",
       "    }\n",
       "\n",
       "    const paths = {\n",
       "      \"vega\": \"https://cdn.jsdelivr.net/npm/vega@5?noext\",\n",
       "      \"vega-lib\": \"https://cdn.jsdelivr.net/npm/vega-lib?noext\",\n",
       "      \"vega-lite\": \"https://cdn.jsdelivr.net/npm/vega-lite@5.20.1?noext\",\n",
       "      \"vega-embed\": \"https://cdn.jsdelivr.net/npm/vega-embed@6?noext\",\n",
       "    };\n",
       "\n",
       "    function maybeLoadScript(lib, version) {\n",
       "      var key = `${lib.replace(\"-\", \"\")}_version`;\n",
       "      return (VEGA_DEBUG[key] == version) ?\n",
       "        Promise.resolve(paths[lib]) :\n",
       "        new Promise(function(resolve, reject) {\n",
       "          var s = document.createElement('script');\n",
       "          document.getElementsByTagName(\"head\")[0].appendChild(s);\n",
       "          s.async = true;\n",
       "          s.onload = () => {\n",
       "            VEGA_DEBUG[key] = version;\n",
       "            return resolve(paths[lib]);\n",
       "          };\n",
       "          s.onerror = () => reject(`Error loading script: ${paths[lib]}`);\n",
       "          s.src = paths[lib];\n",
       "        });\n",
       "    }\n",
       "\n",
       "    function showError(err) {\n",
       "      outputDiv.innerHTML = `<div class=\"error\" style=\"color:red;\">${err}</div>`;\n",
       "      throw err;\n",
       "    }\n",
       "\n",
       "    function displayChart(vegaEmbed) {\n",
       "      vegaEmbed(outputDiv, spec, embedOpt)\n",
       "        .catch(err => showError(`Javascript Error: ${err.message}<br>This usually means there's a typo in your chart specification. See the javascript console for the full traceback.`));\n",
       "    }\n",
       "\n",
       "    if(typeof define === \"function\" && define.amd) {\n",
       "      requirejs.config({paths});\n",
       "      let deps = [\"vega-embed\"];\n",
       "      require(deps, displayChart, err => showError(`Error loading script: ${err.message}`));\n",
       "    } else {\n",
       "      maybeLoadScript(\"vega\", \"5\")\n",
       "        .then(() => maybeLoadScript(\"vega-lite\", \"5.20.1\"))\n",
       "        .then(() => maybeLoadScript(\"vega-embed\", \"6\"))\n",
       "        .catch(showError)\n",
       "        .then(() => displayChart(vegaEmbed));\n",
       "    }\n",
       "  })({\"config\": {\"view\": {\"continuousWidth\": 300, \"continuousHeight\": 300}}, \"data\": {\"name\": \"data-91d69d3143f57470a8980d6cc6a59a10\"}, \"mark\": {\"type\": \"line\", \"tooltip\": true}, \"encoding\": {\"x\": {\"field\": \"Group_date\", \"type\": \"nominal\"}, \"y\": {\"field\": \"total no dup\", \"type\": \"quantitative\"}}, \"params\": [{\"name\": \"param_46\", \"select\": {\"type\": \"interval\", \"encodings\": [\"x\", \"y\"]}, \"bind\": \"scales\"}], \"$schema\": \"https://vega.github.io/schema/vega-lite/v5.20.1.json\", \"datasets\": {\"data-91d69d3143f57470a8980d6cc6a59a10\": [{\"Group_date\": \"2024-10-01\", \"total no dup\": 234840270}, {\"Group_date\": \"2024-10-02\", \"total no dup\": 226414541}, {\"Group_date\": \"2024-10-03\", \"total no dup\": 201704159}, {\"Group_date\": \"2024-10-04\", \"total no dup\": 149440534}, {\"Group_date\": \"2024-10-05\", \"total no dup\": 170956338}, {\"Group_date\": \"2024-10-06\", \"total no dup\": 171067819}, {\"Group_date\": \"2024-10-07\", \"total no dup\": 233047944}, {\"Group_date\": \"2024-10-08\", \"total no dup\": 253903266}, {\"Group_date\": \"2024-10-09\", \"total no dup\": 238881092}, {\"Group_date\": \"2024-10-10\", \"total no dup\": 535300505}, {\"Group_date\": \"2024-10-11\", \"total no dup\": 198186431}, {\"Group_date\": \"2024-10-12\", \"total no dup\": 231873952}, {\"Group_date\": \"2024-10-13\", \"total no dup\": 204239886}, {\"Group_date\": \"2024-10-14\", \"total no dup\": 268534536}, {\"Group_date\": \"2024-10-15\", \"total no dup\": 238758975}, {\"Group_date\": \"2024-10-16\", \"total no dup\": 199336386}, {\"Group_date\": \"2024-10-17\", \"total no dup\": 176696224}, {\"Group_date\": \"2024-10-18\", \"total no dup\": 166169874}, {\"Group_date\": \"2024-10-19\", \"total no dup\": 188391566}, {\"Group_date\": \"2024-10-20\", \"total no dup\": 163954519}, {\"Group_date\": \"2024-10-21\", \"total no dup\": 211386396}, {\"Group_date\": \"2024-10-22\", \"total no dup\": 182899071}, {\"Group_date\": \"2024-10-23\", \"total no dup\": 174129719}, {\"Group_date\": \"2024-10-24\", \"total no dup\": 153090053}, {\"Group_date\": \"2024-10-25\", \"total no dup\": 163519164}, {\"Group_date\": \"2024-10-26\", \"total no dup\": 150986474}, {\"Group_date\": \"2024-10-27\", \"total no dup\": 154937751}, {\"Group_date\": \"2024-10-28\", \"total no dup\": 207428857}, {\"Group_date\": \"2024-10-29\", \"total no dup\": 194213457}, {\"Group_date\": \"2024-10-30\", \"total no dup\": 182148882}, {\"Group_date\": \"2024-10-31\", \"total no dup\": 201165806}]}}, {\"mode\": \"vega-lite\"});\n",
       "</script>"
      ],
      "text/plain": [
       "alt.Chart(...)"
      ]
     },
     "execution_count": 243,
     "metadata": {},
     "output_type": "execute_result"
    }
   ],
   "source": [
    "groupdate.group_by('Group_date').agg(pl.col('total no dup').sum()).sort('Group_date').plot.line(x='Group_date',y='total no dup')"
   ]
  },
  {
   "cell_type": "markdown",
   "metadata": {},
   "source": [
    "### insight \n",
    "\n",
    "if we penalize x factor like event 10. 10 shopee the first 2 week i goes rally start from 4th day of month before they falling off"
   ]
  },
  {
   "cell_type": "code",
   "execution_count": 244,
   "metadata": {},
   "outputs": [
    {
     "data": {
      "text/plain": [
       "DataTransformerRegistry.enable('default')"
      ]
     },
     "execution_count": 244,
     "metadata": {},
     "output_type": "execute_result"
    }
   ],
   "source": [
    "import altair as alt\n",
    "\n",
    "alt.data_transformers.disable_max_rows()"
   ]
  },
  {
   "cell_type": "code",
   "execution_count": 245,
   "metadata": {},
   "outputs": [
    {
     "data": {
      "text/html": [
       "\n",
       "<style>\n",
       "  #altair-viz-f9649a9d40504020bac35e5219f1f1c2.vega-embed {\n",
       "    width: 100%;\n",
       "    display: flex;\n",
       "  }\n",
       "\n",
       "  #altair-viz-f9649a9d40504020bac35e5219f1f1c2.vega-embed details,\n",
       "  #altair-viz-f9649a9d40504020bac35e5219f1f1c2.vega-embed details summary {\n",
       "    position: relative;\n",
       "  }\n",
       "</style>\n",
       "<div id=\"altair-viz-f9649a9d40504020bac35e5219f1f1c2\"></div>\n",
       "<script type=\"text/javascript\">\n",
       "  var VEGA_DEBUG = (typeof VEGA_DEBUG == \"undefined\") ? {} : VEGA_DEBUG;\n",
       "  (function(spec, embedOpt){\n",
       "    let outputDiv = document.currentScript.previousElementSibling;\n",
       "    if (outputDiv.id !== \"altair-viz-f9649a9d40504020bac35e5219f1f1c2\") {\n",
       "      outputDiv = document.getElementById(\"altair-viz-f9649a9d40504020bac35e5219f1f1c2\");\n",
       "    }\n",
       "\n",
       "    const paths = {\n",
       "      \"vega\": \"https://cdn.jsdelivr.net/npm/vega@5?noext\",\n",
       "      \"vega-lib\": \"https://cdn.jsdelivr.net/npm/vega-lib?noext\",\n",
       "      \"vega-lite\": \"https://cdn.jsdelivr.net/npm/vega-lite@5.20.1?noext\",\n",
       "      \"vega-embed\": \"https://cdn.jsdelivr.net/npm/vega-embed@6?noext\",\n",
       "    };\n",
       "\n",
       "    function maybeLoadScript(lib, version) {\n",
       "      var key = `${lib.replace(\"-\", \"\")}_version`;\n",
       "      return (VEGA_DEBUG[key] == version) ?\n",
       "        Promise.resolve(paths[lib]) :\n",
       "        new Promise(function(resolve, reject) {\n",
       "          var s = document.createElement('script');\n",
       "          document.getElementsByTagName(\"head\")[0].appendChild(s);\n",
       "          s.async = true;\n",
       "          s.onload = () => {\n",
       "            VEGA_DEBUG[key] = version;\n",
       "            return resolve(paths[lib]);\n",
       "          };\n",
       "          s.onerror = () => reject(`Error loading script: ${paths[lib]}`);\n",
       "          s.src = paths[lib];\n",
       "        });\n",
       "    }\n",
       "\n",
       "    function showError(err) {\n",
       "      outputDiv.innerHTML = `<div class=\"error\" style=\"color:red;\">${err}</div>`;\n",
       "      throw err;\n",
       "    }\n",
       "\n",
       "    function displayChart(vegaEmbed) {\n",
       "      vegaEmbed(outputDiv, spec, embedOpt)\n",
       "        .catch(err => showError(`Javascript Error: ${err.message}<br>This usually means there's a typo in your chart specification. See the javascript console for the full traceback.`));\n",
       "    }\n",
       "\n",
       "    if(typeof define === \"function\" && define.amd) {\n",
       "      requirejs.config({paths});\n",
       "      let deps = [\"vega-embed\"];\n",
       "      require(deps, displayChart, err => showError(`Error loading script: ${err.message}`));\n",
       "    } else {\n",
       "      maybeLoadScript(\"vega\", \"5\")\n",
       "        .then(() => maybeLoadScript(\"vega-lite\", \"5.20.1\"))\n",
       "        .then(() => maybeLoadScript(\"vega-embed\", \"6\"))\n",
       "        .catch(showError)\n",
       "        .then(() => displayChart(vegaEmbed));\n",
       "    }\n",
       "  })({\"config\": {\"view\": {\"continuousWidth\": 300, \"continuousHeight\": 300}}, \"data\": {\"name\": \"data-2570e3c3baee7798ec6e02f3feed896e\"}, \"mark\": {\"type\": \"point\", \"tooltip\": true}, \"encoding\": {\"x\": {\"field\": \"total discount\", \"type\": \"quantitative\"}, \"y\": {\"field\": \"total rev\", \"type\": \"quantitative\"}}, \"params\": [{\"name\": \"param_47\", \"select\": {\"type\": \"interval\", \"encodings\": [\"x\", \"y\"]}, \"bind\": \"scales\"}], \"$schema\": \"https://vega.github.io/schema/vega-lite/v5.20.1.json\", \"datasets\": {\"data-2570e3c3baee7798ec6e02f3feed896e\": [{\"Group_date\": \"2024-10-01\", \"total rev\": 234840270, \"total discount\": 467500}, {\"Group_date\": \"2024-10-02\", \"total rev\": 226414541, \"total discount\": 507500}, {\"Group_date\": \"2024-10-03\", \"total rev\": 201704159, \"total discount\": 449135}, {\"Group_date\": \"2024-10-04\", \"total rev\": 149440534, \"total discount\": 380000}, {\"Group_date\": \"2024-10-05\", \"total rev\": 170956338, \"total discount\": 397500}, {\"Group_date\": \"2024-10-06\", \"total rev\": 171067819, \"total discount\": 317500}, {\"Group_date\": \"2024-10-07\", \"total rev\": 233047944, \"total discount\": 562500}, {\"Group_date\": \"2024-10-08\", \"total rev\": 253903266, \"total discount\": 682500}, {\"Group_date\": \"2024-10-09\", \"total rev\": 238881092, \"total discount\": 505000}, {\"Group_date\": \"2024-10-10\", \"total rev\": 535300505, \"total discount\": 2831500}, {\"Group_date\": \"2024-10-11\", \"total rev\": 198186431, \"total discount\": 1485500}, {\"Group_date\": \"2024-10-12\", \"total rev\": 231873952, \"total discount\": 1668500}, {\"Group_date\": \"2024-10-13\", \"total rev\": 204239886, \"total discount\": 1411500}, {\"Group_date\": \"2024-10-14\", \"total rev\": 268534536, \"total discount\": 1927500}, {\"Group_date\": \"2024-10-15\", \"total rev\": 238758975, \"total discount\": 1763000}, {\"Group_date\": \"2024-10-16\", \"total rev\": 199336386, \"total discount\": 1350000}, {\"Group_date\": \"2024-10-17\", \"total rev\": 176696224, \"total discount\": 1207500}, {\"Group_date\": \"2024-10-18\", \"total rev\": 166169874, \"total discount\": 1054500}, {\"Group_date\": \"2024-10-19\", \"total rev\": 188391566, \"total discount\": 1075500}, {\"Group_date\": \"2024-10-20\", \"total rev\": 163954519, \"total discount\": 883500}, {\"Group_date\": \"2024-10-21\", \"total rev\": 211386396, \"total discount\": 1353500}, {\"Group_date\": \"2024-10-22\", \"total rev\": 182899071, \"total discount\": 1112722}, {\"Group_date\": \"2024-10-23\", \"total rev\": 174129719, \"total discount\": 1067894}, {\"Group_date\": \"2024-10-24\", \"total rev\": 153090053, \"total discount\": 898500}, {\"Group_date\": \"2024-10-25\", \"total rev\": 163519164, \"total discount\": 1197581}, {\"Group_date\": \"2024-10-26\", \"total rev\": 150986474, \"total discount\": 970799}, {\"Group_date\": \"2024-10-27\", \"total rev\": 154937751, \"total discount\": 911773}, {\"Group_date\": \"2024-10-28\", \"total rev\": 207428857, \"total discount\": 1312480}, {\"Group_date\": \"2024-10-29\", \"total rev\": 194213457, \"total discount\": 1096000}, {\"Group_date\": \"2024-10-30\", \"total rev\": 182148882, \"total discount\": 1144000}, {\"Group_date\": \"2024-10-31\", \"total rev\": 201165806, \"total discount\": 1283000}]}}, {\"mode\": \"vega-lite\"});\n",
       "</script>"
      ],
      "text/plain": [
       "alt.Chart(...)"
      ]
     },
     "execution_count": 245,
     "metadata": {},
     "output_type": "execute_result"
    }
   ],
   "source": [
    "corr = groupdate.group_by('Group_date').agg([pl.col('total no dup').sum().alias('total rev'),pl.col('ditanggung penjual no dup').sum().alias('total discount')]).sort(by='Group_date')\n",
    "\n",
    "corr.plot.scatter(y='total rev',x='total discount')"
   ]
  },
  {
   "cell_type": "code",
   "execution_count": 246,
   "metadata": {},
   "outputs": [
    {
     "name": "stdout",
     "output_type": "stream",
     "text": [
      "correlation value\"s are 0.6117563435825989 and pvalue is 0.00000\n"
     ]
    }
   ],
   "source": [
    "var1 = groupdate['total no dup'].to_numpy()\n",
    "var2 = groupdate['ditanggung penjual no dup'].to_numpy()\n",
    "\n",
    "corr , pval = stats.spearmanr(var1,var2)\n",
    "\n",
    "print(f'correlation value\"s are {corr} and pvalue is {pval:.5f}')"
   ]
  },
  {
   "cell_type": "code",
   "execution_count": 247,
   "metadata": {},
   "outputs": [
    {
     "data": {
      "text/plain": [
       "np.float64(37.424582391355074)"
      ]
     },
     "execution_count": 247,
     "metadata": {},
     "output_type": "execute_result"
    }
   ],
   "source": [
    "corr*corr*100"
   ]
  },
  {
   "cell_type": "markdown",
   "metadata": {},
   "source": [
    "### insight\n",
    "\n",
    "whenever our store gave discount on the product the revenue tends to follow that eg. when our revenue is 1000000 around 37% (its squared of correlation value) of it can be achive because of discount strategies move by our company"
   ]
  },
  {
   "cell_type": "code",
   "execution_count": 248,
   "metadata": {},
   "outputs": [
    {
     "data": {
      "text/html": [
       "<div><style>\n",
       ".dataframe > thead > tr,\n",
       ".dataframe > tbody > tr {\n",
       "  text-align: right;\n",
       "  white-space: pre-wrap;\n",
       "}\n",
       "</style>\n",
       "<small>shape: (5, 5)</small><table border=\"1\" class=\"dataframe\"><thead><tr><th>week_of_q4</th><th>total no dup</th><th>Harga Awal</th><th>total_harga_asli</th><th>profit</th></tr><tr><td>i8</td><td>i64</td><td>i64</td><td>i64</td><td>i64</td></tr></thead><tbody><tr><td>40</td><td>1154423661</td><td>1310837000</td><td>1391409000</td><td>-236985339</td></tr><tr><td>41</td><td>1895433076</td><td>2241727000</td><td>2347688500</td><td>-452255424</td></tr><tr><td>42</td><td>1401842080</td><td>1620867500</td><td>1769321000</td><td>-367478920</td></tr><tr><td>43</td><td>1190948628</td><td>1481680500</td><td>1558440500</td><td>-367491872</td></tr><tr><td>44</td><td>784957002</td><td>996388000</td><td>1046343500</td><td>-261386498</td></tr></tbody></table></div>"
      ],
      "text/plain": [
       "shape: (5, 5)\n",
       "┌────────────┬──────────────┬────────────┬──────────────────┬────────────┐\n",
       "│ week_of_q4 ┆ total no dup ┆ Harga Awal ┆ total_harga_asli ┆ profit     │\n",
       "│ ---        ┆ ---          ┆ ---        ┆ ---              ┆ ---        │\n",
       "│ i8         ┆ i64          ┆ i64        ┆ i64              ┆ i64        │\n",
       "╞════════════╪══════════════╪════════════╪══════════════════╪════════════╡\n",
       "│ 40         ┆ 1154423661   ┆ 1310837000 ┆ 1391409000       ┆ -236985339 │\n",
       "│ 41         ┆ 1895433076   ┆ 2241727000 ┆ 2347688500       ┆ -452255424 │\n",
       "│ 42         ┆ 1401842080   ┆ 1620867500 ┆ 1769321000       ┆ -367478920 │\n",
       "│ 43         ┆ 1190948628   ┆ 1481680500 ┆ 1558440500       ┆ -367491872 │\n",
       "│ 44         ┆ 784957002    ┆ 996388000  ┆ 1046343500       ┆ -261386498 │\n",
       "└────────────┴──────────────┴────────────┴──────────────────┴────────────┘"
      ]
     },
     "execution_count": 248,
     "metadata": {},
     "output_type": "execute_result"
    }
   ],
   "source": [
    "groupdate.with_columns([(pl.col('Harga Awal')*pl.col('Jumlah')).alias('total_harga_asli')]).group_by('week_of_q4').agg([pl.col('total no dup').sum(),\n",
    "                                                                                                                      pl.col('Harga Awal').sum(),\n",
    "                                                                                                                      pl.col('total_harga_asli').sum()]).sort(by='week_of_q4').with_columns([\n",
    "                                                                                                                          (pl.col('total no dup')-pl.col('total_harga_asli')).alias('profit')\n",
    "                                                                                                                          ])"
   ]
  },
  {
   "cell_type": "code",
   "execution_count": 249,
   "metadata": {},
   "outputs": [
    {
     "data": {
      "text/html": [
       "<div><style>\n",
       ".dataframe > thead > tr,\n",
       ".dataframe > tbody > tr {\n",
       "  text-align: right;\n",
       "  white-space: pre-wrap;\n",
       "}\n",
       "</style>\n",
       "<small>shape: (46_256, 55)</small><table border=\"1\" class=\"dataframe\"><thead><tr><th>No. Pesanan</th><th>Status Pesanan</th><th>Alasan Pembatalan</th><th>Status Pembatalan/ Pengembalian</th><th>No. Resi</th><th>Opsi Pengiriman</th><th>Antar ke counter/ pick-up</th><th>Pesanan Harus Dikirimkan Sebelum (Menghindari keterlambatan)</th><th>Waktu Pengiriman Diatur</th><th>Waktu Pesanan Dibuat</th><th>Waktu Pembayaran Dilakukan</th><th>Metode Pembayaran</th><th>SKU Induk</th><th>Nama Produk</th><th>Nomor Referensi SKU</th><th>Nama Variasi</th><th>Harga Awal</th><th>Harga Setelah Diskon</th><th>Jumlah</th><th>Returned quantity</th><th>Total Harga Produk</th><th>Total Diskon</th><th>Diskon Dari Penjual</th><th>Diskon Dari Shopee</th><th>Berat Produk</th><th>Jumlah Produk di Pesan</th><th>Total Berat</th><th>Voucher Ditanggung Penjual</th><th>ditanggung penjual no dup</th><th>Cashback Koin</th><th>Voucher Ditanggung Shopee</th><th>Paket Diskon</th><th>Paket Diskon (Diskon dari Shopee)</th><th>Paket Diskon (Diskon dari Penjual)</th><th>Potongan Koin Shopee</th><th>Diskon Kartu Kredit</th><th>Ongkos Kirim Dibayar oleh Pembeli</th><th>Estimasi Potongan Biaya Pengiriman</th><th>Ongkos Kirim Pengembalian Barang</th><th>Total Pembayaran</th><th>total no dup</th><th>Perkiraan Ongkos Kirim</th><th>Catatan dari Pembeli</th><th>Catatan</th><th>Username (Pembeli)</th><th>Nama Penerima</th><th>No. Telepon</th><th>Alamat Pengiriman</th><th>Kota/Kabupaten</th><th>Provinsi</th><th>Waktu Pesanan Selesai</th><th>source</th><th>Group_date</th><th>month_days</th><th>week_of_q4</th></tr><tr><td>str</td><td>str</td><td>str</td><td>null</td><td>str</td><td>str</td><td>str</td><td>datetime[ms]</td><td>datetime[ms]</td><td>datetime[ms]</td><td>datetime[ms]</td><td>str</td><td>null</td><td>str</td><td>str</td><td>str</td><td>i64</td><td>i64</td><td>i64</td><td>i64</td><td>i64</td><td>i64</td><td>i64</td><td>i64</td><td>str</td><td>i64</td><td>str</td><td>i64</td><td>i64</td><td>i64</td><td>i64</td><td>str</td><td>i64</td><td>i64</td><td>i64</td><td>i64</td><td>i64</td><td>i64</td><td>i64</td><td>i64</td><td>i64</td><td>i64</td><td>null</td><td>null</td><td>str</td><td>str</td><td>str</td><td>str</td><td>str</td><td>str</td><td>datetime[ms]</td><td>str</td><td>str</td><td>str</td><td>i8</td></tr></thead><tbody><tr><td>&quot;241001CUKMTPHP&quot;</td><td>&quot;Selesai&quot;</td><td>null</td><td>null</td><td>&quot;GK-11-784428416&quot;</td><td>&quot;Instant-GoSend&nbsp;Instant&quot;</td><td>&quot;Pickup&quot;</td><td>2024-10-01&nbsp;23:59:00</td><td>2024-10-01&nbsp;10:58:00</td><td>2024-10-01&nbsp;07:32:00</td><td>2024-10-01&nbsp;07:32:00</td><td>&quot;ShopeePay&quot;</td><td>null</td><td>&quot;UGREEN&nbsp;Adaptor&nbsp;Kepala&nbsp;Charger&nbsp;…</td><td>&quot;10220&quot;</td><td>&quot;ADP&nbsp;20W&nbsp;MINI&nbsp;WHITE&quot;</td><td>119000</td><td>119000</td><td>1</td><td>0</td><td>119000</td><td>0</td><td>0</td><td>0</td><td>&quot;250&nbsp;gr&quot;</td><td>1</td><td>&quot;250&nbsp;gr&quot;</td><td>0</td><td>0</td><td>0</td><td>2380</td><td>&quot;N&quot;</td><td>0</td><td>0</td><td>0</td><td>0</td><td>0</td><td>18000</td><td>0</td><td>118620</td><td>118620</td><td>18000</td><td>null</td><td>null</td><td>&quot;nfiata&quot;</td><td>&quot;N***a&quot;</td><td>&quot;******53&quot;</td><td>&quot;Jl.&nbsp;Batang&nbsp;Hari&nbsp;No.6,&nbsp;RT.5/RW.…</td><td>&quot;KOTA&nbsp;JAKARTA&nbsp;PUSAT&quot;</td><td>&quot;DKI&nbsp;JAKARTA&quot;</td><td>2024-10-09&nbsp;04:29:00</td><td>&quot;10_2024-oct&nbsp;(1).xlsx&quot;</td><td>&quot;2024-10-01&quot;</td><td>&quot;10-01&quot;</td><td>40</td></tr><tr><td>&quot;241001CTY0TPCF&quot;</td><td>&quot;Selesai&quot;</td><td>null</td><td>null</td><td>&quot;2251004833009152369&quot;</td><td>&quot;Instant-SPX&nbsp;Instant&quot;</td><td>&quot;Pickup&quot;</td><td>2024-10-01&nbsp;23:59:00</td><td>2024-10-01&nbsp;11:28:00</td><td>2024-10-01&nbsp;07:21:00</td><td>2024-10-01&nbsp;07:21:00</td><td>&quot;ShopeePay&quot;</td><td>null</td><td>&quot;UGREEN&nbsp;Charger&nbsp;iPhone&nbsp;MFi&nbsp;USB&nbsp;…</td><td>&quot;50460-60161&quot;</td><td>&quot;1SET&nbsp;10W&nbsp;WHITE&nbsp;NYLON&quot;</td><td>212500</td><td>212500</td><td>1</td><td>0</td><td>212500</td><td>0</td><td>0</td><td>0</td><td>&quot;200&nbsp;gr&quot;</td><td>1</td><td>&quot;200&nbsp;gr&quot;</td><td>0</td><td>0</td><td>0</td><td>21250</td><td>&quot;N&quot;</td><td>0</td><td>0</td><td>0</td><td>0</td><td>0</td><td>20000</td><td>0</td><td>211250</td><td>211250</td><td>20000</td><td>null</td><td>null</td><td>&quot;zahrah.mutiara&quot;</td><td>&quot;Z******a&quot;</td><td>&quot;******33&quot;</td><td>&quot;Jalan&nbsp;Kp&nbsp;Rawa&nbsp;Sawah&nbsp;No.7,&nbsp;RT.2…</td><td>&quot;KOTA&nbsp;JAKARTA&nbsp;PUSAT&quot;</td><td>&quot;DKI&nbsp;JAKARTA&quot;</td><td>2024-10-01&nbsp;17:14:00</td><td>&quot;10_2024-oct&nbsp;(1).xlsx&quot;</td><td>&quot;2024-10-01&quot;</td><td>&quot;10-01&quot;</td><td>40</td></tr><tr><td>&quot;241001D0D47A0N&quot;</td><td>&quot;Selesai&quot;</td><td>null</td><td>null</td><td>&quot;2251004910424064369&quot;</td><td>&quot;Instant-SPX&nbsp;Instant&quot;</td><td>&quot;Pickup&quot;</td><td>2024-10-01&nbsp;23:59:00</td><td>2024-10-01&nbsp;11:39:00</td><td>2024-10-01&nbsp;08:58:00</td><td>2024-10-01&nbsp;08:59:00</td><td>&quot;Online&nbsp;Payment&quot;</td><td>null</td><td>&quot;UGREEN&nbsp;USB&nbsp;Hub&nbsp;10&nbsp;in&nbsp;1&nbsp;Type&nbsp;C&nbsp;…</td><td>&quot;15601&quot;</td><td>&quot;15601&nbsp;10&nbsp;IN&nbsp;1&quot;</td><td>490000</td><td>490000</td><td>3</td><td>0</td><td>1470000</td><td>0</td><td>0</td><td>0</td><td>&quot;900&nbsp;gr&quot;</td><td>3</td><td>&quot;900&nbsp;gr&quot;</td><td>0</td><td>0</td><td>0</td><td>0</td><td>&quot;N&quot;</td><td>0</td><td>0</td><td>0</td><td>0</td><td>0</td><td>28000</td><td>0</td><td>1486400</td><td>1486400</td><td>28000</td><td>null</td><td>null</td><td>&quot;hestisusanti20&quot;</td><td>&quot;H******i&quot;</td><td>&quot;******14&quot;</td><td>&quot;Ruko&nbsp;Bona&nbsp;Gabe,&nbsp;Jalan&nbsp;Jatinega…</td><td>&quot;KOTA&nbsp;JAKARTA&nbsp;TIMUR&quot;</td><td>&quot;DKI&nbsp;JAKARTA&quot;</td><td>2024-10-07&nbsp;15:07:00</td><td>&quot;10_2024-oct&nbsp;(1).xlsx&quot;</td><td>&quot;2024-10-01&quot;</td><td>&quot;10-01&quot;</td><td>40</td></tr><tr><td>&quot;241001D04YUDH1&quot;</td><td>&quot;Selesai&quot;</td><td>null</td><td>null</td><td>&quot;2251005068414464369&quot;</td><td>&quot;Instant-SPX&nbsp;Instant&quot;</td><td>&quot;Pickup&quot;</td><td>2024-10-01&nbsp;23:59:00</td><td>2024-10-01&nbsp;11:40:00</td><td>2024-10-01&nbsp;08:54:00</td><td>2024-10-01&nbsp;08:54:00</td><td>&quot;ShopeePay&quot;</td><td>null</td><td>&quot;UGREEN&nbsp;Kabel&nbsp;Data&nbsp;MFI&nbsp;iPhone&nbsp;5…</td><td>&quot;60158&quot;</td><td>&quot;60158&nbsp;2M&quot;</td><td>175000</td><td>175000</td><td>1</td><td>0</td><td>175000</td><td>0</td><td>0</td><td>0</td><td>&quot;200&nbsp;gr&quot;</td><td>1</td><td>&quot;200&nbsp;gr&quot;</td><td>2500</td><td>2500</td><td>0</td><td>13800</td><td>&quot;N&quot;</td><td>0</td><td>0</td><td>0</td><td>0</td><td>0</td><td>18000</td><td>0</td><td>162400</td><td>162400</td><td>18000</td><td>null</td><td>null</td><td>&quot;indahhhs.61&quot;</td><td>&quot;w******l&quot;</td><td>&quot;******63&quot;</td><td>&quot;Warung&nbsp;Pak&nbsp;Haji&nbsp;Alek/&nbsp;Bang&nbsp;Zul…</td><td>&quot;KOTA&nbsp;JAKARTA&nbsp;BARAT&quot;</td><td>&quot;DKI&nbsp;JAKARTA&quot;</td><td>2024-10-01&nbsp;23:49:00</td><td>&quot;10_2024-oct&nbsp;(1).xlsx&quot;</td><td>&quot;2024-10-01&quot;</td><td>&quot;10-01&quot;</td><td>40</td></tr><tr><td>&quot;241001CUY3WU7E&quot;</td><td>&quot;Selesai&quot;</td><td>null</td><td>null</td><td>&quot;2251005018542080369&quot;</td><td>&quot;Instant-SPX&nbsp;Instant&quot;</td><td>&quot;Pickup&quot;</td><td>2024-10-01&nbsp;23:59:00</td><td>2024-10-01&nbsp;11:46:00</td><td>2024-10-01&nbsp;07:39:00</td><td>2024-10-01&nbsp;07:39:00</td><td>&quot;ShopeePay&quot;</td><td>null</td><td>&quot;UGREEN&nbsp;Microphone&nbsp;Desktop&nbsp;USB&nbsp;…</td><td>&quot;10934&quot;</td><td>&quot;UGREEN&nbsp;10934&quot;</td><td>679000</td><td>265000</td><td>1</td><td>0</td><td>265000</td><td>414000</td><td>414000</td><td>0</td><td>&quot;300&nbsp;gr&quot;</td><td>2</td><td>&quot;650&nbsp;gr&quot;</td><td>0</td><td>0</td><td>0</td><td>16600</td><td>&quot;N&quot;</td><td>0</td><td>0</td><td>0</td><td>0</td><td>0</td><td>31000</td><td>0</td><td>400400</td><td>400400</td><td>31000</td><td>null</td><td>null</td><td>&quot;sayyidrafi04&quot;</td><td>&quot;S******i&quot;</td><td>&quot;******30&quot;</td><td>&quot;Jln&nbsp;H&nbsp;raisan&nbsp;No.24&nbsp;&nbsp;RT.03/RW.0…</td><td>&quot;KOTA&nbsp;JAKARTA&nbsp;BARAT&quot;</td><td>&quot;DKI&nbsp;JAKARTA&quot;</td><td>2024-10-02&nbsp;11:57:00</td><td>&quot;10_2024-oct&nbsp;(1).xlsx&quot;</td><td>&quot;2024-10-01&quot;</td><td>&quot;10-01&quot;</td><td>40</td></tr><tr><td>&quot;241001CUY3WU7E&quot;</td><td>&quot;Selesai&quot;</td><td>null</td><td>null</td><td>&quot;2251005018542080369&quot;</td><td>&quot;Instant-SPX&nbsp;Instant&quot;</td><td>&quot;Pickup&quot;</td><td>2024-10-01&nbsp;23:59:00</td><td>2024-10-01&nbsp;11:46:00</td><td>2024-10-01&nbsp;07:39:00</td><td>2024-10-01&nbsp;07:39:00</td><td>&quot;ShopeePay&quot;</td><td>null</td><td>&quot;Ugreen&nbsp;Kabel&nbsp;Extension&nbsp;USB&nbsp;3.0…</td><td>&quot;10321&quot;</td><td>&quot;10321&nbsp;USB&nbsp;2.0&nbsp;10Metr&quot;</td><td>299000</td><td>150000</td><td>1</td><td>0</td><td>150000</td><td>149000</td><td>149000</td><td>0</td><td>&quot;350&nbsp;gr&quot;</td><td>2</td><td>&quot;650&nbsp;gr&quot;</td><td>0</td><td>0</td><td>0</td><td>16600</td><td>&quot;N&quot;</td><td>0</td><td>0</td><td>0</td><td>0</td><td>0</td><td>31000</td><td>0</td><td>400400</td><td>0</td><td>31000</td><td>null</td><td>null</td><td>&quot;sayyidrafi04&quot;</td><td>&quot;S******i&quot;</td><td>&quot;******30&quot;</td><td>&quot;Jln&nbsp;H&nbsp;raisan&nbsp;No.24&nbsp;&nbsp;RT.03/RW.0…</td><td>&quot;KOTA&nbsp;JAKARTA&nbsp;BARAT&quot;</td><td>&quot;DKI&nbsp;JAKARTA&quot;</td><td>2024-10-02&nbsp;11:57:00</td><td>&quot;10_2024-oct&nbsp;(1).xlsx&quot;</td><td>&quot;2024-10-01&quot;</td><td>&quot;10-01&quot;</td><td>40</td></tr><tr><td>&quot;241001D2XS8HHT&quot;</td><td>&quot;Selesai&quot;</td><td>null</td><td>null</td><td>&quot;2251035815988736369&quot;</td><td>&quot;Instant-SPX&nbsp;Instant&quot;</td><td>&quot;Pickup&quot;</td><td>2024-10-01&nbsp;23:59:00</td><td>2024-10-01&nbsp;11:46:00</td><td>2024-10-01&nbsp;09:44:00</td><td>2024-10-01&nbsp;09:54:00</td><td>&quot;ShopeePay&quot;</td><td>null</td><td>&quot;UGREEN&nbsp;Casing&nbsp;Enclosure&nbsp;Hardis…</td><td>&quot;30847&quot;</td><td>&quot;UGREEN&nbsp;30847&quot;</td><td>280000</td><td>99000</td><td>1</td><td>0</td><td>99000</td><td>181000</td><td>181000</td><td>0</td><td>&quot;250&nbsp;gr&quot;</td><td>1</td><td>&quot;250&nbsp;gr&quot;</td><td>0</td><td>0</td><td>0</td><td>0</td><td>&quot;N&quot;</td><td>0</td><td>0</td><td>0</td><td>0</td><td>0</td><td>18000</td><td>0</td><td>101000</td><td>101000</td><td>18000</td><td>null</td><td>null</td><td>&quot;anggimaidina&quot;</td><td>&quot;M******i&quot;</td><td>&quot;******42&quot;</td><td>&quot;Gedung&nbsp;Sarinah&nbsp;Lt.&nbsp;10&nbsp;(DAK),&nbsp;J…</td><td>&quot;KOTA&nbsp;JAKARTA&nbsp;PUSAT&quot;</td><td>&quot;DKI&nbsp;JAKARTA&quot;</td><td>2024-10-09&nbsp;05:48:00</td><td>&quot;10_2024-oct&nbsp;(1).xlsx&quot;</td><td>&quot;2024-10-01&quot;</td><td>&quot;10-01&quot;</td><td>40</td></tr><tr><td>&quot;241001C8YS32HN&quot;</td><td>&quot;Selesai&quot;</td><td>null</td><td>null</td><td>&quot;2251005298003968369&quot;</td><td>&quot;Instant-SPX&nbsp;Instant&quot;</td><td>&quot;Pickup&quot;</td><td>2024-10-01&nbsp;23:59:00</td><td>2024-10-01&nbsp;11:57:00</td><td>2024-10-01&nbsp;01:59:00</td><td>2024-10-01&nbsp;01:59:00</td><td>&quot;ShopeePay&quot;</td><td>null</td><td>&quot;UGREEN&nbsp;USB&nbsp;3.0&nbsp;to&nbsp;LAN&nbsp;RJ45&nbsp;Ada…</td><td>&quot;50922&quot;</td><td>&quot;50922&nbsp;USB&nbsp;A&quot;</td><td>165000</td><td>165000</td><td>1</td><td>0</td><td>165000</td><td>0</td><td>0</td><td>0</td><td>&quot;200&nbsp;gr&quot;</td><td>1</td><td>&quot;200&nbsp;gr&quot;</td><td>0</td><td>0</td><td>0</td><td>3300</td><td>&quot;N&quot;</td><td>0</td><td>0</td><td>0</td><td>0</td><td>0</td><td>18000</td><td>0</td><td>163700</td><td>163700</td><td>18000</td><td>null</td><td>null</td><td>&quot;_5zt5c16i1&quot;</td><td>&quot;P***a&quot;</td><td>&quot;******19&quot;</td><td>&quot;Pt.&nbsp;Artha&nbsp;Infotama,&nbsp;Jalan&nbsp;Tanj…</td><td>&quot;KOTA&nbsp;JAKARTA&nbsp;PUSAT&quot;</td><td>&quot;DKI&nbsp;JAKARTA&quot;</td><td>2024-10-02&nbsp;12:24:00</td><td>&quot;10_2024-oct&nbsp;(1).xlsx&quot;</td><td>&quot;2024-10-01&quot;</td><td>&quot;10-01&quot;</td><td>40</td></tr><tr><td>&quot;241001C444XXV3&quot;</td><td>&quot;Selesai&quot;</td><td>null</td><td>null</td><td>&quot;2251004885831168369&quot;</td><td>&quot;Instant-SPX&nbsp;Instant&quot;</td><td>&quot;Pickup&quot;</td><td>2024-10-01&nbsp;23:59:00</td><td>2024-10-01&nbsp;12:02:00</td><td>2024-10-01&nbsp;00:32:00</td><td>2024-10-01&nbsp;00:33:00</td><td>&quot;Online&nbsp;Payment&quot;</td><td>null</td><td>&quot;UGREEN&nbsp;Kabel&nbsp;HDMI&nbsp;To&nbsp;HDMI&nbsp;4K&nbsp;6…</td><td>&quot;10106&quot;</td><td>&quot;4K&nbsp;1Meter&quot;</td><td>45000</td><td>45000</td><td>1</td><td>0</td><td>45000</td><td>0</td><td>0</td><td>0</td><td>&quot;2000&nbsp;gr&quot;</td><td>2</td><td>&quot;2050&nbsp;gr&quot;</td><td>0</td><td>0</td><td>0</td><td>0</td><td>&quot;N&quot;</td><td>0</td><td>0</td><td>0</td><td>0</td><td>11000</td><td>20000</td><td>0</td><td>103500</td><td>103500</td><td>31000</td><td>null</td><td>null</td><td>&quot;dinoas1234&quot;</td><td>&quot;Z***a&quot;</td><td>&quot;******79&quot;</td><td>&quot;Konfeksi,&nbsp;Jalan&nbsp;Buni&nbsp;I&nbsp;No.&nbsp;30,…</td><td>&quot;KOTA&nbsp;JAKARTA&nbsp;BARAT&quot;</td><td>&quot;DKI&nbsp;JAKARTA&quot;</td><td>2024-10-09&nbsp;02:04:00</td><td>&quot;10_2024-oct&nbsp;(1).xlsx&quot;</td><td>&quot;2024-10-01&quot;</td><td>&quot;10-01&quot;</td><td>40</td></tr><tr><td>&quot;241001C444XXV3&quot;</td><td>&quot;Selesai&quot;</td><td>null</td><td>null</td><td>&quot;2251004885831168369&quot;</td><td>&quot;Instant-SPX&nbsp;Instant&quot;</td><td>&quot;Pickup&quot;</td><td>2024-10-01&nbsp;23:59:00</td><td>2024-10-01&nbsp;12:02:00</td><td>2024-10-01&nbsp;00:32:00</td><td>2024-10-01&nbsp;00:33:00</td><td>&quot;Online&nbsp;Payment&quot;</td><td>null</td><td>&quot;UGREEN&nbsp;Strap&nbsp;Pengikat&nbsp;Perekat&nbsp;…</td><td>&quot;40356&quot;</td><td>&quot;40356&nbsp;5M&quot;</td><td>45000</td><td>45000</td><td>1</td><td>0</td><td>45000</td><td>0</td><td>0</td><td>0</td><td>&quot;50&nbsp;gr&quot;</td><td>2</td><td>&quot;2050&nbsp;gr&quot;</td><td>0</td><td>0</td><td>0</td><td>0</td><td>&quot;N&quot;</td><td>0</td><td>0</td><td>0</td><td>0</td><td>11000</td><td>20000</td><td>0</td><td>103500</td><td>0</td><td>31000</td><td>null</td><td>null</td><td>&quot;dinoas1234&quot;</td><td>&quot;Z***a&quot;</td><td>&quot;******79&quot;</td><td>&quot;Konfeksi,&nbsp;Jalan&nbsp;Buni&nbsp;I&nbsp;No.&nbsp;30,…</td><td>&quot;KOTA&nbsp;JAKARTA&nbsp;BARAT&quot;</td><td>&quot;DKI&nbsp;JAKARTA&quot;</td><td>2024-10-09&nbsp;02:04:00</td><td>&quot;10_2024-oct&nbsp;(1).xlsx&quot;</td><td>&quot;2024-10-01&quot;</td><td>&quot;10-01&quot;</td><td>40</td></tr><tr><td>&quot;241001C86M3SWA&quot;</td><td>&quot;Selesai&quot;</td><td>null</td><td>null</td><td>&quot;2251004864024577369&quot;</td><td>&quot;Instant-SPX&nbsp;Instant&quot;</td><td>&quot;Pickup&quot;</td><td>2024-10-01&nbsp;23:59:00</td><td>2024-10-01&nbsp;12:33:00</td><td>2024-10-01&nbsp;01:45:00</td><td>2024-10-01&nbsp;01:46:00</td><td>&quot;Online&nbsp;Payment&quot;</td><td>null</td><td>&quot;UGREEN&nbsp;Kabel&nbsp;Data&nbsp;USB&nbsp;Type&nbsp;C&nbsp;F…</td><td>&quot;60116&quot;</td><td>&quot;60116&nbsp;1M&nbsp;PVC&quot;</td><td>30000</td><td>30000</td><td>1</td><td>0</td><td>30000</td><td>0</td><td>0</td><td>0</td><td>&quot;100&nbsp;gr&quot;</td><td>1</td><td>&quot;100&nbsp;gr&quot;</td><td>0</td><td>0</td><td>0</td><td>0</td><td>&quot;N&quot;</td><td>0</td><td>0</td><td>0</td><td>0</td><td>8000</td><td>10000</td><td>0</td><td>40000</td><td>40000</td><td>18000</td><td>null</td><td>null</td><td>&quot;denzdeok_27&quot;</td><td>&quot;H******n&quot;</td><td>&quot;******57&quot;</td><td>&quot;Kosan&nbsp;Pagar&nbsp;Cokelat,&nbsp;Jalan&nbsp;Kar…</td><td>&quot;KOTA&nbsp;JAKARTA&nbsp;PUSAT&quot;</td><td>&quot;DKI&nbsp;JAKARTA&quot;</td><td>2024-10-01&nbsp;20:26:00</td><td>&quot;10_2024-oct&nbsp;(1).xlsx&quot;</td><td>&quot;2024-10-01&quot;</td><td>&quot;10-01&quot;</td><td>40</td></tr><tr><td>&quot;241001CM19J2UD&quot;</td><td>&quot;Selesai&quot;</td><td>null</td><td>null</td><td>&quot;2251005339488257369&quot;</td><td>&quot;Instant-SPX&nbsp;Instant&quot;</td><td>&quot;Pickup&quot;</td><td>2024-10-01&nbsp;23:59:00</td><td>2024-10-01&nbsp;12:33:00</td><td>2024-10-01&nbsp;05:17:00</td><td>2024-10-01&nbsp;05:18:00</td><td>&quot;Online&nbsp;Payment&quot;</td><td>null</td><td>&quot;UGREEN&nbsp;Converter&nbsp;Type&nbsp;C&nbsp;Female…</td><td>&quot;50590&quot;</td><td>&quot;UGREEN&nbsp;50590&quot;</td><td>59000</td><td>32500</td><td>1</td><td>0</td><td>32500</td><td>26500</td><td>26500</td><td>0</td><td>&quot;100&nbsp;gr&quot;</td><td>2</td><td>&quot;300&nbsp;gr&quot;</td><td>0</td><td>0</td><td>0</td><td>33050</td><td>&quot;N&quot;</td><td>0</td><td>0</td><td>0</td><td>0</td><td>0</td><td>28000</td><td>0</td><td>298736</td><td>298736</td><td>28000</td><td>null</td><td>null</td><td>&quot;tokoparfumeoriginal99&quot;</td><td>&quot;R******y&quot;</td><td>&quot;******01&quot;</td><td>&quot;Pasar&nbsp;Mayestik,&nbsp;Jalan&nbsp;Tebah&nbsp;II…</td><td>&quot;KOTA&nbsp;JAKARTA&nbsp;SELATAN&quot;</td><td>&quot;DKI&nbsp;JAKARTA&quot;</td><td>2024-10-09&nbsp;07:38:00</td><td>&quot;10_2024-oct&nbsp;(1).xlsx&quot;</td><td>&quot;2024-10-01&quot;</td><td>&quot;10-01&quot;</td><td>40</td></tr><tr><td>&quot;241001CM19J2UD&quot;</td><td>&quot;Selesai&quot;</td><td>null</td><td>null</td><td>&quot;2251005339488257369&quot;</td><td>&quot;Instant-SPX&nbsp;Instant&quot;</td><td>&quot;Pickup&quot;</td><td>2024-10-01&nbsp;23:59:00</td><td>2024-10-01&nbsp;12:33:00</td><td>2024-10-01&nbsp;05:17:00</td><td>2024-10-01&nbsp;05:18:00</td><td>&quot;Online&nbsp;Payment&quot;</td><td>null</td><td>&quot;UGREEN&nbsp;Kabel&nbsp;iPhone&nbsp;Gaming&nbsp;PD&nbsp;…</td><td>&quot;90664-60763&quot;</td><td>&quot;1SET&nbsp;20W&nbsp;GAN&quot;</td><td>298000</td><td>298000</td><td>1</td><td>0</td><td>298000</td><td>0</td><td>0</td><td>0</td><td>&quot;200&nbsp;gr&quot;</td><td>2</td><td>&quot;300&nbsp;gr&quot;</td><td>0</td><td>0</td><td>0</td><td>33050</td><td>&quot;N&quot;</td><td>0</td><td>0</td><td>0</td><td>0</td><td>0</td><td>28000</td><td>0</td><td>298736</td><td>0</td><td>28000</td><td>null</td><td>null</td><td>&quot;tokoparfumeoriginal99&quot;</td><td>&quot;R******y&quot;</td><td>&quot;******01&quot;</td><td>&quot;Pasar&nbsp;Mayestik,&nbsp;Jalan&nbsp;Tebah&nbsp;II…</td><td>&quot;KOTA&nbsp;JAKARTA&nbsp;SELATAN&quot;</td><td>&quot;DKI&nbsp;JAKARTA&quot;</td><td>2024-10-09&nbsp;07:38:00</td><td>&quot;10_2024-oct&nbsp;(1).xlsx&quot;</td><td>&quot;2024-10-01&quot;</td><td>&quot;10-01&quot;</td><td>40</td></tr><tr><td>&quot;241001D0AM5B8D&quot;</td><td>&quot;Selesai&quot;</td><td>null</td><td>null</td><td>&quot;GK-11-784458196&quot;</td><td>&quot;Instant-GoSend&nbsp;Instant&quot;</td><td>&quot;Pickup&quot;</td><td>2024-10-01&nbsp;23:59:00</td><td>2024-10-01&nbsp;12:35:00</td><td>2024-10-01&nbsp;08:57:00</td><td>2024-10-01&nbsp;08:57:00</td><td>&quot;SeaBank&nbsp;Bayar&nbsp;Instan&quot;</td><td>null</td><td>&quot;UGREEN&nbsp;Tempered&nbsp;Glass&nbsp;HD&nbsp;Scree…</td><td>&quot;25626-25400&quot;</td><td>&quot;1SET&nbsp;SPY+&nbsp;CASE&nbsp;B,IPHONE&nbsp;15&quot;</td><td>210000</td><td>210000</td><td>1</td><td>0</td><td>210000</td><td>0</td><td>0</td><td>0</td><td>&quot;300&nbsp;gr&quot;</td><td>2</td><td>&quot;500&nbsp;gr&quot;</td><td>2500</td><td>2500</td><td>0</td><td>33650</td><td>&quot;N&quot;</td><td>0</td><td>0</td><td>0</td><td>0</td><td>0</td><td>50000</td><td>0</td><td>303850</td><td>303850</td><td>50000</td><td>null</td><td>null</td><td>&quot;ridhohafis11&quot;</td><td>&quot;R******n&quot;</td><td>&quot;******09&quot;</td><td>&quot;Jalan&nbsp;Kerjabakti&nbsp;IV&nbsp;No.24B&nbsp;,&nbsp;R…</td><td>&quot;KOTA&nbsp;JAKARTA&nbsp;TIMUR&quot;</td><td>&quot;DKI&nbsp;JAKARTA&quot;</td><td>2024-10-01&nbsp;18:40:00</td><td>&quot;10_2024-oct&nbsp;(1).xlsx&quot;</td><td>&quot;2024-10-01&quot;</td><td>&quot;10-01&quot;</td><td>40</td></tr><tr><td>&quot;241001D0AM5B8D&quot;</td><td>&quot;Selesai&quot;</td><td>null</td><td>null</td><td>&quot;GK-11-784458196&quot;</td><td>&quot;Instant-GoSend&nbsp;Instant&quot;</td><td>&quot;Pickup&quot;</td><td>2024-10-01&nbsp;23:59:00</td><td>2024-10-01&nbsp;12:35:00</td><td>2024-10-01&nbsp;08:57:00</td><td>2024-10-01&nbsp;08:57:00</td><td>&quot;SeaBank&nbsp;Bayar&nbsp;Instan&quot;</td><td>null</td><td>&quot;UGREEN&nbsp;Kepala&nbsp;Charger&nbsp;PD&nbsp;Type&nbsp;…</td><td>&quot;90664&quot;</td><td>&quot;ADP&nbsp;GaN&nbsp;20W&nbsp;GRAY&quot;</td><td>129000</td><td>129000</td><td>1</td><td>0</td><td>129000</td><td>0</td><td>0</td><td>0</td><td>&quot;200&nbsp;gr&quot;</td><td>2</td><td>&quot;500&nbsp;gr&quot;</td><td>2500</td><td>0</td><td>0</td><td>33650</td><td>&quot;N&quot;</td><td>0</td><td>0</td><td>0</td><td>0</td><td>0</td><td>50000</td><td>0</td><td>303850</td><td>0</td><td>50000</td><td>null</td><td>null</td><td>&quot;ridhohafis11&quot;</td><td>&quot;R******n&quot;</td><td>&quot;******09&quot;</td><td>&quot;Jalan&nbsp;Kerjabakti&nbsp;IV&nbsp;No.24B&nbsp;,&nbsp;R…</td><td>&quot;KOTA&nbsp;JAKARTA&nbsp;TIMUR&quot;</td><td>&quot;DKI&nbsp;JAKARTA&quot;</td><td>2024-10-01&nbsp;18:40:00</td><td>&quot;10_2024-oct&nbsp;(1).xlsx&quot;</td><td>&quot;2024-10-01&quot;</td><td>&quot;10-01&quot;</td><td>40</td></tr><tr><td>&quot;241001CV2MG30J&quot;</td><td>&quot;Selesai&quot;</td><td>null</td><td>null</td><td>&quot;2251005094711296369&quot;</td><td>&quot;Instant-SPX&nbsp;Instant&quot;</td><td>&quot;Pickup&quot;</td><td>2024-10-01&nbsp;23:59:00</td><td>2024-10-01&nbsp;12:38:00</td><td>2024-10-01&nbsp;07:41:00</td><td>2024-10-01&nbsp;07:41:00</td><td>&quot;Online&nbsp;Payment&quot;</td><td>null</td><td>&quot;UGREEN&nbsp;Kabel&nbsp;Power&nbsp;Adaptor&nbsp;Cha…</td><td>&quot;25765&quot;</td><td>&quot;25765&quot;</td><td>55000</td><td>55000</td><td>1</td><td>0</td><td>55000</td><td>0</td><td>0</td><td>0</td><td>&quot;200&nbsp;gr&quot;</td><td>1</td><td>&quot;200&nbsp;gr&quot;</td><td>0</td><td>0</td><td>0</td><td>0</td><td>&quot;N&quot;</td><td>0</td><td>0</td><td>0</td><td>0</td><td>3000</td><td>15000</td><td>0</td><td>60000</td><td>60000</td><td>18000</td><td>null</td><td>null</td><td>&quot;ernest.lie&quot;</td><td>&quot;E******6&quot;</td><td>&quot;******53&quot;</td><td>&quot;Graha&nbsp;Anam,&nbsp;Jalan&nbsp;Teuku&nbsp;Cik&nbsp;Di…</td><td>&quot;KOTA&nbsp;JAKARTA&nbsp;PUSAT&quot;</td><td>&quot;DKI&nbsp;JAKARTA&quot;</td><td>2024-10-09&nbsp;06:47:00</td><td>&quot;10_2024-oct&nbsp;(1).xlsx&quot;</td><td>&quot;2024-10-01&quot;</td><td>&quot;10-01&quot;</td><td>40</td></tr><tr><td>&quot;241001D5AGKK5B&quot;</td><td>&quot;Selesai&quot;</td><td>null</td><td>null</td><td>&quot;GK-11-784458044&quot;</td><td>&quot;Instant-GoSend&nbsp;Instant&quot;</td><td>&quot;Pickup&quot;</td><td>2024-10-01&nbsp;23:59:00</td><td>2024-10-01&nbsp;12:42:00</td><td>2024-10-01&nbsp;10:26:00</td><td>2024-10-01&nbsp;10:30:00</td><td>&quot;Online&nbsp;Payment&quot;</td><td>null</td><td>&quot;UGREEN&nbsp;Kabel&nbsp;2&nbsp;RCA&nbsp;To&nbsp;2&nbsp;RCA&nbsp;Ma…</td><td>&quot;30747&quot;</td><td>&quot;1&nbsp;Meter&quot;</td><td>50000</td><td>50000</td><td>7</td><td>0</td><td>350000</td><td>0</td><td>0</td><td>0</td><td>&quot;700&nbsp;gr&quot;</td><td>7</td><td>&quot;700&nbsp;gr&quot;</td><td>0</td><td>0</td><td>0</td><td>35000</td><td>&quot;N&quot;</td><td>0</td><td>0</td><td>0</td><td>0</td><td>0</td><td>22000</td><td>0</td><td>317000</td><td>317000</td><td>22000</td><td>null</td><td>null</td><td>&quot;8s4u9cmeqq&quot;</td><td>&quot;Y****g&quot;</td><td>&quot;******56&quot;</td><td>&quot;Ruko&nbsp;Duta&nbsp;Muara&nbsp;Indah,&nbsp;Jalan&nbsp;V…</td><td>&quot;KOTA&nbsp;JAKARTA&nbsp;UTARA&quot;</td><td>&quot;DKI&nbsp;JAKARTA&quot;</td><td>2024-10-02&nbsp;07:35:00</td><td>&quot;10_2024-oct&nbsp;(1).xlsx&quot;</td><td>&quot;2024-10-01&quot;</td><td>&quot;10-01&quot;</td><td>40</td></tr><tr><td>&quot;241001CRWES58U&quot;</td><td>&quot;Selesai&quot;</td><td>null</td><td>null</td><td>&quot;GK-11-784458774&quot;</td><td>&quot;Instant-GoSend&nbsp;Instant&quot;</td><td>&quot;Pickup&quot;</td><td>2024-10-01&nbsp;23:59:00</td><td>2024-10-01&nbsp;12:50:00</td><td>2024-10-01&nbsp;06:44:00</td><td>2024-10-01&nbsp;06:44:00</td><td>&quot;ShopeePay&quot;</td><td>null</td><td>&quot;UGREEN&nbsp;Kabel&nbsp;Data&nbsp;iPhone&nbsp;MFi&nbsp;U…</td><td>&quot;20728&quot;</td><td>&quot;20728&nbsp;1M&quot;</td><td>135000</td><td>135000</td><td>1</td><td>0</td><td>135000</td><td>0</td><td>0</td><td>0</td><td>&quot;200&nbsp;gr&quot;</td><td>1</td><td>&quot;200&nbsp;gr&quot;</td><td>0</td><td>0</td><td>0</td><td>4050</td><td>&quot;N&quot;</td><td>0</td><td>0</td><td>0</td><td>0</td><td>0</td><td>18000</td><td>0</td><td>132950</td><td>132950</td><td>18000</td><td>null</td><td>null</td><td>&quot;kinatlina&quot;</td><td>&quot;P*****a&quot;</td><td>&quot;******63&quot;</td><td>&quot;Jalan&nbsp;Kartini&nbsp;3&nbsp;Dalam&nbsp;No.106,&nbsp;…</td><td>&quot;KOTA&nbsp;JAKARTA&nbsp;PUSAT&quot;</td><td>&quot;DKI&nbsp;JAKARTA&quot;</td><td>2024-10-09&nbsp;08:09:00</td><td>&quot;10_2024-oct&nbsp;(1).xlsx&quot;</td><td>&quot;2024-10-01&quot;</td><td>&quot;10-01&quot;</td><td>40</td></tr><tr><td>&quot;241001CSR76RQN&quot;</td><td>&quot;Selesai&quot;</td><td>null</td><td>null</td><td>&quot;GK-11-784458609&quot;</td><td>&quot;Instant-GoSend&nbsp;Instant&quot;</td><td>&quot;Pickup&quot;</td><td>2024-10-01&nbsp;23:59:00</td><td>2024-10-01&nbsp;12:50:00</td><td>2024-10-01&nbsp;06:59:00</td><td>2024-10-01&nbsp;07:01:00</td><td>&quot;Online&nbsp;Payment&quot;</td><td>null</td><td>&quot;UGREEN&nbsp;USB&nbsp;HUB&nbsp;Type&nbsp;C&nbsp;To&nbsp;USB&nbsp;3…</td><td>&quot;20956A&quot;</td><td>&quot;20956A&quot;</td><td>295000</td><td>295000</td><td>1</td><td>0</td><td>295000</td><td>0</td><td>0</td><td>0</td><td>&quot;250&nbsp;gr&quot;</td><td>1</td><td>&quot;250&nbsp;gr&quot;</td><td>0</td><td>0</td><td>0</td><td>0</td><td>&quot;N&quot;</td><td>0</td><td>0</td><td>0</td><td>0</td><td>0</td><td>18000</td><td>0</td><td>299700</td><td>299700</td><td>18000</td><td>null</td><td>null</td><td>&quot;hikmatulizza&quot;</td><td>&quot;R******n&quot;</td><td>&quot;******37&quot;</td><td>&quot;Hotel&nbsp;Nite&nbsp;Day,&nbsp;Jalan&nbsp;Raya&nbsp;Man…</td><td>&quot;KOTA&nbsp;JAKARTA&nbsp;BARAT&quot;</td><td>&quot;DKI&nbsp;JAKARTA&quot;</td><td>2024-10-02&nbsp;13:42:00</td><td>&quot;10_2024-oct&nbsp;(1).xlsx&quot;</td><td>&quot;2024-10-01&quot;</td><td>&quot;10-01&quot;</td><td>40</td></tr><tr><td>&quot;241001D0A038CP&quot;</td><td>&quot;Selesai&quot;</td><td>null</td><td>null</td><td>&quot;GK-11-784459251&quot;</td><td>&quot;Instant-GoSend&nbsp;Instant&quot;</td><td>&quot;Pickup&quot;</td><td>2024-10-01&nbsp;23:59:00</td><td>2024-10-01&nbsp;12:50:00</td><td>2024-10-01&nbsp;08:56:00</td><td>2024-10-01&nbsp;08:58:00</td><td>&quot;Online&nbsp;Payment&quot;</td><td>null</td><td>&quot;UGREEN&nbsp;Charger&nbsp;iPhone&nbsp;15&nbsp;Pro&nbsp;1…</td><td>&quot;15326-15267&quot;</td><td>&quot;1SET&nbsp;GAN&nbsp;30W&nbsp;SILICON&quot;</td><td>260000</td><td>260000</td><td>1</td><td>0</td><td>260000</td><td>0</td><td>0</td><td>0</td><td>&quot;200&nbsp;gr&quot;</td><td>1</td><td>&quot;200&nbsp;gr&quot;</td><td>0</td><td>0</td><td>0</td><td>26000</td><td>&quot;N&quot;</td><td>0</td><td>0</td><td>0</td><td>0</td><td>0</td><td>18000</td><td>0</td><td>236000</td><td>236000</td><td>18000</td><td>null</td><td>null</td><td>&quot;ariadecan718&quot;</td><td>&quot;C****a&quot;</td><td>&quot;******04&quot;</td><td>&quot;Graha&nbsp;Apic&nbsp;Lt&nbsp;3,&nbsp;Jalan&nbsp;Wahid&nbsp;H…</td><td>&quot;KOTA&nbsp;JAKARTA&nbsp;PUSAT&quot;</td><td>&quot;DKI&nbsp;JAKARTA&quot;</td><td>2024-10-04&nbsp;05:55:00</td><td>&quot;10_2024-oct&nbsp;(1).xlsx&quot;</td><td>&quot;2024-10-01&quot;</td><td>&quot;10-01&quot;</td><td>40</td></tr><tr><td>&quot;241001D5F4CBMH&quot;</td><td>&quot;Selesai&quot;</td><td>null</td><td>null</td><td>&quot;IN-2-0ITLCRH3H1JR91AH3OP3&quot;</td><td>&quot;Instant-GrabExpress&nbsp;Instant&quot;</td><td>&quot;Pickup&quot;</td><td>2024-10-01&nbsp;23:59:00</td><td>2024-10-01&nbsp;12:50:00</td><td>2024-10-01&nbsp;10:29:00</td><td>2024-10-01&nbsp;10:30:00</td><td>&quot;Online&nbsp;Payment&quot;</td><td>null</td><td>&quot;UGREEN&nbsp;USB&nbsp;Wifi&nbsp;Wireless&nbsp;Adapt…</td><td>&quot;90339&quot;</td><td>&quot;90339&nbsp;AC650&nbsp;ANTENA.&quot;</td><td>349000</td><td>159000</td><td>1</td><td>0</td><td>159000</td><td>190000</td><td>190000</td><td>0</td><td>&quot;100&nbsp;gr&quot;</td><td>1</td><td>&quot;100&nbsp;gr&quot;</td><td>0</td><td>0</td><td>0</td><td>3180</td><td>&quot;N&quot;</td><td>0</td><td>0</td><td>0</td><td>0</td><td>0</td><td>20000</td><td>0</td><td>175820</td><td>175820</td><td>20000</td><td>null</td><td>null</td><td>&quot;kk.yasmin_11&quot;</td><td>&quot;Y****n&quot;</td><td>&quot;******46&quot;</td><td>&quot;Jalan&nbsp;Budi&nbsp;Mulia&nbsp;No.101,&nbsp;RT.8/…</td><td>&quot;KOTA&nbsp;JAKARTA&nbsp;UTARA&quot;</td><td>&quot;DKI&nbsp;JAKARTA&quot;</td><td>2024-10-01&nbsp;21:15:00</td><td>&quot;10_2024-oct&nbsp;(1).xlsx&quot;</td><td>&quot;2024-10-01&quot;</td><td>&quot;10-01&quot;</td><td>40</td></tr><tr><td>&quot;241001D6D5NBFU&quot;</td><td>&quot;Selesai&quot;</td><td>null</td><td>null</td><td>&quot;GK-11-784458013&quot;</td><td>&quot;Instant-GoSend&nbsp;Instant&quot;</td><td>&quot;Pickup&quot;</td><td>2024-10-01&nbsp;23:59:00</td><td>2024-10-01&nbsp;12:50:00</td><td>2024-10-01&nbsp;10:46:00</td><td>2024-10-01&nbsp;10:46:00</td><td>&quot;SPayLater&quot;</td><td>null</td><td>&quot;UGREEN&nbsp;Earphone&nbsp;Headset&nbsp;Handsf…</td><td>&quot;60700&quot;</td><td>&quot;Type&nbsp;C,White&quot;</td><td>189000</td><td>189000</td><td>1</td><td>0</td><td>189000</td><td>0</td><td>0</td><td>0</td><td>&quot;200&nbsp;gr&quot;</td><td>1</td><td>&quot;200&nbsp;gr&quot;</td><td>0</td><td>0</td><td>0</td><td>3780</td><td>&quot;N&quot;</td><td>0</td><td>0</td><td>0</td><td>0</td><td>2000</td><td>20000</td><td>0</td><td>190092</td><td>190092</td><td>22000</td><td>null</td><td>null</td><td>&quot;dewizafira_&quot;</td><td>&quot;Y******)&quot;</td><td>&quot;******11&quot;</td><td>&quot;Lkpp&nbsp;Kompleks&nbsp;Rasuna&nbsp;Epicentru…</td><td>&quot;KOTA&nbsp;JAKARTA&nbsp;SELATAN&quot;</td><td>&quot;DKI&nbsp;JAKARTA&quot;</td><td>2024-10-08&nbsp;07:06:00</td><td>&quot;10_2024-oct&nbsp;(1).xlsx&quot;</td><td>&quot;2024-10-01&quot;</td><td>&quot;10-01&quot;</td><td>40</td></tr><tr><td>&quot;241001C2EDEKW9&quot;</td><td>&quot;Selesai&quot;</td><td>null</td><td>null</td><td>&quot;IN-2-0ITLCRH3H19GC9561ZY9&quot;</td><td>&quot;Instant-GrabExpress&nbsp;Instant&quot;</td><td>&quot;Pickup&quot;</td><td>2024-10-01&nbsp;23:59:00</td><td>2024-10-01&nbsp;12:51:00</td><td>2024-10-01&nbsp;00:02:00</td><td>2024-10-01&nbsp;00:03:00</td><td>&quot;SPayLater&quot;</td><td>null</td><td>&quot;UGREEN&nbsp;Case&nbsp;Magnetic&nbsp;iPhone&nbsp;15…</td><td>&quot;25398&quot;</td><td>&quot;CASE&nbsp;MAGSAFE&nbsp;CRISTAL,IPHONE&nbsp;15…</td><td>135000</td><td>135000</td><td>1</td><td>0</td><td>135000</td><td>0</td><td>0</td><td>0</td><td>&quot;100&nbsp;gr&quot;</td><td>1</td><td>&quot;100&nbsp;gr&quot;</td><td>0</td><td>0</td><td>0</td><td>2700</td><td>&quot;N&quot;</td><td>0</td><td>0</td><td>0</td><td>0</td><td>8000</td><td>20000</td><td>0</td><td>142703</td><td>142703</td><td>28000</td><td>null</td><td>null</td><td>&quot;robibin&quot;</td><td>&quot;Y******a&quot;</td><td>&quot;******98&quot;</td><td>&quot;Kost&nbsp;Ana&nbsp;Residence,&nbsp;Jl.Tebet&nbsp;T…</td><td>&quot;KOTA&nbsp;JAKARTA&nbsp;SELATAN&quot;</td><td>&quot;DKI&nbsp;JAKARTA&quot;</td><td>2024-10-03&nbsp;18:21:00</td><td>&quot;10_2024-oct&nbsp;(1).xlsx&quot;</td><td>&quot;2024-10-01&quot;</td><td>&quot;10-01&quot;</td><td>40</td></tr><tr><td>&quot;241001C9CNXXVV&quot;</td><td>&quot;Selesai&quot;</td><td>null</td><td>null</td><td>&quot;IN-2-0ITLCRH3H19WNQU79WYD&quot;</td><td>&quot;Instant-GrabExpress&nbsp;Instant&quot;</td><td>&quot;Pickup&quot;</td><td>2024-10-01&nbsp;23:59:00</td><td>2024-10-01&nbsp;12:52:00</td><td>2024-10-01&nbsp;02:06:00</td><td>2024-10-01&nbsp;02:06:00</td><td>&quot;SPayLater&quot;</td><td>null</td><td>&quot;UGREEN&nbsp;USB&nbsp;Hub&nbsp;Type&nbsp;C&nbsp;To&nbsp;RJ45&nbsp;…</td><td>&quot;15601&quot;</td><td>&quot;15601&nbsp;10&nbsp;IN&nbsp;1&quot;</td><td>489000</td><td>489000</td><td>1</td><td>0</td><td>489000</td><td>0</td><td>0</td><td>0</td><td>&quot;200&nbsp;gr&quot;</td><td>1</td><td>&quot;200&nbsp;gr&quot;</td><td>0</td><td>0</td><td>0</td><td>48900</td><td>&quot;N&quot;</td><td>0</td><td>0</td><td>0</td><td>0</td><td>0</td><td>20000</td><td>0</td><td>450349</td><td>450349</td><td>20000</td><td>null</td><td>null</td><td>&quot;imamhida1998&quot;</td><td>&quot;I**m&quot;</td><td>&quot;******54&quot;</td><td>&quot;Graha&nbsp;Bpjs&nbsp;Ketenagakerjaan,&nbsp;Ja…</td><td>&quot;KOTA&nbsp;JAKARTA&nbsp;SELATAN&quot;</td><td>&quot;DKI&nbsp;JAKARTA&quot;</td><td>2024-10-04&nbsp;20:11:00</td><td>&quot;10_2024-oct&nbsp;(1).xlsx&quot;</td><td>&quot;2024-10-01&quot;</td><td>&quot;10-01&quot;</td><td>40</td></tr><tr><td>&quot;241001CVENSA21&quot;</td><td>&quot;Selesai&quot;</td><td>null</td><td>null</td><td>&quot;GK-11-784459564&quot;</td><td>&quot;Instant-GoSend&nbsp;Instant&quot;</td><td>&quot;Pickup&quot;</td><td>2024-10-01&nbsp;23:59:00</td><td>2024-10-01&nbsp;12:58:00</td><td>2024-10-01&nbsp;07:47:00</td><td>2024-10-01&nbsp;07:48:00</td><td>&quot;Online&nbsp;Payment&quot;</td><td>null</td><td>&quot;UGREEN&nbsp;Charger&nbsp;MFI&nbsp;iPhone&nbsp;11&nbsp;1…</td><td>&quot;15326&quot;</td><td>&quot;ADP&nbsp;GAN&nbsp;30W&nbsp;WHITE&quot;</td><td>175000</td><td>175000</td><td>1</td><td>0</td><td>175000</td><td>0</td><td>0</td><td>0</td><td>&quot;200&nbsp;gr&quot;</td><td>1</td><td>&quot;200&nbsp;gr&quot;</td><td>0</td><td>0</td><td>0</td><td>5250</td><td>&quot;N&quot;</td><td>0</td><td>0</td><td>0</td><td>0</td><td>0</td><td>18000</td><td>0</td><td>171750</td><td>171750</td><td>18000</td><td>null</td><td>null</td><td>&quot;shagirly&quot;</td><td>&quot;M******)&quot;</td><td>&quot;******56&quot;</td><td>&quot;Jalan&nbsp;Kalibaru&nbsp;Timur&nbsp;No.&nbsp;182,&nbsp;…</td><td>&quot;KOTA&nbsp;JAKARTA&nbsp;PUSAT&quot;</td><td>&quot;DKI&nbsp;JAKARTA&quot;</td><td>2024-10-02&nbsp;07:17:00</td><td>&quot;10_2024-oct&nbsp;(1).xlsx&quot;</td><td>&quot;2024-10-01&quot;</td><td>&quot;10-01&quot;</td><td>40</td></tr><tr><td>&hellip;</td><td>&hellip;</td><td>&hellip;</td><td>&hellip;</td><td>&hellip;</td><td>&hellip;</td><td>&hellip;</td><td>&hellip;</td><td>&hellip;</td><td>&hellip;</td><td>&hellip;</td><td>&hellip;</td><td>&hellip;</td><td>&hellip;</td><td>&hellip;</td><td>&hellip;</td><td>&hellip;</td><td>&hellip;</td><td>&hellip;</td><td>&hellip;</td><td>&hellip;</td><td>&hellip;</td><td>&hellip;</td><td>&hellip;</td><td>&hellip;</td><td>&hellip;</td><td>&hellip;</td><td>&hellip;</td><td>&hellip;</td><td>&hellip;</td><td>&hellip;</td><td>&hellip;</td><td>&hellip;</td><td>&hellip;</td><td>&hellip;</td><td>&hellip;</td><td>&hellip;</td><td>&hellip;</td><td>&hellip;</td><td>&hellip;</td><td>&hellip;</td><td>&hellip;</td><td>&hellip;</td><td>&hellip;</td><td>&hellip;</td><td>&hellip;</td><td>&hellip;</td><td>&hellip;</td><td>&hellip;</td><td>&hellip;</td><td>&hellip;</td><td>&hellip;</td><td>&hellip;</td><td>&hellip;</td><td>&hellip;</td></tr><tr><td>&quot;24103121JYGTKX&quot;</td><td>&quot;Selesai&quot;</td><td>null</td><td>null</td><td>&quot;SPXID04066015096B&quot;</td><td>&quot;Reguler&nbsp;(Cashless)-SPX&nbsp;Standar…</td><td>&quot;Antar&nbsp;ke&nbsp;Counter&quot;</td><td>2024-11-01&nbsp;23:59:00</td><td>2024-11-01&nbsp;18:32:00</td><td>2024-10-31&nbsp;17:40:00</td><td>2024-10-31&nbsp;17:40:00</td><td>&quot;ShopeePay&quot;</td><td>null</td><td>&quot;UGREEN&nbsp;Kepala&nbsp;Charger&nbsp;Power&nbsp;De…</td><td>&quot;60450&quot;</td><td>&quot;60450&nbsp;20W&nbsp;WHITE&quot;</td><td>90000</td><td>85000</td><td>1</td><td>0</td><td>85000</td><td>5000</td><td>5000</td><td>0</td><td>&quot;200&nbsp;gr&quot;</td><td>1</td><td>&quot;200&nbsp;gr&quot;</td><td>0</td><td>0</td><td>0</td><td>0</td><td>&quot;N&quot;</td><td>0</td><td>0</td><td>0</td><td>0</td><td>0</td><td>9000</td><td>0</td><td>87625</td><td>87625</td><td>9000</td><td>null</td><td>null</td><td>&quot;liliosapvs&quot;</td><td>&quot;l*****a&quot;</td><td>&quot;******87&quot;</td><td>&quot;Kembangan&nbsp;abadi&nbsp;1&nbsp;rt&nbsp;01&nbsp;rw&nbsp;08&nbsp;…</td><td>&quot;KOTA&nbsp;JAKARTA&nbsp;BARAT&quot;</td><td>&quot;DKI&nbsp;JAKARTA&quot;</td><td>2024-11-02&nbsp;20:03:00</td><td>&quot;10_2024-oct&nbsp;(10).xlsx&quot;</td><td>&quot;2024-10-31&quot;</td><td>&quot;10-31&quot;</td><td>44</td></tr><tr><td>&quot;24103121SP4APN&quot;</td><td>&quot;Selesai&quot;</td><td>null</td><td>null</td><td>&quot;SPXID04001425507B&quot;</td><td>&quot;Reguler&nbsp;(Cashless)-SPX&nbsp;Standar…</td><td>&quot;Antar&nbsp;ke&nbsp;Counter&quot;</td><td>2024-11-01&nbsp;23:59:00</td><td>2024-11-01&nbsp;18:32:00</td><td>2024-10-31&nbsp;17:44:00</td><td>2024-10-31&nbsp;17:44:00</td><td>&quot;Online&nbsp;Payment&quot;</td><td>null</td><td>&quot;UGREEN&nbsp;Car&nbsp;Holder&nbsp;Air&nbsp;Vent&nbsp;Gra…</td><td>&quot;15321&quot;</td><td>&quot;UGREEN&nbsp;15321&nbsp;GRAVITY&quot;</td><td>163500</td><td>109000</td><td>1</td><td>0</td><td>109000</td><td>54500</td><td>54500</td><td>0</td><td>&quot;300&nbsp;gr&quot;</td><td>1</td><td>&quot;300&nbsp;gr&quot;</td><td>0</td><td>0</td><td>0</td><td>2180</td><td>&quot;N&quot;</td><td>0</td><td>0</td><td>0</td><td>0</td><td>0</td><td>9000</td><td>0</td><td>108820</td><td>108820</td><td>9000</td><td>null</td><td>null</td><td>&quot;y_batar4&quot;</td><td>&quot;Y******a&quot;</td><td>&quot;******96&quot;</td><td>&quot;Sakura&nbsp;Regency&nbsp;3,&nbsp;Jalan&nbsp;Cipete…</td><td>&quot;KAB.&nbsp;BEKASI&quot;</td><td>&quot;JAWA&nbsp;BARAT&quot;</td><td>2024-11-03&nbsp;04:28:00</td><td>&quot;10_2024-oct&nbsp;(10).xlsx&quot;</td><td>&quot;2024-10-31&quot;</td><td>&quot;10-31&quot;</td><td>44</td></tr><tr><td>&quot;24103128312E71&quot;</td><td>&quot;Selesai&quot;</td><td>null</td><td>null</td><td>&quot;JP2716445170&quot;</td><td>&quot;Reguler&nbsp;(Cashless)-J&amp;T&nbsp;Express&quot;</td><td>&quot;Antar&nbsp;ke&nbsp;Counter&quot;</td><td>2024-11-01&nbsp;23:59:00</td><td>2024-11-01&nbsp;18:32:00</td><td>2024-10-31&nbsp;19:36:00</td><td>2024-10-31&nbsp;19:36:00</td><td>&quot;COD&nbsp;(Bayar&nbsp;di&nbsp;Tempat)&quot;</td><td>null</td><td>&quot;UGREEN&nbsp;Mouse&nbsp;Wireless&nbsp;Dual&nbsp;Kon…</td><td>&quot;90855&quot;</td><td>&quot;UGREEN&nbsp;90855&quot;</td><td>299000</td><td>157500</td><td>1</td><td>0</td><td>157500</td><td>141500</td><td>141500</td><td>0</td><td>&quot;200&nbsp;gr&quot;</td><td>1</td><td>&quot;200&nbsp;gr&quot;</td><td>0</td><td>0</td><td>0</td><td>12600</td><td>&quot;N&quot;</td><td>0</td><td>0</td><td>0</td><td>0</td><td>22000</td><td>40000</td><td>0</td><td>174576</td><td>174576</td><td>62000</td><td>null</td><td>null</td><td>&quot;mfarisadiepratama&quot;</td><td>&quot;M******a&quot;</td><td>&quot;******99&quot;</td><td>&quot;Jalan&nbsp;Manunggal,&nbsp;RT.4/RW.1,&nbsp;Ti…</td><td>&quot;KAB.&nbsp;TANA&nbsp;TIDUNG&quot;</td><td>&quot;KALIMANTAN&nbsp;UTARA&quot;</td><td>2024-11-06&nbsp;09:44:00</td><td>&quot;10_2024-oct&nbsp;(10).xlsx&quot;</td><td>&quot;2024-10-31&quot;</td><td>&quot;10-31&quot;</td><td>44</td></tr><tr><td>&quot;2411012MTT771C&quot;</td><td>&quot;Selesai&quot;</td><td>null</td><td>null</td><td>&quot;SPXID04799086860B&quot;</td><td>&quot;Reguler&nbsp;(Cashless)-SPX&nbsp;Standar…</td><td>&quot;Antar&nbsp;ke&nbsp;Counter&quot;</td><td>2024-11-01&nbsp;23:59:00</td><td>2024-11-01&nbsp;18:32:00</td><td>2024-10-31&nbsp;23:24:00</td><td>2024-10-31&nbsp;23:25:00</td><td>&quot;SPayLater&quot;</td><td>null</td><td>&quot;UGREEN&nbsp;Adaptor&nbsp;Kepala&nbsp;Charger&nbsp;…</td><td>&quot;90664&quot;</td><td>&quot;ADP&nbsp;20W&nbsp;GaN&nbsp;GRAY&quot;</td><td>129000</td><td>129000</td><td>1</td><td>0</td><td>129000</td><td>0</td><td>0</td><td>0</td><td>&quot;250&nbsp;gr&quot;</td><td>1</td><td>&quot;250&nbsp;gr&quot;</td><td>0</td><td>0</td><td>0</td><td>19350</td><td>&quot;N&quot;</td><td>0</td><td>0</td><td>0</td><td>0</td><td>0</td><td>14400</td><td>0</td><td>111747</td><td>111747</td><td>14400</td><td>null</td><td>null</td><td>&quot;rilaaliyulhayat&quot;</td><td>&quot;R******t&quot;</td><td>&quot;******19&quot;</td><td>&quot;Jalan&nbsp;Prabu&nbsp;Dalam&nbsp;Wongsagati&nbsp;,…</td><td>&quot;KAB.&nbsp;LEBAK&quot;</td><td>&quot;BANTEN&quot;</td><td>2024-11-11&nbsp;02:18:00</td><td>&quot;10_2024-oct&nbsp;(10).xlsx&quot;</td><td>&quot;2024-10-31&quot;</td><td>&quot;10-31&quot;</td><td>44</td></tr><tr><td>&quot;2411012MXUWQ4J&quot;</td><td>&quot;Selesai&quot;</td><td>null</td><td>null</td><td>&quot;SPXID04879003007B&quot;</td><td>&quot;Hemat-SPX&nbsp;Hemat&quot;</td><td>&quot;Antar&nbsp;ke&nbsp;Counter&quot;</td><td>2024-11-01&nbsp;23:59:00</td><td>2024-11-01&nbsp;18:32:00</td><td>2024-10-31&nbsp;23:27:00</td><td>2024-10-31&nbsp;23:28:00</td><td>&quot;Online&nbsp;Payment&quot;</td><td>null</td><td>&quot;UGREEN&nbsp;Kabel&nbsp;Data&nbsp;PD&nbsp;Type&nbsp;C&nbsp;To…</td><td>&quot;70429&quot;</td><td>&quot;70429&nbsp;2M&quot;</td><td>95000</td><td>95000</td><td>1</td><td>0</td><td>95000</td><td>0</td><td>0</td><td>0</td><td>&quot;200&nbsp;gr&quot;</td><td>1</td><td>&quot;200&nbsp;gr&quot;</td><td>0</td><td>0</td><td>0</td><td>0</td><td>&quot;N&quot;</td><td>0</td><td>0</td><td>0</td><td>0</td><td>0</td><td>16000</td><td>0</td><td>97625</td><td>97625</td><td>16000</td><td>null</td><td>null</td><td>&quot;rismawati05.04&quot;</td><td>&quot;R******i&quot;</td><td>&quot;******63&quot;</td><td>&quot;Solaria&nbsp;Icon&nbsp;Mall&nbsp;Gresik,&nbsp;Jala…</td><td>&quot;KAB.&nbsp;GRESIK&quot;</td><td>&quot;JAWA&nbsp;TIMUR&quot;</td><td>2024-11-11&nbsp;06:15:00</td><td>&quot;10_2024-oct&nbsp;(10).xlsx&quot;</td><td>&quot;2024-10-31&quot;</td><td>&quot;10-31&quot;</td><td>44</td></tr><tr><td>&quot;2411012N2CFM60&quot;</td><td>&quot;Selesai&quot;</td><td>null</td><td>null</td><td>&quot;SPXID04158960168B&quot;</td><td>&quot;Reguler&nbsp;(Cashless)-SPX&nbsp;Standar…</td><td>&quot;Antar&nbsp;ke&nbsp;Counter&quot;</td><td>2024-11-01&nbsp;23:59:00</td><td>2024-11-01&nbsp;18:32:00</td><td>2024-10-31&nbsp;23:29:00</td><td>2024-10-31&nbsp;23:29:00</td><td>&quot;COD&nbsp;(Bayar&nbsp;di&nbsp;Tempat)&quot;</td><td>null</td><td>&quot;UGREEN&nbsp;Charger&nbsp;MFI&nbsp;iPhone&nbsp;11&nbsp;1…</td><td>&quot;60450&quot;</td><td>&quot;ADP&nbsp;20W&nbsp;WHITE&quot;</td><td>90000</td><td>85000</td><td>1</td><td>0</td><td>85000</td><td>5000</td><td>5000</td><td>0</td><td>&quot;200&nbsp;gr&quot;</td><td>1</td><td>&quot;200&nbsp;gr&quot;</td><td>0</td><td>0</td><td>0</td><td>6800</td><td>&quot;N&quot;</td><td>0</td><td>0</td><td>0</td><td>0</td><td>0</td><td>17000</td><td>0</td><td>82978</td><td>82978</td><td>17000</td><td>null</td><td>null</td><td>&quot;mishelfenda4&quot;</td><td>&quot;M******a&quot;</td><td>&quot;******55&quot;</td><td>&quot;Jl.&nbsp;Pertamina&nbsp;no.43&nbsp;Rt001/rw&nbsp;0…</td><td>&quot;KAB.&nbsp;CILACAP&quot;</td><td>&quot;JAWA&nbsp;TENGAH&quot;</td><td>2024-11-11&nbsp;03:06:00</td><td>&quot;10_2024-oct&nbsp;(10).xlsx&quot;</td><td>&quot;2024-10-31&quot;</td><td>&quot;10-31&quot;</td><td>44</td></tr><tr><td>&quot;2411012N7ARJBR&quot;</td><td>&quot;Selesai&quot;</td><td>null</td><td>null</td><td>&quot;SPXID04582844890B&quot;</td><td>&quot;Reguler&nbsp;(Cashless)-SPX&nbsp;Standar…</td><td>&quot;Antar&nbsp;ke&nbsp;Counter&quot;</td><td>2024-11-01&nbsp;23:59:00</td><td>2024-11-01&nbsp;18:32:00</td><td>2024-10-31&nbsp;23:31:00</td><td>2024-10-31&nbsp;23:32:00</td><td>&quot;ShopeePay&quot;</td><td>null</td><td>&quot;UGREEN&nbsp;Exclusive&nbsp;&nbsp;HiTune&nbsp;P3&nbsp;Ea…</td><td>&quot;45110&quot;</td><td>&quot;HiTune&nbsp;P3&quot;</td><td>249000</td><td>204000</td><td>1</td><td>0</td><td>204000</td><td>45000</td><td>45000</td><td>0</td><td>&quot;350&nbsp;gr&quot;</td><td>1</td><td>&quot;350&nbsp;gr&quot;</td><td>2500</td><td>2500</td><td>0</td><td>20150</td><td>&quot;N&quot;</td><td>0</td><td>0</td><td>0</td><td>0</td><td>0</td><td>17000</td><td>0</td><td>183350</td><td>183350</td><td>17000</td><td>null</td><td>null</td><td>&quot;slametsutrisno22&quot;</td><td>&quot;S******o&quot;</td><td>&quot;******57&quot;</td><td>&quot;Jl&nbsp;manyar&nbsp;sambongan&nbsp;85L,&nbsp;KOTA&nbsp;…</td><td>&quot;KOTA&nbsp;SURABAYA&quot;</td><td>&quot;JAWA&nbsp;TIMUR&quot;</td><td>2024-11-09&nbsp;20:27:00</td><td>&quot;10_2024-oct&nbsp;(10).xlsx&quot;</td><td>&quot;2024-10-31&quot;</td><td>&quot;10-31&quot;</td><td>44</td></tr><tr><td>&quot;2411012NFH1AP6&quot;</td><td>&quot;Selesai&quot;</td><td>null</td><td>null</td><td>&quot;SPXID04305597940B&quot;</td><td>&quot;Hemat-SPX&nbsp;Hemat&quot;</td><td>&quot;Antar&nbsp;ke&nbsp;Counter&quot;</td><td>2024-11-01&nbsp;23:59:00</td><td>2024-11-01&nbsp;18:32:00</td><td>2024-10-31&nbsp;23:36:00</td><td>2024-10-31&nbsp;23:37:00</td><td>&quot;ShopeePay&quot;</td><td>null</td><td>&quot;UGREEN&nbsp;Charger&nbsp;iPhone&nbsp;15&nbsp;Pro&nbsp;1…</td><td>&quot;15326&quot;</td><td>&quot;ADP&nbsp;GAN&nbsp;30W&nbsp;WHITE&quot;</td><td>175000</td><td>175000</td><td>1</td><td>0</td><td>175000</td><td>0</td><td>0</td><td>0</td><td>&quot;200&nbsp;gr&quot;</td><td>1</td><td>&quot;200&nbsp;gr&quot;</td><td>0</td><td>0</td><td>0</td><td>5250</td><td>&quot;N&quot;</td><td>0</td><td>0</td><td>0</td><td>0</td><td>0</td><td>16000</td><td>0</td><td>171042</td><td>171042</td><td>16000</td><td>null</td><td>null</td><td>&quot;dewi_kurnia3258&quot;</td><td>&quot;K******i&quot;</td><td>&quot;******58&quot;</td><td>&quot;Kost&nbsp;Putri&nbsp;Intan,&nbsp;Jalan&nbsp;Nt&nbsp;Str…</td><td>&quot;KAB.&nbsp;BANTUL&quot;</td><td>&quot;DI&nbsp;YOGYAKARTA&quot;</td><td>2024-11-03&nbsp;09:07:00</td><td>&quot;10_2024-oct&nbsp;(10).xlsx&quot;</td><td>&quot;2024-10-31&quot;</td><td>&quot;10-31&quot;</td><td>44</td></tr><tr><td>&quot;2411012NX93MD8&quot;</td><td>&quot;Selesai&quot;</td><td>null</td><td>null</td><td>&quot;SPXID04377596083B&quot;</td><td>&quot;Reguler&nbsp;(Cashless)-SPX&nbsp;Standar…</td><td>&quot;Antar&nbsp;ke&nbsp;Counter&quot;</td><td>2024-11-01&nbsp;23:59:00</td><td>2024-11-01&nbsp;18:32:00</td><td>2024-10-31&nbsp;23:44:00</td><td>2024-10-31&nbsp;23:44:00</td><td>&quot;SPayLater&quot;</td><td>null</td><td>&quot;UGREEN&nbsp;Charger&nbsp;Mfi&nbsp;iPhone&nbsp;5&nbsp;6&nbsp;…</td><td>&quot;70273-60158&quot;</td><td>&quot;1SET&nbsp;18W&nbsp;BLACK&quot;</td><td>260000</td><td>260000</td><td>1</td><td>0</td><td>260000</td><td>0</td><td>0</td><td>0</td><td>&quot;350&nbsp;gr&quot;</td><td>1</td><td>&quot;350&nbsp;gr&quot;</td><td>3000</td><td>3000</td><td>0</td><td>25700</td><td>&quot;N&quot;</td><td>0</td><td>0</td><td>0</td><td>0</td><td>0</td><td>10000</td><td>0</td><td>234613</td><td>234613</td><td>10000</td><td>null</td><td>null</td><td>&quot;robbysyalehhudin23&quot;</td><td>&quot;R******n&quot;</td><td>&quot;******24&quot;</td><td>&quot;Jln&nbsp;bedeng&nbsp;Des&nbsp;curug&nbsp;(PUPUT&nbsp;RI…</td><td>&quot;KAB.&nbsp;KARAWANG&quot;</td><td>&quot;JAWA&nbsp;BARAT&quot;</td><td>2024-11-10&nbsp;04:49:00</td><td>&quot;10_2024-oct&nbsp;(10).xlsx&quot;</td><td>&quot;2024-10-31&quot;</td><td>&quot;10-31&quot;</td><td>44</td></tr><tr><td>&quot;2411012PFH91PX&quot;</td><td>&quot;Selesai&quot;</td><td>null</td><td>null</td><td>&quot;SPXID04698142525B&quot;</td><td>&quot;Hemat-SPX&nbsp;Hemat&quot;</td><td>&quot;Antar&nbsp;ke&nbsp;Counter&quot;</td><td>2024-11-01&nbsp;23:59:00</td><td>2024-11-01&nbsp;18:32:00</td><td>2024-10-31&nbsp;23:54:00</td><td>2024-10-31&nbsp;23:54:00</td><td>&quot;COD&nbsp;(Bayar&nbsp;di&nbsp;Tempat)&quot;</td><td>null</td><td>&quot;UGREEN&nbsp;Kepala&nbsp;Charger&nbsp;Power&nbsp;De…</td><td>&quot;60450&quot;</td><td>&quot;60450&nbsp;20W&nbsp;WHITE&quot;</td><td>90000</td><td>85000</td><td>1</td><td>0</td><td>85000</td><td>5000</td><td>5000</td><td>0</td><td>&quot;200&nbsp;gr&quot;</td><td>1</td><td>&quot;200&nbsp;gr&quot;</td><td>0</td><td>0</td><td>0</td><td>6800</td><td>&quot;N&quot;</td><td>0</td><td>0</td><td>0</td><td>0</td><td>0</td><td>23000</td><td>0</td><td>81935</td><td>81935</td><td>23000</td><td>null</td><td>null</td><td>&quot;dewii1008&quot;</td><td>&quot;D******a&quot;</td><td>&quot;******65&quot;</td><td>&quot;Kost&nbsp;Safas,&nbsp;Jalan&nbsp;Eka&nbsp;Dewi&nbsp;Gan…</td><td>&quot;KOTA&nbsp;MEDAN&quot;</td><td>&quot;SUMATERA&nbsp;UTARA&quot;</td><td>2024-11-07&nbsp;02:56:00</td><td>&quot;10_2024-oct&nbsp;(10).xlsx&quot;</td><td>&quot;2024-10-31&quot;</td><td>&quot;10-31&quot;</td><td>44</td></tr><tr><td>&quot;2411012PGJMR23&quot;</td><td>&quot;Selesai&quot;</td><td>null</td><td>null</td><td>&quot;SPXID04085518696B&quot;</td><td>&quot;Reguler&nbsp;(Cashless)-SPX&nbsp;Standar…</td><td>&quot;Antar&nbsp;ke&nbsp;Counter&quot;</td><td>2024-11-01&nbsp;23:59:00</td><td>2024-11-01&nbsp;18:32:00</td><td>2024-10-31&nbsp;23:54:00</td><td>2024-10-31&nbsp;23:55:00</td><td>&quot;Online&nbsp;Payment&quot;</td><td>null</td><td>&quot;UGREEN&nbsp;Charger&nbsp;Mfi&nbsp;iPhone&nbsp;5&nbsp;6&nbsp;…</td><td>&quot;70273-60158&quot;</td><td>&quot;1SET&nbsp;18W&nbsp;BLACK&quot;</td><td>260000</td><td>260000</td><td>1</td><td>0</td><td>260000</td><td>0</td><td>0</td><td>0</td><td>&quot;350&nbsp;gr&quot;</td><td>1</td><td>&quot;350&nbsp;gr&quot;</td><td>3000</td><td>3000</td><td>0</td><td>25700</td><td>&quot;N&quot;</td><td>0</td><td>0</td><td>0</td><td>0</td><td>0</td><td>38000</td><td>0</td><td>233300</td><td>233300</td><td>38000</td><td>null</td><td>null</td><td>&quot;6pgh73nekm&quot;</td><td>&quot;A**m&quot;</td><td>&quot;******00&quot;</td><td>&quot;Jalan&nbsp;Lengkenat&nbsp;&nbsp;Sepauk&nbsp;no.&nbsp;10…</td><td>&quot;KAB.&nbsp;SINTANG&quot;</td><td>&quot;KALIMANTAN&nbsp;BARAT&quot;</td><td>2024-11-13&nbsp;03:49:00</td><td>&quot;10_2024-oct&nbsp;(10).xlsx&quot;</td><td>&quot;2024-10-31&quot;</td><td>&quot;10-31&quot;</td><td>44</td></tr><tr><td>&quot;2411012PR9P8DS&quot;</td><td>&quot;Selesai&quot;</td><td>null</td><td>null</td><td>&quot;SPXID04449916146B&quot;</td><td>&quot;Reguler&nbsp;(Cashless)-SPX&nbsp;Standar…</td><td>&quot;Antar&nbsp;ke&nbsp;Counter&quot;</td><td>2024-11-01&nbsp;23:59:00</td><td>2024-11-01&nbsp;18:32:00</td><td>2024-10-31&nbsp;23:59:00</td><td>2024-10-31&nbsp;23:59:00</td><td>&quot;Online&nbsp;Payment&quot;</td><td>null</td><td>&quot;UGREEN&nbsp;Charger&nbsp;MFI&nbsp;iPhone&nbsp;11&nbsp;1…</td><td>&quot;90664&quot;</td><td>&quot;ADP&nbsp;GAN&nbsp;20W&nbsp;GREY&quot;</td><td>129000</td><td>129000</td><td>1</td><td>0</td><td>129000</td><td>0</td><td>0</td><td>0</td><td>&quot;200&nbsp;gr&quot;</td><td>1</td><td>&quot;200&nbsp;gr&quot;</td><td>0</td><td>0</td><td>0</td><td>2580</td><td>&quot;N&quot;</td><td>0</td><td>0</td><td>0</td><td>0</td><td>0</td><td>36000</td><td>0</td><td>130120</td><td>130120</td><td>36000</td><td>null</td><td>null</td><td>&quot;veryansyah25&quot;</td><td>&quot;N******k&quot;</td><td>&quot;******55&quot;</td><td>&quot;JL.KUMALA&nbsp;2&nbsp;UTARA&nbsp;LR.3,&nbsp;KOTA&nbsp;M…</td><td>&quot;KOTA&nbsp;MAKASSAR&quot;</td><td>&quot;SULAWESI&nbsp;SELATAN&quot;</td><td>2024-11-04&nbsp;12:50:00</td><td>&quot;10_2024-oct&nbsp;(10).xlsx&quot;</td><td>&quot;2024-10-31&quot;</td><td>&quot;10-31&quot;</td><td>44</td></tr><tr><td>&quot;24103129VT96AF&quot;</td><td>&quot;Selesai&quot;</td><td>null</td><td>null</td><td>&quot;SPXID04979444183B&quot;</td><td>&quot;Hemat-SPX&nbsp;Hemat&quot;</td><td>&quot;Antar&nbsp;ke&nbsp;Counter&quot;</td><td>2024-11-01&nbsp;23:59:00</td><td>2024-11-01&nbsp;18:34:00</td><td>2024-10-31&nbsp;20:09:00</td><td>2024-10-31&nbsp;20:09:00</td><td>&quot;COD&nbsp;(Bayar&nbsp;di&nbsp;Tempat)&quot;</td><td>null</td><td>&quot;UGREEN&nbsp;Kepala&nbsp;Charger&nbsp;iPhone&nbsp;5…</td><td>&quot;50460&quot;</td><td>&quot;ADP&nbsp;10W&nbsp;WHITE&quot;</td><td>67500</td><td>67500</td><td>1</td><td>0</td><td>67500</td><td>0</td><td>0</td><td>0</td><td>&quot;200&nbsp;gr&quot;</td><td>1</td><td>&quot;200&nbsp;gr&quot;</td><td>0</td><td>0</td><td>0</td><td>5400</td><td>&quot;N&quot;</td><td>0</td><td>0</td><td>0</td><td>0</td><td>0</td><td>16000</td><td>0</td><td>66234</td><td>66234</td><td>16000</td><td>null</td><td>null</td><td>&quot;afinurrahayu&quot;</td><td>&quot;A******u&quot;</td><td>&quot;******27&quot;</td><td>&quot;DUKUH&nbsp;PEGANDULAN,RT&nbsp;1&nbsp;RW&nbsp;3,DES…</td><td>&quot;KAB.&nbsp;WONOSOBO&quot;</td><td>&quot;JAWA&nbsp;TENGAH&quot;</td><td>2024-11-11&nbsp;03:03:00</td><td>&quot;10_2024-oct&nbsp;(10).xlsx&quot;</td><td>&quot;2024-10-31&quot;</td><td>&quot;10-31&quot;</td><td>44</td></tr><tr><td>&quot;24103123XYDJAN&quot;</td><td>&quot;Selesai&quot;</td><td>null</td><td>null</td><td>&quot;JP6647084918&quot;</td><td>&quot;J&amp;T&nbsp;Express&quot;</td><td>&quot;Antar&nbsp;ke&nbsp;Counter&quot;</td><td>2024-11-01&nbsp;23:59:00</td><td>2024-11-01&nbsp;18:35:00</td><td>2024-10-31&nbsp;18:23:00</td><td>2024-10-31&nbsp;18:24:00</td><td>&quot;Online&nbsp;Payment&quot;</td><td>null</td><td>&quot;UGREEN&nbsp;Adaptor&nbsp;Kepala&nbsp;Charger&nbsp;…</td><td>&quot;10220&quot;</td><td>&quot;ADP&nbsp;20W&nbsp;MINI&nbsp;WHITE&quot;</td><td>119000</td><td>98900</td><td>1</td><td>0</td><td>98900</td><td>20100</td><td>0</td><td>20100</td><td>&quot;250&nbsp;gr&quot;</td><td>1</td><td>&quot;250&nbsp;gr&quot;</td><td>0</td><td>0</td><td>0</td><td>7912</td><td>&quot;N&quot;</td><td>0</td><td>0</td><td>0</td><td>0</td><td>0</td><td>39900</td><td>0</td><td>92085</td><td>92085</td><td>39900</td><td>null</td><td>null</td><td>&quot;lidiayunita01&quot;</td><td>&quot;L***a&quot;</td><td>&quot;******58&quot;</td><td>&quot;Jalan&nbsp;Sawang&nbsp;Km&nbsp;7&nbsp;depan&nbsp;hotel&nbsp;…</td><td>&quot;KAB.&nbsp;KARIMUN&quot;</td><td>&quot;KEPULAUAN&nbsp;RIAU&quot;</td><td>2024-11-07&nbsp;10:55:00</td><td>&quot;10_2024-oct&nbsp;(10).xlsx&quot;</td><td>&quot;2024-10-31&quot;</td><td>&quot;10-31&quot;</td><td>44</td></tr><tr><td>&quot;241031292WGT14&quot;</td><td>&quot;Selesai&quot;</td><td>null</td><td>null</td><td>&quot;JP2725156993&quot;</td><td>&quot;Reguler&nbsp;(Cashless)-J&amp;T&nbsp;Express&quot;</td><td>&quot;Antar&nbsp;ke&nbsp;Counter&quot;</td><td>2024-11-01&nbsp;23:59:00</td><td>2024-11-01&nbsp;18:35:00</td><td>2024-10-31&nbsp;19:54:00</td><td>2024-10-31&nbsp;19:55:00</td><td>&quot;Online&nbsp;Payment&quot;</td><td>null</td><td>&quot;UGREEN&nbsp;Kepala&nbsp;Charger&nbsp;iPhone&nbsp;A…</td><td>&quot;10133&quot;</td><td>&quot;ADP&nbsp;18W&nbsp;WHITE&quot;</td><td>85000</td><td>85000</td><td>1</td><td>0</td><td>85000</td><td>0</td><td>0</td><td>0</td><td>&quot;250&nbsp;gr&quot;</td><td>2</td><td>&quot;450&nbsp;gr&quot;</td><td>0</td><td>0</td><td>0</td><td>0</td><td>&quot;N&quot;</td><td>0</td><td>0</td><td>0</td><td>0</td><td>1000</td><td>40000</td><td>0</td><td>107000</td><td>107000</td><td>41000</td><td>null</td><td>null</td><td>&quot;muhammad_ferdi&quot;</td><td>&quot;M******i&quot;</td><td>&quot;******65&quot;</td><td>&quot;Jl.&nbsp;Ketapang&nbsp;-&nbsp;Siduk&nbsp;KM&nbsp;35,&nbsp;RT…</td><td>&quot;KAB.&nbsp;KETAPANG&quot;</td><td>&quot;KALIMANTAN&nbsp;BARAT&quot;</td><td>2024-11-09&nbsp;15:26:00</td><td>&quot;10_2024-oct&nbsp;(10).xlsx&quot;</td><td>&quot;2024-10-31&quot;</td><td>&quot;10-31&quot;</td><td>44</td></tr><tr><td>&quot;241031292WGT14&quot;</td><td>&quot;Selesai&quot;</td><td>null</td><td>null</td><td>&quot;JP2725156993&quot;</td><td>&quot;Reguler&nbsp;(Cashless)-J&amp;T&nbsp;Express&quot;</td><td>&quot;Antar&nbsp;ke&nbsp;Counter&quot;</td><td>2024-11-01&nbsp;23:59:00</td><td>2024-11-01&nbsp;18:35:00</td><td>2024-10-31&nbsp;19:54:00</td><td>2024-10-31&nbsp;19:55:00</td><td>&quot;Online&nbsp;Payment&quot;</td><td>null</td><td>&quot;UGREEN&nbsp;Kabel&nbsp;Data&nbsp;Micro&nbsp;USB&nbsp;Fa…</td><td>&quot;60134&quot;</td><td>&quot;60134&nbsp;25CM&nbsp;PVC&quot;</td><td>19000</td><td>19000</td><td>1</td><td>0</td><td>19000</td><td>0</td><td>0</td><td>0</td><td>&quot;200&nbsp;gr&quot;</td><td>2</td><td>&quot;450&nbsp;gr&quot;</td><td>0</td><td>0</td><td>0</td><td>0</td><td>&quot;N&quot;</td><td>0</td><td>0</td><td>0</td><td>0</td><td>1000</td><td>40000</td><td>0</td><td>107000</td><td>0</td><td>41000</td><td>null</td><td>null</td><td>&quot;muhammad_ferdi&quot;</td><td>&quot;M******i&quot;</td><td>&quot;******65&quot;</td><td>&quot;Jl.&nbsp;Ketapang&nbsp;-&nbsp;Siduk&nbsp;KM&nbsp;35,&nbsp;RT…</td><td>&quot;KAB.&nbsp;KETAPANG&quot;</td><td>&quot;KALIMANTAN&nbsp;BARAT&quot;</td><td>2024-11-09&nbsp;15:26:00</td><td>&quot;10_2024-oct&nbsp;(10).xlsx&quot;</td><td>&quot;2024-10-31&quot;</td><td>&quot;10-31&quot;</td><td>44</td></tr><tr><td>&quot;2410312F42ADN5&quot;</td><td>&quot;Selesai&quot;</td><td>null</td><td>null</td><td>&quot;JP1418182415&quot;</td><td>&quot;Reguler&nbsp;(Cashless)-J&amp;T&nbsp;Express&quot;</td><td>&quot;Antar&nbsp;ke&nbsp;Counter&quot;</td><td>2024-11-01&nbsp;23:59:00</td><td>2024-11-01&nbsp;18:35:00</td><td>2024-10-31&nbsp;21:42:00</td><td>2024-10-31&nbsp;21:43:00</td><td>&quot;Online&nbsp;Payment&quot;</td><td>null</td><td>&quot;UGREEN&nbsp;Kabel&nbsp;PD&nbsp;Type&nbsp;C&nbsp;to&nbsp;Type…</td><td>&quot;50149&quot;</td><td>&quot;50149&nbsp;50CM&quot;</td><td>55000</td><td>55000</td><td>1</td><td>0</td><td>55000</td><td>0</td><td>0</td><td>0</td><td>&quot;150&nbsp;gr&quot;</td><td>2</td><td>&quot;450&nbsp;gr&quot;</td><td>0</td><td>0</td><td>0</td><td>0</td><td>&quot;N&quot;</td><td>0</td><td>0</td><td>0</td><td>0</td><td>0</td><td>40000</td><td>0</td><td>166625</td><td>166625</td><td>40000</td><td>null</td><td>null</td><td>&quot;thegembul&quot;</td><td>&quot;D***Y&quot;</td><td>&quot;******88&quot;</td><td>&quot;Jln.jakarta,&nbsp;RT&nbsp;11,&nbsp;unit&nbsp;19,&nbsp;k…</td><td>&quot;KAB.&nbsp;BUNGO&quot;</td><td>&quot;JAMBI&quot;</td><td>2024-11-04&nbsp;20:18:00</td><td>&quot;10_2024-oct&nbsp;(10).xlsx&quot;</td><td>&quot;2024-10-31&quot;</td><td>&quot;10-31&quot;</td><td>44</td></tr><tr><td>&quot;2410312F42ADN5&quot;</td><td>&quot;Selesai&quot;</td><td>null</td><td>null</td><td>&quot;JP1418182415&quot;</td><td>&quot;Reguler&nbsp;(Cashless)-J&amp;T&nbsp;Express&quot;</td><td>&quot;Antar&nbsp;ke&nbsp;Counter&quot;</td><td>2024-11-01&nbsp;23:59:00</td><td>2024-11-01&nbsp;18:35:00</td><td>2024-10-31&nbsp;21:42:00</td><td>2024-10-31&nbsp;21:43:00</td><td>&quot;Online&nbsp;Payment&quot;</td><td>null</td><td>&quot;UGREEN&nbsp;Car&nbsp;Holder&nbsp;Air&nbsp;Vent&nbsp;Gra…</td><td>&quot;15321&quot;</td><td>&quot;UGREEN&nbsp;15321&nbsp;GRAVITY&quot;</td><td>163500</td><td>109000</td><td>1</td><td>0</td><td>109000</td><td>54500</td><td>54500</td><td>0</td><td>&quot;300&nbsp;gr&quot;</td><td>2</td><td>&quot;450&nbsp;gr&quot;</td><td>0</td><td>0</td><td>0</td><td>0</td><td>&quot;N&quot;</td><td>0</td><td>0</td><td>0</td><td>0</td><td>0</td><td>40000</td><td>0</td><td>166625</td><td>0</td><td>40000</td><td>null</td><td>null</td><td>&quot;thegembul&quot;</td><td>&quot;D***Y&quot;</td><td>&quot;******88&quot;</td><td>&quot;Jln.jakarta,&nbsp;RT&nbsp;11,&nbsp;unit&nbsp;19,&nbsp;k…</td><td>&quot;KAB.&nbsp;BUNGO&quot;</td><td>&quot;JAMBI&quot;</td><td>2024-11-04&nbsp;20:18:00</td><td>&quot;10_2024-oct&nbsp;(10).xlsx&quot;</td><td>&quot;2024-10-31&quot;</td><td>&quot;10-31&quot;</td><td>44</td></tr><tr><td>&quot;2410311XNW5V81&quot;</td><td>&quot;Selesai&quot;</td><td>null</td><td>null</td><td>&quot;JP1096672454&quot;</td><td>&quot;J&amp;T&nbsp;Express&quot;</td><td>&quot;Antar&nbsp;ke&nbsp;Counter&quot;</td><td>2024-11-01&nbsp;23:59:00</td><td>2024-11-01&nbsp;18:39:00</td><td>2024-10-31&nbsp;16:48:00</td><td>2024-10-31&nbsp;16:48:00</td><td>&quot;ShopeePay&quot;</td><td>null</td><td>&quot;UGREEN&nbsp;Adaptor&nbsp;Kepala&nbsp;Charger&nbsp;…</td><td>&quot;60450&quot;</td><td>&quot;ADP&nbsp;20W&nbsp;WHITE.&quot;</td><td>90000</td><td>85000</td><td>1</td><td>0</td><td>85000</td><td>5000</td><td>5000</td><td>0</td><td>&quot;250&nbsp;gr&quot;</td><td>1</td><td>&quot;250&nbsp;gr&quot;</td><td>0</td><td>0</td><td>0</td><td>0</td><td>&quot;N&quot;</td><td>0</td><td>0</td><td>0</td><td>0</td><td>0</td><td>25200</td><td>0</td><td>87000</td><td>87000</td><td>25200</td><td>null</td><td>null</td><td>&quot;muhamadbahruadidarma&quot;</td><td>&quot;T******a&quot;</td><td>&quot;******05&quot;</td><td>&quot;JT&nbsp;Express&nbsp;(Paket&nbsp;Taro&nbsp;Di&nbsp;Kant…</td><td>&quot;KAB.&nbsp;WAY&nbsp;KANAN&quot;</td><td>&quot;LAMPUNG&quot;</td><td>2024-11-07&nbsp;18:42:00</td><td>&quot;10_2024-oct&nbsp;(10).xlsx&quot;</td><td>&quot;2024-10-31&quot;</td><td>&quot;10-31&quot;</td><td>44</td></tr><tr><td>&quot;241031241HC897&quot;</td><td>&quot;Selesai&quot;</td><td>null</td><td>null</td><td>&quot;JP4927453679&quot;</td><td>&quot;J&amp;T&nbsp;Express&quot;</td><td>&quot;Antar&nbsp;ke&nbsp;Counter&quot;</td><td>2024-11-01&nbsp;23:59:00</td><td>2024-11-01&nbsp;18:39:00</td><td>2024-10-31&nbsp;18:24:00</td><td>2024-10-31&nbsp;18:24:00</td><td>&quot;SeaBank&nbsp;Bayar&nbsp;Instan&quot;</td><td>null</td><td>&quot;UGREEN&nbsp;Kabel&nbsp;Data&nbsp;USB&nbsp;Type&nbsp;C&nbsp;F…</td><td>&quot;60125&quot;</td><td>&quot;60125&nbsp;50CM&nbsp;NYLON&quot;</td><td>37000</td><td>31400</td><td>1</td><td>0</td><td>31400</td><td>5600</td><td>0</td><td>5600</td><td>&quot;100&nbsp;gr&quot;</td><td>1</td><td>&quot;100&nbsp;gr&quot;</td><td>0</td><td>0</td><td>0</td><td>10000</td><td>&quot;N&quot;</td><td>0</td><td>0</td><td>0</td><td>0</td><td>0</td><td>7700</td><td>0</td><td>22400</td><td>22400</td><td>7700</td><td>null</td><td>null</td><td>&quot;anindyals&quot;</td><td>&quot;A******S&quot;</td><td>&quot;******52&quot;</td><td>&quot;Jalan&nbsp;Cijagra&nbsp;Gang&nbsp;1&nbsp;No.&nbsp;4,&nbsp;Le…</td><td>&quot;KOTA&nbsp;BANDUNG&quot;</td><td>&quot;JAWA&nbsp;BARAT&quot;</td><td>2024-11-02&nbsp;17:24:00</td><td>&quot;10_2024-oct&nbsp;(10).xlsx&quot;</td><td>&quot;2024-10-31&quot;</td><td>&quot;10-31&quot;</td><td>44</td></tr><tr><td>&quot;24103129JSVU9D&quot;</td><td>&quot;Selesai&quot;</td><td>null</td><td>null</td><td>&quot;JP3605097108&quot;</td><td>&quot;J&amp;T&nbsp;Economy&quot;</td><td>&quot;Antar&nbsp;ke&nbsp;Counter&quot;</td><td>2024-11-01&nbsp;23:59:00</td><td>2024-11-01&nbsp;18:42:00</td><td>2024-10-31&nbsp;20:03:00</td><td>2024-10-31&nbsp;20:03:00</td><td>&quot;SPayLater&quot;</td><td>null</td><td>&quot;UGREEN&nbsp;Kabel&nbsp;LAN&nbsp;RJ45&nbsp;Cat&nbsp;5e&nbsp;U…</td><td>&quot;11233&quot;</td><td>&quot;5&nbsp;Meter&quot;</td><td>29000</td><td>29000</td><td>1</td><td>0</td><td>29000</td><td>0</td><td>0</td><td>0</td><td>&quot;800&nbsp;gr&quot;</td><td>1</td><td>&quot;800&nbsp;gr&quot;</td><td>0</td><td>0</td><td>0</td><td>0</td><td>&quot;N&quot;</td><td>0</td><td>0</td><td>0</td><td>0</td><td>16000</td><td>15000</td><td>0</td><td>46450</td><td>46450</td><td>31000</td><td>null</td><td>null</td><td>&quot;fakeworld2&quot;</td><td>&quot;W******n&quot;</td><td>&quot;******10&quot;</td><td>&quot;Bengkong&nbsp;Indah&nbsp;Atas&nbsp;blok&nbsp;H&nbsp;no.…</td><td>&quot;KOTA&nbsp;BATAM&quot;</td><td>&quot;KEPULAUAN&nbsp;RIAU&quot;</td><td>2024-11-08&nbsp;19:18:00</td><td>&quot;10_2024-oct&nbsp;(10).xlsx&quot;</td><td>&quot;2024-10-31&quot;</td><td>&quot;10-31&quot;</td><td>44</td></tr><tr><td>&quot;2410311Y0DTV4F&quot;</td><td>&quot;Selesai&quot;</td><td>null</td><td>null</td><td>&quot;JP0171503829&quot;</td><td>&quot;J&amp;T&nbsp;Express&quot;</td><td>&quot;Antar&nbsp;ke&nbsp;Counter&quot;</td><td>2024-11-01&nbsp;23:59:00</td><td>2024-11-01&nbsp;18:45:00</td><td>2024-10-31&nbsp;16:54:00</td><td>2024-10-31&nbsp;16:54:00</td><td>&quot;Kartu&nbsp;Kredit/Debit&quot;</td><td>null</td><td>&quot;UGREEN&nbsp;Kepala&nbsp;Charger&nbsp;iPhone&nbsp;5…</td><td>&quot;70273&quot;</td><td>&quot;ADP&nbsp;18W&nbsp;BLACK&quot;</td><td>85000</td><td>85000</td><td>1</td><td>0</td><td>85000</td><td>0</td><td>0</td><td>0</td><td>&quot;200&nbsp;gr&quot;</td><td>1</td><td>&quot;200&nbsp;gr&quot;</td><td>0</td><td>0</td><td>0</td><td>6800</td><td>&quot;N&quot;</td><td>0</td><td>0</td><td>0</td><td>0</td><td>0</td><td>11900</td><td>0</td><td>79200</td><td>79200</td><td>11900</td><td>null</td><td>null</td><td>&quot;nadeeraahh&quot;</td><td>&quot;A******a&quot;</td><td>&quot;******50&quot;</td><td>&quot;Jalan&nbsp;Halilintar&nbsp;No.&nbsp;24,&nbsp;RT.1/…</td><td>&quot;KOTA&nbsp;SURAKARTA&nbsp;(SOLO)&quot;</td><td>&quot;JAWA&nbsp;TENGAH&quot;</td><td>2024-11-10&nbsp;17:44:00</td><td>&quot;10_2024-oct&nbsp;(10).xlsx&quot;</td><td>&quot;2024-10-31&quot;</td><td>&quot;10-31&quot;</td><td>44</td></tr><tr><td>&quot;24103127VRT8TU&quot;</td><td>&quot;Selesai&quot;</td><td>null</td><td>null</td><td>&quot;004368201549&quot;</td><td>&quot;Hemat-SiCepat&nbsp;Halu&quot;</td><td>&quot;Antar&nbsp;ke&nbsp;Counter&quot;</td><td>2024-11-01&nbsp;23:59:00</td><td>2024-11-01&nbsp;19:58:00</td><td>2024-10-31&nbsp;19:33:00</td><td>2024-10-31&nbsp;19:33:00</td><td>&quot;ShopeePay&quot;</td><td>null</td><td>&quot;UGREEN&nbsp;Kabel&nbsp;Data&nbsp;Micro&nbsp;USB&nbsp;Fa…</td><td>&quot;60136&quot;</td><td>&quot;60136&nbsp;1M&nbsp;PVC&quot;</td><td>29000</td><td>29000</td><td>1</td><td>0</td><td>29000</td><td>0</td><td>0</td><td>0</td><td>&quot;200&nbsp;gr&quot;</td><td>1</td><td>&quot;200&nbsp;gr&quot;</td><td>0</td><td>0</td><td>0</td><td>0</td><td>&quot;N&quot;</td><td>0</td><td>0</td><td>0</td><td>0</td><td>0</td><td>16000</td><td>0</td><td>31000</td><td>31000</td><td>16000</td><td>null</td><td>null</td><td>&quot;puple_sky&quot;</td><td>&quot;T******a&quot;</td><td>&quot;******72&quot;</td><td>&quot;Bakalan&nbsp;RT3/RW1,&nbsp;Bakalan,&nbsp;Polo…</td><td>&quot;KAB.&nbsp;SUKOHARJO&quot;</td><td>&quot;JAWA&nbsp;TENGAH&quot;</td><td>2024-11-05&nbsp;05:28:00</td><td>&quot;10_2024-oct&nbsp;(10).xlsx&quot;</td><td>&quot;2024-10-31&quot;</td><td>&quot;10-31&quot;</td><td>44</td></tr><tr><td>&quot;2411012MM7GBF1&quot;</td><td>&quot;Selesai&quot;</td><td>null</td><td>null</td><td>&quot;004368188908&quot;</td><td>&quot;Reguler&nbsp;(Cashless)-SiCepat&nbsp;REG&quot;</td><td>&quot;Antar&nbsp;ke&nbsp;Counter&quot;</td><td>2024-11-01&nbsp;23:59:00</td><td>2024-11-01&nbsp;21:24:00</td><td>2024-10-31&nbsp;23:21:00</td><td>2024-10-31&nbsp;23:21:00</td><td>&quot;SeaBank&nbsp;Bayar&nbsp;Instan&quot;</td><td>null</td><td>&quot;UGREEN&nbsp;Kabel&nbsp;Data&nbsp;MFI&nbsp;iPhone&nbsp;5…</td><td>&quot;60163&quot;</td><td>&quot;60163&nbsp;2M&quot;</td><td>175000</td><td>175000</td><td>1</td><td>0</td><td>175000</td><td>0</td><td>0</td><td>0</td><td>&quot;200&nbsp;gr&quot;</td><td>1</td><td>&quot;200&nbsp;gr&quot;</td><td>0</td><td>0</td><td>0</td><td>14000</td><td>&quot;N&quot;</td><td>0</td><td>0</td><td>0</td><td>0</td><td>0</td><td>36000</td><td>0</td><td>162000</td><td>162000</td><td>36000</td><td>null</td><td>null</td><td>&quot;on_haft1ln&quot;</td><td>&quot;S******i&quot;</td><td>&quot;******25&quot;</td><td>&quot;Jalan&nbsp;Kos&nbsp;Areta&nbsp;Lorong&nbsp;Kost&nbsp;Ar…</td><td>&quot;KAB.&nbsp;MOROWALI&quot;</td><td>&quot;SULAWESI&nbsp;TENGAH&quot;</td><td>2024-11-14&nbsp;03:41:00</td><td>&quot;10_2024-oct&nbsp;(10).xlsx&quot;</td><td>&quot;2024-10-31&quot;</td><td>&quot;10-31&quot;</td><td>44</td></tr><tr><td>&quot;2410312A5B2VFR&quot;</td><td>&quot;Selesai&quot;</td><td>null</td><td>null</td><td>&quot;004368199635&quot;</td><td>&quot;SiCepat&nbsp;Halu&quot;</td><td>&quot;Antar&nbsp;ke&nbsp;Counter&quot;</td><td>2024-11-01&nbsp;23:59:00</td><td>2024-11-01&nbsp;21:43:00</td><td>2024-10-31&nbsp;20:13:00</td><td>2024-10-31&nbsp;20:14:00</td><td>&quot;ShopeePay&quot;</td><td>null</td><td>&quot;UGREEN&nbsp;Kabel&nbsp;Data&nbsp;USB&nbsp;Type&nbsp;C&nbsp;F…</td><td>&quot;60125&quot;</td><td>&quot;60125&nbsp;50CM&nbsp;NYLON&quot;</td><td>37000</td><td>37000</td><td>1</td><td>0</td><td>37000</td><td>0</td><td>0</td><td>0</td><td>&quot;100&nbsp;gr&quot;</td><td>1</td><td>&quot;100&nbsp;gr&quot;</td><td>0</td><td>0</td><td>0</td><td>3000</td><td>&quot;N&quot;</td><td>0</td><td>0</td><td>0</td><td>0</td><td>0</td><td>24400</td><td>0</td><td>36000</td><td>36000</td><td>24400</td><td>null</td><td>null</td><td>&quot;naviiah&quot;</td><td>&quot;A******h&quot;</td><td>&quot;******05&quot;</td><td>&quot;Jln.letnan&nbsp;cusugandi,&nbsp;kebun&nbsp;je…</td><td>&quot;KAB.&nbsp;OGAN&nbsp;KOMERING&nbsp;ULU&quot;</td><td>&quot;SUMATERA&nbsp;SELATAN&quot;</td><td>2024-11-04&nbsp;18:04:00</td><td>&quot;10_2024-oct&nbsp;(10).xlsx&quot;</td><td>&quot;2024-10-31&quot;</td><td>&quot;10-31&quot;</td><td>44</td></tr></tbody></table></div>"
      ],
      "text/plain": [
       "shape: (46_256, 55)\n",
       "┌───────────┬───────────┬───────────┬───────────┬───┬───────────┬───────────┬───────────┬──────────┐\n",
       "│ No.       ┆ Status    ┆ Alasan    ┆ Status    ┆ … ┆ source    ┆ Group_dat ┆ month_day ┆ week_of_ │\n",
       "│ Pesanan   ┆ Pesanan   ┆ Pembatala ┆ Pembatala ┆   ┆ ---       ┆ e         ┆ s         ┆ q4       │\n",
       "│ ---       ┆ ---       ┆ n         ┆ n/ Pengem ┆   ┆ str       ┆ ---       ┆ ---       ┆ ---      │\n",
       "│ str       ┆ str       ┆ ---       ┆ balia…    ┆   ┆           ┆ str       ┆ str       ┆ i8       │\n",
       "│           ┆           ┆ str       ┆ ---       ┆   ┆           ┆           ┆           ┆          │\n",
       "│           ┆           ┆           ┆ null      ┆   ┆           ┆           ┆           ┆          │\n",
       "╞═══════════╪═══════════╪═══════════╪═══════════╪═══╪═══════════╪═══════════╪═══════════╪══════════╡\n",
       "│ 241001CUK ┆ Selesai   ┆ null      ┆ null      ┆ … ┆ 10_2024-o ┆ 2024-10-0 ┆ 10-01     ┆ 40       │\n",
       "│ MTPHP     ┆           ┆           ┆           ┆   ┆ ct        ┆ 1         ┆           ┆          │\n",
       "│           ┆           ┆           ┆           ┆   ┆ (1).xlsx  ┆           ┆           ┆          │\n",
       "│ 241001CTY ┆ Selesai   ┆ null      ┆ null      ┆ … ┆ 10_2024-o ┆ 2024-10-0 ┆ 10-01     ┆ 40       │\n",
       "│ 0TPCF     ┆           ┆           ┆           ┆   ┆ ct        ┆ 1         ┆           ┆          │\n",
       "│           ┆           ┆           ┆           ┆   ┆ (1).xlsx  ┆           ┆           ┆          │\n",
       "│ 241001D0D ┆ Selesai   ┆ null      ┆ null      ┆ … ┆ 10_2024-o ┆ 2024-10-0 ┆ 10-01     ┆ 40       │\n",
       "│ 47A0N     ┆           ┆           ┆           ┆   ┆ ct        ┆ 1         ┆           ┆          │\n",
       "│           ┆           ┆           ┆           ┆   ┆ (1).xlsx  ┆           ┆           ┆          │\n",
       "│ 241001D04 ┆ Selesai   ┆ null      ┆ null      ┆ … ┆ 10_2024-o ┆ 2024-10-0 ┆ 10-01     ┆ 40       │\n",
       "│ YUDH1     ┆           ┆           ┆           ┆   ┆ ct        ┆ 1         ┆           ┆          │\n",
       "│           ┆           ┆           ┆           ┆   ┆ (1).xlsx  ┆           ┆           ┆          │\n",
       "│ 241001CUY ┆ Selesai   ┆ null      ┆ null      ┆ … ┆ 10_2024-o ┆ 2024-10-0 ┆ 10-01     ┆ 40       │\n",
       "│ 3WU7E     ┆           ┆           ┆           ┆   ┆ ct        ┆ 1         ┆           ┆          │\n",
       "│           ┆           ┆           ┆           ┆   ┆ (1).xlsx  ┆           ┆           ┆          │\n",
       "│ 241001CUY ┆ Selesai   ┆ null      ┆ null      ┆ … ┆ 10_2024-o ┆ 2024-10-0 ┆ 10-01     ┆ 40       │\n",
       "│ 3WU7E     ┆           ┆           ┆           ┆   ┆ ct        ┆ 1         ┆           ┆          │\n",
       "│           ┆           ┆           ┆           ┆   ┆ (1).xlsx  ┆           ┆           ┆          │\n",
       "│ 241001D2X ┆ Selesai   ┆ null      ┆ null      ┆ … ┆ 10_2024-o ┆ 2024-10-0 ┆ 10-01     ┆ 40       │\n",
       "│ S8HHT     ┆           ┆           ┆           ┆   ┆ ct        ┆ 1         ┆           ┆          │\n",
       "│           ┆           ┆           ┆           ┆   ┆ (1).xlsx  ┆           ┆           ┆          │\n",
       "│ 241001C8Y ┆ Selesai   ┆ null      ┆ null      ┆ … ┆ 10_2024-o ┆ 2024-10-0 ┆ 10-01     ┆ 40       │\n",
       "│ S32HN     ┆           ┆           ┆           ┆   ┆ ct        ┆ 1         ┆           ┆          │\n",
       "│           ┆           ┆           ┆           ┆   ┆ (1).xlsx  ┆           ┆           ┆          │\n",
       "│ 241001C44 ┆ Selesai   ┆ null      ┆ null      ┆ … ┆ 10_2024-o ┆ 2024-10-0 ┆ 10-01     ┆ 40       │\n",
       "│ 4XXV3     ┆           ┆           ┆           ┆   ┆ ct        ┆ 1         ┆           ┆          │\n",
       "│           ┆           ┆           ┆           ┆   ┆ (1).xlsx  ┆           ┆           ┆          │\n",
       "│ 241001C44 ┆ Selesai   ┆ null      ┆ null      ┆ … ┆ 10_2024-o ┆ 2024-10-0 ┆ 10-01     ┆ 40       │\n",
       "│ 4XXV3     ┆           ┆           ┆           ┆   ┆ ct        ┆ 1         ┆           ┆          │\n",
       "│           ┆           ┆           ┆           ┆   ┆ (1).xlsx  ┆           ┆           ┆          │\n",
       "│ 241001C86 ┆ Selesai   ┆ null      ┆ null      ┆ … ┆ 10_2024-o ┆ 2024-10-0 ┆ 10-01     ┆ 40       │\n",
       "│ M3SWA     ┆           ┆           ┆           ┆   ┆ ct        ┆ 1         ┆           ┆          │\n",
       "│           ┆           ┆           ┆           ┆   ┆ (1).xlsx  ┆           ┆           ┆          │\n",
       "│ 241001CM1 ┆ Selesai   ┆ null      ┆ null      ┆ … ┆ 10_2024-o ┆ 2024-10-0 ┆ 10-01     ┆ 40       │\n",
       "│ 9J2UD     ┆           ┆           ┆           ┆   ┆ ct        ┆ 1         ┆           ┆          │\n",
       "│           ┆           ┆           ┆           ┆   ┆ (1).xlsx  ┆           ┆           ┆          │\n",
       "│ 241001CM1 ┆ Selesai   ┆ null      ┆ null      ┆ … ┆ 10_2024-o ┆ 2024-10-0 ┆ 10-01     ┆ 40       │\n",
       "│ 9J2UD     ┆           ┆           ┆           ┆   ┆ ct        ┆ 1         ┆           ┆          │\n",
       "│           ┆           ┆           ┆           ┆   ┆ (1).xlsx  ┆           ┆           ┆          │\n",
       "│ 241001D0A ┆ Selesai   ┆ null      ┆ null      ┆ … ┆ 10_2024-o ┆ 2024-10-0 ┆ 10-01     ┆ 40       │\n",
       "│ M5B8D     ┆           ┆           ┆           ┆   ┆ ct        ┆ 1         ┆           ┆          │\n",
       "│           ┆           ┆           ┆           ┆   ┆ (1).xlsx  ┆           ┆           ┆          │\n",
       "│ 241001D0A ┆ Selesai   ┆ null      ┆ null      ┆ … ┆ 10_2024-o ┆ 2024-10-0 ┆ 10-01     ┆ 40       │\n",
       "│ M5B8D     ┆           ┆           ┆           ┆   ┆ ct        ┆ 1         ┆           ┆          │\n",
       "│           ┆           ┆           ┆           ┆   ┆ (1).xlsx  ┆           ┆           ┆          │\n",
       "│ 241001CV2 ┆ Selesai   ┆ null      ┆ null      ┆ … ┆ 10_2024-o ┆ 2024-10-0 ┆ 10-01     ┆ 40       │\n",
       "│ MG30J     ┆           ┆           ┆           ┆   ┆ ct        ┆ 1         ┆           ┆          │\n",
       "│           ┆           ┆           ┆           ┆   ┆ (1).xlsx  ┆           ┆           ┆          │\n",
       "│ 241001D5A ┆ Selesai   ┆ null      ┆ null      ┆ … ┆ 10_2024-o ┆ 2024-10-0 ┆ 10-01     ┆ 40       │\n",
       "│ GKK5B     ┆           ┆           ┆           ┆   ┆ ct        ┆ 1         ┆           ┆          │\n",
       "│           ┆           ┆           ┆           ┆   ┆ (1).xlsx  ┆           ┆           ┆          │\n",
       "│ 241001CRW ┆ Selesai   ┆ null      ┆ null      ┆ … ┆ 10_2024-o ┆ 2024-10-0 ┆ 10-01     ┆ 40       │\n",
       "│ ES58U     ┆           ┆           ┆           ┆   ┆ ct        ┆ 1         ┆           ┆          │\n",
       "│           ┆           ┆           ┆           ┆   ┆ (1).xlsx  ┆           ┆           ┆          │\n",
       "│ 241001CSR ┆ Selesai   ┆ null      ┆ null      ┆ … ┆ 10_2024-o ┆ 2024-10-0 ┆ 10-01     ┆ 40       │\n",
       "│ 76RQN     ┆           ┆           ┆           ┆   ┆ ct        ┆ 1         ┆           ┆          │\n",
       "│           ┆           ┆           ┆           ┆   ┆ (1).xlsx  ┆           ┆           ┆          │\n",
       "│ 241001D0A ┆ Selesai   ┆ null      ┆ null      ┆ … ┆ 10_2024-o ┆ 2024-10-0 ┆ 10-01     ┆ 40       │\n",
       "│ 038CP     ┆           ┆           ┆           ┆   ┆ ct        ┆ 1         ┆           ┆          │\n",
       "│           ┆           ┆           ┆           ┆   ┆ (1).xlsx  ┆           ┆           ┆          │\n",
       "│ 241001D5F ┆ Selesai   ┆ null      ┆ null      ┆ … ┆ 10_2024-o ┆ 2024-10-0 ┆ 10-01     ┆ 40       │\n",
       "│ 4CBMH     ┆           ┆           ┆           ┆   ┆ ct        ┆ 1         ┆           ┆          │\n",
       "│           ┆           ┆           ┆           ┆   ┆ (1).xlsx  ┆           ┆           ┆          │\n",
       "│ 241001D6D ┆ Selesai   ┆ null      ┆ null      ┆ … ┆ 10_2024-o ┆ 2024-10-0 ┆ 10-01     ┆ 40       │\n",
       "│ 5NBFU     ┆           ┆           ┆           ┆   ┆ ct        ┆ 1         ┆           ┆          │\n",
       "│           ┆           ┆           ┆           ┆   ┆ (1).xlsx  ┆           ┆           ┆          │\n",
       "│ 241001C2E ┆ Selesai   ┆ null      ┆ null      ┆ … ┆ 10_2024-o ┆ 2024-10-0 ┆ 10-01     ┆ 40       │\n",
       "│ DEKW9     ┆           ┆           ┆           ┆   ┆ ct        ┆ 1         ┆           ┆          │\n",
       "│           ┆           ┆           ┆           ┆   ┆ (1).xlsx  ┆           ┆           ┆          │\n",
       "│ 241001C9C ┆ Selesai   ┆ null      ┆ null      ┆ … ┆ 10_2024-o ┆ 2024-10-0 ┆ 10-01     ┆ 40       │\n",
       "│ NXXVV     ┆           ┆           ┆           ┆   ┆ ct        ┆ 1         ┆           ┆          │\n",
       "│           ┆           ┆           ┆           ┆   ┆ (1).xlsx  ┆           ┆           ┆          │\n",
       "│ 241001CVE ┆ Selesai   ┆ null      ┆ null      ┆ … ┆ 10_2024-o ┆ 2024-10-0 ┆ 10-01     ┆ 40       │\n",
       "│ NSA21     ┆           ┆           ┆           ┆   ┆ ct        ┆ 1         ┆           ┆          │\n",
       "│           ┆           ┆           ┆           ┆   ┆ (1).xlsx  ┆           ┆           ┆          │\n",
       "│ …         ┆ …         ┆ …         ┆ …         ┆ … ┆ …         ┆ …         ┆ …         ┆ …        │\n",
       "│ 24103121J ┆ Selesai   ┆ null      ┆ null      ┆ … ┆ 10_2024-o ┆ 2024-10-3 ┆ 10-31     ┆ 44       │\n",
       "│ YGTKX     ┆           ┆           ┆           ┆   ┆ ct        ┆ 1         ┆           ┆          │\n",
       "│           ┆           ┆           ┆           ┆   ┆ (10).xlsx ┆           ┆           ┆          │\n",
       "│ 24103121S ┆ Selesai   ┆ null      ┆ null      ┆ … ┆ 10_2024-o ┆ 2024-10-3 ┆ 10-31     ┆ 44       │\n",
       "│ P4APN     ┆           ┆           ┆           ┆   ┆ ct        ┆ 1         ┆           ┆          │\n",
       "│           ┆           ┆           ┆           ┆   ┆ (10).xlsx ┆           ┆           ┆          │\n",
       "│ 241031283 ┆ Selesai   ┆ null      ┆ null      ┆ … ┆ 10_2024-o ┆ 2024-10-3 ┆ 10-31     ┆ 44       │\n",
       "│ 12E71     ┆           ┆           ┆           ┆   ┆ ct        ┆ 1         ┆           ┆          │\n",
       "│           ┆           ┆           ┆           ┆   ┆ (10).xlsx ┆           ┆           ┆          │\n",
       "│ 2411012MT ┆ Selesai   ┆ null      ┆ null      ┆ … ┆ 10_2024-o ┆ 2024-10-3 ┆ 10-31     ┆ 44       │\n",
       "│ T771C     ┆           ┆           ┆           ┆   ┆ ct        ┆ 1         ┆           ┆          │\n",
       "│           ┆           ┆           ┆           ┆   ┆ (10).xlsx ┆           ┆           ┆          │\n",
       "│ 2411012MX ┆ Selesai   ┆ null      ┆ null      ┆ … ┆ 10_2024-o ┆ 2024-10-3 ┆ 10-31     ┆ 44       │\n",
       "│ UWQ4J     ┆           ┆           ┆           ┆   ┆ ct        ┆ 1         ┆           ┆          │\n",
       "│           ┆           ┆           ┆           ┆   ┆ (10).xlsx ┆           ┆           ┆          │\n",
       "│ 2411012N2 ┆ Selesai   ┆ null      ┆ null      ┆ … ┆ 10_2024-o ┆ 2024-10-3 ┆ 10-31     ┆ 44       │\n",
       "│ CFM60     ┆           ┆           ┆           ┆   ┆ ct        ┆ 1         ┆           ┆          │\n",
       "│           ┆           ┆           ┆           ┆   ┆ (10).xlsx ┆           ┆           ┆          │\n",
       "│ 2411012N7 ┆ Selesai   ┆ null      ┆ null      ┆ … ┆ 10_2024-o ┆ 2024-10-3 ┆ 10-31     ┆ 44       │\n",
       "│ ARJBR     ┆           ┆           ┆           ┆   ┆ ct        ┆ 1         ┆           ┆          │\n",
       "│           ┆           ┆           ┆           ┆   ┆ (10).xlsx ┆           ┆           ┆          │\n",
       "│ 2411012NF ┆ Selesai   ┆ null      ┆ null      ┆ … ┆ 10_2024-o ┆ 2024-10-3 ┆ 10-31     ┆ 44       │\n",
       "│ H1AP6     ┆           ┆           ┆           ┆   ┆ ct        ┆ 1         ┆           ┆          │\n",
       "│           ┆           ┆           ┆           ┆   ┆ (10).xlsx ┆           ┆           ┆          │\n",
       "│ 2411012NX ┆ Selesai   ┆ null      ┆ null      ┆ … ┆ 10_2024-o ┆ 2024-10-3 ┆ 10-31     ┆ 44       │\n",
       "│ 93MD8     ┆           ┆           ┆           ┆   ┆ ct        ┆ 1         ┆           ┆          │\n",
       "│           ┆           ┆           ┆           ┆   ┆ (10).xlsx ┆           ┆           ┆          │\n",
       "│ 2411012PF ┆ Selesai   ┆ null      ┆ null      ┆ … ┆ 10_2024-o ┆ 2024-10-3 ┆ 10-31     ┆ 44       │\n",
       "│ H91PX     ┆           ┆           ┆           ┆   ┆ ct        ┆ 1         ┆           ┆          │\n",
       "│           ┆           ┆           ┆           ┆   ┆ (10).xlsx ┆           ┆           ┆          │\n",
       "│ 2411012PG ┆ Selesai   ┆ null      ┆ null      ┆ … ┆ 10_2024-o ┆ 2024-10-3 ┆ 10-31     ┆ 44       │\n",
       "│ JMR23     ┆           ┆           ┆           ┆   ┆ ct        ┆ 1         ┆           ┆          │\n",
       "│           ┆           ┆           ┆           ┆   ┆ (10).xlsx ┆           ┆           ┆          │\n",
       "│ 2411012PR ┆ Selesai   ┆ null      ┆ null      ┆ … ┆ 10_2024-o ┆ 2024-10-3 ┆ 10-31     ┆ 44       │\n",
       "│ 9P8DS     ┆           ┆           ┆           ┆   ┆ ct        ┆ 1         ┆           ┆          │\n",
       "│           ┆           ┆           ┆           ┆   ┆ (10).xlsx ┆           ┆           ┆          │\n",
       "│ 24103129V ┆ Selesai   ┆ null      ┆ null      ┆ … ┆ 10_2024-o ┆ 2024-10-3 ┆ 10-31     ┆ 44       │\n",
       "│ T96AF     ┆           ┆           ┆           ┆   ┆ ct        ┆ 1         ┆           ┆          │\n",
       "│           ┆           ┆           ┆           ┆   ┆ (10).xlsx ┆           ┆           ┆          │\n",
       "│ 24103123X ┆ Selesai   ┆ null      ┆ null      ┆ … ┆ 10_2024-o ┆ 2024-10-3 ┆ 10-31     ┆ 44       │\n",
       "│ YDJAN     ┆           ┆           ┆           ┆   ┆ ct        ┆ 1         ┆           ┆          │\n",
       "│           ┆           ┆           ┆           ┆   ┆ (10).xlsx ┆           ┆           ┆          │\n",
       "│ 241031292 ┆ Selesai   ┆ null      ┆ null      ┆ … ┆ 10_2024-o ┆ 2024-10-3 ┆ 10-31     ┆ 44       │\n",
       "│ WGT14     ┆           ┆           ┆           ┆   ┆ ct        ┆ 1         ┆           ┆          │\n",
       "│           ┆           ┆           ┆           ┆   ┆ (10).xlsx ┆           ┆           ┆          │\n",
       "│ 241031292 ┆ Selesai   ┆ null      ┆ null      ┆ … ┆ 10_2024-o ┆ 2024-10-3 ┆ 10-31     ┆ 44       │\n",
       "│ WGT14     ┆           ┆           ┆           ┆   ┆ ct        ┆ 1         ┆           ┆          │\n",
       "│           ┆           ┆           ┆           ┆   ┆ (10).xlsx ┆           ┆           ┆          │\n",
       "│ 2410312F4 ┆ Selesai   ┆ null      ┆ null      ┆ … ┆ 10_2024-o ┆ 2024-10-3 ┆ 10-31     ┆ 44       │\n",
       "│ 2ADN5     ┆           ┆           ┆           ┆   ┆ ct        ┆ 1         ┆           ┆          │\n",
       "│           ┆           ┆           ┆           ┆   ┆ (10).xlsx ┆           ┆           ┆          │\n",
       "│ 2410312F4 ┆ Selesai   ┆ null      ┆ null      ┆ … ┆ 10_2024-o ┆ 2024-10-3 ┆ 10-31     ┆ 44       │\n",
       "│ 2ADN5     ┆           ┆           ┆           ┆   ┆ ct        ┆ 1         ┆           ┆          │\n",
       "│           ┆           ┆           ┆           ┆   ┆ (10).xlsx ┆           ┆           ┆          │\n",
       "│ 2410311XN ┆ Selesai   ┆ null      ┆ null      ┆ … ┆ 10_2024-o ┆ 2024-10-3 ┆ 10-31     ┆ 44       │\n",
       "│ W5V81     ┆           ┆           ┆           ┆   ┆ ct        ┆ 1         ┆           ┆          │\n",
       "│           ┆           ┆           ┆           ┆   ┆ (10).xlsx ┆           ┆           ┆          │\n",
       "│ 241031241 ┆ Selesai   ┆ null      ┆ null      ┆ … ┆ 10_2024-o ┆ 2024-10-3 ┆ 10-31     ┆ 44       │\n",
       "│ HC897     ┆           ┆           ┆           ┆   ┆ ct        ┆ 1         ┆           ┆          │\n",
       "│           ┆           ┆           ┆           ┆   ┆ (10).xlsx ┆           ┆           ┆          │\n",
       "│ 24103129J ┆ Selesai   ┆ null      ┆ null      ┆ … ┆ 10_2024-o ┆ 2024-10-3 ┆ 10-31     ┆ 44       │\n",
       "│ SVU9D     ┆           ┆           ┆           ┆   ┆ ct        ┆ 1         ┆           ┆          │\n",
       "│           ┆           ┆           ┆           ┆   ┆ (10).xlsx ┆           ┆           ┆          │\n",
       "│ 2410311Y0 ┆ Selesai   ┆ null      ┆ null      ┆ … ┆ 10_2024-o ┆ 2024-10-3 ┆ 10-31     ┆ 44       │\n",
       "│ DTV4F     ┆           ┆           ┆           ┆   ┆ ct        ┆ 1         ┆           ┆          │\n",
       "│           ┆           ┆           ┆           ┆   ┆ (10).xlsx ┆           ┆           ┆          │\n",
       "│ 24103127V ┆ Selesai   ┆ null      ┆ null      ┆ … ┆ 10_2024-o ┆ 2024-10-3 ┆ 10-31     ┆ 44       │\n",
       "│ RT8TU     ┆           ┆           ┆           ┆   ┆ ct        ┆ 1         ┆           ┆          │\n",
       "│           ┆           ┆           ┆           ┆   ┆ (10).xlsx ┆           ┆           ┆          │\n",
       "│ 2411012MM ┆ Selesai   ┆ null      ┆ null      ┆ … ┆ 10_2024-o ┆ 2024-10-3 ┆ 10-31     ┆ 44       │\n",
       "│ 7GBF1     ┆           ┆           ┆           ┆   ┆ ct        ┆ 1         ┆           ┆          │\n",
       "│           ┆           ┆           ┆           ┆   ┆ (10).xlsx ┆           ┆           ┆          │\n",
       "│ 2410312A5 ┆ Selesai   ┆ null      ┆ null      ┆ … ┆ 10_2024-o ┆ 2024-10-3 ┆ 10-31     ┆ 44       │\n",
       "│ B2VFR     ┆           ┆           ┆           ┆   ┆ ct        ┆ 1         ┆           ┆          │\n",
       "│           ┆           ┆           ┆           ┆   ┆ (10).xlsx ┆           ┆           ┆          │\n",
       "└───────────┴───────────┴───────────┴───────────┴───┴───────────┴───────────┴───────────┴──────────┘"
      ]
     },
     "execution_count": 249,
     "metadata": {},
     "output_type": "execute_result"
    }
   ],
   "source": [
    "groupdate"
   ]
  },
  {
   "cell_type": "markdown",
   "metadata": {},
   "source": [
    "### want to dig about what make after hitting mid months slowsdown"
   ]
  },
  {
   "cell_type": "code",
   "execution_count": null,
   "metadata": {},
   "outputs": [],
   "source": []
  },
  {
   "cell_type": "code",
   "execution_count": null,
   "metadata": {},
   "outputs": [],
   "source": [
    "pl.Config.set_tbl_rows(50)\n",
    "ralies = groupdate.filter(pl.col('month_days')<= '10-15')\n",
    "slowsdown = groupdate.filter(pl.col('month_days') > '10-15')\n",
    "investigate1 = (ralies\n",
    " .group_by(['week_of_q4', 'Nomor Referensi SKU'])\n",
    " .agg([\n",
    "     pl.len(),\n",
    "     pl.col('total no dup').sum().alias('revenue')\n",
    " ])\n",
    " .sort(by=['week_of_q4', 'revenue'], descending=[False, True])\n",
    " .group_by('week_of_q4')\n",
    " .head(5)  # This will get top 5 SKUs by revenue for each week\n",
    ")\n",
    "\n",
    "pl.Config.set_tbl_rows(50)\n",
    "investigate2 = (slowsdown\n",
    " .group_by(['week_of_q4', 'Nomor Referensi SKU'])\n",
    " .agg([\n",
    "     pl.len(),\n",
    "     pl.col('total no dup').sum().alias('revenue')\n",
    " ])\n",
    " .sort(by=['week_of_q4', 'revenue'], descending=[False, True])\n",
    " .group_by('week_of_q4')\n",
    " .head(5)  # This will get top 5 SKUs by revenue for each week\n",
    ")\n",
    "\n",
    "fig1 = px.bar(investigate1, x='week_of_q4', y='revenue', \n",
    "              color='Nomor Referensi SKU', title='Rallies Top 5 SKUs')\n",
    "fig2 = px.bar(investigate2, x='week_of_q4', y='revenue', \n",
    "              color='Nomor Referensi SKU', title='Slowdown Top 5 SKUs')\n",
    "\n",
    "# Combined figure can be created with:\n",
    "combined_fig = go.Figure(data=fig1.data + fig2.data)\n",
    "combined_fig.show()"
   ]
  },
  {
   "cell_type": "markdown",
   "metadata": {},
   "source": [
    "### insight investigate\n",
    "\n",
    "#### context\n",
    "- i do split data for investigate what causing after hit 15th oct date sales goes slows down.\n",
    "- i do grouping sales into several weeks during oct sales run, then seeing its what are the top 5 sku each week by its sales generated sorted from big to small.\n",
    "\n",
    "#### the insight:\n",
    "- SKU line 50799 losing its grip when hit the last 2 week of oct 2024 causing after mid period of oct 2024 sales slows down\n",
    "- SKU 60450 remain stable among the oct sales run also for SKU 15324 helping sales performance isn't too drop\n",
    "- SKU 90664-60759 helping sales growth before 15th oct\n",
    "- somehow shopee event on 10.10 sales doesn't affect that significant compare to the first week while the growth are shown at some SKU include the SKU 50799 and 60450\n",
    "- other SKU [ 15324 , 25208 , 50581 , 60450-10493 , 15324 , 20476 , 25742 , 15086 , 25683] is kinda come and go product, shows it only appear 1 times during those several week group , why the more staple product are atleast 2 times shown in top 5 in every several weekly grouping ( kinda thank to that because it give support to the overall sales)\n",
    "\n",
    "#### suggestion based on that\n",
    "- keep product SKU 50799 still available on-live sales to minimize loose on that SKU sales-run"
   ]
  },
  {
   "cell_type": "code",
   "execution_count": 267,
   "metadata": {},
   "outputs": [
    {
     "name": "stdout",
     "output_type": "stream",
     "text": [
      "discount UNDER 6% 5,264,721,901.00\n",
      "discount ABOVE 6% 1,162,882,546.00\n",
      "total 6,427,604,447.00\n"
     ]
    },
    {
     "data": {
      "application/vnd.plotly.v1+json": {
       "config": {
        "plotlyServerURL": "https://plot.ly"
       },
       "data": [
        {
         "alignmentgroup": "True",
         "hovertemplate": "Total: %{y}<br>SKU: %{x}<extra></extra>",
         "legendgroup": "",
         "marker": {
          "color": [
           "#4C78A8",
           "#F58518",
           "#E45756",
           "#72B7B2",
           "#54A24B",
           "#EECA3B",
           "#B279A2",
           "#FF9DA6",
           "#9D755D",
           "#BAB0AC"
          ],
          "coloraxis": "coloraxis",
          "pattern": {
           "shape": ""
          }
         },
         "name": "",
         "offsetgroup": "",
         "orientation": "v",
         "showlegend": false,
         "textposition": "auto",
         "type": "bar",
         "x": [
          "60450",
          "50799",
          "15324",
          "25742",
          "15326",
          "10133-60161",
          "90664",
          "10191",
          "25683",
          "60126"
         ],
         "xaxis": "x",
         "y": [
          404709344,
          254133231,
          238310547,
          168968176,
          134772468,
          125692404,
          118192500,
          106202567,
          100385317,
          95803538
         ],
         "yaxis": "y"
        }
       ],
       "layout": {
        "barmode": "relative",
        "coloraxis": {
         "colorbar": {
          "title": {
           "text": "total no dup"
          }
         },
         "colorscale": [
          [
           0,
           "#0d0887"
          ],
          [
           0.1111111111111111,
           "#46039f"
          ],
          [
           0.2222222222222222,
           "#7201a8"
          ],
          [
           0.3333333333333333,
           "#9c179e"
          ],
          [
           0.4444444444444444,
           "#bd3786"
          ],
          [
           0.5555555555555556,
           "#d8576b"
          ],
          [
           0.6666666666666666,
           "#ed7953"
          ],
          [
           0.7777777777777778,
           "#fb9f3a"
          ],
          [
           0.8888888888888888,
           "#fdca26"
          ],
          [
           1,
           "#f0f921"
          ]
         ]
        },
        "legend": {
         "tracegroupgap": 0
        },
        "margin": {
         "t": 60
        },
        "template": {
         "data": {
          "bar": [
           {
            "error_x": {
             "color": "#2a3f5f"
            },
            "error_y": {
             "color": "#2a3f5f"
            },
            "marker": {
             "line": {
              "color": "#E5ECF6",
              "width": 0.5
             },
             "pattern": {
              "fillmode": "overlay",
              "size": 10,
              "solidity": 0.2
             }
            },
            "type": "bar"
           }
          ],
          "barpolar": [
           {
            "marker": {
             "line": {
              "color": "#E5ECF6",
              "width": 0.5
             },
             "pattern": {
              "fillmode": "overlay",
              "size": 10,
              "solidity": 0.2
             }
            },
            "type": "barpolar"
           }
          ],
          "carpet": [
           {
            "aaxis": {
             "endlinecolor": "#2a3f5f",
             "gridcolor": "white",
             "linecolor": "white",
             "minorgridcolor": "white",
             "startlinecolor": "#2a3f5f"
            },
            "baxis": {
             "endlinecolor": "#2a3f5f",
             "gridcolor": "white",
             "linecolor": "white",
             "minorgridcolor": "white",
             "startlinecolor": "#2a3f5f"
            },
            "type": "carpet"
           }
          ],
          "choropleth": [
           {
            "colorbar": {
             "outlinewidth": 0,
             "ticks": ""
            },
            "type": "choropleth"
           }
          ],
          "contour": [
           {
            "colorbar": {
             "outlinewidth": 0,
             "ticks": ""
            },
            "colorscale": [
             [
              0,
              "#0d0887"
             ],
             [
              0.1111111111111111,
              "#46039f"
             ],
             [
              0.2222222222222222,
              "#7201a8"
             ],
             [
              0.3333333333333333,
              "#9c179e"
             ],
             [
              0.4444444444444444,
              "#bd3786"
             ],
             [
              0.5555555555555556,
              "#d8576b"
             ],
             [
              0.6666666666666666,
              "#ed7953"
             ],
             [
              0.7777777777777778,
              "#fb9f3a"
             ],
             [
              0.8888888888888888,
              "#fdca26"
             ],
             [
              1,
              "#f0f921"
             ]
            ],
            "type": "contour"
           }
          ],
          "contourcarpet": [
           {
            "colorbar": {
             "outlinewidth": 0,
             "ticks": ""
            },
            "type": "contourcarpet"
           }
          ],
          "heatmap": [
           {
            "colorbar": {
             "outlinewidth": 0,
             "ticks": ""
            },
            "colorscale": [
             [
              0,
              "#0d0887"
             ],
             [
              0.1111111111111111,
              "#46039f"
             ],
             [
              0.2222222222222222,
              "#7201a8"
             ],
             [
              0.3333333333333333,
              "#9c179e"
             ],
             [
              0.4444444444444444,
              "#bd3786"
             ],
             [
              0.5555555555555556,
              "#d8576b"
             ],
             [
              0.6666666666666666,
              "#ed7953"
             ],
             [
              0.7777777777777778,
              "#fb9f3a"
             ],
             [
              0.8888888888888888,
              "#fdca26"
             ],
             [
              1,
              "#f0f921"
             ]
            ],
            "type": "heatmap"
           }
          ],
          "heatmapgl": [
           {
            "colorbar": {
             "outlinewidth": 0,
             "ticks": ""
            },
            "colorscale": [
             [
              0,
              "#0d0887"
             ],
             [
              0.1111111111111111,
              "#46039f"
             ],
             [
              0.2222222222222222,
              "#7201a8"
             ],
             [
              0.3333333333333333,
              "#9c179e"
             ],
             [
              0.4444444444444444,
              "#bd3786"
             ],
             [
              0.5555555555555556,
              "#d8576b"
             ],
             [
              0.6666666666666666,
              "#ed7953"
             ],
             [
              0.7777777777777778,
              "#fb9f3a"
             ],
             [
              0.8888888888888888,
              "#fdca26"
             ],
             [
              1,
              "#f0f921"
             ]
            ],
            "type": "heatmapgl"
           }
          ],
          "histogram": [
           {
            "marker": {
             "pattern": {
              "fillmode": "overlay",
              "size": 10,
              "solidity": 0.2
             }
            },
            "type": "histogram"
           }
          ],
          "histogram2d": [
           {
            "colorbar": {
             "outlinewidth": 0,
             "ticks": ""
            },
            "colorscale": [
             [
              0,
              "#0d0887"
             ],
             [
              0.1111111111111111,
              "#46039f"
             ],
             [
              0.2222222222222222,
              "#7201a8"
             ],
             [
              0.3333333333333333,
              "#9c179e"
             ],
             [
              0.4444444444444444,
              "#bd3786"
             ],
             [
              0.5555555555555556,
              "#d8576b"
             ],
             [
              0.6666666666666666,
              "#ed7953"
             ],
             [
              0.7777777777777778,
              "#fb9f3a"
             ],
             [
              0.8888888888888888,
              "#fdca26"
             ],
             [
              1,
              "#f0f921"
             ]
            ],
            "type": "histogram2d"
           }
          ],
          "histogram2dcontour": [
           {
            "colorbar": {
             "outlinewidth": 0,
             "ticks": ""
            },
            "colorscale": [
             [
              0,
              "#0d0887"
             ],
             [
              0.1111111111111111,
              "#46039f"
             ],
             [
              0.2222222222222222,
              "#7201a8"
             ],
             [
              0.3333333333333333,
              "#9c179e"
             ],
             [
              0.4444444444444444,
              "#bd3786"
             ],
             [
              0.5555555555555556,
              "#d8576b"
             ],
             [
              0.6666666666666666,
              "#ed7953"
             ],
             [
              0.7777777777777778,
              "#fb9f3a"
             ],
             [
              0.8888888888888888,
              "#fdca26"
             ],
             [
              1,
              "#f0f921"
             ]
            ],
            "type": "histogram2dcontour"
           }
          ],
          "mesh3d": [
           {
            "colorbar": {
             "outlinewidth": 0,
             "ticks": ""
            },
            "type": "mesh3d"
           }
          ],
          "parcoords": [
           {
            "line": {
             "colorbar": {
              "outlinewidth": 0,
              "ticks": ""
             }
            },
            "type": "parcoords"
           }
          ],
          "pie": [
           {
            "automargin": true,
            "type": "pie"
           }
          ],
          "scatter": [
           {
            "fillpattern": {
             "fillmode": "overlay",
             "size": 10,
             "solidity": 0.2
            },
            "type": "scatter"
           }
          ],
          "scatter3d": [
           {
            "line": {
             "colorbar": {
              "outlinewidth": 0,
              "ticks": ""
             }
            },
            "marker": {
             "colorbar": {
              "outlinewidth": 0,
              "ticks": ""
             }
            },
            "type": "scatter3d"
           }
          ],
          "scattercarpet": [
           {
            "marker": {
             "colorbar": {
              "outlinewidth": 0,
              "ticks": ""
             }
            },
            "type": "scattercarpet"
           }
          ],
          "scattergeo": [
           {
            "marker": {
             "colorbar": {
              "outlinewidth": 0,
              "ticks": ""
             }
            },
            "type": "scattergeo"
           }
          ],
          "scattergl": [
           {
            "marker": {
             "colorbar": {
              "outlinewidth": 0,
              "ticks": ""
             }
            },
            "type": "scattergl"
           }
          ],
          "scattermapbox": [
           {
            "marker": {
             "colorbar": {
              "outlinewidth": 0,
              "ticks": ""
             }
            },
            "type": "scattermapbox"
           }
          ],
          "scatterpolar": [
           {
            "marker": {
             "colorbar": {
              "outlinewidth": 0,
              "ticks": ""
             }
            },
            "type": "scatterpolar"
           }
          ],
          "scatterpolargl": [
           {
            "marker": {
             "colorbar": {
              "outlinewidth": 0,
              "ticks": ""
             }
            },
            "type": "scatterpolargl"
           }
          ],
          "scatterternary": [
           {
            "marker": {
             "colorbar": {
              "outlinewidth": 0,
              "ticks": ""
             }
            },
            "type": "scatterternary"
           }
          ],
          "surface": [
           {
            "colorbar": {
             "outlinewidth": 0,
             "ticks": ""
            },
            "colorscale": [
             [
              0,
              "#0d0887"
             ],
             [
              0.1111111111111111,
              "#46039f"
             ],
             [
              0.2222222222222222,
              "#7201a8"
             ],
             [
              0.3333333333333333,
              "#9c179e"
             ],
             [
              0.4444444444444444,
              "#bd3786"
             ],
             [
              0.5555555555555556,
              "#d8576b"
             ],
             [
              0.6666666666666666,
              "#ed7953"
             ],
             [
              0.7777777777777778,
              "#fb9f3a"
             ],
             [
              0.8888888888888888,
              "#fdca26"
             ],
             [
              1,
              "#f0f921"
             ]
            ],
            "type": "surface"
           }
          ],
          "table": [
           {
            "cells": {
             "fill": {
              "color": "#EBF0F8"
             },
             "line": {
              "color": "white"
             }
            },
            "header": {
             "fill": {
              "color": "#C8D4E3"
             },
             "line": {
              "color": "white"
             }
            },
            "type": "table"
           }
          ]
         },
         "layout": {
          "annotationdefaults": {
           "arrowcolor": "#2a3f5f",
           "arrowhead": 0,
           "arrowwidth": 1
          },
          "autotypenumbers": "strict",
          "coloraxis": {
           "colorbar": {
            "outlinewidth": 0,
            "ticks": ""
           }
          },
          "colorscale": {
           "diverging": [
            [
             0,
             "#8e0152"
            ],
            [
             0.1,
             "#c51b7d"
            ],
            [
             0.2,
             "#de77ae"
            ],
            [
             0.3,
             "#f1b6da"
            ],
            [
             0.4,
             "#fde0ef"
            ],
            [
             0.5,
             "#f7f7f7"
            ],
            [
             0.6,
             "#e6f5d0"
            ],
            [
             0.7,
             "#b8e186"
            ],
            [
             0.8,
             "#7fbc41"
            ],
            [
             0.9,
             "#4d9221"
            ],
            [
             1,
             "#276419"
            ]
           ],
           "sequential": [
            [
             0,
             "#0d0887"
            ],
            [
             0.1111111111111111,
             "#46039f"
            ],
            [
             0.2222222222222222,
             "#7201a8"
            ],
            [
             0.3333333333333333,
             "#9c179e"
            ],
            [
             0.4444444444444444,
             "#bd3786"
            ],
            [
             0.5555555555555556,
             "#d8576b"
            ],
            [
             0.6666666666666666,
             "#ed7953"
            ],
            [
             0.7777777777777778,
             "#fb9f3a"
            ],
            [
             0.8888888888888888,
             "#fdca26"
            ],
            [
             1,
             "#f0f921"
            ]
           ],
           "sequentialminus": [
            [
             0,
             "#0d0887"
            ],
            [
             0.1111111111111111,
             "#46039f"
            ],
            [
             0.2222222222222222,
             "#7201a8"
            ],
            [
             0.3333333333333333,
             "#9c179e"
            ],
            [
             0.4444444444444444,
             "#bd3786"
            ],
            [
             0.5555555555555556,
             "#d8576b"
            ],
            [
             0.6666666666666666,
             "#ed7953"
            ],
            [
             0.7777777777777778,
             "#fb9f3a"
            ],
            [
             0.8888888888888888,
             "#fdca26"
            ],
            [
             1,
             "#f0f921"
            ]
           ]
          },
          "colorway": [
           "#636efa",
           "#EF553B",
           "#00cc96",
           "#ab63fa",
           "#FFA15A",
           "#19d3f3",
           "#FF6692",
           "#B6E880",
           "#FF97FF",
           "#FECB52"
          ],
          "font": {
           "color": "#2a3f5f"
          },
          "geo": {
           "bgcolor": "white",
           "lakecolor": "white",
           "landcolor": "#E5ECF6",
           "showlakes": true,
           "showland": true,
           "subunitcolor": "white"
          },
          "hoverlabel": {
           "align": "left"
          },
          "hovermode": "closest",
          "mapbox": {
           "style": "light"
          },
          "paper_bgcolor": "white",
          "plot_bgcolor": "#E5ECF6",
          "polar": {
           "angularaxis": {
            "gridcolor": "white",
            "linecolor": "white",
            "ticks": ""
           },
           "bgcolor": "#E5ECF6",
           "radialaxis": {
            "gridcolor": "white",
            "linecolor": "white",
            "ticks": ""
           }
          },
          "scene": {
           "xaxis": {
            "backgroundcolor": "#E5ECF6",
            "gridcolor": "white",
            "gridwidth": 2,
            "linecolor": "white",
            "showbackground": true,
            "ticks": "",
            "zerolinecolor": "white"
           },
           "yaxis": {
            "backgroundcolor": "#E5ECF6",
            "gridcolor": "white",
            "gridwidth": 2,
            "linecolor": "white",
            "showbackground": true,
            "ticks": "",
            "zerolinecolor": "white"
           },
           "zaxis": {
            "backgroundcolor": "#E5ECF6",
            "gridcolor": "white",
            "gridwidth": 2,
            "linecolor": "white",
            "showbackground": true,
            "ticks": "",
            "zerolinecolor": "white"
           }
          },
          "shapedefaults": {
           "line": {
            "color": "#2a3f5f"
           }
          },
          "ternary": {
           "aaxis": {
            "gridcolor": "white",
            "linecolor": "white",
            "ticks": ""
           },
           "baxis": {
            "gridcolor": "white",
            "linecolor": "white",
            "ticks": ""
           },
           "bgcolor": "#E5ECF6",
           "caxis": {
            "gridcolor": "white",
            "linecolor": "white",
            "ticks": ""
           }
          },
          "title": {
           "x": 0.05
          },
          "xaxis": {
           "automargin": true,
           "gridcolor": "white",
           "linecolor": "white",
           "ticks": "",
           "title": {
            "standoff": 15
           },
           "zerolinecolor": "white",
           "zerolinewidth": 2
          },
          "yaxis": {
           "automargin": true,
           "gridcolor": "white",
           "linecolor": "white",
           "ticks": "",
           "title": {
            "standoff": 15
           },
           "zerolinecolor": "white",
           "zerolinewidth": 2
          }
         }
        },
        "xaxis": {
         "anchor": "y",
         "categoryarray": [
          "60450",
          "50799",
          "15324",
          "25742",
          "15326",
          "10133-60161",
          "90664",
          "10191",
          "25683",
          "60126",
          "90664-60759",
          "15601",
          "10335",
          "10133",
          "60161",
          "15324-70523",
          "50460-60161",
          "25185",
          "90666",
          "15495",
          "10220",
          "60450-10493",
          "60158",
          "70273-60126",
          "20728",
          "70273",
          "70523",
          "60759",
          "60128",
          "60156",
          "10493",
          "60163",
          "25871",
          "20476",
          "35524B",
          "15324-25057",
          "15539",
          "10220-70523",
          "90480",
          "80649",
          "50460",
          "60116",
          "35525B",
          "90666-50150",
          "50581",
          "70427",
          "15326-25057",
          "15214",
          "60125",
          "60136",
          "15049",
          "50706",
          "70429",
          "15275",
          "70273-60158",
          "20956A",
          "70273-60156",
          "90666-60759",
          "90440",
          "15311",
          "10191-60763",
          "35008",
          "15267",
          "25208",
          "15049-15271",
          "50460-20728",
          "90413",
          "15326-15267",
          "70273-60136",
          "60765",
          "80520",
          "80798",
          "35008-70427",
          "50459-60156",
          "50737",
          "25188",
          "15633",
          "90664-50150.",
          "80154",
          "70273-60116",
          "25877",
          "90666-70427",
          "25163",
          "80136",
          "50274",
          "60700",
          "15195",
          "10191-15275",
          "90545",
          "50459",
          "50340",
          "90568",
          "60763",
          "70643",
          "60118",
          "15324-15267",
          "15326-70523",
          "10335-15311",
          "20477",
          "90903",
          "10106",
          "30820",
          "70645",
          "10133-60163",
          "15375",
          "60114",
          "70683",
          "60164",
          "25067",
          "20478",
          "10108",
          "60985",
          "10113",
          "60113",
          "25396",
          "50150",
          "25057",
          "20782",
          "10335-15275",
          "90575",
          "50997",
          "60134",
          "10335-70427",
          "90928",
          "30637",
          "15271",
          "10109",
          "50459-60126",
          "15395",
          "15539-70427",
          "50922",
          "30638",
          "50459-60136",
          "10191-70643",
          "90373",
          "90666-15275",
          "80401",
          "10648",
          "60138",
          "80372",
          "30756",
          "90664-60765",
          "80404",
          "50903",
          "25398",
          "60450-70523.",
          "60167",
          "50698",
          "90664-70427",
          "50459-60116",
          "10133-20728",
          "50149",
          "50985",
          "25160",
          "90549",
          "90849",
          "20473",
          "90666-60765",
          "60990B",
          "15324-15195",
          "20467",
          "25400",
          "20204",
          "80371",
          "60643",
          "50596",
          "80150",
          "90664-60763",
          "50283",
          "10220-10493.",
          "70273-60138",
          "15324-25067",
          "50363",
          "50460-60163",
          "90413-70427",
          "90531",
          "70273-60128",
          "90666-15311",
          "40707",
          "90874",
          "25626",
          "30333",
          "10220-25067",
          "15187",
          "15326-25067",
          "25399",
          "40914",
          "20250",
          "25396-25587",
          "90307",
          "25587",
          "10220-15195",
          "20421",
          "15364",
          "60450-15195",
          "50773",
          "90677",
          "90666-60763",
          "40363",
          "60812",
          "90969",
          "50974",
          "90664-70643",
          "30759",
          "30768",
          "90666-70643",
          "50361",
          "10220-15267",
          "10351",
          "90666-70429",
          "25397",
          "90645",
          "70273-60118",
          "15324-10493",
          "15539-60126",
          "15339",
          "25402",
          "10191-60759",
          "25593-25403",
          "90372",
          "10110",
          "90563",
          "20162",
          "25593",
          "10916",
          "50945",
          "30337",
          "25765",
          "10133-60126",
          "30747",
          "25587-25400",
          "15086",
          "70577",
          "25403",
          "10613",
          "25593-25399",
          "80199",
          "50857",
          "15636",
          "40858",
          "15852",
          "30767",
          "40356",
          "25626-25400",
          "80125",
          "20192",
          "90671",
          "90564",
          "90967",
          "25589",
          "70858",
          "25399-25593",
          "30756-30637",
          "10519",
          "80999",
          "15326-15271",
          "50446",
          "40360",
          "80405",
          "60971",
          "40184",
          "10629",
          "70533",
          "35008-70643",
          "15539-60156",
          "50459-60138",
          "80519",
          "30818",
          "80154-30637",
          "25628",
          "40393",
          "10595",
          "10211",
          "90435",
          "90645-90480",
          "11269",
          "90664-70429",
          "20245-ISI3",
          "30103",
          "20245-ISI10",
          "20160",
          "90563-90855",
          "70200",
          "15632",
          "15647",
          "30642",
          "10520",
          "40291",
          "15326-10493",
          "60164-30637",
          "90798",
          "25587-25396",
          "25874",
          "55064",
          "60826",
          "10202",
          "60711",
          "45928",
          "50966",
          "11233",
          "45927",
          "40673",
          "45974",
          "20103",
          "15539-60138",
          "90686",
          "10133-60116",
          "50459-60158",
          "40858-60126",
          "30762",
          "20503",
          "40675",
          "50147",
          "90235",
          "50922-50283",
          "25591-25398",
          "15324-15271",
          "35725",
          "10952",
          "70172",
          "60408",
          "35008-70429",
          "20164",
          "20467-90480",
          "30127",
          "40248",
          "15598",
          "90627",
          "70892",
          "90373-35863",
          "55065",
          "40224",
          "10321",
          "40253",
          "11271",
          "25591",
          "70684",
          "55000",
          "50590",
          "50747",
          "15108",
          "50194",
          "20159",
          "80708",
          "10639",
          "45926-25589",
          "60558",
          "50196",
          "10640",
          "15638",
          "45999-55064",
          "40816",
          "11232",
          "45928-45974",
          "80186",
          "20471",
          "11230",
          "90563-90545",
          "30633",
          "90460",
          "45925",
          "20245-isi3",
          "45926",
          "10630",
          "45973",
          "30837",
          "70890",
          "20501",
          "30732",
          "70893",
          "10396",
          "50320",
          "20502",
          "15539-60136",
          "45927-45973",
          "20245-isi10",
          "50248",
          "10636",
          "90414"
         ],
         "categoryorder": "array",
         "domain": [
          0,
          1
         ],
         "title": {
          "text": "Nomor Referensi SKU"
         }
        },
        "yaxis": {
         "anchor": "x",
         "domain": [
          0,
          1
         ],
         "title": {
          "text": "total no dup"
         }
        }
       }
      }
     },
     "metadata": {},
     "output_type": "display_data"
    }
   ],
   "source": [
    "disc = groupdate.with_columns(\n",
    "    ((1 - (pl.col('Harga Setelah Diskon') / pl.col('Harga Awal'))) * 100).alias('pct_discount')\n",
    ")\n",
    "\n",
    "'''\n",
    "discount UNDER 10% 5278469198\n",
    "discount UNDER 9% 5276966586\n",
    "discount UNDER 8% 5270197515\n",
    "discount UNDER 7% 5267292686\n",
    "discount UNDER 6% 5264721901\n",
    "discount UNDER 5% 4727537903\n",
    "'''\n",
    "print(f'discount UNDER 6% {disc.filter(pl.col('pct_discount')<=6)['total no dup'].sum():,.2f}')\n",
    "print(f'discount ABOVE 6% {disc.filter(pl.col('pct_discount')>6)['total no dup'].sum():,.2f}')\n",
    "print(f'total {disc['total no dup'].sum():,.2f}')\n",
    "\n",
    "less6 = disc.filter(pl.col('pct_discount')<=6)\n",
    "qqq = less6.group_by('Nomor Referensi SKU').agg(pl.col('total no dup').sum()).sort('total no dup',descending=True).with_columns(pl.col('total no dup').cum_sum().alias('cumul'))\n",
    "fig = px.bar(qqq.head(10), \n",
    "             x='Nomor Referensi SKU', \n",
    "             y='total no dup',\n",
    "             category_orders={\"Nomor Referensi SKU\": qqq['Nomor Referensi SKU'].to_list()},\n",
    "             color='total no dup',\n",
    "             )\n",
    "fig.update_traces(\n",
    "    marker_color=px.colors.qualitative.T10,\n",
    "    hovertemplate='Total: %{y}<br>SKU: %{x}<extra></extra>'\n",
    ")\n",
    "fig.show()\n",
    "# fig.update_traces(marker_color = px.colors.qualitative.T10)\n",
    "# base on situation above "
   ]
  },
  {
   "cell_type": "markdown",
   "metadata": {},
   "source": [
    "#### insight \n",
    "\n",
    "here are the sku list that should be shown in top performance in each week:\n",
    "\n",
    "10133-60161 // 10191 // '15324' // 15326 // '25683' // '25742' // '50799' // 60126 // '60450' // 90664 <br>\n",
    "\n",
    "the situation was only 5 + 1 (90664 if consider the same as 90664-60759) shown at number that has single quotes , this indicating some kinda inconsintency on sales side of that sku line \n",
    "\n",
    "---------------------------------------------------------------------------------------------------------------------------------------------------------------------------------------------------\n",
    "#### going to forecast for the top 3 SKU above using WMA in excel combine with MRP stuff\n",
    "---------------------------------------------------------------------------------------------------------------------------------------------------------------------------------------------------\n"
   ]
  },
  {
   "cell_type": "markdown",
   "metadata": {},
   "source": [
    "## corelation between jumlah sold amount with its price tag during rallies and slowdown phase"
   ]
  },
  {
   "cell_type": "code",
   "execution_count": 254,
   "metadata": {},
   "outputs": [
    {
     "data": {
      "text/html": [
       "\n",
       "<style>\n",
       "  #altair-viz-132073b40c9241f4a4dd118ed4146ac8.vega-embed {\n",
       "    width: 100%;\n",
       "    display: flex;\n",
       "  }\n",
       "\n",
       "  #altair-viz-132073b40c9241f4a4dd118ed4146ac8.vega-embed details,\n",
       "  #altair-viz-132073b40c9241f4a4dd118ed4146ac8.vega-embed details summary {\n",
       "    position: relative;\n",
       "  }\n",
       "</style>\n",
       "<div id=\"altair-viz-132073b40c9241f4a4dd118ed4146ac8\"></div>\n",
       "<script type=\"text/javascript\">\n",
       "  var VEGA_DEBUG = (typeof VEGA_DEBUG == \"undefined\") ? {} : VEGA_DEBUG;\n",
       "  (function(spec, embedOpt){\n",
       "    let outputDiv = document.currentScript.previousElementSibling;\n",
       "    if (outputDiv.id !== \"altair-viz-132073b40c9241f4a4dd118ed4146ac8\") {\n",
       "      outputDiv = document.getElementById(\"altair-viz-132073b40c9241f4a4dd118ed4146ac8\");\n",
       "    }\n",
       "\n",
       "    const paths = {\n",
       "      \"vega\": \"https://cdn.jsdelivr.net/npm/vega@5?noext\",\n",
       "      \"vega-lib\": \"https://cdn.jsdelivr.net/npm/vega-lib?noext\",\n",
       "      \"vega-lite\": \"https://cdn.jsdelivr.net/npm/vega-lite@5.20.1?noext\",\n",
       "      \"vega-embed\": \"https://cdn.jsdelivr.net/npm/vega-embed@6?noext\",\n",
       "    };\n",
       "\n",
       "    function maybeLoadScript(lib, version) {\n",
       "      var key = `${lib.replace(\"-\", \"\")}_version`;\n",
       "      return (VEGA_DEBUG[key] == version) ?\n",
       "        Promise.resolve(paths[lib]) :\n",
       "        new Promise(function(resolve, reject) {\n",
       "          var s = document.createElement('script');\n",
       "          document.getElementsByTagName(\"head\")[0].appendChild(s);\n",
       "          s.async = true;\n",
       "          s.onload = () => {\n",
       "            VEGA_DEBUG[key] = version;\n",
       "            return resolve(paths[lib]);\n",
       "          };\n",
       "          s.onerror = () => reject(`Error loading script: ${paths[lib]}`);\n",
       "          s.src = paths[lib];\n",
       "        });\n",
       "    }\n",
       "\n",
       "    function showError(err) {\n",
       "      outputDiv.innerHTML = `<div class=\"error\" style=\"color:red;\">${err}</div>`;\n",
       "      throw err;\n",
       "    }\n",
       "\n",
       "    function displayChart(vegaEmbed) {\n",
       "      vegaEmbed(outputDiv, spec, embedOpt)\n",
       "        .catch(err => showError(`Javascript Error: ${err.message}<br>This usually means there's a typo in your chart specification. See the javascript console for the full traceback.`));\n",
       "    }\n",
       "\n",
       "    if(typeof define === \"function\" && define.amd) {\n",
       "      requirejs.config({paths});\n",
       "      let deps = [\"vega-embed\"];\n",
       "      require(deps, displayChart, err => showError(`Error loading script: ${err.message}`));\n",
       "    } else {\n",
       "      maybeLoadScript(\"vega\", \"5\")\n",
       "        .then(() => maybeLoadScript(\"vega-lite\", \"5.20.1\"))\n",
       "        .then(() => maybeLoadScript(\"vega-embed\", \"6\"))\n",
       "        .catch(showError)\n",
       "        .then(() => displayChart(vegaEmbed));\n",
       "    }\n",
       "  })({\"config\": {\"view\": {\"continuousWidth\": 300, \"continuousHeight\": 300}}, \"concat\": [{\"data\": {\"name\": \"data-f8b7457e3f025241d38ee3fbb1327c81\"}, \"mark\": {\"type\": \"point\", \"tooltip\": true}, \"encoding\": {\"x\": {\"field\": \"Jumlah\", \"type\": \"quantitative\"}, \"y\": {\"field\": \"Harga Awal\", \"type\": \"quantitative\"}}, \"name\": \"view_9\"}, {\"data\": {\"name\": \"data-231de3364b0722aca3467c517d30cdea\"}, \"mark\": {\"type\": \"point\", \"tooltip\": true}, \"encoding\": {\"x\": {\"field\": \"Jumlah\", \"type\": \"quantitative\"}, \"y\": {\"field\": \"Harga Setelah Diskon\", \"type\": \"quantitative\"}}, \"name\": \"view_10\"}], \"params\": [{\"name\": \"param_48\", \"select\": {\"type\": \"interval\", \"encodings\": [\"x\", \"y\"]}, \"bind\": \"scales\", \"views\": [\"view_9\"]}, {\"name\": \"param_49\", \"select\": {\"type\": \"interval\", \"encodings\": [\"x\", \"y\"]}, \"bind\": \"scales\", \"views\": [\"view_10\"]}], \"spacing\": 5, \"$schema\": \"https://vega.github.io/schema/vega-lite/v5.20.1.json\", \"datasets\": {\"data-f8b7457e3f025241d38ee3fbb1327c81\": [{\"Harga Awal\": 799000, \"Jumlah\": 22}, {\"Harga Awal\": 177500, \"Jumlah\": 1}, {\"Harga Awal\": 169000, \"Jumlah\": 265}, {\"Harga Awal\": 265000, \"Jumlah\": 50}, {\"Harga Awal\": 750000, \"Jumlah\": 4}, {\"Harga Awal\": 459000, \"Jumlah\": 3}, {\"Harga Awal\": 96500, \"Jumlah\": 95}, {\"Harga Awal\": 800000, \"Jumlah\": 74}, {\"Harga Awal\": 225000, \"Jumlah\": 214}, {\"Harga Awal\": 39000, \"Jumlah\": 194}, {\"Harga Awal\": 355000, \"Jumlah\": 32}, {\"Harga Awal\": 290000, \"Jumlah\": 102}, {\"Harga Awal\": 679000, \"Jumlah\": 9}, {\"Harga Awal\": 80000, \"Jumlah\": 4}, {\"Harga Awal\": 55000, \"Jumlah\": 771}, {\"Harga Awal\": 395000, \"Jumlah\": 50}, {\"Harga Awal\": 298000, \"Jumlah\": 50}, {\"Harga Awal\": 525000, \"Jumlah\": 12}, {\"Harga Awal\": 87500, \"Jumlah\": 4}, {\"Harga Awal\": 185000, \"Jumlah\": 477}, {\"Harga Awal\": 258000, \"Jumlah\": 7}, {\"Harga Awal\": 145000, \"Jumlah\": 646}, {\"Harga Awal\": 468000, \"Jumlah\": 3}, {\"Harga Awal\": 1050000, \"Jumlah\": 22}, {\"Harga Awal\": 242500, \"Jumlah\": 6}, {\"Harga Awal\": 768000, \"Jumlah\": 3}, {\"Harga Awal\": 105000, \"Jumlah\": 28}, {\"Harga Awal\": 129000, \"Jumlah\": 1589}, {\"Harga Awal\": 249000, \"Jumlah\": 85}, {\"Harga Awal\": 435000, \"Jumlah\": 3}, {\"Harga Awal\": 670000, \"Jumlah\": 3}, {\"Harga Awal\": 379000, \"Jumlah\": 14}, {\"Harga Awal\": 218000, \"Jumlah\": 7}, {\"Harga Awal\": 184000, \"Jumlah\": 84}, {\"Harga Awal\": 485000, \"Jumlah\": 5}, {\"Harga Awal\": 629000, \"Jumlah\": 9}, {\"Harga Awal\": 500000, \"Jumlah\": 20}, {\"Harga Awal\": 112500, \"Jumlah\": 2}, {\"Harga Awal\": 865000, \"Jumlah\": 14}, {\"Harga Awal\": 95000, \"Jumlah\": 182}, {\"Harga Awal\": 250000, \"Jumlah\": 48}, {\"Harga Awal\": 855000, \"Jumlah\": 2}, {\"Harga Awal\": 22500, \"Jumlah\": 14}, {\"Harga Awal\": 120000, \"Jumlah\": 115}, {\"Harga Awal\": 79000, \"Jumlah\": 138}, {\"Harga Awal\": 299000, \"Jumlah\": 187}, {\"Harga Awal\": 40000, \"Jumlah\": 1352}, {\"Harga Awal\": 330000, \"Jumlah\": 127}, {\"Harga Awal\": 210000, \"Jumlah\": 47}, {\"Harga Awal\": 297500, \"Jumlah\": 1}, {\"Harga Awal\": 274000, \"Jumlah\": 144}, {\"Harga Awal\": 54500, \"Jumlah\": 43}, {\"Harga Awal\": 208000, \"Jumlah\": 7}, {\"Harga Awal\": 369000, \"Jumlah\": 99}, {\"Harga Awal\": 329000, \"Jumlah\": 64}, {\"Harga Awal\": 725000, \"Jumlah\": 3}, {\"Harga Awal\": 829000, \"Jumlah\": 3}, {\"Harga Awal\": 142500, \"Jumlah\": 14}, {\"Harga Awal\": 30000, \"Jumlah\": 615}, {\"Harga Awal\": 119000, \"Jumlah\": 308}, {\"Harga Awal\": 200000, \"Jumlah\": 5}, {\"Harga Awal\": 110000, \"Jumlah\": 139}, {\"Harga Awal\": 190000, \"Jumlah\": 23}, {\"Harga Awal\": 150000, \"Jumlah\": 14}, {\"Harga Awal\": 425000, \"Jumlah\": 55}, {\"Harga Awal\": 29000, \"Jumlah\": 412}, {\"Harga Awal\": 410000, \"Jumlah\": 11}, {\"Harga Awal\": 748000, \"Jumlah\": 1}, {\"Harga Awal\": 182500, \"Jumlah\": 1}, {\"Harga Awal\": 45000, \"Jumlah\": 212}, {\"Harga Awal\": 240000, \"Jumlah\": 7}, {\"Harga Awal\": 1655000, \"Jumlah\": 1}, {\"Harga Awal\": 111000, \"Jumlah\": 73}, {\"Harga Awal\": 499000, \"Jumlah\": 6}, {\"Harga Awal\": 394000, \"Jumlah\": 39}, {\"Harga Awal\": 85000, \"Jumlah\": 755}, {\"Harga Awal\": 385000, \"Jumlah\": 2}, {\"Harga Awal\": 360000, \"Jumlah\": 3}, {\"Harga Awal\": 595000, \"Jumlah\": 10}, {\"Harga Awal\": 1250000, \"Jumlah\": 2}, {\"Harga Awal\": 289000, \"Jumlah\": 18}, {\"Harga Awal\": 37000, \"Jumlah\": 313}, {\"Harga Awal\": 175000, \"Jumlah\": 1065}, {\"Harga Awal\": 215000, \"Jumlah\": 188}, {\"Harga Awal\": 320000, \"Jumlah\": 2}, {\"Harga Awal\": 392500, \"Jumlah\": 5}, {\"Harga Awal\": 37500, \"Jumlah\": 96}, {\"Harga Awal\": 700000, \"Jumlah\": 1}, {\"Harga Awal\": 264000, \"Jumlah\": 5}, {\"Harga Awal\": 288000, \"Jumlah\": 13}, {\"Harga Awal\": 159000, \"Jumlah\": 45}, {\"Harga Awal\": 344000, \"Jumlah\": 10}, {\"Harga Awal\": 69000, \"Jumlah\": 16}, {\"Harga Awal\": 199000, \"Jumlah\": 19}, {\"Harga Awal\": 255000, \"Jumlah\": 174}, {\"Harga Awal\": 450000, \"Jumlah\": 14}, {\"Harga Awal\": 280000, \"Jumlah\": 199}, {\"Harga Awal\": 677000, \"Jumlah\": 11}, {\"Harga Awal\": 490000, \"Jumlah\": 72}, {\"Harga Awal\": 224000, \"Jumlah\": 2}, {\"Harga Awal\": 685000, \"Jumlah\": 3}, {\"Harga Awal\": 660000, \"Jumlah\": 4}, {\"Harga Awal\": 239000, \"Jumlah\": 339}, {\"Harga Awal\": 135000, \"Jumlah\": 661}, {\"Harga Awal\": 489000, \"Jumlah\": 12}, {\"Harga Awal\": 181500, \"Jumlah\": 1}, {\"Harga Awal\": 699000, \"Jumlah\": 44}, {\"Harga Awal\": 545000, \"Jumlah\": 3}, {\"Harga Awal\": 19000, \"Jumlah\": 188}, {\"Harga Awal\": 124000, \"Jumlah\": 5}, {\"Harga Awal\": 20000, \"Jumlah\": 16}, {\"Harga Awal\": 455000, \"Jumlah\": 10}, {\"Harga Awal\": 198000, \"Jumlah\": 27}, {\"Harga Awal\": 67000, \"Jumlah\": 40}, {\"Harga Awal\": 408000, \"Jumlah\": 2}, {\"Harga Awal\": 157500, \"Jumlah\": 9}, {\"Harga Awal\": 230000, \"Jumlah\": 308}, {\"Harga Awal\": 165000, \"Jumlah\": 38}, {\"Harga Awal\": 205000, \"Jumlah\": 6}, {\"Harga Awal\": 140000, \"Jumlah\": 51}, {\"Harga Awal\": 189000, \"Jumlah\": 55}, {\"Harga Awal\": 295000, \"Jumlah\": 47}, {\"Harga Awal\": 92500, \"Jumlah\": 24}, {\"Harga Awal\": 625000, \"Jumlah\": 1}, {\"Harga Awal\": 67500, \"Jumlah\": 459}, {\"Harga Awal\": 109000, \"Jumlah\": 3}, {\"Harga Awal\": 59000, \"Jumlah\": 161}, {\"Harga Awal\": 310000, \"Jumlah\": 47}, {\"Harga Awal\": 148500, \"Jumlah\": 6}, {\"Harga Awal\": 440000, \"Jumlah\": 3}, {\"Harga Awal\": 107500, \"Jumlah\": 81}, {\"Harga Awal\": 400000, \"Jumlah\": 3}, {\"Harga Awal\": 212500, \"Jumlah\": 282}, {\"Harga Awal\": 180000, \"Jumlah\": 16}, {\"Harga Awal\": 885000, \"Jumlah\": 19}, {\"Harga Awal\": 739000, \"Jumlah\": 11}, {\"Harga Awal\": 100000, \"Jumlah\": 148}, {\"Harga Awal\": 375000, \"Jumlah\": 30}, {\"Harga Awal\": 229000, \"Jumlah\": 1294}, {\"Harga Awal\": 164000, \"Jumlah\": 1}, {\"Harga Awal\": 399000, \"Jumlah\": 1}, {\"Harga Awal\": 610000, \"Jumlah\": 14}, {\"Harga Awal\": 245000, \"Jumlah\": 66}, {\"Harga Awal\": 350000, \"Jumlah\": 7}, {\"Harga Awal\": 125000, \"Jumlah\": 345}, {\"Harga Awal\": 650000, \"Jumlah\": 8}, {\"Harga Awal\": 319000, \"Jumlah\": 52}, {\"Harga Awal\": 415000, \"Jumlah\": 18}, {\"Harga Awal\": 359000, \"Jumlah\": 39}, {\"Harga Awal\": 278000, \"Jumlah\": 10}, {\"Harga Awal\": 35000, \"Jumlah\": 16}, {\"Harga Awal\": 254000, \"Jumlah\": 7}, {\"Harga Awal\": 925000, \"Jumlah\": 57}, {\"Harga Awal\": 75000, \"Jumlah\": 380}, {\"Harga Awal\": 214000, \"Jumlah\": 33}, {\"Harga Awal\": 900000, \"Jumlah\": 30}, {\"Harga Awal\": 60000, \"Jumlah\": 98}, {\"Harga Awal\": 270000, \"Jumlah\": 5}, {\"Harga Awal\": 560000, \"Jumlah\": 72}, {\"Harga Awal\": 2720000, \"Jumlah\": 13}, {\"Harga Awal\": 42500, \"Jumlah\": 47}, {\"Harga Awal\": 480000, \"Jumlah\": 9}, {\"Harga Awal\": 197500, \"Jumlah\": 4}, {\"Harga Awal\": 149000, \"Jumlah\": 305}, {\"Harga Awal\": 318000, \"Jumlah\": 3}, {\"Harga Awal\": 130000, \"Jumlah\": 31}, {\"Harga Awal\": 300000, \"Jumlah\": 6}, {\"Harga Awal\": 325000, \"Jumlah\": 131}, {\"Harga Awal\": 114000, \"Jumlah\": 67}, {\"Harga Awal\": 284000, \"Jumlah\": 558}, {\"Harga Awal\": 17000, \"Jumlah\": 7}, {\"Harga Awal\": 32500, \"Jumlah\": 3}, {\"Harga Awal\": 414000, \"Jumlah\": 1}, {\"Harga Awal\": 195000, \"Jumlah\": 3}, {\"Harga Awal\": 89000, \"Jumlah\": 65}, {\"Harga Awal\": 204000, \"Jumlah\": 14}, {\"Harga Awal\": 349000, \"Jumlah\": 41}, {\"Harga Awal\": 1650000, \"Jumlah\": 4}, {\"Harga Awal\": 510000, \"Jumlah\": 17}, {\"Harga Awal\": 99000, \"Jumlah\": 116}, {\"Harga Awal\": 49000, \"Jumlah\": 63}, {\"Harga Awal\": 9000, \"Jumlah\": 76}, {\"Harga Awal\": 82500, \"Jumlah\": 35}, {\"Harga Awal\": 170000, \"Jumlah\": 10}, {\"Harga Awal\": 220000, \"Jumlah\": 37}, {\"Harga Awal\": 655000, \"Jumlah\": 12}, {\"Harga Awal\": 575000, \"Jumlah\": 21}, {\"Harga Awal\": 65000, \"Jumlah\": 181}, {\"Harga Awal\": 236000, \"Jumlah\": 3}, {\"Harga Awal\": 899000, \"Jumlah\": 153}, {\"Harga Awal\": 389000, \"Jumlah\": 267}, {\"Harga Awal\": 364000, \"Jumlah\": 10}, {\"Harga Awal\": 97500, \"Jumlah\": 55}, {\"Harga Awal\": 550000, \"Jumlah\": 14}, {\"Harga Awal\": 115000, \"Jumlah\": 221}, {\"Harga Awal\": 235000, \"Jumlah\": 440}, {\"Harga Awal\": 1198500, \"Jumlah\": 1}, {\"Harga Awal\": 390000, \"Jumlah\": 7}, {\"Harga Awal\": 259000, \"Jumlah\": 15}, {\"Harga Awal\": 252500, \"Jumlah\": 1}, {\"Harga Awal\": 50000, \"Jumlah\": 369}, {\"Harga Awal\": 770000, \"Jumlah\": 1}, {\"Harga Awal\": 122500, \"Jumlah\": 5}, {\"Harga Awal\": 275000, \"Jumlah\": 2}, {\"Harga Awal\": 268000, \"Jumlah\": 21}, {\"Harga Awal\": 25000, \"Jumlah\": 10}, {\"Harga Awal\": 179000, \"Jumlah\": 119}, {\"Harga Awal\": 260000, \"Jumlah\": 91}, {\"Harga Awal\": 155000, \"Jumlah\": 819}, {\"Harga Awal\": 365000, \"Jumlah\": 6}, {\"Harga Awal\": 469000, \"Jumlah\": 16}, {\"Harga Awal\": 138000, \"Jumlah\": 1}, {\"Harga Awal\": 139000, \"Jumlah\": 52}, {\"Harga Awal\": 720000, \"Jumlah\": 6}, {\"Harga Awal\": 202500, \"Jumlah\": 120}, {\"Harga Awal\": 244000, \"Jumlah\": 1}, {\"Harga Awal\": 24500, \"Jumlah\": 234}, {\"Harga Awal\": 875000, \"Jumlah\": 4}, {\"Harga Awal\": 519000, \"Jumlah\": 39}, {\"Harga Awal\": 324000, \"Jumlah\": 14}, {\"Harga Awal\": 995000, \"Jumlah\": 12}, {\"Harga Awal\": 90000, \"Jumlah\": 3865}, {\"Harga Awal\": 163500, \"Jumlah\": 87}, {\"Harga Awal\": 17500, \"Jumlah\": 7}, {\"Harga Awal\": 785000, \"Jumlah\": 5}, {\"Harga Awal\": 380000, \"Jumlah\": 4}, {\"Harga Awal\": 600000, \"Jumlah\": 13}], \"data-231de3364b0722aca3467c517d30cdea\": [{\"Harga Setelah Diskon\": 1050000, \"Jumlah\": 22}, {\"Harga Setelah Diskon\": 137000, \"Jumlah\": 1}, {\"Harga Setelah Diskon\": 574000, \"Jumlah\": 5}, {\"Harga Setelah Diskon\": 218000, \"Jumlah\": 7}, {\"Harga Setelah Diskon\": 17900, \"Jumlah\": 8}, {\"Harga Setelah Diskon\": 24000, \"Jumlah\": 42}, {\"Harga Setelah Diskon\": 379000, \"Jumlah\": 9}, {\"Harga Setelah Diskon\": 227950, \"Jumlah\": 3}, {\"Harga Setelah Diskon\": 629000, \"Jumlah\": 9}, {\"Harga Setelah Diskon\": 249000, \"Jumlah\": 61}, {\"Harga Setelah Diskon\": 298000, \"Jumlah\": 38}, {\"Harga Setelah Diskon\": 50400, \"Jumlah\": 9}, {\"Harga Setelah Diskon\": 265000, \"Jumlah\": 25}, {\"Harga Setelah Diskon\": 1350000, \"Jumlah\": 13}, {\"Harga Setelah Diskon\": 654000, \"Jumlah\": 1}, {\"Harga Setelah Diskon\": 145000, \"Jumlah\": 692}, {\"Harga Setelah Diskon\": 18430, \"Jumlah\": 9}, {\"Harga Setelah Diskon\": 339000, \"Jumlah\": 6}, {\"Harga Setelah Diskon\": 40000, \"Jumlah\": 1318}, {\"Harga Setelah Diskon\": 210700, \"Jumlah\": 4}, {\"Harga Setelah Diskon\": 55000, \"Jumlah\": 760}, {\"Harga Setelah Diskon\": 34400, \"Jumlah\": 35}, {\"Harga Setelah Diskon\": 249500, \"Jumlah\": 1}, {\"Harga Setelah Diskon\": 185000, \"Jumlah\": 469}, {\"Harga Setelah Diskon\": 299000, \"Jumlah\": 14}, {\"Harga Setelah Diskon\": 225000, \"Jumlah\": 174}, {\"Harga Setelah Diskon\": 39000, \"Jumlah\": 201}, {\"Harga Setelah Diskon\": 799000, \"Jumlah\": 1}, {\"Harga Setelah Diskon\": 160000, \"Jumlah\": 6}, {\"Harga Setelah Diskon\": 79000, \"Jumlah\": 157}, {\"Harga Setelah Diskon\": 184000, \"Jumlah\": 85}, {\"Harga Setelah Diskon\": 22500, \"Jumlah\": 14}, {\"Harga Setelah Diskon\": 96500, \"Jumlah\": 95}, {\"Harga Setelah Diskon\": 525000, \"Jumlah\": 14}, {\"Harga Setelah Diskon\": 113000, \"Jumlah\": 7}, {\"Harga Setelah Diskon\": 1429000, \"Jumlah\": 1}, {\"Harga Setelah Diskon\": 210000, \"Jumlah\": 48}, {\"Harga Setelah Diskon\": 160050, \"Jumlah\": 1}, {\"Harga Setelah Diskon\": 18900, \"Jumlah\": 19}, {\"Harga Setelah Diskon\": 42680, \"Jumlah\": 2}, {\"Harga Setelah Diskon\": 95000, \"Jumlah\": 109}, {\"Harga Setelah Diskon\": 43650, \"Jumlah\": 1}, {\"Harga Setelah Diskon\": 395000, \"Jumlah\": 54}, {\"Harga Setelah Diskon\": 330000, \"Jumlah\": 127}, {\"Harga Setelah Diskon\": 35400, \"Jumlah\": 26}, {\"Harga Setelah Diskon\": 234000, \"Jumlah\": 275}, {\"Harga Setelah Diskon\": 129000, \"Jumlah\": 1619}, {\"Harga Setelah Diskon\": 168500, \"Jumlah\": 19}, {\"Harga Setelah Diskon\": 209000, \"Jumlah\": 91}, {\"Harga Setelah Diskon\": 435000, \"Jumlah\": 3}, {\"Harga Setelah Diskon\": 105000, \"Jumlah\": 29}, {\"Harga Setelah Diskon\": 169000, \"Jumlah\": 265}, {\"Harga Setelah Diskon\": 193000, \"Jumlah\": 2}, {\"Harga Setelah Diskon\": 213665, \"Jumlah\": 46}, {\"Harga Setelah Diskon\": 290000, \"Jumlah\": 27}, {\"Harga Setelah Diskon\": 117600, \"Jumlah\": 3}, {\"Harga Setelah Diskon\": 37050, \"Jumlah\": 3}, {\"Harga Setelah Diskon\": 274000, \"Jumlah\": 144}, {\"Harga Setelah Diskon\": 23500, \"Jumlah\": 39}, {\"Harga Setelah Diskon\": 23000, \"Jumlah\": 11}, {\"Harga Setelah Diskon\": 485000, \"Jumlah\": 62}, {\"Harga Setelah Diskon\": 47500, \"Jumlah\": 1}, {\"Harga Setelah Diskon\": 91180, \"Jumlah\": 8}, {\"Harga Setelah Diskon\": 242500, \"Jumlah\": 6}, {\"Harga Setelah Diskon\": 80000, \"Jumlah\": 45}, {\"Harga Setelah Diskon\": 87000, \"Jumlah\": 5}, {\"Harga Setelah Diskon\": 120000, \"Jumlah\": 123}, {\"Harga Setelah Diskon\": 250000, \"Jumlah\": 29}, {\"Harga Setelah Diskon\": 158000, \"Jumlah\": 4}, {\"Harga Setelah Diskon\": 69000, \"Jumlah\": 18}, {\"Harga Setelah Diskon\": 175000, \"Jumlah\": 833}, {\"Harga Setelah Diskon\": 159000, \"Jumlah\": 86}, {\"Harga Setelah Diskon\": 490000, \"Jumlah\": 65}, {\"Harga Setelah Diskon\": 329000, \"Jumlah\": 64}, {\"Harga Setelah Diskon\": 474000, \"Jumlah\": 23}, {\"Harga Setelah Diskon\": 555000, \"Jumlah\": 15}, {\"Harga Setelah Diskon\": 84991, \"Jumlah\": 23}, {\"Harga Setelah Diskon\": 394000, \"Jumlah\": 39}, {\"Harga Setelah Diskon\": 280250, \"Jumlah\": 7}, {\"Harga Setelah Diskon\": 30000, \"Jumlah\": 508}, {\"Harga Setelah Diskon\": 37000, \"Jumlah\": 317}, {\"Harga Setelah Diskon\": 280000, \"Jumlah\": 128}, {\"Harga Setelah Diskon\": 48400, \"Jumlah\": 22}, {\"Harga Setelah Diskon\": 224000, \"Jumlah\": 2}, {\"Harga Setelah Diskon\": 45000, \"Jumlah\": 341}, {\"Harga Setelah Diskon\": 85000, \"Jumlah\": 4370}, {\"Harga Setelah Diskon\": 111000, \"Jumlah\": 74}, {\"Harga Setelah Diskon\": 70000, \"Jumlah\": 17}, {\"Harga Setelah Diskon\": 29000, \"Jumlah\": 453}, {\"Harga Setelah Diskon\": 80275, \"Jumlah\": 9}, {\"Harga Setelah Diskon\": 150000, \"Jumlah\": 16}, {\"Harga Setelah Diskon\": 320000, \"Jumlah\": 2}, {\"Harga Setelah Diskon\": 37500, \"Jumlah\": 96}, {\"Harga Setelah Diskon\": 22000, \"Jumlah\": 22}, {\"Harga Setelah Diskon\": 38000, \"Jumlah\": 11}, {\"Harga Setelah Diskon\": 134500, \"Jumlah\": 1}, {\"Harga Setelah Diskon\": 279000, \"Jumlah\": 25}, {\"Harga Setelah Diskon\": 182500, \"Jumlah\": 1}, {\"Harga Setelah Diskon\": 208000, \"Jumlah\": 7}, {\"Harga Setelah Diskon\": 191250, \"Jumlah\": 28}, {\"Harga Setelah Diskon\": 167500, \"Jumlah\": 5}, {\"Harga Setelah Diskon\": 215000, \"Jumlah\": 176}, {\"Harga Setelah Diskon\": 289000, \"Jumlah\": 18}, {\"Harga Setelah Diskon\": 240000, \"Jumlah\": 31}, {\"Harga Setelah Diskon\": 118000, \"Jumlah\": 3}, {\"Harga Setelah Diskon\": 288000, \"Jumlah\": 13}, {\"Harga Setelah Diskon\": 369000, \"Jumlah\": 99}, {\"Harga Setelah Diskon\": 93500, \"Jumlah\": 10}, {\"Harga Setelah Diskon\": 345000, \"Jumlah\": 3}, {\"Harga Setelah Diskon\": 110000, \"Jumlah\": 76}, {\"Harga Setelah Diskon\": 829000, \"Jumlah\": 3}, {\"Harga Setelah Diskon\": 119000, \"Jumlah\": 347}, {\"Harga Setelah Diskon\": 360000, \"Jumlah\": 3}, {\"Harga Setelah Diskon\": 53000, \"Jumlah\": 5}, {\"Harga Setelah Diskon\": 255000, \"Jumlah\": 35}, {\"Harga Setelah Diskon\": 174000, \"Jumlah\": 26}, {\"Harga Setelah Diskon\": 499000, \"Jumlah\": 6}, {\"Harga Setelah Diskon\": 66993, \"Jumlah\": 6}, {\"Harga Setelah Diskon\": 199000, \"Jumlah\": 23}, {\"Harga Setelah Diskon\": 410000, \"Jumlah\": 7}, {\"Harga Setelah Diskon\": 725000, \"Jumlah\": 2}, {\"Harga Setelah Diskon\": 143000, \"Jumlah\": 2}, {\"Harga Setelah Diskon\": 16900, \"Jumlah\": 3}, {\"Harga Setelah Diskon\": 1250000, \"Jumlah\": 2}, {\"Harga Setelah Diskon\": 54500, \"Jumlah\": 43}, {\"Harga Setelah Diskon\": 135000, \"Jumlah\": 623}, {\"Harga Setelah Diskon\": 344000, \"Jumlah\": 10}, {\"Harga Setelah Diskon\": 239000, \"Jumlah\": 21}, {\"Harga Setelah Diskon\": 93000, \"Jumlah\": 2}, {\"Harga Setelah Diskon\": 425000, \"Jumlah\": 160}, {\"Harga Setelah Diskon\": 264000, \"Jumlah\": 5}, {\"Harga Setelah Diskon\": 190000, \"Jumlah\": 32}, {\"Harga Setelah Diskon\": 595000, \"Jumlah\": 10}, {\"Harga Setelah Diskon\": 125000, \"Jumlah\": 253}, {\"Harga Setelah Diskon\": 140000, \"Jumlah\": 58}, {\"Harga Setelah Diskon\": 109000, \"Jumlah\": 112}, {\"Harga Setelah Diskon\": 625000, \"Jumlah\": 20}, {\"Harga Setelah Diskon\": 374000, \"Jumlah\": 1}, {\"Harga Setelah Diskon\": 35000, \"Jumlah\": 74}, {\"Harga Setelah Diskon\": 214000, \"Jumlah\": 33}, {\"Harga Setelah Diskon\": 42500, \"Jumlah\": 52}, {\"Harga Setelah Diskon\": 164000, \"Jumlah\": 1}, {\"Harga Setelah Diskon\": 480000, \"Jumlah\": 9}, {\"Harga Setelah Diskon\": 408000, \"Jumlah\": 2}, {\"Harga Setelah Diskon\": 310000, \"Jumlah\": 13}, {\"Harga Setelah Diskon\": 278000, \"Jumlah\": 10}, {\"Harga Setelah Diskon\": 20000, \"Jumlah\": 34}, {\"Harga Setelah Diskon\": 545000, \"Jumlah\": 3}, {\"Harga Setelah Diskon\": 399000, \"Jumlah\": 63}, {\"Harga Setelah Diskon\": 230000, \"Jumlah\": 309}, {\"Harga Setelah Diskon\": 229000, \"Jumlah\": 1266}, {\"Harga Setelah Diskon\": 80850, \"Jumlah\": 1}, {\"Harga Setelah Diskon\": 19000, \"Jumlah\": 297}, {\"Harga Setelah Diskon\": 489000, \"Jumlah\": 12}, {\"Harga Setelah Diskon\": 67000, \"Jumlah\": 29}, {\"Harga Setelah Diskon\": 375000, \"Jumlah\": 21}, {\"Harga Setelah Diskon\": 180000, \"Jumlah\": 24}, {\"Harga Setelah Diskon\": 205000, \"Jumlah\": 25}, {\"Harga Setelah Diskon\": 14900, \"Jumlah\": 14}, {\"Harga Setelah Diskon\": 359000, \"Jumlah\": 8}, {\"Harga Setelah Diskon\": 157500, \"Jumlah\": 154}, {\"Harga Setelah Diskon\": 270000, \"Jumlah\": 5}, {\"Harga Setelah Diskon\": 415000, \"Jumlah\": 8}, {\"Harga Setelah Diskon\": 28000, \"Jumlah\": 19}, {\"Harga Setelah Diskon\": 198000, \"Jumlah\": 5}, {\"Harga Setelah Diskon\": 350000, \"Jumlah\": 1}, {\"Harga Setelah Diskon\": 165000, \"Jumlah\": 34}, {\"Harga Setelah Diskon\": 318000, \"Jumlah\": 3}, {\"Harga Setelah Diskon\": 618000, \"Jumlah\": 2}, {\"Harga Setelah Diskon\": 148000, \"Jumlah\": 10}, {\"Harga Setelah Diskon\": 189000, \"Jumlah\": 77}, {\"Harga Setelah Diskon\": 254000, \"Jumlah\": 119}, {\"Harga Setelah Diskon\": 75000, \"Jumlah\": 367}, {\"Harga Setelah Diskon\": 528000, \"Jumlah\": 11}, {\"Harga Setelah Diskon\": 100000, \"Jumlah\": 131}, {\"Harga Setelah Diskon\": 59500, \"Jumlah\": 1}, {\"Harga Setelah Diskon\": 869000, \"Jumlah\": 28}, {\"Harga Setelah Diskon\": 97020, \"Jumlah\": 4}, {\"Harga Setelah Diskon\": 699000, \"Jumlah\": 4}, {\"Harga Setelah Diskon\": 400000, \"Jumlah\": 10}, {\"Harga Setelah Diskon\": 172500, \"Jumlah\": 3}, {\"Harga Setelah Diskon\": 67500, \"Jumlah\": 459}, {\"Harga Setelah Diskon\": 245000, \"Jumlah\": 28}, {\"Harga Setelah Diskon\": 197500, \"Jumlah\": 4}, {\"Harga Setelah Diskon\": 212500, \"Jumlah\": 282}, {\"Harga Setelah Diskon\": 107500, \"Jumlah\": 81}, {\"Harga Setelah Diskon\": 47400, \"Jumlah\": 12}, {\"Harga Setelah Diskon\": 78992, \"Jumlah\": 5}, {\"Harga Setelah Diskon\": 84500, \"Jumlah\": 257}, {\"Harga Setelah Diskon\": 59000, \"Jumlah\": 42}, {\"Harga Setelah Diskon\": 60000, \"Jumlah\": 71}, {\"Harga Setelah Diskon\": 569000, \"Jumlah\": 1}, {\"Harga Setelah Diskon\": 650000, \"Jumlah\": 8}, {\"Harga Setelah Diskon\": 64993, \"Jumlah\": 2}, {\"Harga Setelah Diskon\": 109989, \"Jumlah\": 2}, {\"Harga Setelah Diskon\": 59994, \"Jumlah\": 6}, {\"Harga Setelah Diskon\": 295000, \"Jumlah\": 40}, {\"Harga Setelah Diskon\": 319000, \"Jumlah\": 52}, {\"Harga Setelah Diskon\": 30400, \"Jumlah\": 10}, {\"Harga Setelah Diskon\": 27000, \"Jumlah\": 21}, {\"Harga Setelah Diskon\": 149000, \"Jumlah\": 305}, {\"Harga Setelah Diskon\": 27500, \"Jumlah\": 23}, {\"Harga Setelah Diskon\": 124000, \"Jumlah\": 5}, {\"Harga Setelah Diskon\": 116000, \"Jumlah\": 5}, {\"Harga Setelah Diskon\": 82500, \"Jumlah\": 34}, {\"Harga Setelah Diskon\": 17000, \"Jumlah\": 7}, {\"Harga Setelah Diskon\": 599000, \"Jumlah\": 25}, {\"Harga Setelah Diskon\": 220000, \"Jumlah\": 32}, {\"Harga Setelah Diskon\": 19900, \"Jumlah\": 9}, {\"Harga Setelah Diskon\": 179000, \"Jumlah\": 102}, {\"Harga Setelah Diskon\": 170000, \"Jumlah\": 201}, {\"Harga Setelah Diskon\": 744000, \"Jumlah\": 3}, {\"Harga Setelah Diskon\": 97500, \"Jumlah\": 55}, {\"Harga Setelah Diskon\": 49000, \"Jumlah\": 68}, {\"Harga Setelah Diskon\": 99000, \"Jumlah\": 264}, {\"Harga Setelah Diskon\": 348000, \"Jumlah\": 3}, {\"Harga Setelah Diskon\": 98000, \"Jumlah\": 19}, {\"Harga Setelah Diskon\": 995000, \"Jumlah\": 12}, {\"Harga Setelah Diskon\": 228000, \"Jumlah\": 4}, {\"Harga Setelah Diskon\": 469000, \"Jumlah\": 16}, {\"Harga Setelah Diskon\": 244000, \"Jumlah\": 1}, {\"Harga Setelah Diskon\": 899000, \"Jumlah\": 4}, {\"Harga Setelah Diskon\": 365000, \"Jumlah\": 6}, {\"Harga Setelah Diskon\": 130500, \"Jumlah\": 1}, {\"Harga Setelah Diskon\": 115000, \"Jumlah\": 171}, {\"Harga Setelah Diskon\": 1650000, \"Jumlah\": 4}, {\"Harga Setelah Diskon\": 235000, \"Jumlah\": 477}, {\"Harga Setelah Diskon\": 50000, \"Jumlah\": 332}, {\"Harga Setelah Diskon\": 29400, \"Jumlah\": 9}, {\"Harga Setelah Diskon\": 260000, \"Jumlah\": 106}, {\"Harga Setelah Diskon\": 478000, \"Jumlah\": 10}, {\"Harga Setelah Diskon\": 252500, \"Jumlah\": 1}, {\"Harga Setelah Diskon\": 20400, \"Jumlah\": 14}, {\"Harga Setelah Diskon\": 130000, \"Jumlah\": 37}, {\"Harga Setelah Diskon\": 122000, \"Jumlah\": 5}, {\"Harga Setelah Diskon\": 24500, \"Jumlah\": 181}, {\"Harga Setelah Diskon\": 73000, \"Jumlah\": 17}, {\"Harga Setelah Diskon\": 17500, \"Jumlah\": 21}, {\"Harga Setelah Diskon\": 284000, \"Jumlah\": 558}, {\"Harga Setelah Diskon\": 252000, \"Jumlah\": 5}, {\"Harga Setelah Diskon\": 364000, \"Jumlah\": 10}, {\"Harga Setelah Diskon\": 268000, \"Jumlah\": 21}, {\"Harga Setelah Diskon\": 25000, \"Jumlah\": 23}, {\"Harga Setelah Diskon\": 32500, \"Jumlah\": 159}, {\"Harga Setelah Diskon\": 45400, \"Jumlah\": 6}, {\"Harga Setelah Diskon\": 49500, \"Jumlah\": 6}, {\"Harga Setelah Diskon\": 202500, \"Jumlah\": 120}, {\"Harga Setelah Diskon\": 519000, \"Jumlah\": 39}, {\"Harga Setelah Diskon\": 575000, \"Jumlah\": 2}, {\"Harga Setelah Diskon\": 259000, \"Jumlah\": 11}, {\"Harga Setelah Diskon\": 875000, \"Jumlah\": 1}, {\"Harga Setelah Diskon\": 204000, \"Jumlah\": 21}, {\"Harga Setelah Diskon\": 113050, \"Jumlah\": 4}, {\"Harga Setelah Diskon\": 195000, \"Jumlah\": 14}, {\"Harga Setelah Diskon\": 114000, \"Jumlah\": 67}, {\"Harga Setelah Diskon\": 94990, \"Jumlah\": 8}, {\"Harga Setelah Diskon\": 122500, \"Jumlah\": 5}, {\"Harga Setelah Diskon\": 9000, \"Jumlah\": 76}, {\"Harga Setelah Diskon\": 88991, \"Jumlah\": 2}, {\"Harga Setelah Diskon\": 139000, \"Jumlah\": 52}, {\"Harga Setelah Diskon\": 600000, \"Jumlah\": 13}, {\"Harga Setelah Diskon\": 138000, \"Jumlah\": 5}, {\"Harga Setelah Diskon\": 155000, \"Jumlah\": 678}, {\"Harga Setelah Diskon\": 90000, \"Jumlah\": 131}, {\"Harga Setelah Diskon\": 325000, \"Jumlah\": 108}, {\"Harga Setelah Diskon\": 65000, \"Jumlah\": 187}, {\"Harga Setelah Diskon\": 89000, \"Jumlah\": 182}, {\"Harga Setelah Diskon\": 324000, \"Jumlah\": 14}, {\"Harga Setelah Diskon\": 414000, \"Jumlah\": 1}, {\"Harga Setelah Diskon\": 171500, \"Jumlah\": 5}]}}, {\"mode\": \"vega-lite\"});\n",
       "</script>"
      ],
      "text/plain": [
       "alt.ConcatChart(...)"
      ]
     },
     "execution_count": 254,
     "metadata": {},
     "output_type": "execute_result"
    }
   ],
   "source": [
    "awalrally = ralies.group_by('Harga Awal').agg(pl.col('Jumlah').sum()).plot.scatter(x='Jumlah',y='Harga Awal')\n",
    "modreally = ralies.group_by('Harga Setelah Diskon').agg(pl.col('Jumlah').sum()).plot.scatter(x='Jumlah',y='Harga Setelah Diskon')\n",
    "import altair as alt\n",
    "\n",
    "alt.concat(awalrally,modreally, spacing=5)\n"
   ]
  },
  {
   "cell_type": "code",
   "execution_count": 255,
   "metadata": {},
   "outputs": [
    {
     "data": {
      "text/html": [
       "\n",
       "<style>\n",
       "  #altair-viz-44925451f0ba4c849c0908086c0248b1.vega-embed {\n",
       "    width: 100%;\n",
       "    display: flex;\n",
       "  }\n",
       "\n",
       "  #altair-viz-44925451f0ba4c849c0908086c0248b1.vega-embed details,\n",
       "  #altair-viz-44925451f0ba4c849c0908086c0248b1.vega-embed details summary {\n",
       "    position: relative;\n",
       "  }\n",
       "</style>\n",
       "<div id=\"altair-viz-44925451f0ba4c849c0908086c0248b1\"></div>\n",
       "<script type=\"text/javascript\">\n",
       "  var VEGA_DEBUG = (typeof VEGA_DEBUG == \"undefined\") ? {} : VEGA_DEBUG;\n",
       "  (function(spec, embedOpt){\n",
       "    let outputDiv = document.currentScript.previousElementSibling;\n",
       "    if (outputDiv.id !== \"altair-viz-44925451f0ba4c849c0908086c0248b1\") {\n",
       "      outputDiv = document.getElementById(\"altair-viz-44925451f0ba4c849c0908086c0248b1\");\n",
       "    }\n",
       "\n",
       "    const paths = {\n",
       "      \"vega\": \"https://cdn.jsdelivr.net/npm/vega@5?noext\",\n",
       "      \"vega-lib\": \"https://cdn.jsdelivr.net/npm/vega-lib?noext\",\n",
       "      \"vega-lite\": \"https://cdn.jsdelivr.net/npm/vega-lite@5.20.1?noext\",\n",
       "      \"vega-embed\": \"https://cdn.jsdelivr.net/npm/vega-embed@6?noext\",\n",
       "    };\n",
       "\n",
       "    function maybeLoadScript(lib, version) {\n",
       "      var key = `${lib.replace(\"-\", \"\")}_version`;\n",
       "      return (VEGA_DEBUG[key] == version) ?\n",
       "        Promise.resolve(paths[lib]) :\n",
       "        new Promise(function(resolve, reject) {\n",
       "          var s = document.createElement('script');\n",
       "          document.getElementsByTagName(\"head\")[0].appendChild(s);\n",
       "          s.async = true;\n",
       "          s.onload = () => {\n",
       "            VEGA_DEBUG[key] = version;\n",
       "            return resolve(paths[lib]);\n",
       "          };\n",
       "          s.onerror = () => reject(`Error loading script: ${paths[lib]}`);\n",
       "          s.src = paths[lib];\n",
       "        });\n",
       "    }\n",
       "\n",
       "    function showError(err) {\n",
       "      outputDiv.innerHTML = `<div class=\"error\" style=\"color:red;\">${err}</div>`;\n",
       "      throw err;\n",
       "    }\n",
       "\n",
       "    function displayChart(vegaEmbed) {\n",
       "      vegaEmbed(outputDiv, spec, embedOpt)\n",
       "        .catch(err => showError(`Javascript Error: ${err.message}<br>This usually means there's a typo in your chart specification. See the javascript console for the full traceback.`));\n",
       "    }\n",
       "\n",
       "    if(typeof define === \"function\" && define.amd) {\n",
       "      requirejs.config({paths});\n",
       "      let deps = [\"vega-embed\"];\n",
       "      require(deps, displayChart, err => showError(`Error loading script: ${err.message}`));\n",
       "    } else {\n",
       "      maybeLoadScript(\"vega\", \"5\")\n",
       "        .then(() => maybeLoadScript(\"vega-lite\", \"5.20.1\"))\n",
       "        .then(() => maybeLoadScript(\"vega-embed\", \"6\"))\n",
       "        .catch(showError)\n",
       "        .then(() => displayChart(vegaEmbed));\n",
       "    }\n",
       "  })({\"config\": {\"view\": {\"continuousWidth\": 300, \"continuousHeight\": 300}}, \"concat\": [{\"data\": {\"name\": \"data-9eee655f3c36c989c691122f0d30159c\"}, \"mark\": {\"type\": \"point\", \"tooltip\": true}, \"encoding\": {\"x\": {\"field\": \"Jumlah\", \"type\": \"quantitative\"}, \"y\": {\"field\": \"Harga Awal\", \"type\": \"quantitative\"}}, \"name\": \"view_11\"}, {\"data\": {\"name\": \"data-2c41eb026b5a1f7652a5e14a5f970c93\"}, \"mark\": {\"type\": \"point\", \"tooltip\": true}, \"encoding\": {\"x\": {\"field\": \"Jumlah\", \"type\": \"quantitative\"}, \"y\": {\"field\": \"Harga Setelah Diskon\", \"type\": \"quantitative\"}}, \"name\": \"view_12\"}], \"params\": [{\"name\": \"param_50\", \"select\": {\"type\": \"interval\", \"encodings\": [\"x\", \"y\"]}, \"bind\": \"scales\", \"views\": [\"view_11\"]}, {\"name\": \"param_51\", \"select\": {\"type\": \"interval\", \"encodings\": [\"x\", \"y\"]}, \"bind\": \"scales\", \"views\": [\"view_12\"]}], \"$schema\": \"https://vega.github.io/schema/vega-lite/v5.20.1.json\", \"datasets\": {\"data-9eee655f3c36c989c691122f0d30159c\": [{\"Harga Awal\": 500000, \"Jumlah\": 86}, {\"Harga Awal\": 80000, \"Jumlah\": 12}, {\"Harga Awal\": 435000, \"Jumlah\": 2}, {\"Harga Awal\": 40000, \"Jumlah\": 1229}, {\"Harga Awal\": 145000, \"Jumlah\": 403}, {\"Harga Awal\": 799000, \"Jumlah\": 39}, {\"Harga Awal\": 225000, \"Jumlah\": 101}, {\"Harga Awal\": 87500, \"Jumlah\": 3}, {\"Harga Awal\": 129000, \"Jumlah\": 1626}, {\"Harga Awal\": 55000, \"Jumlah\": 806}, {\"Harga Awal\": 112500, \"Jumlah\": 1}, {\"Harga Awal\": 297500, \"Jumlah\": 2}, {\"Harga Awal\": 184000, \"Jumlah\": 124}, {\"Harga Awal\": 800000, \"Jumlah\": 51}, {\"Harga Awal\": 39000, \"Jumlah\": 200}, {\"Harga Awal\": 105000, \"Jumlah\": 19}, {\"Harga Awal\": 22500, \"Jumlah\": 3}, {\"Harga Awal\": 459000, \"Jumlah\": 16}, {\"Harga Awal\": 379000, \"Jumlah\": 30}, {\"Harga Awal\": 629000, \"Jumlah\": 7}, {\"Harga Awal\": 679000, \"Jumlah\": 7}, {\"Harga Awal\": 249000, \"Jumlah\": 93}, {\"Harga Awal\": 314000, \"Jumlah\": 5}, {\"Harga Awal\": 299000, \"Jumlah\": 157}, {\"Harga Awal\": 298000, \"Jumlah\": 14}, {\"Harga Awal\": 250000, \"Jumlah\": 66}, {\"Harga Awal\": 218000, \"Jumlah\": 12}, {\"Harga Awal\": 185000, \"Jumlah\": 257}, {\"Harga Awal\": 210000, \"Jumlah\": 35}, {\"Harga Awal\": 525000, \"Jumlah\": 21}, {\"Harga Awal\": 290000, \"Jumlah\": 80}, {\"Harga Awal\": 169000, \"Jumlah\": 64}, {\"Harga Awal\": 355000, \"Jumlah\": 11}, {\"Harga Awal\": 95000, \"Jumlah\": 128}, {\"Harga Awal\": 79000, \"Jumlah\": 309}, {\"Harga Awal\": 750000, \"Jumlah\": 17}, {\"Harga Awal\": 768000, \"Jumlah\": 8}, {\"Harga Awal\": 1050000, \"Jumlah\": 21}, {\"Harga Awal\": 258000, \"Jumlah\": 30}, {\"Harga Awal\": 265000, \"Jumlah\": 55}, {\"Harga Awal\": 865000, \"Jumlah\": 13}, {\"Harga Awal\": 670000, \"Jumlah\": 1}, {\"Harga Awal\": 242500, \"Jumlah\": 17}, {\"Harga Awal\": 120000, \"Jumlah\": 116}, {\"Harga Awal\": 395000, \"Jumlah\": 43}, {\"Harga Awal\": 128500, \"Jumlah\": 1}, {\"Harga Awal\": 450000, \"Jumlah\": 10}, {\"Harga Awal\": 490000, \"Jumlah\": 75}, {\"Harga Awal\": 69000, \"Jumlah\": 18}, {\"Harga Awal\": 280000, \"Jumlah\": 153}, {\"Harga Awal\": 119000, \"Jumlah\": 284}, {\"Harga Awal\": 199000, \"Jumlah\": 26}, {\"Harga Awal\": 70000, \"Jumlah\": 3}, {\"Harga Awal\": 29000, \"Jumlah\": 304}, {\"Harga Awal\": 329000, \"Jumlah\": 291}, {\"Harga Awal\": 1250000, \"Jumlah\": 1}, {\"Harga Awal\": 499000, \"Jumlah\": 9}, {\"Harga Awal\": 999000, \"Jumlah\": 1}, {\"Harga Awal\": 208000, \"Jumlah\": 16}, {\"Harga Awal\": 255000, \"Jumlah\": 79}, {\"Harga Awal\": 45000, \"Jumlah\": 342}, {\"Harga Awal\": 595000, \"Jumlah\": 11}, {\"Harga Awal\": 159000, \"Jumlah\": 32}, {\"Harga Awal\": 1655000, \"Jumlah\": 5}, {\"Harga Awal\": 660000, \"Jumlah\": 4}, {\"Harga Awal\": 135000, \"Jumlah\": 311}, {\"Harga Awal\": 239000, \"Jumlah\": 9}, {\"Harga Awal\": 829000, \"Jumlah\": 4}, {\"Harga Awal\": 320000, \"Jumlah\": 2}, {\"Harga Awal\": 369000, \"Jumlah\": 122}, {\"Harga Awal\": 37000, \"Jumlah\": 421}, {\"Harga Awal\": 215000, \"Jumlah\": 45}, {\"Harga Awal\": 264000, \"Jumlah\": 11}, {\"Harga Awal\": 37500, \"Jumlah\": 101}, {\"Harga Awal\": 30000, \"Jumlah\": 337}, {\"Harga Awal\": 200000, \"Jumlah\": 5}, {\"Harga Awal\": 150000, \"Jumlah\": 37}, {\"Harga Awal\": 190000, \"Jumlah\": 31}, {\"Harga Awal\": 77500, \"Jumlah\": 5}, {\"Harga Awal\": 182500, \"Jumlah\": 2}, {\"Harga Awal\": 385000, \"Jumlah\": 2}, {\"Harga Awal\": 289000, \"Jumlah\": 23}, {\"Harga Awal\": 677000, \"Jumlah\": 19}, {\"Harga Awal\": 111000, \"Jumlah\": 78}, {\"Harga Awal\": 224000, \"Jumlah\": 2}, {\"Harga Awal\": 725000, \"Jumlah\": 10}, {\"Harga Awal\": 85000, \"Jumlah\": 1182}, {\"Harga Awal\": 410000, \"Jumlah\": 16}, {\"Harga Awal\": 175000, \"Jumlah\": 1307}, {\"Harga Awal\": 748000, \"Jumlah\": 1}, {\"Harga Awal\": 394000, \"Jumlah\": 24}, {\"Harga Awal\": 240000, \"Jumlah\": 8}, {\"Harga Awal\": 142500, \"Jumlah\": 12}, {\"Harga Awal\": 360000, \"Jumlah\": 2}, {\"Harga Awal\": 110000, \"Jumlah\": 162}, {\"Harga Awal\": 54500, \"Jumlah\": 20}, {\"Harga Awal\": 925000, \"Jumlah\": 202}, {\"Harga Awal\": 229000, \"Jumlah\": 19}, {\"Harga Awal\": 319000, \"Jumlah\": 48}, {\"Harga Awal\": 2720000, \"Jumlah\": 8}, {\"Harga Awal\": 60000, \"Jumlah\": 143}, {\"Harga Awal\": 245000, \"Jumlah\": 22}, {\"Harga Awal\": 489000, \"Jumlah\": 17}, {\"Harga Awal\": 157500, \"Jumlah\": 9}, {\"Harga Awal\": 610000, \"Jumlah\": 4}, {\"Harga Awal\": 35000, \"Jumlah\": 40}, {\"Harga Awal\": 254000, \"Jumlah\": 13}, {\"Harga Awal\": 198000, \"Jumlah\": 35}, {\"Harga Awal\": 165000, \"Jumlah\": 31}, {\"Harga Awal\": 650000, \"Jumlah\": 6}, {\"Harga Awal\": 205000, \"Jumlah\": 2}, {\"Harga Awal\": 212500, \"Jumlah\": 132}, {\"Harga Awal\": 19000, \"Jumlah\": 168}, {\"Harga Awal\": 699000, \"Jumlah\": 72}, {\"Harga Awal\": 75000, \"Jumlah\": 396}, {\"Harga Awal\": 42500, \"Jumlah\": 38}, {\"Harga Awal\": 318000, \"Jumlah\": 26}, {\"Harga Awal\": 310000, \"Jumlah\": 39}, {\"Harga Awal\": 739000, \"Jumlah\": 1}, {\"Harga Awal\": 214000, \"Jumlah\": 35}, {\"Harga Awal\": 125000, \"Jumlah\": 714}, {\"Harga Awal\": 100000, \"Jumlah\": 100}, {\"Harga Awal\": 180000, \"Jumlah\": 4}, {\"Harga Awal\": 560000, \"Jumlah\": 57}, {\"Harga Awal\": 67000, \"Jumlah\": 38}, {\"Harga Awal\": 440000, \"Jumlah\": 3}, {\"Harga Awal\": 20000, \"Jumlah\": 19}, {\"Harga Awal\": 230000, \"Jumlah\": 556}, {\"Harga Awal\": 295000, \"Jumlah\": 46}, {\"Harga Awal\": 67500, \"Jumlah\": 188}, {\"Harga Awal\": 408000, \"Jumlah\": 1}, {\"Harga Awal\": 415000, \"Jumlah\": 37}, {\"Harga Awal\": 92500, \"Jumlah\": 10}, {\"Harga Awal\": 140000, \"Jumlah\": 92}, {\"Harga Awal\": 124000, \"Jumlah\": 17}, {\"Harga Awal\": 400000, \"Jumlah\": 5}, {\"Harga Awal\": 399000, \"Jumlah\": 1}, {\"Harga Awal\": 59000, \"Jumlah\": 139}, {\"Harga Awal\": 189000, \"Jumlah\": 130}, {\"Harga Awal\": 900000, \"Jumlah\": 20}, {\"Harga Awal\": 270000, \"Jumlah\": 7}, {\"Harga Awal\": 359000, \"Jumlah\": 52}, {\"Harga Awal\": 455000, \"Jumlah\": 6}, {\"Harga Awal\": 148500, \"Jumlah\": 9}, {\"Harga Awal\": 375000, \"Jumlah\": 14}, {\"Harga Awal\": 252500, \"Jumlah\": 1}, {\"Harga Awal\": 324000, \"Jumlah\": 6}, {\"Harga Awal\": 89000, \"Jumlah\": 73}, {\"Harga Awal\": 163500, \"Jumlah\": 79}, {\"Harga Awal\": 414000, \"Jumlah\": 1}, {\"Harga Awal\": 875000, \"Jumlah\": 3}, {\"Harga Awal\": 720000, \"Jumlah\": 4}, {\"Harga Awal\": 1650000, \"Jumlah\": 4}, {\"Harga Awal\": 82500, \"Jumlah\": 38}, {\"Harga Awal\": 275000, \"Jumlah\": 4}, {\"Harga Awal\": 49000, \"Jumlah\": 110}, {\"Harga Awal\": 349000, \"Jumlah\": 39}, {\"Harga Awal\": 600000, \"Jumlah\": 4}, {\"Harga Awal\": 25000, \"Jumlah\": 13}, {\"Harga Awal\": 390000, \"Jumlah\": 7}, {\"Harga Awal\": 65000, \"Jumlah\": 127}, {\"Harga Awal\": 380000, \"Jumlah\": 3}, {\"Harga Awal\": 284000, \"Jumlah\": 1}, {\"Harga Awal\": 17000, \"Jumlah\": 6}, {\"Harga Awal\": 115000, \"Jumlah\": 267}, {\"Harga Awal\": 99000, \"Jumlah\": 82}, {\"Harga Awal\": 995000, \"Jumlah\": 10}, {\"Harga Awal\": 220000, \"Jumlah\": 5}, {\"Harga Awal\": 9000, \"Jumlah\": 62}, {\"Harga Awal\": 550000, \"Jumlah\": 12}, {\"Harga Awal\": 138000, \"Jumlah\": 1}, {\"Harga Awal\": 325000, \"Jumlah\": 142}, {\"Harga Awal\": 130000, \"Jumlah\": 4}, {\"Harga Awal\": 32500, \"Jumlah\": 2}, {\"Harga Awal\": 785000, \"Jumlah\": 1}, {\"Harga Awal\": 235000, \"Jumlah\": 434}, {\"Harga Awal\": 24500, \"Jumlah\": 265}, {\"Harga Awal\": 575000, \"Jumlah\": 31}, {\"Harga Awal\": 155000, \"Jumlah\": 168}, {\"Harga Awal\": 170000, \"Jumlah\": 12}, {\"Harga Awal\": 260000, \"Jumlah\": 194}, {\"Harga Awal\": 179000, \"Jumlah\": 29}, {\"Harga Awal\": 364000, \"Jumlah\": 8}, {\"Harga Awal\": 50000, \"Jumlah\": 107}, {\"Harga Awal\": 139000, \"Jumlah\": 67}, {\"Harga Awal\": 899000, \"Jumlah\": 298}, {\"Harga Awal\": 90000, \"Jumlah\": 3236}, {\"Harga Awal\": 655000, \"Jumlah\": 10}, {\"Harga Awal\": 236000, \"Jumlah\": 6}, {\"Harga Awal\": 244000, \"Jumlah\": 2}, {\"Harga Awal\": 770000, \"Jumlah\": 1}, {\"Harga Awal\": 519000, \"Jumlah\": 43}, {\"Harga Awal\": 365000, \"Jumlah\": 6}, {\"Harga Awal\": 469000, \"Jumlah\": 15}, {\"Harga Awal\": 510000, \"Jumlah\": 20}, {\"Harga Awal\": 114000, \"Jumlah\": 115}, {\"Harga Awal\": 204000, \"Jumlah\": 38}, {\"Harga Awal\": 122500, \"Jumlah\": 44}, {\"Harga Awal\": 389000, \"Jumlah\": 284}], \"data-2c41eb026b5a1f7652a5e14a5f970c93\": [{\"Harga Setelah Diskon\": 160000, \"Jumlah\": 3}, {\"Harga Setelah Diskon\": 654000, \"Jumlah\": 1}, {\"Harga Setelah Diskon\": 153000, \"Jumlah\": 2}, {\"Harga Setelah Diskon\": 95000, \"Jumlah\": 159}, {\"Harga Setelah Diskon\": 218000, \"Jumlah\": 12}, {\"Harga Setelah Diskon\": 79000, \"Jumlah\": 335}, {\"Harga Setelah Diskon\": 169000, \"Jumlah\": 64}, {\"Harga Setelah Diskon\": 129000, \"Jumlah\": 1605}, {\"Harga Setelah Diskon\": 485000, \"Jumlah\": 202}, {\"Harga Setelah Diskon\": 265000, \"Jumlah\": 7}, {\"Harga Setelah Diskon\": 80000, \"Jumlah\": 1}, {\"Harga Setelah Diskon\": 145000, \"Jumlah\": 442}, {\"Harga Setelah Diskon\": 120000, \"Jumlah\": 114}, {\"Harga Setelah Diskon\": 113000, \"Jumlah\": 2}, {\"Harga Setelah Diskon\": 105000, \"Jumlah\": 19}, {\"Harga Setelah Diskon\": 1350000, \"Jumlah\": 8}, {\"Harga Setelah Diskon\": 249500, \"Jumlah\": 2}, {\"Harga Setelah Diskon\": 395000, \"Jumlah\": 47}, {\"Harga Setelah Diskon\": 23500, \"Jumlah\": 16}, {\"Harga Setelah Diskon\": 64125, \"Jumlah\": 2}, {\"Harga Setelah Diskon\": 47500, \"Jumlah\": 1}, {\"Harga Setelah Diskon\": 40000, \"Jumlah\": 1214}, {\"Harga Setelah Diskon\": 27400, \"Jumlah\": 32}, {\"Harga Setelah Diskon\": 1050000, \"Jumlah\": 21}, {\"Harga Setelah Diskon\": 299000, \"Jumlah\": 10}, {\"Harga Setelah Diskon\": 209000, \"Jumlah\": 94}, {\"Harga Setelah Diskon\": 98900, \"Jumlah\": 9}, {\"Harga Setelah Diskon\": 435000, \"Jumlah\": 2}, {\"Harga Setelah Diskon\": 379000, \"Jumlah\": 18}, {\"Harga Setelah Diskon\": 250000, \"Jumlah\": 59}, {\"Harga Setelah Diskon\": 184000, \"Jumlah\": 144}, {\"Harga Setelah Diskon\": 1429000, \"Jumlah\": 5}, {\"Harga Setelah Diskon\": 39000, \"Jumlah\": 185}, {\"Harga Setelah Diskon\": 22500, \"Jumlah\": 13}, {\"Harga Setelah Diskon\": 574000, \"Jumlah\": 1}, {\"Harga Setelah Diskon\": 225000, \"Jumlah\": 69}, {\"Harga Setelah Diskon\": 242500, \"Jumlah\": 17}, {\"Harga Setelah Diskon\": 629000, \"Jumlah\": 7}, {\"Harga Setelah Diskon\": 525000, \"Jumlah\": 13}, {\"Harga Setelah Diskon\": 18900, \"Jumlah\": 94}, {\"Harga Setelah Diskon\": 34400, \"Jumlah\": 178}, {\"Harga Setelah Diskon\": 55000, \"Jumlah\": 751}, {\"Harga Setelah Diskon\": 94050, \"Jumlah\": 1}, {\"Harga Setelah Diskon\": 314000, \"Jumlah\": 5}, {\"Harga Setelah Diskon\": 249000, \"Jumlah\": 49}, {\"Harga Setelah Diskon\": 339000, \"Jumlah\": 4}, {\"Harga Setelah Diskon\": 17900, \"Jumlah\": 9}, {\"Harga Setelah Diskon\": 210000, \"Jumlah\": 38}, {\"Harga Setelah Diskon\": 185000, \"Jumlah\": 294}, {\"Harga Setelah Diskon\": 290000, \"Jumlah\": 9}, {\"Harga Setelah Diskon\": 38000, \"Jumlah\": 4}, {\"Harga Setelah Diskon\": 289000, \"Jumlah\": 23}, {\"Harga Setelah Diskon\": 29000, \"Jumlah\": 392}, {\"Harga Setelah Diskon\": 215000, \"Jumlah\": 67}, {\"Harga Setelah Diskon\": 37500, \"Jumlah\": 101}, {\"Harga Setelah Diskon\": 320000, \"Jumlah\": 2}, {\"Harga Setelah Diskon\": 280000, \"Jumlah\": 103}, {\"Harga Setelah Diskon\": 555000, \"Jumlah\": 17}, {\"Harga Setelah Diskon\": 360050, \"Jumlah\": 2}, {\"Harga Setelah Diskon\": 93000, \"Jumlah\": 3}, {\"Harga Setelah Diskon\": 240000, \"Jumlah\": 8}, {\"Harga Setelah Diskon\": 49400, \"Jumlah\": 29}, {\"Harga Setelah Diskon\": 33400, \"Jumlah\": 25}, {\"Harga Setelah Diskon\": 64900, \"Jumlah\": 138}, {\"Harga Setelah Diskon\": 45000, \"Jumlah\": 339}, {\"Harga Setelah Diskon\": 725000, \"Jumlah\": 10}, {\"Harga Setelah Diskon\": 474000, \"Jumlah\": 31}, {\"Harga Setelah Diskon\": 150000, \"Jumlah\": 12}, {\"Harga Setelah Diskon\": 159000, \"Jumlah\": 71}, {\"Harga Setelah Diskon\": 394000, \"Jumlah\": 24}, {\"Harga Setelah Diskon\": 239000, \"Jumlah\": 9}, {\"Harga Setelah Diskon\": 595000, \"Jumlah\": 10}, {\"Harga Setelah Diskon\": 190000, \"Jumlah\": 37}, {\"Harga Setelah Diskon\": 224000, \"Jumlah\": 2}, {\"Harga Setelah Diskon\": 490000, \"Jumlah\": 68}, {\"Harga Setelah Diskon\": 279000, \"Jumlah\": 13}, {\"Harga Setelah Diskon\": 69000, \"Jumlah\": 26}, {\"Harga Setelah Diskon\": 30000, \"Jumlah\": 304}, {\"Harga Setelah Diskon\": 77500, \"Jumlah\": 5}, {\"Harga Setelah Diskon\": 37000, \"Jumlah\": 321}, {\"Harga Setelah Diskon\": 199000, \"Jumlah\": 28}, {\"Harga Setelah Diskon\": 425000, \"Jumlah\": 263}, {\"Harga Setelah Diskon\": 410000, \"Jumlah\": 16}, {\"Harga Setelah Diskon\": 360000, \"Jumlah\": 2}, {\"Harga Setelah Diskon\": 174000, \"Jumlah\": 28}, {\"Harga Setelah Diskon\": 135000, \"Jumlah\": 266}, {\"Harga Setelah Diskon\": 208000, \"Jumlah\": 16}, {\"Harga Setelah Diskon\": 111000, \"Jumlah\": 78}, {\"Harga Setelah Diskon\": 829000, \"Jumlah\": 4}, {\"Harga Setelah Diskon\": 110000, \"Jumlah\": 101}, {\"Harga Setelah Diskon\": 499000, \"Jumlah\": 9}, {\"Harga Setelah Diskon\": 80275, \"Jumlah\": 8}, {\"Harga Setelah Diskon\": 85000, \"Jumlah\": 4083}, {\"Harga Setelah Diskon\": 118000, \"Jumlah\": 9}, {\"Harga Setelah Diskon\": 264000, \"Jumlah\": 11}, {\"Harga Setelah Diskon\": 54500, \"Jumlah\": 20}, {\"Harga Setelah Diskon\": 32400, \"Jumlah\": 8}, {\"Harga Setelah Diskon\": 182500, \"Jumlah\": 2}, {\"Harga Setelah Diskon\": 329000, \"Jumlah\": 291}, {\"Harga Setelah Diskon\": 149625, \"Jumlah\": 1}, {\"Harga Setelah Diskon\": 73900, \"Jumlah\": 41}, {\"Harga Setelah Diskon\": 1250000, \"Jumlah\": 1}, {\"Harga Setelah Diskon\": 119000, \"Jumlah\": 345}, {\"Harga Setelah Diskon\": 24400, \"Jumlah\": 5}, {\"Harga Setelah Diskon\": 16900, \"Jumlah\": 19}, {\"Harga Setelah Diskon\": 255000, \"Jumlah\": 34}, {\"Harga Setelah Diskon\": 70000, \"Jumlah\": 4}, {\"Harga Setelah Diskon\": 369000, \"Jumlah\": 89}, {\"Harga Setelah Diskon\": 175000, \"Jumlah\": 1202}, {\"Harga Setelah Diskon\": 489000, \"Jumlah\": 17}, {\"Harga Setelah Diskon\": 270000, \"Jumlah\": 7}, {\"Harga Setelah Diskon\": 27500, \"Jumlah\": 2}, {\"Harga Setelah Diskon\": 75050, \"Jumlah\": 1}, {\"Harga Setelah Diskon\": 173000, \"Jumlah\": 11}, {\"Harga Setelah Diskon\": 528000, \"Jumlah\": 1}, {\"Harga Setelah Diskon\": 20000, \"Jumlah\": 37}, {\"Harga Setelah Diskon\": 27000, \"Jumlah\": 20}, {\"Harga Setelah Diskon\": 408000, \"Jumlah\": 1}, {\"Harga Setelah Diskon\": 254000, \"Jumlah\": 13}, {\"Harga Setelah Diskon\": 157500, \"Jumlah\": 122}, {\"Harga Setelah Diskon\": 60000, \"Jumlah\": 111}, {\"Harga Setelah Diskon\": 245000, \"Jumlah\": 15}, {\"Harga Setelah Diskon\": 374000, \"Jumlah\": 1}, {\"Harga Setelah Diskon\": 310000, \"Jumlah\": 19}, {\"Harga Setelah Diskon\": 67500, \"Jumlah\": 186}, {\"Harga Setelah Diskon\": 375000, \"Jumlah\": 31}, {\"Harga Setelah Diskon\": 84500, \"Jumlah\": 274}, {\"Harga Setelah Diskon\": 75000, \"Jumlah\": 376}, {\"Harga Setelah Diskon\": 230000, \"Jumlah\": 573}, {\"Harga Setelah Diskon\": 47400, \"Jumlah\": 22}, {\"Harga Setelah Diskon\": 35000, \"Jumlah\": 81}, {\"Harga Setelah Diskon\": 359000, \"Jumlah\": 11}, {\"Harga Setelah Diskon\": 212500, \"Jumlah\": 132}, {\"Harga Setelah Diskon\": 400000, \"Jumlah\": 19}, {\"Harga Setelah Diskon\": 42500, \"Jumlah\": 54}, {\"Harga Setelah Diskon\": 52500, \"Jumlah\": 2}, {\"Harga Setelah Diskon\": 148000, \"Jumlah\": 3}, {\"Harga Setelah Diskon\": 198000, \"Jumlah\": 19}, {\"Harga Setelah Diskon\": 109000, \"Jumlah\": 108}, {\"Harga Setelah Diskon\": 399000, \"Jumlah\": 56}, {\"Harga Setelah Diskon\": 214000, \"Jumlah\": 35}, {\"Harga Setelah Diskon\": 205000, \"Jumlah\": 30}, {\"Harga Setelah Diskon\": 31400, \"Jumlah\": 52}, {\"Harga Setelah Diskon\": 650000, \"Jumlah\": 6}, {\"Harga Setelah Diskon\": 83000, \"Jumlah\": 2}, {\"Harga Setelah Diskon\": 610000, \"Jumlah\": 1}, {\"Harga Setelah Diskon\": 869000, \"Jumlah\": 20}, {\"Harga Setelah Diskon\": 179550, \"Jumlah\": 2}, {\"Harga Setelah Diskon\": 189000, \"Jumlah\": 118}, {\"Harga Setelah Diskon\": 14900, \"Jumlah\": 14}, {\"Harga Setelah Diskon\": 319000, \"Jumlah\": 81}, {\"Harga Setelah Diskon\": 415000, \"Jumlah\": 19}, {\"Harga Setelah Diskon\": 699000, \"Jumlah\": 27}, {\"Harga Setelah Diskon\": 140000, \"Jumlah\": 92}, {\"Harga Setelah Diskon\": 22400, \"Jumlah\": 13}, {\"Harga Setelah Diskon\": 100000, \"Jumlah\": 100}, {\"Harga Setelah Diskon\": 67000, \"Jumlah\": 30}, {\"Harga Setelah Diskon\": 125000, \"Jumlah\": 579}, {\"Harga Setelah Diskon\": 229000, \"Jumlah\": 19}, {\"Harga Setelah Diskon\": 59000, \"Jumlah\": 38}, {\"Harga Setelah Diskon\": 19000, \"Jumlah\": 308}, {\"Harga Setelah Diskon\": 165000, \"Jumlah\": 33}, {\"Harga Setelah Diskon\": 318000, \"Jumlah\": 26}, {\"Harga Setelah Diskon\": 30400, \"Jumlah\": 5}, {\"Harga Setelah Diskon\": 295000, \"Jumlah\": 46}, {\"Harga Setelah Diskon\": 180000, \"Jumlah\": 14}, {\"Harga Setelah Diskon\": 124000, \"Jumlah\": 17}, {\"Harga Setelah Diskon\": 244000, \"Jumlah\": 2}, {\"Harga Setelah Diskon\": 170000, \"Jumlah\": 68}, {\"Harga Setelah Diskon\": 90000, \"Jumlah\": 104}, {\"Harga Setelah Diskon\": 600000, \"Jumlah\": 4}, {\"Harga Setelah Diskon\": 25000, \"Jumlah\": 20}, {\"Harga Setelah Diskon\": 259000, \"Jumlah\": 19}, {\"Harga Setelah Diskon\": 1650000, \"Jumlah\": 4}, {\"Harga Setelah Diskon\": 49000, \"Jumlah\": 123}, {\"Harga Setelah Diskon\": 519000, \"Jumlah\": 43}, {\"Harga Setelah Diskon\": 155000, \"Jumlah\": 34}, {\"Harga Setelah Diskon\": 65000, \"Jumlah\": 151}, {\"Harga Setelah Diskon\": 130000, \"Jumlah\": 30}, {\"Harga Setelah Diskon\": 122500, \"Jumlah\": 44}, {\"Harga Setelah Diskon\": 995000, \"Jumlah\": 10}, {\"Harga Setelah Diskon\": 113050, \"Jumlah\": 11}, {\"Harga Setelah Diskon\": 599000, \"Jumlah\": 15}, {\"Harga Setelah Diskon\": 348000, \"Jumlah\": 4}, {\"Harga Setelah Diskon\": 24500, \"Jumlah\": 122}, {\"Harga Setelah Diskon\": 114000, \"Jumlah\": 115}, {\"Harga Setelah Diskon\": 195000, \"Jumlah\": 13}, {\"Harga Setelah Diskon\": 16500, \"Jumlah\": 3}, {\"Harga Setelah Diskon\": 414000, \"Jumlah\": 3}, {\"Harga Setelah Diskon\": 325000, \"Jumlah\": 123}, {\"Harga Setelah Diskon\": 139000, \"Jumlah\": 67}, {\"Harga Setelah Diskon\": 875000, \"Jumlah\": 3}, {\"Harga Setelah Diskon\": 364000, \"Jumlah\": 8}, {\"Harga Setelah Diskon\": 179000, \"Jumlah\": 19}, {\"Harga Setelah Diskon\": 17000, \"Jumlah\": 6}, {\"Harga Setelah Diskon\": 89000, \"Jumlah\": 199}, {\"Harga Setelah Diskon\": 99000, \"Jumlah\": 229}, {\"Harga Setelah Diskon\": 115000, \"Jumlah\": 167}, {\"Harga Setelah Diskon\": 365000, \"Jumlah\": 6}, {\"Harga Setelah Diskon\": 11900, \"Jumlah\": 7}, {\"Harga Setelah Diskon\": 324000, \"Jumlah\": 6}, {\"Harga Setelah Diskon\": 235000, \"Jumlah\": 479}, {\"Harga Setelah Diskon\": 98000, \"Jumlah\": 19}, {\"Harga Setelah Diskon\": 50000, \"Jumlah\": 34}, {\"Harga Setelah Diskon\": 479000, \"Jumlah\": 1}, {\"Harga Setelah Diskon\": 73000, \"Jumlah\": 20}, {\"Harga Setelah Diskon\": 82500, \"Jumlah\": 38}, {\"Harga Setelah Diskon\": 45400, \"Jumlah\": 17}, {\"Harga Setelah Diskon\": 469000, \"Jumlah\": 13}, {\"Harga Setelah Diskon\": 137750, \"Jumlah\": 1}, {\"Harga Setelah Diskon\": 29400, \"Jumlah\": 2}, {\"Harga Setelah Diskon\": 9000, \"Jumlah\": 62}, {\"Harga Setelah Diskon\": 478000, \"Jumlah\": 2}, {\"Harga Setelah Diskon\": 260000, \"Jumlah\": 204}, {\"Harga Setelah Diskon\": 899000, \"Jumlah\": 2}, {\"Harga Setelah Diskon\": 252500, \"Jumlah\": 1}, {\"Harga Setelah Diskon\": 60900, \"Jumlah\": 3}, {\"Harga Setelah Diskon\": 31365, \"Jumlah\": 25}, {\"Harga Setelah Diskon\": 20400, \"Jumlah\": 16}, {\"Harga Setelah Diskon\": 204000, \"Jumlah\": 96}, {\"Harga Setelah Diskon\": 284000, \"Jumlah\": 1}, {\"Harga Setelah Diskon\": 32500, \"Jumlah\": 121}, {\"Harga Setelah Diskon\": 108900, \"Jumlah\": 71}]}}, {\"mode\": \"vega-lite\"});\n",
       "</script>"
      ],
      "text/plain": [
       "alt.ConcatChart(...)"
      ]
     },
     "execution_count": 255,
     "metadata": {},
     "output_type": "execute_result"
    }
   ],
   "source": [
    "awalslow = slowsdown.group_by('Harga Awal').agg(pl.col('Jumlah').sum()).plot.scatter(x='Jumlah',y='Harga Awal')\n",
    "modslow = slowsdown.group_by('Harga Setelah Diskon').agg(pl.col('Jumlah').sum()).plot.scatter(x='Jumlah',y='Harga Setelah Diskon')\n",
    "\n",
    "alt.concat(awalslow,modslow)"
   ]
  },
  {
   "cell_type": "markdown",
   "metadata": {},
   "source": [
    "### insight investigate\n",
    "\n",
    "both period either rallies and slowingdown period harga awal doesnt the cause that 2 period happen"
   ]
  },
  {
   "cell_type": "markdown",
   "metadata": {},
   "source": [
    "### deep dive on how big the discount is"
   ]
  },
  {
   "cell_type": "code",
   "execution_count": 256,
   "metadata": {},
   "outputs": [],
   "source": [
    "# .plot.scatter(y='Harga Awal',x='Jumlah',color='pct_discount',size='total no dup')\n",
    "# .plot.scatter(y='Harga Awal',x='Jumlah',color='pct_discount',size='total no dup')"
   ]
  },
  {
   "cell_type": "code",
   "execution_count": 257,
   "metadata": {},
   "outputs": [
    {
     "data": {
      "text/html": [
       "<div><style>\n",
       ".dataframe > thead > tr,\n",
       ".dataframe > tbody > tr {\n",
       "  text-align: right;\n",
       "  white-space: pre-wrap;\n",
       "}\n",
       "</style>\n",
       "<small>shape: (3, 55)</small><table border=\"1\" class=\"dataframe\"><thead><tr><th>No. Pesanan</th><th>Status Pesanan</th><th>Alasan Pembatalan</th><th>Status Pembatalan/ Pengembalian</th><th>No. Resi</th><th>Opsi Pengiriman</th><th>Antar ke counter/ pick-up</th><th>Pesanan Harus Dikirimkan Sebelum (Menghindari keterlambatan)</th><th>Waktu Pengiriman Diatur</th><th>Waktu Pesanan Dibuat</th><th>Waktu Pembayaran Dilakukan</th><th>Metode Pembayaran</th><th>SKU Induk</th><th>Nama Produk</th><th>Nomor Referensi SKU</th><th>Nama Variasi</th><th>Harga Awal</th><th>Harga Setelah Diskon</th><th>Jumlah</th><th>Returned quantity</th><th>Total Harga Produk</th><th>Total Diskon</th><th>Diskon Dari Penjual</th><th>Diskon Dari Shopee</th><th>Berat Produk</th><th>Jumlah Produk di Pesan</th><th>Total Berat</th><th>Voucher Ditanggung Penjual</th><th>ditanggung penjual no dup</th><th>Cashback Koin</th><th>Voucher Ditanggung Shopee</th><th>Paket Diskon</th><th>Paket Diskon (Diskon dari Shopee)</th><th>Paket Diskon (Diskon dari Penjual)</th><th>Potongan Koin Shopee</th><th>Diskon Kartu Kredit</th><th>Ongkos Kirim Dibayar oleh Pembeli</th><th>Estimasi Potongan Biaya Pengiriman</th><th>Ongkos Kirim Pengembalian Barang</th><th>Total Pembayaran</th><th>total no dup</th><th>Perkiraan Ongkos Kirim</th><th>Catatan dari Pembeli</th><th>Catatan</th><th>Username (Pembeli)</th><th>Nama Penerima</th><th>No. Telepon</th><th>Alamat Pengiriman</th><th>Kota/Kabupaten</th><th>Provinsi</th><th>Waktu Pesanan Selesai</th><th>source</th><th>Group_date</th><th>month_days</th><th>week_of_q4</th></tr><tr><td>str</td><td>str</td><td>str</td><td>null</td><td>str</td><td>str</td><td>str</td><td>datetime[ms]</td><td>datetime[ms]</td><td>datetime[ms]</td><td>datetime[ms]</td><td>str</td><td>null</td><td>str</td><td>str</td><td>str</td><td>i64</td><td>i64</td><td>i64</td><td>i64</td><td>i64</td><td>i64</td><td>i64</td><td>i64</td><td>str</td><td>i64</td><td>str</td><td>i64</td><td>i64</td><td>i64</td><td>i64</td><td>str</td><td>i64</td><td>i64</td><td>i64</td><td>i64</td><td>i64</td><td>i64</td><td>i64</td><td>i64</td><td>i64</td><td>i64</td><td>null</td><td>null</td><td>str</td><td>str</td><td>str</td><td>str</td><td>str</td><td>str</td><td>datetime[ms]</td><td>str</td><td>str</td><td>str</td><td>i8</td></tr></thead><tbody><tr><td>&quot;241005R9V7WERX&quot;</td><td>&quot;Selesai&quot;</td><td>null</td><td>null</td><td>&quot;SPXID04868352221A&quot;</td><td>&quot;Reguler&nbsp;(Cashless)-SPX&nbsp;Standar…</td><td>&quot;Antar&nbsp;ke&nbsp;Counter&quot;</td><td>2024-10-07&nbsp;23:59:00</td><td>2024-10-07&nbsp;18:46:00</td><td>2024-10-05&nbsp;20:47:00</td><td>2024-10-05&nbsp;20:47:00</td><td>&quot;COD&nbsp;(Bayar&nbsp;di&nbsp;Tempat)&quot;</td><td>null</td><td>&quot;UGREEN&nbsp;Mouse&nbsp;pad&nbsp;Gaming&nbsp;PU&nbsp;Lea…</td><td>&quot;90563-90855&quot;</td><td>&quot;90563+Mouse&nbsp;BT&quot;</td><td>197500</td><td>197500</td><td>1</td><td>0</td><td>197500</td><td>0</td><td>0</td><td>0</td><td>&quot;200&nbsp;gr&quot;</td><td>3</td><td>&quot;500&nbsp;gr&quot;</td><td>0</td><td>0</td><td>0</td><td>40000</td><td>&quot;N&quot;</td><td>0</td><td>0</td><td>0</td><td>0</td><td>0</td><td>61999</td><td>0</td><td>257568</td><td>257568</td><td>61999</td><td>null</td><td>null</td><td>&quot;m.yussril&quot;</td><td>&quot;M******l&quot;</td><td>&quot;******16&quot;</td><td>&quot;Toko&nbsp;NN&nbsp;tex,&nbsp;Jalan&nbsp;Jalan&nbsp;Medan…</td><td>&quot;KAB.&nbsp;BIREUEN&quot;</td><td>&quot;NANGGROE&nbsp;ACEH&nbsp;DARUSSALAM&nbsp;(NAD)&quot;</td><td>2024-10-12&nbsp;00:35:00</td><td>&quot;10_2024-oct&nbsp;(2).xlsx&quot;</td><td>&quot;2024-10-05&quot;</td><td>&quot;10-05&quot;</td><td>40</td></tr><tr><td>&quot;241005R9V7WERX&quot;</td><td>&quot;Selesai&quot;</td><td>null</td><td>null</td><td>&quot;SPXID04868352221A&quot;</td><td>&quot;Reguler&nbsp;(Cashless)-SPX&nbsp;Standar…</td><td>&quot;Antar&nbsp;ke&nbsp;Counter&quot;</td><td>2024-10-07&nbsp;23:59:00</td><td>2024-10-07&nbsp;18:46:00</td><td>2024-10-05&nbsp;20:47:00</td><td>2024-10-05&nbsp;20:47:00</td><td>&quot;COD&nbsp;(Bayar&nbsp;di&nbsp;Tempat)&quot;</td><td>null</td><td>&quot;UGREEN&nbsp;OTG&nbsp;Type&nbsp;C&nbsp;To&nbsp;USB&nbsp;3.0&nbsp;C…</td><td>&quot;50283&quot;</td><td>&quot;UGREEN&nbsp;50283&quot;</td><td>40000</td><td>40000</td><td>1</td><td>0</td><td>40000</td><td>0</td><td>0</td><td>0</td><td>&quot;200&nbsp;gr&quot;</td><td>3</td><td>&quot;500&nbsp;gr&quot;</td><td>0</td><td>0</td><td>0</td><td>40000</td><td>&quot;N&quot;</td><td>0</td><td>0</td><td>0</td><td>0</td><td>0</td><td>61999</td><td>0</td><td>257568</td><td>0</td><td>61999</td><td>null</td><td>null</td><td>&quot;m.yussril&quot;</td><td>&quot;M******l&quot;</td><td>&quot;******16&quot;</td><td>&quot;Toko&nbsp;NN&nbsp;tex,&nbsp;Jalan&nbsp;Jalan&nbsp;Medan…</td><td>&quot;KAB.&nbsp;BIREUEN&quot;</td><td>&quot;NANGGROE&nbsp;ACEH&nbsp;DARUSSALAM&nbsp;(NAD)&quot;</td><td>2024-10-12&nbsp;00:35:00</td><td>&quot;10_2024-oct&nbsp;(2).xlsx&quot;</td><td>&quot;2024-10-05&quot;</td><td>&quot;10-05&quot;</td><td>40</td></tr><tr><td>&quot;241005R9V7WERX&quot;</td><td>&quot;Selesai&quot;</td><td>null</td><td>null</td><td>&quot;SPXID04868352221A&quot;</td><td>&quot;Reguler&nbsp;(Cashless)-SPX&nbsp;Standar…</td><td>&quot;Antar&nbsp;ke&nbsp;Counter&quot;</td><td>2024-10-07&nbsp;23:59:00</td><td>2024-10-07&nbsp;18:46:00</td><td>2024-10-05&nbsp;20:47:00</td><td>2024-10-05&nbsp;20:47:00</td><td>&quot;COD&nbsp;(Bayar&nbsp;di&nbsp;Tempat)&quot;</td><td>null</td><td>&quot;UGREEN&nbsp;Converter&nbsp;Adapter&nbsp;Mini&nbsp;…</td><td>&quot;20137&quot;</td><td>&quot;UGREEN&nbsp;20137&quot;</td><td>175000</td><td>47500</td><td>1</td><td>0</td><td>47500</td><td>127500</td><td>127500</td><td>0</td><td>&quot;100&nbsp;gr&quot;</td><td>3</td><td>&quot;500&nbsp;gr&quot;</td><td>0</td><td>0</td><td>0</td><td>40000</td><td>&quot;N&quot;</td><td>0</td><td>0</td><td>0</td><td>0</td><td>0</td><td>61999</td><td>0</td><td>257568</td><td>0</td><td>61999</td><td>null</td><td>null</td><td>&quot;m.yussril&quot;</td><td>&quot;M******l&quot;</td><td>&quot;******16&quot;</td><td>&quot;Toko&nbsp;NN&nbsp;tex,&nbsp;Jalan&nbsp;Jalan&nbsp;Medan…</td><td>&quot;KAB.&nbsp;BIREUEN&quot;</td><td>&quot;NANGGROE&nbsp;ACEH&nbsp;DARUSSALAM&nbsp;(NAD)&quot;</td><td>2024-10-12&nbsp;00:35:00</td><td>&quot;10_2024-oct&nbsp;(2).xlsx&quot;</td><td>&quot;2024-10-05&quot;</td><td>&quot;10-05&quot;</td><td>40</td></tr></tbody></table></div>"
      ],
      "text/plain": [
       "shape: (3, 55)\n",
       "┌───────────┬───────────┬───────────┬───────────┬───┬───────────┬───────────┬───────────┬──────────┐\n",
       "│ No.       ┆ Status    ┆ Alasan    ┆ Status    ┆ … ┆ source    ┆ Group_dat ┆ month_day ┆ week_of_ │\n",
       "│ Pesanan   ┆ Pesanan   ┆ Pembatala ┆ Pembatala ┆   ┆ ---       ┆ e         ┆ s         ┆ q4       │\n",
       "│ ---       ┆ ---       ┆ n         ┆ n/ Pengem ┆   ┆ str       ┆ ---       ┆ ---       ┆ ---      │\n",
       "│ str       ┆ str       ┆ ---       ┆ balia…    ┆   ┆           ┆ str       ┆ str       ┆ i8       │\n",
       "│           ┆           ┆ str       ┆ ---       ┆   ┆           ┆           ┆           ┆          │\n",
       "│           ┆           ┆           ┆ null      ┆   ┆           ┆           ┆           ┆          │\n",
       "╞═══════════╪═══════════╪═══════════╪═══════════╪═══╪═══════════╪═══════════╪═══════════╪══════════╡\n",
       "│ 241005R9V ┆ Selesai   ┆ null      ┆ null      ┆ … ┆ 10_2024-o ┆ 2024-10-0 ┆ 10-05     ┆ 40       │\n",
       "│ 7WERX     ┆           ┆           ┆           ┆   ┆ ct        ┆ 5         ┆           ┆          │\n",
       "│           ┆           ┆           ┆           ┆   ┆ (2).xlsx  ┆           ┆           ┆          │\n",
       "│ 241005R9V ┆ Selesai   ┆ null      ┆ null      ┆ … ┆ 10_2024-o ┆ 2024-10-0 ┆ 10-05     ┆ 40       │\n",
       "│ 7WERX     ┆           ┆           ┆           ┆   ┆ ct        ┆ 5         ┆           ┆          │\n",
       "│           ┆           ┆           ┆           ┆   ┆ (2).xlsx  ┆           ┆           ┆          │\n",
       "│ 241005R9V ┆ Selesai   ┆ null      ┆ null      ┆ … ┆ 10_2024-o ┆ 2024-10-0 ┆ 10-05     ┆ 40       │\n",
       "│ 7WERX     ┆           ┆           ┆           ┆   ┆ ct        ┆ 5         ┆           ┆          │\n",
       "│           ┆           ┆           ┆           ┆   ┆ (2).xlsx  ┆           ┆           ┆          │\n",
       "└───────────┴───────────┴───────────┴───────────┴───┴───────────┴───────────┴───────────┴──────────┘"
      ]
     },
     "execution_count": 257,
     "metadata": {},
     "output_type": "execute_result"
    }
   ],
   "source": [
    "groupdate.filter(pl.col('No. Pesanan')=='241005R9V7WERX')"
   ]
  }
 ],
 "metadata": {
  "kernelspec": {
   "display_name": "base",
   "language": "python",
   "name": "python3"
  },
  "language_info": {
   "codemirror_mode": {
    "name": "ipython",
    "version": 3
   },
   "file_extension": ".py",
   "mimetype": "text/x-python",
   "name": "python",
   "nbconvert_exporter": "python",
   "pygments_lexer": "ipython3",
   "version": "3.12.3"
  }
 },
 "nbformat": 4,
 "nbformat_minor": 2
}
