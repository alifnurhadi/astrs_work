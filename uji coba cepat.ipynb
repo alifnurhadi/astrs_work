{
 "cells": [
  {
   "cell_type": "code",
   "execution_count": 5,
   "metadata": {},
   "outputs": [],
   "source": [
    "import polars as pl"
   ]
  },
  {
   "cell_type": "markdown",
   "metadata": {},
   "source": [
    "# start uji coba menghapus duplikat di no pesanan yang sama"
   ]
  },
  {
   "cell_type": "code",
   "execution_count": 6,
   "metadata": {},
   "outputs": [],
   "source": [
    "# q32024 = pl.read_parquet('og_jul_oct.parquet')\n",
    "# q32024.write_excel('explore.xlsx')"
   ]
  },
  {
   "cell_type": "code",
   "execution_count": 7,
   "metadata": {},
   "outputs": [],
   "source": [
    "explore = pl.read_excel('explore.xlsx',engine='calamine')"
   ]
  },
  {
   "cell_type": "code",
   "execution_count": 8,
   "metadata": {},
   "outputs": [
    {
     "data": {
      "text/plain": [
       "polars.config.Config"
      ]
     },
     "execution_count": 8,
     "metadata": {},
     "output_type": "execute_result"
    }
   ],
   "source": [
    "pl.Config.set_tbl_rows(35)"
   ]
  },
  {
   "cell_type": "code",
   "execution_count": 15,
   "metadata": {},
   "outputs": [],
   "source": [
    "quartal32024 = '9_2024-sep|8_2024-aug|7_2024-july'\n",
    "quartal42024 = '10_2024-oct'"
   ]
  },
  {
   "cell_type": "code",
   "execution_count": 16,
   "metadata": {},
   "outputs": [],
   "source": [
    "q4explore = explore.filter([(pl.col('source').str.contains(pattern=quartal42024)),\n",
    "                            pl.col('Status Pesanan')!='Batal'])"
   ]
  },
  {
   "cell_type": "code",
   "execution_count": 21,
   "metadata": {},
   "outputs": [],
   "source": [
    "dup_order1 = q4explore.filter(pl.col('No. Pesanan').is_duplicated())['No. Pesanan'].unique()\n",
    "\n",
    "q4explore.with_columns([pl.when(\n",
    "    (pl.col('No. Pesanan').is_in(dup_order1))& (pl.col('No. Pesanan').cum_count().over('No. Pesanan') > 1)\n",
    ").then(pl.lit(0)).otherwise(pl.col('Total Pembayaran')), pl.when(\n",
    "    (pl.col('No. Pesanan').is_in(dup_order1))& (pl.col('No. Pesanan').cum_count().over('No. Pesanan') > 1)\n",
    ").then(pl.lit(0)).otherwise(pl.col('Voucher Ditanggung Penjual')).alias('ditanggung penjual no dup')\n",
    "]).with_columns(pl.col('literal').alias('total no dup')).write_parquet('on_prog_q4_explore.parquet',compression='zstd')"
   ]
  },
  {
   "cell_type": "code",
   "execution_count": null,
   "metadata": {},
   "outputs": [],
   "source": []
  },
  {
   "cell_type": "code",
   "execution_count": 6,
   "metadata": {},
   "outputs": [],
   "source": [
    "q3explore = explore.filter([(pl.col('source').str.contains(pattern=quartal32024)),\n",
    "                            pl.col('Status Pesanan')!='Batal'])"
   ]
  },
  {
   "cell_type": "code",
   "execution_count": 7,
   "metadata": {},
   "outputs": [
    {
     "data": {
      "text/plain": [
       "['No. Pesanan',\n",
       " 'Harga Setelah Diskon',\n",
       " 'Jumlah',\n",
       " 'Voucher Ditanggung Penjual',\n",
       " 'Total Harga Produk',\n",
       " 'Total Pembayaran',\n",
       " 'total without dup']"
      ]
     },
     "execution_count": 7,
     "metadata": {},
     "output_type": "execute_result"
    }
   ],
   "source": [
    "['No. Pesanan','Harga Setelah Diskon','Jumlah','Voucher Ditanggung Penjual','Total Harga Produk','Total Pembayaran','total without dup']"
   ]
  },
  {
   "cell_type": "code",
   "execution_count": 8,
   "metadata": {},
   "outputs": [],
   "source": [
    "# .filter(pl.col('No. Pesanan').is_duplicated())\\\n",
    "#     ['No. Pesanan','Harga Setelah Diskon','Jumlah','Voucher Ditanggung Penjual','Total Harga Produk','Total Pembayaran','ditanggung penjual no dup','total no dup']"
   ]
  },
  {
   "cell_type": "code",
   "execution_count": 9,
   "metadata": {},
   "outputs": [],
   "source": [
    "dup_order = q3explore.filter(pl.col('No. Pesanan').is_duplicated())['No. Pesanan'].unique()\n",
    "\n",
    "q3explore.with_columns([pl.when(\n",
    "    (pl.col('No. Pesanan').is_in(dup_order))& (pl.col('No. Pesanan').cum_count().over('No. Pesanan') > 1)\n",
    ").then(pl.lit(0)).otherwise(pl.col('Total Pembayaran')), pl.when(\n",
    "    (pl.col('No. Pesanan').is_in(dup_order))& (pl.col('No. Pesanan').cum_count().over('No. Pesanan') > 1)\n",
    ").then(pl.lit(0)).otherwise(pl.col('Voucher Ditanggung Penjual')).alias('ditanggung penjual no dup')\n",
    "]).with_columns(pl.col('literal').alias('total no dup')).write_parquet('og_jul_oct.parquet',compression='zstd')"
   ]
  },
  {
   "cell_type": "markdown",
   "metadata": {},
   "source": [
    "# end of uji coba  menghapus duplikat di no pesanan yang sama"
   ]
  },
  {
   "cell_type": "code",
   "execution_count": 3,
   "metadata": {},
   "outputs": [],
   "source": [
    "online = pl.read_excel('./SALES ONLINE.xlsx',engine='openpyxl')\n",
    "offline = pl.read_excel('./SALES OFFLINE.xlsx',engine='openpyxl')[:-1]\n",
    "stokglob = pl.read_excel('./stockglobal25nov.xlsx',engine='openpyxl')[:-1]"
   ]
  },
  {
   "cell_type": "code",
   "execution_count": 4,
   "metadata": {},
   "outputs": [
    {
     "data": {
      "text/html": [
       "<div><style>\n",
       ".dataframe > thead > tr,\n",
       ".dataframe > tbody > tr {\n",
       "  text-align: right;\n",
       "  white-space: pre-wrap;\n",
       "}\n",
       "</style>\n",
       "<small>shape: (1_666, 13)</small><table border=\"1\" class=\"dataframe\"><thead><tr><th>Item Name</th><th>Code#</th><th>Jan 2024</th><th>Feb 2024</th><th>Mar 2024</th><th>Apr 2024</th><th>May 2024</th><th>Jun 2024</th><th>Jul 2024</th><th>Aug 2024</th><th>Sep 2024</th><th>Oct 2024</th><th>Nov 2024</th></tr><tr><td>str</td><td>str</td><td>i64</td><td>i64</td><td>i64</td><td>i64</td><td>i64</td><td>i64</td><td>i64</td><td>i64</td><td>i64</td><td>i64</td><td>i64</td></tr></thead><tbody><tr><td>&quot;BASEUS&nbsp;ADAPTOR&nbsp;GAN&nbsp;US&nbsp;PIN&nbsp;65W&nbsp;…</td><td>&quot;CCGAN-A02&quot;</td><td>4</td><td>5</td><td>7</td><td>1</td><td>0</td><td>0</td><td>9</td><td>21</td><td>4</td><td>21</td><td>0</td></tr><tr><td>&quot;BASEUS&nbsp;CABLE&nbsp;C-SHAPED&nbsp;IPHONE&nbsp;B…</td><td>&quot;CALCD-01&quot;</td><td>1</td><td>0</td><td>1</td><td>0</td><td>1</td><td>0</td><td>0</td><td>0</td><td>0</td><td>0</td><td>0</td></tr><tr><td>&quot;BASEUS&nbsp;CABLE&nbsp;C-SHAPED&nbsp;TYPE&nbsp;C&nbsp;P…</td><td>&quot;CATCD-05&quot;</td><td>0</td><td>0</td><td>0</td><td>0</td><td>0</td><td>0</td><td>0</td><td>1</td><td>0</td><td>0</td><td>0</td></tr><tr><td>&quot;BASEUS&nbsp;CABLE&nbsp;CAFULE&nbsp;METAL&nbsp;C&nbsp;TO…</td><td>&quot;CATJK-C01&quot;</td><td>2</td><td>0</td><td>0</td><td>0</td><td>0</td><td>0</td><td>0</td><td>0</td><td>0</td><td>0</td><td>0</td></tr><tr><td>&quot;BASEUS&nbsp;CABLE&nbsp;CAFULE&nbsp;METAL&nbsp;C&nbsp;TO…</td><td>&quot;CATJK-C05&quot;</td><td>0</td><td>0</td><td>0</td><td>0</td><td>0</td><td>0</td><td>0</td><td>3</td><td>1</td><td>5</td><td>0</td></tr><tr><td>&hellip;</td><td>&hellip;</td><td>&hellip;</td><td>&hellip;</td><td>&hellip;</td><td>&hellip;</td><td>&hellip;</td><td>&hellip;</td><td>&hellip;</td><td>&hellip;</td><td>&hellip;</td><td>&hellip;</td><td>&hellip;</td></tr><tr><td>&quot;USAMS&nbsp;U41&nbsp;Kabel&nbsp;Data&nbsp;Charger&nbsp;U…</td><td>&quot;SJ392-BLACK&quot;</td><td>1</td><td>0</td><td>0</td><td>0</td><td>0</td><td>0</td><td>0</td><td>0</td><td>0</td><td>0</td><td>0</td></tr><tr><td>&quot;USAMS&nbsp;USB3.0&nbsp;ROTATABLE&nbsp;FLASH&nbsp;D…</td><td>&quot;ZB196&quot;</td><td>0</td><td>0</td><td>0</td><td>3</td><td>1</td><td>0</td><td>0</td><td>0</td><td>0</td><td>1</td><td>0</td></tr><tr><td>&quot;USAMS&nbsp;VACUM&nbsp;+&nbsp;FILTER&nbsp;/&nbsp;&nbsp;ZB108&nbsp;…</td><td>&quot;ZB108-ZB108-F&quot;</td><td>0</td><td>1</td><td>0</td><td>4</td><td>1</td><td>1</td><td>5</td><td>1</td><td>0</td><td>0</td><td>0</td></tr><tr><td>&quot;USAMS&nbsp;WINDSHIELD&nbsp;&nbsp;WIPER&nbsp;REPAIR…</td><td>&quot;ZB246&quot;</td><td>0</td><td>0</td><td>0</td><td>0</td><td>1</td><td>0</td><td>0</td><td>0</td><td>0</td><td>0</td><td>0</td></tr><tr><td>&quot;VACCUM&nbsp;CLEANER&nbsp;/&nbsp;DX700S&nbsp;&amp;&nbsp;FILT…</td><td>&quot;DX700S-FILTER&nbsp;DX700-2&quot;</td><td>3</td><td>0</td><td>0</td><td>0</td><td>0</td><td>0</td><td>0</td><td>0</td><td>0</td><td>0</td><td>0</td></tr></tbody></table></div>"
      ],
      "text/plain": [
       "shape: (1_666, 13)\n",
       "┌──────────────┬─────────────┬──────────┬──────────┬───┬──────────┬──────────┬──────────┬──────────┐\n",
       "│ Item Name    ┆ Code#       ┆ Jan 2024 ┆ Feb 2024 ┆ … ┆ Aug 2024 ┆ Sep 2024 ┆ Oct 2024 ┆ Nov 2024 │\n",
       "│ ---          ┆ ---         ┆ ---      ┆ ---      ┆   ┆ ---      ┆ ---      ┆ ---      ┆ ---      │\n",
       "│ str          ┆ str         ┆ i64      ┆ i64      ┆   ┆ i64      ┆ i64      ┆ i64      ┆ i64      │\n",
       "╞══════════════╪═════════════╪══════════╪══════════╪═══╪══════════╪══════════╪══════════╪══════════╡\n",
       "│ BASEUS       ┆ CCGAN-A02   ┆ 4        ┆ 5        ┆ … ┆ 21       ┆ 4        ┆ 21       ┆ 0        │\n",
       "│ ADAPTOR GAN  ┆             ┆          ┆          ┆   ┆          ┆          ┆          ┆          │\n",
       "│ US PIN 65W … ┆             ┆          ┆          ┆   ┆          ┆          ┆          ┆          │\n",
       "│ BASEUS CABLE ┆ CALCD-01    ┆ 1        ┆ 0        ┆ … ┆ 0        ┆ 0        ┆ 0        ┆ 0        │\n",
       "│ C-SHAPED     ┆             ┆          ┆          ┆   ┆          ┆          ┆          ┆          │\n",
       "│ IPHONE B…    ┆             ┆          ┆          ┆   ┆          ┆          ┆          ┆          │\n",
       "│ BASEUS CABLE ┆ CATCD-05    ┆ 0        ┆ 0        ┆ … ┆ 1        ┆ 0        ┆ 0        ┆ 0        │\n",
       "│ C-SHAPED     ┆             ┆          ┆          ┆   ┆          ┆          ┆          ┆          │\n",
       "│ TYPE C P…    ┆             ┆          ┆          ┆   ┆          ┆          ┆          ┆          │\n",
       "│ BASEUS CABLE ┆ CATJK-C01   ┆ 2        ┆ 0        ┆ … ┆ 0        ┆ 0        ┆ 0        ┆ 0        │\n",
       "│ CAFULE METAL ┆             ┆          ┆          ┆   ┆          ┆          ┆          ┆          │\n",
       "│ C TO…        ┆             ┆          ┆          ┆   ┆          ┆          ┆          ┆          │\n",
       "│ BASEUS CABLE ┆ CATJK-C05   ┆ 0        ┆ 0        ┆ … ┆ 3        ┆ 1        ┆ 5        ┆ 0        │\n",
       "│ CAFULE METAL ┆             ┆          ┆          ┆   ┆          ┆          ┆          ┆          │\n",
       "│ C TO…        ┆             ┆          ┆          ┆   ┆          ┆          ┆          ┆          │\n",
       "│ …            ┆ …           ┆ …        ┆ …        ┆ … ┆ …        ┆ …        ┆ …        ┆ …        │\n",
       "│ USAMS U41    ┆ SJ392-BLACK ┆ 1        ┆ 0        ┆ … ┆ 0        ┆ 0        ┆ 0        ┆ 0        │\n",
       "│ Kabel Data   ┆             ┆          ┆          ┆   ┆          ┆          ┆          ┆          │\n",
       "│ Charger U…   ┆             ┆          ┆          ┆   ┆          ┆          ┆          ┆          │\n",
       "│ USAMS USB3.0 ┆ ZB196       ┆ 0        ┆ 0        ┆ … ┆ 0        ┆ 0        ┆ 1        ┆ 0        │\n",
       "│ ROTATABLE    ┆             ┆          ┆          ┆   ┆          ┆          ┆          ┆          │\n",
       "│ FLASH D…     ┆             ┆          ┆          ┆   ┆          ┆          ┆          ┆          │\n",
       "│ USAMS VACUM  ┆ ZB108-ZB108 ┆ 0        ┆ 1        ┆ … ┆ 1        ┆ 0        ┆ 0        ┆ 0        │\n",
       "│ + FILTER /   ┆ -F          ┆          ┆          ┆   ┆          ┆          ┆          ┆          │\n",
       "│ ZB108 …      ┆             ┆          ┆          ┆   ┆          ┆          ┆          ┆          │\n",
       "│ USAMS        ┆ ZB246       ┆ 0        ┆ 0        ┆ … ┆ 0        ┆ 0        ┆ 0        ┆ 0        │\n",
       "│ WINDSHIELD   ┆             ┆          ┆          ┆   ┆          ┆          ┆          ┆          │\n",
       "│ WIPER        ┆             ┆          ┆          ┆   ┆          ┆          ┆          ┆          │\n",
       "│ REPAIR…      ┆             ┆          ┆          ┆   ┆          ┆          ┆          ┆          │\n",
       "│ VACCUM       ┆ DX700S-FILT ┆ 3        ┆ 0        ┆ … ┆ 0        ┆ 0        ┆ 0        ┆ 0        │\n",
       "│ CLEANER /    ┆ ER DX700-2  ┆          ┆          ┆   ┆          ┆          ┆          ┆          │\n",
       "│ DX700S &     ┆             ┆          ┆          ┆   ┆          ┆          ┆          ┆          │\n",
       "│ FILT…        ┆             ┆          ┆          ┆   ┆          ┆          ┆          ┆          │\n",
       "└──────────────┴─────────────┴──────────┴──────────┴───┴──────────┴──────────┴──────────┴──────────┘"
      ]
     },
     "execution_count": 4,
     "metadata": {},
     "output_type": "execute_result"
    }
   ],
   "source": [
    "online"
   ]
  },
  {
   "cell_type": "code",
   "execution_count": 5,
   "metadata": {},
   "outputs": [
    {
     "data": {
      "text/html": [
       "<div><style>\n",
       ".dataframe > thead > tr,\n",
       ".dataframe > tbody > tr {\n",
       "  text-align: right;\n",
       "  white-space: pre-wrap;\n",
       "}\n",
       "</style>\n",
       "<small>shape: (959, 15)</small><table border=\"1\" class=\"dataframe\"><thead><tr><th>Item Name</th><th>Kode #</th><th>Nama Kategori Barang Barang </th><th>Jan 2024</th><th>Feb 2024</th><th>Mar 2024</th><th>Apr 2024</th><th>May 2024</th><th>Jun 2024</th><th>Jul 2024</th><th>Aug 2024</th><th>Sep 2024</th><th>Oct 2024</th><th>Nov 2024</th><th>Total Bulan</th></tr><tr><td>str</td><td>str</td><td>str</td><td>i64</td><td>i64</td><td>i64</td><td>i64</td><td>i64</td><td>i64</td><td>i64</td><td>i64</td><td>i64</td><td>i64</td><td>i64</td><td>i64</td></tr></thead><tbody><tr><td>&quot;BASEUS&nbsp;CABLE&nbsp;CAFULE&nbsp;METAL&nbsp;C&nbsp;TO…</td><td>&quot;CATJK-C05&quot;</td><td>&quot;BASEUS&quot;</td><td>20</td><td>0</td><td>0</td><td>5</td><td>5</td><td>0</td><td>0</td><td>0</td><td>0</td><td>0</td><td>0</td><td>30</td></tr><tr><td>&quot;BASEUS&nbsp;CABLE&nbsp;CAFULE&nbsp;METAL&nbsp;C&nbsp;TO…</td><td>&quot;CATJK-D05&quot;</td><td>&quot;BASEUS&quot;</td><td>10</td><td>0</td><td>0</td><td>5</td><td>5</td><td>22</td><td>0</td><td>0</td><td>0</td><td>0</td><td>0</td><td>42</td></tr><tr><td>&quot;BASEUS&nbsp;CABLE&nbsp;YIVEN&nbsp;AUDIO&nbsp;M30&nbsp;1…</td><td>&quot;CAM30-BS1&quot;</td><td>&quot;BASEUS&quot;</td><td>36</td><td>10</td><td>0</td><td>20</td><td>0</td><td>30</td><td>30</td><td>0</td><td>10</td><td>30</td><td>0</td><td>166</td></tr><tr><td>&quot;BASEUS&nbsp;DESK&nbsp;LAMP&nbsp;AUTO&nbsp;DIMMING&nbsp;…</td><td>&quot;DGZG-02&quot;</td><td>&quot;BASEUS&quot;</td><td>0</td><td>0</td><td>7</td><td>0</td><td>0</td><td>0</td><td>0</td><td>0</td><td>0</td><td>0</td><td>0</td><td>7</td></tr><tr><td>&quot;DEERMA&nbsp;DUST&nbsp;MITE&nbsp;VACUUM&nbsp;CLEANS…</td><td>&quot;CM800&quot;</td><td>&quot;DEERMA&quot;</td><td>10</td><td>6</td><td>10</td><td>20</td><td>0</td><td>0</td><td>0</td><td>0</td><td>1</td><td>0</td><td>0</td><td>47</td></tr><tr><td>&hellip;</td><td>&hellip;</td><td>&hellip;</td><td>&hellip;</td><td>&hellip;</td><td>&hellip;</td><td>&hellip;</td><td>&hellip;</td><td>&hellip;</td><td>&hellip;</td><td>&hellip;</td><td>&hellip;</td><td>&hellip;</td><td>&hellip;</td><td>&hellip;</td></tr><tr><td>&quot;USAMS&nbsp;TRAVEL&nbsp;CHARGING&nbsp;SEND-TU&nbsp;…</td><td>&quot;XTXLOGT18MC05&quot;</td><td>&quot;USAMS&quot;</td><td>0</td><td>0</td><td>0</td><td>0</td><td>30</td><td>0</td><td>10</td><td>5</td><td>20</td><td>0</td><td>10</td><td>75</td></tr><tr><td>&quot;USAMS&nbsp;TRAVEL&nbsp;CHARGING&nbsp;SEND-TU&nbsp;…</td><td>&quot;XTXLOGT18TC05&quot;</td><td>&quot;USAMS&quot;</td><td>10</td><td>5</td><td>0</td><td>0</td><td>36</td><td>10</td><td>0</td><td>0</td><td>0</td><td>0</td><td>0</td><td>61</td></tr><tr><td>&quot;USAMS&nbsp;TYPE&nbsp;C&nbsp;+&nbsp;USB3.0&nbsp;ROTATABL…</td><td>&quot;ZB199&quot;</td><td>&quot;USAMS&quot;</td><td>0</td><td>0</td><td>0</td><td>0</td><td>0</td><td>0</td><td>0</td><td>2</td><td>0</td><td>0</td><td>0</td><td>2</td></tr><tr><td>&quot;USAMS&nbsp;TYPE&nbsp;C&nbsp;+&nbsp;USB3.0&nbsp;ROTATABL…</td><td>&quot;ZB201&quot;</td><td>&quot;USAMS&quot;</td><td>0</td><td>0</td><td>0</td><td>0</td><td>0</td><td>0</td><td>0</td><td>2</td><td>0</td><td>0</td><td>0</td><td>2</td></tr><tr><td>&quot;ZOLELE&nbsp;SPRAY&nbsp;MOP&nbsp;1011&quot;</td><td>&quot;1011&quot;</td><td>&quot;DEERMA&quot;</td><td>5</td><td>0</td><td>0</td><td>0</td><td>0</td><td>0</td><td>0</td><td>0</td><td>0</td><td>0</td><td>0</td><td>5</td></tr></tbody></table></div>"
      ],
      "text/plain": [
       "shape: (959, 15)\n",
       "┌───────────────┬───────────────┬──────────┬──────────┬───┬──────────┬──────────┬──────────┬───────┐\n",
       "│ Item Name     ┆ Kode #        ┆ Nama     ┆ Jan 2024 ┆ … ┆ Sep 2024 ┆ Oct 2024 ┆ Nov 2024 ┆ Total │\n",
       "│ ---           ┆ ---           ┆ Kategori ┆ ---      ┆   ┆ ---      ┆ ---      ┆ ---      ┆ Bulan │\n",
       "│ str           ┆ str           ┆ Barang   ┆ i64      ┆   ┆ i64      ┆ i64      ┆ i64      ┆ ---   │\n",
       "│               ┆               ┆ Barang   ┆          ┆   ┆          ┆          ┆          ┆ i64   │\n",
       "│               ┆               ┆ ---      ┆          ┆   ┆          ┆          ┆          ┆       │\n",
       "│               ┆               ┆ str      ┆          ┆   ┆          ┆          ┆          ┆       │\n",
       "╞═══════════════╪═══════════════╪══════════╪══════════╪═══╪══════════╪══════════╪══════════╪═══════╡\n",
       "│ BASEUS CABLE  ┆ CATJK-C05     ┆ BASEUS   ┆ 20       ┆ … ┆ 0        ┆ 0        ┆ 0        ┆ 30    │\n",
       "│ CAFULE METAL  ┆               ┆          ┆          ┆   ┆          ┆          ┆          ┆       │\n",
       "│ C TO…         ┆               ┆          ┆          ┆   ┆          ┆          ┆          ┆       │\n",
       "│ BASEUS CABLE  ┆ CATJK-D05     ┆ BASEUS   ┆ 10       ┆ … ┆ 0        ┆ 0        ┆ 0        ┆ 42    │\n",
       "│ CAFULE METAL  ┆               ┆          ┆          ┆   ┆          ┆          ┆          ┆       │\n",
       "│ C TO…         ┆               ┆          ┆          ┆   ┆          ┆          ┆          ┆       │\n",
       "│ BASEUS CABLE  ┆ CAM30-BS1     ┆ BASEUS   ┆ 36       ┆ … ┆ 10       ┆ 30       ┆ 0        ┆ 166   │\n",
       "│ YIVEN AUDIO   ┆               ┆          ┆          ┆   ┆          ┆          ┆          ┆       │\n",
       "│ M30 1…        ┆               ┆          ┆          ┆   ┆          ┆          ┆          ┆       │\n",
       "│ BASEUS DESK   ┆ DGZG-02       ┆ BASEUS   ┆ 0        ┆ … ┆ 0        ┆ 0        ┆ 0        ┆ 7     │\n",
       "│ LAMP AUTO     ┆               ┆          ┆          ┆   ┆          ┆          ┆          ┆       │\n",
       "│ DIMMING …     ┆               ┆          ┆          ┆   ┆          ┆          ┆          ┆       │\n",
       "│ DEERMA DUST   ┆ CM800         ┆ DEERMA   ┆ 10       ┆ … ┆ 1        ┆ 0        ┆ 0        ┆ 47    │\n",
       "│ MITE VACUUM   ┆               ┆          ┆          ┆   ┆          ┆          ┆          ┆       │\n",
       "│ CLEANS…       ┆               ┆          ┆          ┆   ┆          ┆          ┆          ┆       │\n",
       "│ …             ┆ …             ┆ …        ┆ …        ┆ … ┆ …        ┆ …        ┆ …        ┆ …     │\n",
       "│ USAMS TRAVEL  ┆ XTXLOGT18MC05 ┆ USAMS    ┆ 0        ┆ … ┆ 20       ┆ 0        ┆ 10       ┆ 75    │\n",
       "│ CHARGING      ┆               ┆          ┆          ┆   ┆          ┆          ┆          ┆       │\n",
       "│ SEND-TU …     ┆               ┆          ┆          ┆   ┆          ┆          ┆          ┆       │\n",
       "│ USAMS TRAVEL  ┆ XTXLOGT18TC05 ┆ USAMS    ┆ 10       ┆ … ┆ 0        ┆ 0        ┆ 0        ┆ 61    │\n",
       "│ CHARGING      ┆               ┆          ┆          ┆   ┆          ┆          ┆          ┆       │\n",
       "│ SEND-TU …     ┆               ┆          ┆          ┆   ┆          ┆          ┆          ┆       │\n",
       "│ USAMS TYPE C  ┆ ZB199         ┆ USAMS    ┆ 0        ┆ … ┆ 0        ┆ 0        ┆ 0        ┆ 2     │\n",
       "│ + USB3.0      ┆               ┆          ┆          ┆   ┆          ┆          ┆          ┆       │\n",
       "│ ROTATABL…     ┆               ┆          ┆          ┆   ┆          ┆          ┆          ┆       │\n",
       "│ USAMS TYPE C  ┆ ZB201         ┆ USAMS    ┆ 0        ┆ … ┆ 0        ┆ 0        ┆ 0        ┆ 2     │\n",
       "│ + USB3.0      ┆               ┆          ┆          ┆   ┆          ┆          ┆          ┆       │\n",
       "│ ROTATABL…     ┆               ┆          ┆          ┆   ┆          ┆          ┆          ┆       │\n",
       "│ ZOLELE SPRAY  ┆ 1011          ┆ DEERMA   ┆ 5        ┆ … ┆ 0        ┆ 0        ┆ 0        ┆ 5     │\n",
       "│ MOP 1011      ┆               ┆          ┆          ┆   ┆          ┆          ┆          ┆       │\n",
       "└───────────────┴───────────────┴──────────┴──────────┴───┴──────────┴──────────┴──────────┴───────┘"
      ]
     },
     "execution_count": 5,
     "metadata": {},
     "output_type": "execute_result"
    }
   ],
   "source": [
    "offline"
   ]
  },
  {
   "cell_type": "code",
   "execution_count": 6,
   "metadata": {},
   "outputs": [
    {
     "data": {
      "text/html": [
       "<div><style>\n",
       ".dataframe > thead > tr,\n",
       ".dataframe > tbody > tr {\n",
       "  text-align: right;\n",
       "  white-space: pre-wrap;\n",
       "}\n",
       "</style>\n",
       "<small>shape: (1_176, 7)</small><table border=\"1\" class=\"dataframe\"><thead><tr><th>Item Name</th><th>Item Code</th><th>GUDANG GROSIR</th><th>GUDANG ONLINE</th><th>GUDANG SERPONG</th><th>SRPG</th><th>Total Name Warehou</th></tr><tr><td>str</td><td>str</td><td>i64</td><td>i64</td><td>i64</td><td>i64</td><td>i64</td></tr></thead><tbody><tr><td>&quot;BASEUS&nbsp;ADAPTER&nbsp;L49&nbsp;3IN1&nbsp;C&nbsp;TO&nbsp;D…</td><td>&quot;CATL49-01&quot;</td><td>1</td><td>0</td><td>0</td><td>0</td><td>1</td></tr><tr><td>&quot;BASEUS&nbsp;ADAPTOR&nbsp;GAN&nbsp;US&nbsp;PIN&nbsp;65W&nbsp;…</td><td>&quot;CCGAN-A02&quot;</td><td>0</td><td>0</td><td>0</td><td>0</td><td>0</td></tr><tr><td>&quot;BASEUS&nbsp;BASICS&nbsp;16&#x27;&#x27;&nbsp;SHOULDER&nbsp;CO…</td><td>&quot;LBJN-H0G&quot;</td><td>3</td><td>3</td><td>0</td><td>0</td><td>6</td></tr><tr><td>&quot;BASEUS&nbsp;CABLE&nbsp;C-SHAPED&nbsp;IPHONE&nbsp;B…</td><td>&quot;CALCD-01&quot;</td><td>0</td><td>0</td><td>18</td><td>0</td><td>18</td></tr><tr><td>&quot;BASEUS&nbsp;CABLE&nbsp;C-SHAPED&nbsp;IPHONE&nbsp;R…</td><td>&quot;CALCD-09&quot;</td><td>0</td><td>0</td><td>6</td><td>0</td><td>6</td></tr><tr><td>&hellip;</td><td>&hellip;</td><td>&hellip;</td><td>&hellip;</td><td>&hellip;</td><td>&hellip;</td><td>&hellip;</td></tr><tr><td>&quot;ZOLELE&nbsp;HAIR&nbsp;DRYER&nbsp;T3&quot;</td><td>&quot;T3&quot;</td><td>0</td><td>0</td><td>0</td><td>0</td><td>0</td></tr><tr><td>&quot;ZOLELE&nbsp;SPRAY&nbsp;MOP&nbsp;1011&quot;</td><td>&quot;1011&quot;</td><td>-5</td><td>5</td><td>0</td><td>0</td><td>0</td></tr><tr><td>&quot;ZOLELE&nbsp;SPRAY&nbsp;MOP&nbsp;1013&quot;</td><td>&quot;1013&quot;</td><td>0</td><td>0</td><td>0</td><td>0</td><td>0</td></tr><tr><td>&quot;ZOLELE&nbsp;SPRAY&nbsp;MOP&nbsp;FLAT&nbsp;1016&quot;</td><td>&quot;1016&quot;</td><td>0</td><td>4</td><td>0</td><td>0</td><td>4</td></tr><tr><td>&quot;ZOLELE&nbsp;WATER&nbsp;SPARY&nbsp;1012&quot;</td><td>&quot;102321&quot;</td><td>0</td><td>2</td><td>0</td><td>0</td><td>2</td></tr></tbody></table></div>"
      ],
      "text/plain": [
       "shape: (1_176, 7)\n",
       "┌────────────────────────┬───────────┬───────────────┬───────────────┬─────────┬──────┬────────────┐\n",
       "│ Item Name              ┆ Item Code ┆ GUDANG GROSIR ┆ GUDANG ONLINE ┆ GUDANG  ┆ SRPG ┆ Total Name │\n",
       "│ ---                    ┆ ---       ┆ ---           ┆ ---           ┆ SERPONG ┆ ---  ┆ Warehou    │\n",
       "│ str                    ┆ str       ┆ i64           ┆ i64           ┆ ---     ┆ i64  ┆ ---        │\n",
       "│                        ┆           ┆               ┆               ┆ i64     ┆      ┆ i64        │\n",
       "╞════════════════════════╪═══════════╪═══════════════╪═══════════════╪═════════╪══════╪════════════╡\n",
       "│ BASEUS ADAPTER L49     ┆ CATL49-01 ┆ 1             ┆ 0             ┆ 0       ┆ 0    ┆ 1          │\n",
       "│ 3IN1 C TO D…           ┆           ┆               ┆               ┆         ┆      ┆            │\n",
       "│ BASEUS ADAPTOR GAN US  ┆ CCGAN-A02 ┆ 0             ┆ 0             ┆ 0       ┆ 0    ┆ 0          │\n",
       "│ PIN 65W …              ┆           ┆               ┆               ┆         ┆      ┆            │\n",
       "│ BASEUS BASICS 16''     ┆ LBJN-H0G  ┆ 3             ┆ 3             ┆ 0       ┆ 0    ┆ 6          │\n",
       "│ SHOULDER CO…           ┆           ┆               ┆               ┆         ┆      ┆            │\n",
       "│ BASEUS CABLE C-SHAPED  ┆ CALCD-01  ┆ 0             ┆ 0             ┆ 18      ┆ 0    ┆ 18         │\n",
       "│ IPHONE B…              ┆           ┆               ┆               ┆         ┆      ┆            │\n",
       "│ BASEUS CABLE C-SHAPED  ┆ CALCD-09  ┆ 0             ┆ 0             ┆ 6       ┆ 0    ┆ 6          │\n",
       "│ IPHONE R…              ┆           ┆               ┆               ┆         ┆      ┆            │\n",
       "│ …                      ┆ …         ┆ …             ┆ …             ┆ …       ┆ …    ┆ …          │\n",
       "│ ZOLELE HAIR DRYER T3   ┆ T3        ┆ 0             ┆ 0             ┆ 0       ┆ 0    ┆ 0          │\n",
       "│ ZOLELE SPRAY MOP 1011  ┆ 1011      ┆ -5            ┆ 5             ┆ 0       ┆ 0    ┆ 0          │\n",
       "│ ZOLELE SPRAY MOP 1013  ┆ 1013      ┆ 0             ┆ 0             ┆ 0       ┆ 0    ┆ 0          │\n",
       "│ ZOLELE SPRAY MOP FLAT  ┆ 1016      ┆ 0             ┆ 4             ┆ 0       ┆ 0    ┆ 4          │\n",
       "│ 1016                   ┆           ┆               ┆               ┆         ┆      ┆            │\n",
       "│ ZOLELE WATER SPARY     ┆ 102321    ┆ 0             ┆ 2             ┆ 0       ┆ 0    ┆ 2          │\n",
       "│ 1012                   ┆           ┆               ┆               ┆         ┆      ┆            │\n",
       "└────────────────────────┴───────────┴───────────────┴───────────────┴─────────┴──────┴────────────┘"
      ]
     },
     "execution_count": 6,
     "metadata": {},
     "output_type": "execute_result"
    }
   ],
   "source": [
    "stokglob"
   ]
  }
 ],
 "metadata": {
  "kernelspec": {
   "display_name": "base",
   "language": "python",
   "name": "python3"
  },
  "language_info": {
   "codemirror_mode": {
    "name": "ipython",
    "version": 3
   },
   "file_extension": ".py",
   "mimetype": "text/x-python",
   "name": "python",
   "nbconvert_exporter": "python",
   "pygments_lexer": "ipython3",
   "version": "3.12.3"
  }
 },
 "nbformat": 4,
 "nbformat_minor": 2
}
